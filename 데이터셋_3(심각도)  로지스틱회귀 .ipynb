{
 "cells": [
  {
   "cell_type": "code",
   "execution_count": 12,
   "metadata": {},
   "outputs": [],
   "source": [
    "from sklearn.linear_model import LogisticRegression\n",
    "from sklearn.model_selection import train_test_split\n",
    "from sklearn.metrics import classification_report\n",
    "import pandas as pd\n",
    "import numpy as np\n",
    "from patsy import dmatrices\n",
    "import warnings \n",
    "warnings.filterwarnings('ignore')"
   ]
  },
  {
   "cell_type": "code",
   "execution_count": 13,
   "metadata": {},
   "outputs": [],
   "source": [
    "df = pd.read_csv('./csv파일/데이터셋_3(심각도).csv',encoding='cp949')"
   ]
  },
  {
   "cell_type": "code",
   "execution_count": 14,
   "metadata": {},
   "outputs": [
    {
     "data": {
      "text/html": [
       "<div>\n",
       "<style scoped>\n",
       "    .dataframe tbody tr th:only-of-type {\n",
       "        vertical-align: middle;\n",
       "    }\n",
       "\n",
       "    .dataframe tbody tr th {\n",
       "        vertical-align: top;\n",
       "    }\n",
       "\n",
       "    .dataframe thead th {\n",
       "        text-align: right;\n",
       "    }\n",
       "</style>\n",
       "<table border=\"1\" class=\"dataframe\">\n",
       "  <thead>\n",
       "    <tr style=\"text-align: right;\">\n",
       "      <th></th>\n",
       "      <th>사고유형</th>\n",
       "      <th>연령가해자</th>\n",
       "      <th>법규위반가해자</th>\n",
       "      <th>행동유형가해자</th>\n",
       "      <th>피해자신체상해주부위</th>\n",
       "      <th>차량용도가해자</th>\n",
       "      <th>도로종류</th>\n",
       "      <th>도로형태</th>\n",
       "      <th>도로선형</th>\n",
       "      <th>발생시각</th>\n",
       "      <th>심각도</th>\n",
       "    </tr>\n",
       "  </thead>\n",
       "  <tbody>\n",
       "    <tr>\n",
       "      <th>0</th>\n",
       "      <td>보도통행중</td>\n",
       "      <td>20세이하</td>\n",
       "      <td>그룹1</td>\n",
       "      <td>그룹2</td>\n",
       "      <td>그룹4</td>\n",
       "      <td>그룹5</td>\n",
       "      <td>기타</td>\n",
       "      <td>단일로</td>\n",
       "      <td>평지</td>\n",
       "      <td>낮</td>\n",
       "      <td>0</td>\n",
       "    </tr>\n",
       "    <tr>\n",
       "      <th>1</th>\n",
       "      <td>횡단중</td>\n",
       "      <td>65세이상</td>\n",
       "      <td>그룹1</td>\n",
       "      <td>그룹2</td>\n",
       "      <td>그룹5</td>\n",
       "      <td>그룹4</td>\n",
       "      <td>시도</td>\n",
       "      <td>단일로</td>\n",
       "      <td>평지</td>\n",
       "      <td>출퇴근시간</td>\n",
       "      <td>1</td>\n",
       "    </tr>\n",
       "    <tr>\n",
       "      <th>2</th>\n",
       "      <td>길가장자리구역통행중</td>\n",
       "      <td>20세이하</td>\n",
       "      <td>그룹1</td>\n",
       "      <td>그룹2</td>\n",
       "      <td>기타/불명</td>\n",
       "      <td>그룹4</td>\n",
       "      <td>시도</td>\n",
       "      <td>단일로</td>\n",
       "      <td>평지</td>\n",
       "      <td>출퇴근시간</td>\n",
       "      <td>0</td>\n",
       "    </tr>\n",
       "    <tr>\n",
       "      <th>3</th>\n",
       "      <td>길가장자리구역통행중</td>\n",
       "      <td>21-30세</td>\n",
       "      <td>그룹1</td>\n",
       "      <td>그룹1</td>\n",
       "      <td>기타/불명</td>\n",
       "      <td>그룹1</td>\n",
       "      <td>기타</td>\n",
       "      <td>단일로</td>\n",
       "      <td>평지</td>\n",
       "      <td>낮</td>\n",
       "      <td>1</td>\n",
       "    </tr>\n",
       "    <tr>\n",
       "      <th>4</th>\n",
       "      <td>횡단중</td>\n",
       "      <td>41-50세</td>\n",
       "      <td>그룹1</td>\n",
       "      <td>그룹2</td>\n",
       "      <td>그룹5</td>\n",
       "      <td>그룹4</td>\n",
       "      <td>기타</td>\n",
       "      <td>단일로</td>\n",
       "      <td>평지</td>\n",
       "      <td>낮</td>\n",
       "      <td>1</td>\n",
       "    </tr>\n",
       "    <tr>\n",
       "      <th>...</th>\n",
       "      <td>...</td>\n",
       "      <td>...</td>\n",
       "      <td>...</td>\n",
       "      <td>...</td>\n",
       "      <td>...</td>\n",
       "      <td>...</td>\n",
       "      <td>...</td>\n",
       "      <td>...</td>\n",
       "      <td>...</td>\n",
       "      <td>...</td>\n",
       "      <td>...</td>\n",
       "    </tr>\n",
       "    <tr>\n",
       "      <th>58054</th>\n",
       "      <td>길가장자리구역통행중</td>\n",
       "      <td>51-60세</td>\n",
       "      <td>그룹1</td>\n",
       "      <td>그룹2</td>\n",
       "      <td>그룹2</td>\n",
       "      <td>그룹4</td>\n",
       "      <td>시도</td>\n",
       "      <td>단일로</td>\n",
       "      <td>평지</td>\n",
       "      <td>낮</td>\n",
       "      <td>0</td>\n",
       "    </tr>\n",
       "    <tr>\n",
       "      <th>58055</th>\n",
       "      <td>보도통행중</td>\n",
       "      <td>21-30세</td>\n",
       "      <td>기타</td>\n",
       "      <td>그룹1</td>\n",
       "      <td>그룹2</td>\n",
       "      <td>그룹4</td>\n",
       "      <td>군도</td>\n",
       "      <td>교차로</td>\n",
       "      <td>평지</td>\n",
       "      <td>출퇴근시간</td>\n",
       "      <td>0</td>\n",
       "    </tr>\n",
       "    <tr>\n",
       "      <th>58056</th>\n",
       "      <td>차도통행중</td>\n",
       "      <td>31-40세</td>\n",
       "      <td>그룹1</td>\n",
       "      <td>그룹2</td>\n",
       "      <td>그룹4</td>\n",
       "      <td>그룹4</td>\n",
       "      <td>군도</td>\n",
       "      <td>단일로</td>\n",
       "      <td>평지</td>\n",
       "      <td>출퇴근시간</td>\n",
       "      <td>1</td>\n",
       "    </tr>\n",
       "    <tr>\n",
       "      <th>58057</th>\n",
       "      <td>기타</td>\n",
       "      <td>65세이상</td>\n",
       "      <td>그룹1</td>\n",
       "      <td>그룹2</td>\n",
       "      <td>그룹4</td>\n",
       "      <td>그룹4</td>\n",
       "      <td>시도</td>\n",
       "      <td>단일로</td>\n",
       "      <td>평지</td>\n",
       "      <td>출퇴근시간</td>\n",
       "      <td>1</td>\n",
       "    </tr>\n",
       "    <tr>\n",
       "      <th>58058</th>\n",
       "      <td>횡단중</td>\n",
       "      <td>31-40세</td>\n",
       "      <td>그룹1</td>\n",
       "      <td>그룹3</td>\n",
       "      <td>그룹4</td>\n",
       "      <td>그룹4</td>\n",
       "      <td>기타</td>\n",
       "      <td>교차로</td>\n",
       "      <td>평지</td>\n",
       "      <td>출퇴근시간</td>\n",
       "      <td>1</td>\n",
       "    </tr>\n",
       "  </tbody>\n",
       "</table>\n",
       "<p>58059 rows × 11 columns</p>\n",
       "</div>"
      ],
      "text/plain": [
       "             사고유형   연령가해자 법규위반가해자 행동유형가해자 피해자신체상해주부위 차량용도가해자 도로종류 도로형태 도로선형  \\\n",
       "0           보도통행중   20세이하     그룹1     그룹2        그룹4     그룹5   기타  단일로   평지   \n",
       "1             횡단중   65세이상     그룹1     그룹2        그룹5     그룹4   시도  단일로   평지   \n",
       "2      길가장자리구역통행중   20세이하     그룹1     그룹2      기타/불명     그룹4   시도  단일로   평지   \n",
       "3      길가장자리구역통행중  21-30세     그룹1     그룹1      기타/불명     그룹1   기타  단일로   평지   \n",
       "4             횡단중  41-50세     그룹1     그룹2        그룹5     그룹4   기타  단일로   평지   \n",
       "...           ...     ...     ...     ...        ...     ...  ...  ...  ...   \n",
       "58054  길가장자리구역통행중  51-60세     그룹1     그룹2        그룹2     그룹4   시도  단일로   평지   \n",
       "58055       보도통행중  21-30세      기타     그룹1        그룹2     그룹4   군도  교차로   평지   \n",
       "58056       차도통행중  31-40세     그룹1     그룹2        그룹4     그룹4   군도  단일로   평지   \n",
       "58057          기타   65세이상     그룹1     그룹2        그룹4     그룹4   시도  단일로   평지   \n",
       "58058         횡단중  31-40세     그룹1     그룹3        그룹4     그룹4   기타  교차로   평지   \n",
       "\n",
       "        발생시각  심각도  \n",
       "0          낮    0  \n",
       "1      출퇴근시간    1  \n",
       "2      출퇴근시간    0  \n",
       "3          낮    1  \n",
       "4          낮    1  \n",
       "...      ...  ...  \n",
       "58054      낮    0  \n",
       "58055  출퇴근시간    0  \n",
       "58056  출퇴근시간    1  \n",
       "58057  출퇴근시간    1  \n",
       "58058  출퇴근시간    1  \n",
       "\n",
       "[58059 rows x 11 columns]"
      ]
     },
     "execution_count": 14,
     "metadata": {},
     "output_type": "execute_result"
    }
   ],
   "source": [
    "df"
   ]
  },
  {
   "cell_type": "code",
   "execution_count": 15,
   "metadata": {},
   "outputs": [],
   "source": [
    "x=df.drop(['심각도'],axis=1)\n",
    "x = pd.get_dummies(x)\n",
    "y=pd.DataFrame(df['심각도'])\n",
    "\n",
    "x_train, x_test, y_train, y_test = train_test_split(x,y,train_size=0.7,shuffle=True) "
   ]
  },
  {
   "cell_type": "code",
   "execution_count": 16,
   "metadata": {},
   "outputs": [],
   "source": [
    "log = LogisticRegression()\n",
    "log.fit(x_train,y_train)\n",
    "\n",
    "y_pred = log.predict(x_test)"
   ]
  },
  {
   "cell_type": "code",
   "execution_count": 17,
   "metadata": {},
   "outputs": [
    {
     "name": "stdout",
     "output_type": "stream",
     "text": [
      "              precision    recall  f1-score   support\n",
      "\n",
      "           0       0.57      0.19      0.28      5805\n",
      "           1       0.70      0.93      0.80     11613\n",
      "\n",
      "    accuracy                           0.68     17418\n",
      "   macro avg       0.63      0.56      0.54     17418\n",
      "weighted avg       0.66      0.68      0.63     17418\n",
      "\n"
     ]
    }
   ],
   "source": [
    "print(classification_report(y_test,y_pred))"
   ]
  },
  {
   "cell_type": "code",
   "execution_count": 18,
   "metadata": {},
   "outputs": [
    {
     "data": {
      "image/png": "[encoded data removed]",
      "text/plain": [
       "<Figure size 864x864 with 1 Axes>"
      ]
     },
     "metadata": {
      "needs_background": "light"
     },
     "output_type": "display_data"
    }
   ],
   "source": [
    "import matplotlib.pyplot as plt\n",
    "from sklearn.metrics import roc_curve, auc\n",
    "import warnings\n",
    "warnings.filterwarnings(\"ignore\")\n",
    "from pylab import rcParams\n",
    "rcParams['figure.figsize'] = 12,12\n",
    "\n",
    "\n",
    "from matplotlib import font_manager, rc\n",
    "font_name = font_manager.FontProperties(fname=\"c:/Windows/Fonts/malgun.ttf\").get_name()\n",
    "rc('font', family=font_name)\n",
    "\n",
    "\n",
    "fpr, tpr, threshold = roc_curve(y_train, log.decision_function(x_train))\n",
    "\n",
    "plt.plot(fpr,tpr, 'o-', ms=2, label=\"Logistic Regression\")\n",
    "plt.legend()\n",
    "plt.plot([0,1],[0,1], 'k--',label='radom guess')\n",
    "plt.xlabel('특이도')\n",
    "plt.ylabel('재현률')\n",
    "plt.title('RUC 커브')\n",
    "plt.show()"
   ]
  },
  {
   "cell_type": "markdown",
   "metadata": {},
   "source": [
    "#### AUC 값은 0.5~1의 범위를 가지는데 0.5면 성능이 전혀 없음. 1이면 최고의 성능이라고 할 수 있다."
   ]
  },
  {
   "cell_type": "code",
   "execution_count": 19,
   "metadata": {},
   "outputs": [
    {
     "name": "stdout",
     "output_type": "stream",
     "text": [
      "AUC: 0.6779638179241154\n"
     ]
    }
   ],
   "source": [
    "print('AUC: {}'.format(auc(fpr,tpr)))  # 0.5에 가까울 수록 성능이 좋지 못함"
   ]
  },
  {
   "cell_type": "markdown",
   "metadata": {},
   "source": [
    "#### 위 과정을 통해 로지스틱 회귀 모델을 생성하고 평가"
   ]
  },
  {
   "cell_type": "code",
   "execution_count": 20,
   "metadata": {},
   "outputs": [
    {
     "name": "stdout",
     "output_type": "stream",
     "text": [
      "Optimization terminated successfully.\n",
      "         Current function value: 0.589517\n",
      "         Iterations 13\n"
     ]
    }
   ],
   "source": [
    "import statsmodels.api as sm\n",
    "\n",
    "logit = sm.Logit(y,x)\n",
    "result = logit.fit()"
   ]
  },
  {
   "cell_type": "code",
   "execution_count": 21,
   "metadata": {},
   "outputs": [
    {
     "name": "stdout",
     "output_type": "stream",
     "text": [
      "                           Logit Regression Results                           \n",
      "==============================================================================\n",
      "Dep. Variable:                    심각도   No. Observations:                58059\n",
      "Model:                          Logit   Df Residuals:                    58014\n",
      "Method:                           MLE   Df Model:                           44\n",
      "Date:                Tue, 24 Nov 2020   Pseudo R-squ.:                 0.07083\n",
      "Time:                        15:03:57   Log-Likelihood:                -34227.\n",
      "converged:                       True   LL-Null:                       -36836.\n",
      "Covariance Type:            nonrobust   LLR p-value:                     0.000\n",
      "====================================================================================\n",
      "                       coef    std err          z      P>|z|      [0.025      0.975]\n",
      "------------------------------------------------------------------------------------\n",
      "사고유형_기타             -0.0039   9.69e+05  -4.06e-09      1.000    -1.9e+06     1.9e+06\n",
      "사고유형_길가장자리구역통행중     -0.0653   9.86e+05  -6.63e-08      1.000   -1.93e+06    1.93e+06\n",
      "사고유형_보도통행중           0.1397   9.19e+05   1.52e-07      1.000    -1.8e+06     1.8e+06\n",
      "사고유형_차도통행중           0.1284   8.44e+05   1.52e-07      1.000   -1.65e+06    1.65e+06\n",
      "사고유형_횡단중             0.3509   9.84e+05   3.57e-07      1.000   -1.93e+06    1.93e+06\n",
      "연령가해자_20세이하          0.2202        nan        nan        nan         nan         nan\n",
      "연령가해자_21-30세         0.2162        nan        nan        nan         nan         nan\n",
      "연령가해자_31-40세         0.1919        nan        nan        nan         nan         nan\n",
      "연령가해자_41-50세         0.2310        nan        nan        nan         nan         nan\n",
      "연령가해자_51-60세         0.1908        nan        nan        nan         nan         nan\n",
      "연령가해자_61-64세         0.1727        nan        nan        nan         nan         nan\n",
      "연령가해자_65세이상          0.2032        nan        nan        nan         nan         nan\n",
      "연령가해자_기타/불명         -0.8762        nan        nan        nan         nan         nan\n",
      "법규위반가해자_그룹1         -0.6414   3.83e+05  -1.67e-06      1.000   -7.51e+05    7.51e+05\n",
      "법규위반가해자_그룹2         -0.5465   3.77e+05  -1.45e-06      1.000    -7.4e+05     7.4e+05\n",
      "법규위반가해자_그룹3          2.3816   4.35e+05   5.47e-06      1.000   -8.53e+05    8.53e+05\n",
      "법규위반가해자_기타          -0.6440   4.38e+05  -1.47e-06      1.000   -8.58e+05    8.58e+05\n",
      "행동유형가해자_그룹1          0.1170        nan        nan        nan         nan         nan\n",
      "행동유형가해자_그룹2          0.4018        nan        nan        nan         nan         nan\n",
      "행동유형가해자_그룹3          0.2894        nan        nan        nan         nan         nan\n",
      "행동유형가해자_그룹4         -0.3463        nan        nan        nan         nan         nan\n",
      "행동유형가해자_기타/불명        0.0879        nan        nan        nan         nan         nan\n",
      "피해자신체상해주부위_그룹1      -1.0711    6.9e+05  -1.55e-06      1.000   -1.35e+06    1.35e+06\n",
      "피해자신체상해주부위_그룹2      -0.5802   6.21e+05  -9.35e-07      1.000   -1.22e+06    1.22e+06\n",
      "피해자신체상해주부위_그룹3      -0.0829   6.43e+05  -1.29e-07      1.000   -1.26e+06    1.26e+06\n",
      "피해자신체상해주부위_그룹4       0.3218   6.88e+05   4.68e-07      1.000   -1.35e+06    1.35e+06\n",
      "피해자신체상해주부위_그룹5       0.6650   6.11e+05   1.09e-06      1.000    -1.2e+06     1.2e+06\n",
      "피해자신체상해주부위_그룹6       1.2310   5.79e+05   2.12e-06      1.000   -1.14e+06    1.14e+06\n",
      "피해자신체상해주부위_기타/불명     0.0662   6.75e+05    9.8e-08      1.000   -1.32e+06    1.32e+06\n",
      "차량용도가해자_그룹1          0.4010        nan        nan        nan         nan         nan\n",
      "차량용도가해자_그룹2          0.1411        nan        nan        nan         nan         nan\n",
      "차량용도가해자_그룹3          0.0930        nan        nan        nan         nan         nan\n",
      "차량용도가해자_그룹4          0.2049        nan        nan        nan         nan         nan\n",
      "차량용도가해자_그룹5         -0.2592        nan        nan        nan         nan         nan\n",
      "차량용도가해자_기타/불명       -0.0309        nan        nan        nan         nan         nan\n",
      "도로종류_고속국도            0.3908   5.22e+05   7.48e-07      1.000   -1.02e+06    1.02e+06\n",
      "도로종류_군도              0.1512    5.2e+05   2.91e-07      1.000   -1.02e+06    1.02e+06\n",
      "도로종류_기타             -0.1931   5.36e+05   -3.6e-07      1.000   -1.05e+06    1.05e+06\n",
      "도로종류_시도             -0.0427   5.35e+05  -7.98e-08      1.000   -1.05e+06    1.05e+06\n",
      "도로종류_일반국도            0.2691   5.18e+05    5.2e-07      1.000   -1.01e+06    1.01e+06\n",
      "도로종류_지방도             0.1266   5.29e+05    2.4e-07      1.000   -1.04e+06    1.04e+06\n",
      "도로종류_특별광역시도         -0.1522   5.21e+05  -2.92e-07      1.000   -1.02e+06    1.02e+06\n",
      "도로형태_교차로             0.2172   6.45e+05   3.37e-07      1.000   -1.26e+06    1.26e+06\n",
      "도로형태_기타/불명           0.1825   6.45e+05   2.83e-07      1.000   -1.26e+06    1.26e+06\n",
      "도로형태_단일로             0.1926   6.44e+05   2.99e-07      1.000   -1.26e+06    1.26e+06\n",
      "도로형태_주차장            -0.0425   6.45e+05  -6.58e-08      1.000   -1.27e+06    1.27e+06\n",
      "도로선형_기타/서비스구역        0.0323        nan        nan        nan         nan         nan\n",
      "도로선형_내리막             0.3157        nan        nan        nan         nan         nan\n",
      "도로선형_오르막             0.1601        nan        nan        nan         nan         nan\n",
      "도로선형_평지              0.0417        nan        nan        nan         nan         nan\n",
      "발생시각_낮              -0.0895        nan        nan        nan         nan         nan\n",
      "발생시각_새벽~아침           0.4831        nan        nan        nan         nan         nan\n",
      "발생시각_저녁~자정           0.1044        nan        nan        nan         nan         nan\n",
      "발생시각_출퇴근시간           0.0519        nan        nan        nan         nan         nan\n",
      "====================================================================================\n"
     ]
    }
   ],
   "source": [
    "print(result.summary())"
   ]
  },
  {
   "cell_type": "markdown",
   "metadata": {},
   "source": [
    "### 오즈비 확인\n",
    "#### 독립변수들의 오즈비를 구해보자\n",
    "#### 오즈비는 1을 기준으로 1보다 크면 심각한사고일 확률이 커지고 1보다 작으면 심각하지 않은 사고 일 확률이 커진다는 것을 나타낸다. \n",
    "#### 오즈비가 1 이면 결과에 별다른 영향을 미치지 않는 다고 볼 수 있다.\n",
    "#### 회귀계수가 변수의 오즈비의 로그값이므로 exp을 취해서 보자"
   ]
  },
  {
   "cell_type": "code",
   "execution_count": 22,
   "metadata": {},
   "outputs": [
    {
     "name": "stdout",
     "output_type": "stream",
     "text": [
      "사고유형_기타              0.996077\n",
      "사고유형_길가장자리구역통행중      0.936753\n",
      "사고유형_보도통행중           1.149932\n",
      "사고유형_차도통행중           1.137037\n",
      "사고유형_횡단중             1.420370\n",
      "연령가해자_20세이하          1.246310\n",
      "연령가해자_21-30세         1.241353\n",
      "연령가해자_31-40세         1.211511\n",
      "연령가해자_41-50세         1.259840\n",
      "연령가해자_51-60세         1.210207\n",
      "연령가해자_61-64세         1.188537\n",
      "연령가해자_65세이상          1.225302\n",
      "연령가해자_기타/불명          0.416377\n",
      "법규위반가해자_그룹1          0.526571\n",
      "법규위반가해자_그룹2          0.578969\n",
      "법규위반가해자_그룹3         10.822602\n",
      "법규위반가해자_기타           0.525197\n",
      "행동유형가해자_그룹1          1.124162\n",
      "행동유형가해자_그룹2          1.494452\n",
      "행동유형가해자_그룹3          1.335637\n",
      "행동유형가해자_그룹4          0.707310\n",
      "행동유형가해자_기타/불명        1.091835\n",
      "피해자신체상해주부위_그룹1       0.342640\n",
      "피해자신체상해주부위_그룹2       0.559778\n",
      "피해자신체상해주부위_그룹3       0.920401\n",
      "피해자신체상해주부위_그룹4       1.379586\n",
      "피해자신체상해주부위_그룹5       1.944530\n",
      "피해자신체상해주부위_그룹6       3.424817\n",
      "피해자신체상해주부위_기타/불명     1.068400\n",
      "차량용도가해자_그룹1          1.493246\n",
      "차량용도가해자_그룹2          1.151495\n",
      "차량용도가해자_그룹3          1.097514\n",
      "차량용도가해자_그룹4          1.227351\n",
      "차량용도가해자_그룹5          0.771672\n",
      "차량용도가해자_기타/불명        0.969529\n",
      "도로종류_고속국도            1.478227\n",
      "도로종류_군도              1.163232\n",
      "도로종류_기타              0.824414\n",
      "도로종류_시도              0.958182\n",
      "도로종류_일반국도            1.308846\n",
      "도로종류_지방도             1.134961\n",
      "도로종류_특별광역시도          0.858807\n",
      "도로형태_교차로             1.242566\n",
      "도로형태_기타/불명           1.200163\n",
      "도로형태_단일로             1.212393\n",
      "도로형태_주차장             0.958436\n",
      "도로선형_기타/서비스구역        1.032779\n",
      "도로선형_내리막             1.371189\n",
      "도로선형_오르막             1.173633\n",
      "도로선형_평지              1.042626\n",
      "발생시각_낮               0.914357\n",
      "발생시각_새벽~아침           1.621065\n",
      "발생시각_저녁~자정           1.110013\n",
      "발생시각_출퇴근시간           1.053225\n",
      "dtype: float64\n"
     ]
    }
   ],
   "source": [
    "print(np.exp(result.params))"
   ]
  },
  {
   "attachments": {
    "image.png": {
     "image/png": "[encoded data removed]"
    }
   },
   "cell_type": "markdown",
   "metadata": {},
   "source": [
    "#### 오즈비 1 이 넘지 않는  것 삭제 후 다시\n",
    "\n",
    "![image.png](attachment:image.png)"
   ]
  },
  {
   "cell_type": "code",
   "execution_count": 24,
   "metadata": {},
   "outputs": [],
   "source": [
    "x2 = x.drop(['피해자신체상해주부위_그룹1','연령가해자_기타/불명','법규위반가해자_기타','법규위반가해자_그룹1'\n",
    "            ,'피해자신체상해주부위_그룹2','법규위반가해자_그룹2','행동유형가해자_그룹4','차량용도가해자_그룹5'\n",
    "            ,'도로종류_기타','도로종류_특별광역시도','발생시각_낮','피해자신체상해주부위_그룹3','사고유형_길가장자리구역통행중'\n",
    "            ,'도로종류_시도','도로형태_주차장','차량용도가해자_기타/불명','사고유형_기타'],axis=1)"
   ]
  },
  {
   "cell_type": "markdown",
   "metadata": {},
   "source": [
    "## 다시 로지스틱 회귀"
   ]
  },
  {
   "cell_type": "code",
   "execution_count": 25,
   "metadata": {},
   "outputs": [
    {
     "name": "stdout",
     "output_type": "stream",
     "text": [
      "Optimization terminated successfully.\n",
      "         Current function value: 0.591771\n",
      "         Iterations 8\n",
      "                           Logit Regression Results                           \n",
      "==============================================================================\n",
      "Dep. Variable:                    심각도   No. Observations:                58059\n",
      "Model:                          Logit   Df Residuals:                    58022\n",
      "Method:                           MLE   Df Model:                           36\n",
      "Date:                Tue, 24 Nov 2020   Pseudo R-squ.:                 0.06727\n",
      "Time:                        15:11:20   Log-Likelihood:                -34358.\n",
      "converged:                       True   LL-Null:                       -36836.\n",
      "Covariance Type:            nonrobust   LLR p-value:                     0.000\n",
      "====================================================================================\n",
      "                       coef    std err          z      P>|z|      [0.025      0.975]\n",
      "------------------------------------------------------------------------------------\n",
      "사고유형_보도통행중           0.1822      0.047      3.853      0.000       0.090       0.275\n",
      "사고유형_차도통행중           0.1463      0.033      4.487      0.000       0.082       0.210\n",
      "사고유형_횡단중             0.4080      0.021     19.325      0.000       0.367       0.449\n",
      "연령가해자_20세이하          0.9617      0.097      9.901      0.000       0.771       1.152\n",
      "연령가해자_21-30세         0.9532      0.090     10.617      0.000       0.777       1.129\n",
      "연령가해자_31-40세         0.9317      0.089     10.514      0.000       0.758       1.105\n",
      "연령가해자_41-50세         0.9715      0.088     11.092      0.000       0.800       1.143\n",
      "연령가해자_51-60세         0.9315      0.087     10.675      0.000       0.760       1.103\n",
      "연령가해자_61-64세         0.9113      0.091      9.996      0.000       0.733       1.090\n",
      "연령가해자_65세이상          0.9446      0.088     10.692      0.000       0.771       1.118\n",
      "법규위반가해자_그룹3          2.9880      0.451      6.618      0.000       2.103       3.873\n",
      "행동유형가해자_그룹1          0.4635      0.076      6.126      0.000       0.315       0.612\n",
      "행동유형가해자_그룹2          0.7380      0.072     10.290      0.000       0.597       0.879\n",
      "행동유형가해자_그룹3          0.6390      0.074      8.631      0.000       0.494       0.784\n",
      "행동유형가해자_기타/불명        0.4641      0.093      4.981      0.000       0.281       0.647\n",
      "피해자신체상해주부위_그룹4       0.5536      0.025     22.278      0.000       0.505       0.602\n",
      "피해자신체상해주부위_그룹5       0.9016      0.028     31.655      0.000       0.846       0.957\n",
      "피해자신체상해주부위_그룹6       1.4701      0.052     28.375      0.000       1.369       1.572\n",
      "피해자신체상해주부위_기타/불명     0.3017      0.025     12.112      0.000       0.253       0.351\n",
      "차량용도가해자_그룹1          0.6506      0.058     11.264      0.000       0.537       0.764\n",
      "차량용도가해자_그룹2          0.4066      0.065      6.221      0.000       0.278       0.535\n",
      "차량용도가해자_그룹3          0.3291      0.061      5.358      0.000       0.209       0.450\n",
      "차량용도가해자_그룹4          0.4586      0.055      8.266      0.000       0.350       0.567\n",
      "도로종류_고속국도            0.5518      0.296      1.863      0.062      -0.029       1.132\n",
      "도로종류_군도              0.2603      0.044      5.887      0.000       0.174       0.347\n",
      "도로종류_일반국도            0.3788      0.046      8.152      0.000       0.288       0.470\n",
      "도로종류_지방도             0.2389      0.038      6.226      0.000       0.164       0.314\n",
      "도로형태_교차로             0.2897      0.107      2.718      0.007       0.081       0.499\n",
      "도로형태_기타/불명           0.2210      0.111      1.994      0.046       0.004       0.438\n",
      "도로형태_단일로             0.2452      0.106      2.323      0.020       0.038       0.452\n",
      "도로선형_기타/서비스구역       -2.4726      0.156    -15.847      0.000      -2.778      -2.167\n",
      "도로선형_내리막            -2.1800      0.153    -14.226      0.000      -2.480      -1.880\n",
      "도로선형_오르막            -2.3412      0.154    -15.190      0.000      -2.643      -2.039\n",
      "도로선형_평지             -2.4466      0.149    -16.427      0.000      -2.739      -2.155\n",
      "발생시각_새벽~아침           0.5775      0.034     17.134      0.000       0.511       0.644\n",
      "발생시각_저녁~자정           0.1861      0.032      5.799      0.000       0.123       0.249\n",
      "발생시각_출퇴근시간           0.1417      0.021      6.849      0.000       0.101       0.182\n",
      "====================================================================================\n"
     ]
    }
   ],
   "source": [
    "logit = sm.Logit(y,x2)\n",
    "result = logit.fit()\n",
    "print(result.summary())"
   ]
  },
  {
   "cell_type": "markdown",
   "metadata": {},
   "source": [
    "## 오즈비 출력"
   ]
  },
  {
   "cell_type": "code",
   "execution_count": 26,
   "metadata": {},
   "outputs": [
    {
     "name": "stdout",
     "output_type": "stream",
     "text": [
      "사고유형_보도통행중           1.199854\n",
      "사고유형_차도통행중           1.157598\n",
      "사고유형_횡단중             1.503872\n",
      "연령가해자_20세이하          2.616205\n",
      "연령가해자_21-30세         2.593893\n",
      "연령가해자_31-40세         2.538814\n",
      "연령가해자_41-50세         2.641879\n",
      "연령가해자_51-60세         2.538348\n",
      "연령가해자_61-64세         2.487661\n",
      "연령가해자_65세이상          2.571899\n",
      "법규위반가해자_그룹3         19.845754\n",
      "행동유형가해자_그룹1          1.589659\n",
      "행동유형가해자_그룹2          2.091824\n",
      "행동유형가해자_그룹3          1.894607\n",
      "행동유형가해자_기타/불명        1.590636\n",
      "피해자신체상해주부위_그룹4       1.739542\n",
      "피해자신체상해주부위_그룹5       2.463641\n",
      "피해자신체상해주부위_그룹6       4.349547\n",
      "피해자신체상해주부위_기타/불명     1.352180\n",
      "차량용도가해자_그룹1          1.916690\n",
      "차량용도가해자_그룹2          1.501643\n",
      "차량용도가해자_그룹3          1.389772\n",
      "차량용도가해자_그룹4          1.581839\n",
      "도로종류_고속국도            1.736408\n",
      "도로종류_군도              1.297273\n",
      "도로종류_일반국도            1.460569\n",
      "도로종류_지방도             1.269908\n",
      "도로형태_교차로             1.336079\n",
      "도로형태_기타/불명           1.247342\n",
      "도로형태_단일로             1.277896\n",
      "도로선형_기타/서비스구역        0.084362\n",
      "도로선형_내리막             0.113041\n",
      "도로선형_오르막             0.096213\n",
      "도로선형_평지              0.086584\n",
      "발생시각_새벽~아침           1.781547\n",
      "발생시각_저녁~자정           1.204586\n",
      "발생시각_출퇴근시간           1.152195\n",
      "dtype: float64\n"
     ]
    }
   ],
   "source": [
    "print(np.exp(result.params))"
   ]
  },
  {
   "cell_type": "markdown",
   "metadata": {},
   "source": [
    "## 오즈비 결과에 따르면 다음 순서로 심각한 사고를 일으킬 확률이 높다.\n",
    "### 1. 법규위반가해자_그룹3 (19.812178)\n",
    "#### 그룹3: 과속\n",
    "### 2. 피해자신체상해주부위_그룹6  (4.353010)\n",
    "#### 그룹6: 가슴 \n",
    "### 3. 연령가해자_41-50세 (2.641879)"
   ]
  },
  {
   "cell_type": "code",
   "execution_count": null,
   "metadata": {},
   "outputs": [],
   "source": []
  }
 ],
 "metadata": {
  "kernelspec": {
   "display_name": "Python 3",
   "language": "python",
   "name": "python3"
  },
  "language_info": {
   "codemirror_mode": {
    "name": "ipython",
    "version": 3
   },
   "file_extension": ".py",
   "mimetype": "text/x-python",
   "name": "python",
   "nbconvert_exporter": "python",
   "pygments_lexer": "ipython3",
   "version": "3.8.3"
  }
 },
 "nbformat": 4,
 "nbformat_minor": 4
}
