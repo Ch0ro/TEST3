{
 "cells": [
  {
   "cell_type": "code",
   "execution_count": 7,
   "metadata": {},
   "outputs": [],
   "source": [
    "import pandas as pd\n",
    "from sklearn import datasets\n",
    "from sklearn.model_selection import train_test_split\n",
    "from statsmodels.api import OLS\n",
    "import pandas as pd\n",
    "from sklearn import datasets\n",
    "from sklearn.model_selection import train_test_split\n",
    "from statsmodels.api import OLS\n",
    "import statsmodels.api as sm"
   ]
  },
  {
   "cell_type": "code",
   "execution_count": 8,
   "metadata": {},
   "outputs": [],
   "source": [
    "df=pd.read_csv('C:/Users/user/TEST3/csv파일/데이터셋_2_2(심각도).csv',encoding='cp949')"
   ]
  },
  {
   "cell_type": "code",
   "execution_count": 9,
   "metadata": {},
   "outputs": [
    {
     "name": "stdout",
     "output_type": "stream",
     "text": [
      "<class 'pandas.core.frame.DataFrame'>\n",
      "RangeIndex: 58059 entries, 0 to 58058\n",
      "Data columns (total 11 columns):\n",
      " #   Column       Non-Null Count  Dtype\n",
      "---  ------       --------------  -----\n",
      " 0   사고유형         58059 non-null  int64\n",
      " 1   연령가해자        58059 non-null  int64\n",
      " 2   법규위반가해자      58059 non-null  int64\n",
      " 3   행동유형가해자      58059 non-null  int64\n",
      " 4   피해자신체상해주부위   58059 non-null  int64\n",
      " 5   차량용도가해자_중분류  58059 non-null  int64\n",
      " 6   도로종류         58059 non-null  int64\n",
      " 7   도로형태         58059 non-null  int64\n",
      " 8   도로선형         58059 non-null  int64\n",
      " 9   발생시각         58059 non-null  int64\n",
      " 10  심각도          58059 non-null  int64\n",
      "dtypes: int64(11)\n",
      "memory usage: 4.9 MB\n"
     ]
    }
   ],
   "source": [
    "df.info()"
   ]
  },
  {
   "cell_type": "markdown",
   "metadata": {},
   "source": [
    "# 전체 변수들과의 ols 회귀분석 진행\n",
    "### 설명변수(X)와 타겟변수(Y)를 분리/학습데이터와 평가데이터를 분할\n",
    "##### Split Data Set Shape 출력물"
   ]
  },
  {
   "cell_type": "code",
   "execution_count": 10,
   "metadata": {},
   "outputs": [],
   "source": [
    "y=df['심각도']"
   ]
  },
  {
   "cell_type": "code",
   "execution_count": 11,
   "metadata": {},
   "outputs": [
    {
     "name": "stdout",
     "output_type": "stream",
     "text": [
      "(40641, 10) (17418, 10) (40641, 1) (17418, 1)\n"
     ]
    }
   ],
   "source": [
    "feature_columns = df.columns.difference([\"심각도\"]) # Target column 빼기\n",
    "\n",
    "X=df.drop(['심각도'],axis=1)\n",
    "y=pd.DataFrame(df['심각도'])\n",
    "\n",
    "train_x, test_x, train_y, test_y = train_test_split(X,y, train_size = 0.7, test_size = 0.3)\n",
    "\n",
    "print(train_x.shape, test_x.shape, train_y.shape, test_y.shape)"
   ]
  },
  {
   "cell_type": "markdown",
   "metadata": {},
   "source": [
    "# train & OLS 회귀모델 적합"
   ]
  },
  {
   "cell_type": "code",
   "execution_count": 12,
   "metadata": {},
   "outputs": [
    {
     "data": {
      "text/html": [
       "<table class=\"simpletable\">\n",
       "<caption>OLS Regression Results</caption>\n",
       "<tr>\n",
       "  <th>Dep. Variable:</th>           <td>심각도</td>       <th>  R-squared (uncentered):</th>      <td>   0.685</td> \n",
       "</tr>\n",
       "<tr>\n",
       "  <th>Model:</th>                   <td>OLS</td>       <th>  Adj. R-squared (uncentered):</th> <td>   0.685</td> \n",
       "</tr>\n",
       "<tr>\n",
       "  <th>Method:</th>             <td>Least Squares</td>  <th>  F-statistic:       </th>          <td>   8830.</td> \n",
       "</tr>\n",
       "<tr>\n",
       "  <th>Date:</th>             <td>Thu, 26 Nov 2020</td> <th>  Prob (F-statistic):</th>           <td>  0.00</td>  \n",
       "</tr>\n",
       "<tr>\n",
       "  <th>Time:</th>                 <td>15:37:45</td>     <th>  Log-Likelihood:    </th>          <td> -26004.</td> \n",
       "</tr>\n",
       "<tr>\n",
       "  <th>No. Observations:</th>      <td> 40641</td>      <th>  AIC:               </th>          <td>5.203e+04</td>\n",
       "</tr>\n",
       "<tr>\n",
       "  <th>Df Residuals:</th>          <td> 40631</td>      <th>  BIC:               </th>          <td>5.211e+04</td>\n",
       "</tr>\n",
       "<tr>\n",
       "  <th>Df Model:</th>              <td>    10</td>      <th>                     </th>              <td> </td>    \n",
       "</tr>\n",
       "<tr>\n",
       "  <th>Covariance Type:</th>      <td>nonrobust</td>    <th>                     </th>              <td> </td>    \n",
       "</tr>\n",
       "</table>\n",
       "<table class=\"simpletable\">\n",
       "<tr>\n",
       "       <td></td>          <th>coef</th>     <th>std err</th>      <th>t</th>      <th>P>|t|</th>  <th>[0.025</th>    <th>0.975]</th>  \n",
       "</tr>\n",
       "<tr>\n",
       "  <th>사고유형</th>        <td>    0.0248</td> <td>    0.001</td> <td>   19.000</td> <td> 0.000</td> <td>    0.022</td> <td>    0.027</td>\n",
       "</tr>\n",
       "<tr>\n",
       "  <th>연령가해자</th>       <td>    0.0135</td> <td>    0.001</td> <td>    9.557</td> <td> 0.000</td> <td>    0.011</td> <td>    0.016</td>\n",
       "</tr>\n",
       "<tr>\n",
       "  <th>법규위반가해자</th>     <td>    0.0134</td> <td>    0.002</td> <td>    7.303</td> <td> 0.000</td> <td>    0.010</td> <td>    0.017</td>\n",
       "</tr>\n",
       "<tr>\n",
       "  <th>행동유형가해자</th>     <td>    0.0162</td> <td>    0.001</td> <td>   16.505</td> <td> 0.000</td> <td>    0.014</td> <td>    0.018</td>\n",
       "</tr>\n",
       "<tr>\n",
       "  <th>피해자신체상해주부위</th>  <td>    0.0113</td> <td>    0.000</td> <td>   25.795</td> <td> 0.000</td> <td>    0.010</td> <td>    0.012</td>\n",
       "</tr>\n",
       "<tr>\n",
       "  <th>차량용도가해자_중분류</th> <td>    0.0143</td> <td>    0.001</td> <td>   22.752</td> <td> 0.000</td> <td>    0.013</td> <td>    0.015</td>\n",
       "</tr>\n",
       "<tr>\n",
       "  <th>도로종류</th>        <td>    0.0220</td> <td>    0.002</td> <td>   11.878</td> <td> 0.000</td> <td>    0.018</td> <td>    0.026</td>\n",
       "</tr>\n",
       "<tr>\n",
       "  <th>도로형태</th>        <td>    0.0110</td> <td>    0.003</td> <td>    3.895</td> <td> 0.000</td> <td>    0.005</td> <td>    0.017</td>\n",
       "</tr>\n",
       "<tr>\n",
       "  <th>도로선형</th>        <td>    0.0381</td> <td>    0.004</td> <td>    9.181</td> <td> 0.000</td> <td>    0.030</td> <td>    0.046</td>\n",
       "</tr>\n",
       "<tr>\n",
       "  <th>발생시각</th>        <td>    0.0219</td> <td>    0.001</td> <td>   18.480</td> <td> 0.000</td> <td>    0.020</td> <td>    0.024</td>\n",
       "</tr>\n",
       "</table>\n",
       "<table class=\"simpletable\">\n",
       "<tr>\n",
       "  <th>Omnibus:</th>       <td>64712.704</td> <th>  Durbin-Watson:     </th> <td>   1.993</td>\n",
       "</tr>\n",
       "<tr>\n",
       "  <th>Prob(Omnibus):</th>  <td> 0.000</td>   <th>  Jarque-Bera (JB):  </th> <td>5262.732</td>\n",
       "</tr>\n",
       "<tr>\n",
       "  <th>Skew:</th>           <td>-0.621</td>   <th>  Prob(JB):          </th> <td>    0.00</td>\n",
       "</tr>\n",
       "<tr>\n",
       "  <th>Kurtosis:</th>       <td> 1.749</td>   <th>  Cond. No.          </th> <td>    29.8</td>\n",
       "</tr>\n",
       "</table><br/><br/>Warnings:<br/>[1] Standard Errors assume that the covariance matrix of the errors is correctly specified."
      ],
      "text/plain": [
       "<class 'statsmodels.iolib.summary.Summary'>\n",
       "\"\"\"\n",
       "                                 OLS Regression Results                                \n",
       "=======================================================================================\n",
       "Dep. Variable:                    심각도   R-squared (uncentered):                   0.685\n",
       "Model:                            OLS   Adj. R-squared (uncentered):              0.685\n",
       "Method:                 Least Squares   F-statistic:                              8830.\n",
       "Date:                Thu, 26 Nov 2020   Prob (F-statistic):                        0.00\n",
       "Time:                        15:37:45   Log-Likelihood:                         -26004.\n",
       "No. Observations:               40641   AIC:                                  5.203e+04\n",
       "Df Residuals:                   40631   BIC:                                  5.211e+04\n",
       "Df Model:                          10                                                  \n",
       "Covariance Type:            nonrobust                                                  \n",
       "===============================================================================\n",
       "                  coef    std err          t      P>|t|      [0.025      0.975]\n",
       "-------------------------------------------------------------------------------\n",
       "사고유형            0.0248      0.001     19.000      0.000       0.022       0.027\n",
       "연령가해자           0.0135      0.001      9.557      0.000       0.011       0.016\n",
       "법규위반가해자         0.0134      0.002      7.303      0.000       0.010       0.017\n",
       "행동유형가해자         0.0162      0.001     16.505      0.000       0.014       0.018\n",
       "피해자신체상해주부위      0.0113      0.000     25.795      0.000       0.010       0.012\n",
       "차량용도가해자_중분류     0.0143      0.001     22.752      0.000       0.013       0.015\n",
       "도로종류            0.0220      0.002     11.878      0.000       0.018       0.026\n",
       "도로형태            0.0110      0.003      3.895      0.000       0.005       0.017\n",
       "도로선형            0.0381      0.004      9.181      0.000       0.030       0.046\n",
       "발생시각            0.0219      0.001     18.480      0.000       0.020       0.024\n",
       "==============================================================================\n",
       "Omnibus:                    64712.704   Durbin-Watson:                   1.993\n",
       "Prob(Omnibus):                  0.000   Jarque-Bera (JB):             5262.732\n",
       "Skew:                          -0.621   Prob(JB):                         0.00\n",
       "Kurtosis:                       1.749   Cond. No.                         29.8\n",
       "==============================================================================\n",
       "\n",
       "Warnings:\n",
       "[1] Standard Errors assume that the covariance matrix of the errors is correctly specified.\n",
       "\"\"\""
      ]
     },
     "execution_count": 12,
     "metadata": {},
     "output_type": "execute_result"
    }
   ],
   "source": [
    "full_model = sm.OLS(train_y,train_x)\n",
    "fitted_full_model = full_model.fit()\n",
    "\n",
    "fitted_full_model.summary()"
   ]
  },
  {
   "cell_type": "markdown",
   "metadata": {},
   "source": [
    "# 다중공선성 검사\n",
    "\n",
    "## 출력된 VIF Factor 값이 10크면 다중공선성이 있다는 것이다."
   ]
  },
  {
   "cell_type": "code",
   "execution_count": 14,
   "metadata": {},
   "outputs": [],
   "source": [
    "corolla = pd.concat([X,y],axis=1)  # 더미변수 + 종속변수 \n",
    "#corolla = sm.add_constant(corolla, has_constant='add')"
   ]
  },
  {
   "cell_type": "code",
   "execution_count": 15,
   "metadata": {},
   "outputs": [
    {
     "data": {
      "text/html": [
       "<div>\n",
       "<style scoped>\n",
       "    .dataframe tbody tr th:only-of-type {\n",
       "        vertical-align: middle;\n",
       "    }\n",
       "\n",
       "    .dataframe tbody tr th {\n",
       "        vertical-align: top;\n",
       "    }\n",
       "\n",
       "    .dataframe thead th {\n",
       "        text-align: right;\n",
       "    }\n",
       "</style>\n",
       "<table border=\"1\" class=\"dataframe\">\n",
       "  <thead>\n",
       "    <tr style=\"text-align: right;\">\n",
       "      <th></th>\n",
       "      <th>VIF Factor</th>\n",
       "      <th>features</th>\n",
       "    </tr>\n",
       "  </thead>\n",
       "  <tbody>\n",
       "    <tr>\n",
       "      <th>0</th>\n",
       "      <td>2.948401</td>\n",
       "      <td>사고유형</td>\n",
       "    </tr>\n",
       "    <tr>\n",
       "      <th>1</th>\n",
       "      <td>8.103548</td>\n",
       "      <td>연령가해자</td>\n",
       "    </tr>\n",
       "    <tr>\n",
       "      <th>2</th>\n",
       "      <td>8.690131</td>\n",
       "      <td>법규위반가해자</td>\n",
       "    </tr>\n",
       "    <tr>\n",
       "      <th>3</th>\n",
       "      <td>7.736281</td>\n",
       "      <td>행동유형가해자</td>\n",
       "    </tr>\n",
       "    <tr>\n",
       "      <th>4</th>\n",
       "      <td>2.920673</td>\n",
       "      <td>피해자신체상해주부위</td>\n",
       "    </tr>\n",
       "    <tr>\n",
       "      <th>5</th>\n",
       "      <td>8.487067</td>\n",
       "      <td>차량용도가해자_중분류</td>\n",
       "    </tr>\n",
       "    <tr>\n",
       "      <th>6</th>\n",
       "      <td>3.007371</td>\n",
       "      <td>도로종류</td>\n",
       "    </tr>\n",
       "    <tr>\n",
       "      <th>7</th>\n",
       "      <td>10.120133</td>\n",
       "      <td>도로형태</td>\n",
       "    </tr>\n",
       "    <tr>\n",
       "      <th>8</th>\n",
       "      <td>5.322546</td>\n",
       "      <td>도로선형</td>\n",
       "    </tr>\n",
       "    <tr>\n",
       "      <th>9</th>\n",
       "      <td>4.052711</td>\n",
       "      <td>발생시각</td>\n",
       "    </tr>\n",
       "    <tr>\n",
       "      <th>10</th>\n",
       "      <td>3.194219</td>\n",
       "      <td>심각도</td>\n",
       "    </tr>\n",
       "  </tbody>\n",
       "</table>\n",
       "</div>"
      ],
      "text/plain": [
       "    VIF Factor     features\n",
       "0     2.948401         사고유형\n",
       "1     8.103548        연령가해자\n",
       "2     8.690131      법규위반가해자\n",
       "3     7.736281      행동유형가해자\n",
       "4     2.920673   피해자신체상해주부위\n",
       "5     8.487067  차량용도가해자_중분류\n",
       "6     3.007371         도로종류\n",
       "7    10.120133         도로형태\n",
       "8     5.322546         도로선형\n",
       "9     4.052711         발생시각\n",
       "10    3.194219          심각도"
      ]
     },
     "execution_count": 15,
     "metadata": {},
     "output_type": "execute_result"
    }
   ],
   "source": [
    "from statsmodels.stats.outliers_influence import variance_inflation_factor\n",
    "\n",
    "vif = pd.DataFrame()\n",
    "vif[\"VIF Factor\"] = [variance_inflation_factor(corolla.values, i) for i in range(corolla.shape[1])]\n",
    "vif[\"features\"] = corolla.columns\n",
    "vif"
   ]
  },
  {
   "cell_type": "markdown",
   "metadata": {},
   "source": [
    "## VIF Factor가 10 이상인 <도로형태> 컬럼 삭제 후  OLS 재진행"
   ]
  },
  {
   "cell_type": "code",
   "execution_count": 16,
   "metadata": {},
   "outputs": [],
   "source": [
    "X = X.drop(['도로형태'],axis=1)"
   ]
  },
  {
   "cell_type": "code",
   "execution_count": 17,
   "metadata": {},
   "outputs": [
    {
     "data": {
      "text/html": [
       "<table class=\"simpletable\">\n",
       "<caption>OLS Regression Results</caption>\n",
       "<tr>\n",
       "  <th>Dep. Variable:</th>           <td>심각도</td>       <th>  R-squared (uncentered):</th>      <td>   0.685</td> \n",
       "</tr>\n",
       "<tr>\n",
       "  <th>Model:</th>                   <td>OLS</td>       <th>  Adj. R-squared (uncentered):</th> <td>   0.685</td> \n",
       "</tr>\n",
       "<tr>\n",
       "  <th>Method:</th>             <td>Least Squares</td>  <th>  F-statistic:       </th>          <td>   9839.</td> \n",
       "</tr>\n",
       "<tr>\n",
       "  <th>Date:</th>             <td>Thu, 26 Nov 2020</td> <th>  Prob (F-statistic):</th>           <td>  0.00</td>  \n",
       "</tr>\n",
       "<tr>\n",
       "  <th>Time:</th>                 <td>15:39:44</td>     <th>  Log-Likelihood:    </th>          <td> -25975.</td> \n",
       "</tr>\n",
       "<tr>\n",
       "  <th>No. Observations:</th>      <td> 40641</td>      <th>  AIC:               </th>          <td>5.197e+04</td>\n",
       "</tr>\n",
       "<tr>\n",
       "  <th>Df Residuals:</th>          <td> 40632</td>      <th>  BIC:               </th>          <td>5.205e+04</td>\n",
       "</tr>\n",
       "<tr>\n",
       "  <th>Df Model:</th>              <td>     9</td>      <th>                     </th>              <td> </td>    \n",
       "</tr>\n",
       "<tr>\n",
       "  <th>Covariance Type:</th>      <td>nonrobust</td>    <th>                     </th>              <td> </td>    \n",
       "</tr>\n",
       "</table>\n",
       "<table class=\"simpletable\">\n",
       "<tr>\n",
       "       <td></td>          <th>coef</th>     <th>std err</th>      <th>t</th>      <th>P>|t|</th>  <th>[0.025</th>    <th>0.975]</th>  \n",
       "</tr>\n",
       "<tr>\n",
       "  <th>사고유형</th>        <td>    0.0260</td> <td>    0.001</td> <td>   19.956</td> <td> 0.000</td> <td>    0.023</td> <td>    0.029</td>\n",
       "</tr>\n",
       "<tr>\n",
       "  <th>연령가해자</th>       <td>    0.0147</td> <td>    0.001</td> <td>   10.534</td> <td> 0.000</td> <td>    0.012</td> <td>    0.017</td>\n",
       "</tr>\n",
       "<tr>\n",
       "  <th>법규위반가해자</th>     <td>    0.0145</td> <td>    0.002</td> <td>    8.205</td> <td> 0.000</td> <td>    0.011</td> <td>    0.018</td>\n",
       "</tr>\n",
       "<tr>\n",
       "  <th>행동유형가해자</th>     <td>    0.0174</td> <td>    0.001</td> <td>   18.393</td> <td> 0.000</td> <td>    0.016</td> <td>    0.019</td>\n",
       "</tr>\n",
       "<tr>\n",
       "  <th>피해자신체상해주부위</th>  <td>    0.0113</td> <td>    0.000</td> <td>   25.955</td> <td> 0.000</td> <td>    0.010</td> <td>    0.012</td>\n",
       "</tr>\n",
       "<tr>\n",
       "  <th>차량용도가해자_중분류</th> <td>    0.0150</td> <td>    0.001</td> <td>   24.054</td> <td> 0.000</td> <td>    0.014</td> <td>    0.016</td>\n",
       "</tr>\n",
       "<tr>\n",
       "  <th>도로종류</th>        <td>    0.0237</td> <td>    0.002</td> <td>   12.876</td> <td> 0.000</td> <td>    0.020</td> <td>    0.027</td>\n",
       "</tr>\n",
       "<tr>\n",
       "  <th>도로선형</th>        <td>    0.0387</td> <td>    0.004</td> <td>    9.592</td> <td> 0.000</td> <td>    0.031</td> <td>    0.047</td>\n",
       "</tr>\n",
       "<tr>\n",
       "  <th>발생시각</th>        <td>    0.0205</td> <td>    0.001</td> <td>   17.459</td> <td> 0.000</td> <td>    0.018</td> <td>    0.023</td>\n",
       "</tr>\n",
       "</table>\n",
       "<table class=\"simpletable\">\n",
       "<tr>\n",
       "  <th>Omnibus:</th>       <td>54582.048</td> <th>  Durbin-Watson:     </th> <td>   1.999</td>\n",
       "</tr>\n",
       "<tr>\n",
       "  <th>Prob(Omnibus):</th>  <td> 0.000</td>   <th>  Jarque-Bera (JB):  </th> <td>5186.922</td>\n",
       "</tr>\n",
       "<tr>\n",
       "  <th>Skew:</th>           <td>-0.619</td>   <th>  Prob(JB):          </th> <td>    0.00</td>\n",
       "</tr>\n",
       "<tr>\n",
       "  <th>Kurtosis:</th>       <td> 1.764</td>   <th>  Cond. No.          </th> <td>    28.3</td>\n",
       "</tr>\n",
       "</table><br/><br/>Warnings:<br/>[1] Standard Errors assume that the covariance matrix of the errors is correctly specified."
      ],
      "text/plain": [
       "<class 'statsmodels.iolib.summary.Summary'>\n",
       "\"\"\"\n",
       "                                 OLS Regression Results                                \n",
       "=======================================================================================\n",
       "Dep. Variable:                    심각도   R-squared (uncentered):                   0.685\n",
       "Model:                            OLS   Adj. R-squared (uncentered):              0.685\n",
       "Method:                 Least Squares   F-statistic:                              9839.\n",
       "Date:                Thu, 26 Nov 2020   Prob (F-statistic):                        0.00\n",
       "Time:                        15:39:44   Log-Likelihood:                         -25975.\n",
       "No. Observations:               40641   AIC:                                  5.197e+04\n",
       "Df Residuals:                   40632   BIC:                                  5.205e+04\n",
       "Df Model:                           9                                                  \n",
       "Covariance Type:            nonrobust                                                  \n",
       "===============================================================================\n",
       "                  coef    std err          t      P>|t|      [0.025      0.975]\n",
       "-------------------------------------------------------------------------------\n",
       "사고유형            0.0260      0.001     19.956      0.000       0.023       0.029\n",
       "연령가해자           0.0147      0.001     10.534      0.000       0.012       0.017\n",
       "법규위반가해자         0.0145      0.002      8.205      0.000       0.011       0.018\n",
       "행동유형가해자         0.0174      0.001     18.393      0.000       0.016       0.019\n",
       "피해자신체상해주부위      0.0113      0.000     25.955      0.000       0.010       0.012\n",
       "차량용도가해자_중분류     0.0150      0.001     24.054      0.000       0.014       0.016\n",
       "도로종류            0.0237      0.002     12.876      0.000       0.020       0.027\n",
       "도로선형            0.0387      0.004      9.592      0.000       0.031       0.047\n",
       "발생시각            0.0205      0.001     17.459      0.000       0.018       0.023\n",
       "==============================================================================\n",
       "Omnibus:                    54582.048   Durbin-Watson:                   1.999\n",
       "Prob(Omnibus):                  0.000   Jarque-Bera (JB):             5186.922\n",
       "Skew:                          -0.619   Prob(JB):                         0.00\n",
       "Kurtosis:                       1.764   Cond. No.                         28.3\n",
       "==============================================================================\n",
       "\n",
       "Warnings:\n",
       "[1] Standard Errors assume that the covariance matrix of the errors is correctly specified.\n",
       "\"\"\""
      ]
     },
     "execution_count": 17,
     "metadata": {},
     "output_type": "execute_result"
    }
   ],
   "source": [
    "train_x, test_x, train_y, test_y = train_test_split(X,y, train_size = 0.7, test_size = 0.3)\n",
    "fitted_full_model = full_model.fit()\n",
    "fitted_full_model.summary()\n",
    "\n",
    "full_model = sm.OLS(train_y,train_x)\n",
    "fitted_full_model = full_model.fit()\n",
    "\n",
    "fitted_full_model.summary()"
   ]
  },
  {
   "cell_type": "markdown",
   "metadata": {},
   "source": [
    "### ▶ y 예측값"
   ]
  },
  {
   "cell_type": "code",
   "execution_count": 18,
   "metadata": {},
   "outputs": [
    {
     "data": {
      "text/html": [
       "<div>\n",
       "<style scoped>\n",
       "    .dataframe tbody tr th:only-of-type {\n",
       "        vertical-align: middle;\n",
       "    }\n",
       "\n",
       "    .dataframe tbody tr th {\n",
       "        vertical-align: top;\n",
       "    }\n",
       "\n",
       "    .dataframe thead th {\n",
       "        text-align: right;\n",
       "    }\n",
       "</style>\n",
       "<table border=\"1\" class=\"dataframe\">\n",
       "  <thead>\n",
       "    <tr style=\"text-align: right;\">\n",
       "      <th></th>\n",
       "      <th>0</th>\n",
       "    </tr>\n",
       "  </thead>\n",
       "  <tbody>\n",
       "    <tr>\n",
       "      <th>26448</th>\n",
       "      <td>0.588469</td>\n",
       "    </tr>\n",
       "    <tr>\n",
       "      <th>53245</th>\n",
       "      <td>0.871174</td>\n",
       "    </tr>\n",
       "    <tr>\n",
       "      <th>31277</th>\n",
       "      <td>0.902913</td>\n",
       "    </tr>\n",
       "    <tr>\n",
       "      <th>25247</th>\n",
       "      <td>0.552685</td>\n",
       "    </tr>\n",
       "    <tr>\n",
       "      <th>1124</th>\n",
       "      <td>0.288733</td>\n",
       "    </tr>\n",
       "    <tr>\n",
       "      <th>...</th>\n",
       "      <td>...</td>\n",
       "    </tr>\n",
       "    <tr>\n",
       "      <th>12345</th>\n",
       "      <td>0.882342</td>\n",
       "    </tr>\n",
       "    <tr>\n",
       "      <th>232</th>\n",
       "      <td>0.707695</td>\n",
       "    </tr>\n",
       "    <tr>\n",
       "      <th>57011</th>\n",
       "      <td>0.671475</td>\n",
       "    </tr>\n",
       "    <tr>\n",
       "      <th>9712</th>\n",
       "      <td>0.621339</td>\n",
       "    </tr>\n",
       "    <tr>\n",
       "      <th>27772</th>\n",
       "      <td>0.596330</td>\n",
       "    </tr>\n",
       "  </tbody>\n",
       "</table>\n",
       "<p>17418 rows × 1 columns</p>\n",
       "</div>"
      ],
      "text/plain": [
       "              0\n",
       "26448  0.588469\n",
       "53245  0.871174\n",
       "31277  0.902913\n",
       "25247  0.552685\n",
       "1124   0.288733\n",
       "...         ...\n",
       "12345  0.882342\n",
       "232    0.707695\n",
       "57011  0.671475\n",
       "9712   0.621339\n",
       "27772  0.596330\n",
       "\n",
       "[17418 rows x 1 columns]"
      ]
     },
     "execution_count": 18,
     "metadata": {},
     "output_type": "execute_result"
    }
   ],
   "source": [
    "pred_y = fitted_full_model.predict(test_x)\n",
    "pd.DataFrame(pred_y)"
   ]
  },
  {
   "cell_type": "markdown",
   "metadata": {},
   "source": [
    "###  다중공선성 재검사\n",
    "### ▶ 10 넘는 것 없음"
   ]
  },
  {
   "cell_type": "code",
   "execution_count": 19,
   "metadata": {},
   "outputs": [
    {
     "data": {
      "text/html": [
       "<div>\n",
       "<style scoped>\n",
       "    .dataframe tbody tr th:only-of-type {\n",
       "        vertical-align: middle;\n",
       "    }\n",
       "\n",
       "    .dataframe tbody tr th {\n",
       "        vertical-align: top;\n",
       "    }\n",
       "\n",
       "    .dataframe thead th {\n",
       "        text-align: right;\n",
       "    }\n",
       "</style>\n",
       "<table border=\"1\" class=\"dataframe\">\n",
       "  <thead>\n",
       "    <tr style=\"text-align: right;\">\n",
       "      <th></th>\n",
       "      <th>VIF Factor</th>\n",
       "      <th>features</th>\n",
       "    </tr>\n",
       "  </thead>\n",
       "  <tbody>\n",
       "    <tr>\n",
       "      <th>0</th>\n",
       "      <td>2.944871</td>\n",
       "      <td>사고유형</td>\n",
       "    </tr>\n",
       "    <tr>\n",
       "      <th>1</th>\n",
       "      <td>7.987258</td>\n",
       "      <td>연령가해자</td>\n",
       "    </tr>\n",
       "    <tr>\n",
       "      <th>2</th>\n",
       "      <td>8.039497</td>\n",
       "      <td>법규위반가해자</td>\n",
       "    </tr>\n",
       "    <tr>\n",
       "      <th>3</th>\n",
       "      <td>7.238513</td>\n",
       "      <td>행동유형가해자</td>\n",
       "    </tr>\n",
       "    <tr>\n",
       "      <th>4</th>\n",
       "      <td>2.896405</td>\n",
       "      <td>피해자신체상해주부위</td>\n",
       "    </tr>\n",
       "    <tr>\n",
       "      <th>5</th>\n",
       "      <td>8.409037</td>\n",
       "      <td>차량용도가해자_중분류</td>\n",
       "    </tr>\n",
       "    <tr>\n",
       "      <th>6</th>\n",
       "      <td>2.979514</td>\n",
       "      <td>도로종류</td>\n",
       "    </tr>\n",
       "    <tr>\n",
       "      <th>7</th>\n",
       "      <td>5.048331</td>\n",
       "      <td>도로선형</td>\n",
       "    </tr>\n",
       "    <tr>\n",
       "      <th>8</th>\n",
       "      <td>4.019721</td>\n",
       "      <td>발생시각</td>\n",
       "    </tr>\n",
       "    <tr>\n",
       "      <th>9</th>\n",
       "      <td>3.193203</td>\n",
       "      <td>심각도</td>\n",
       "    </tr>\n",
       "  </tbody>\n",
       "</table>\n",
       "</div>"
      ],
      "text/plain": [
       "   VIF Factor     features\n",
       "0    2.944871         사고유형\n",
       "1    7.987258        연령가해자\n",
       "2    8.039497      법규위반가해자\n",
       "3    7.238513      행동유형가해자\n",
       "4    2.896405   피해자신체상해주부위\n",
       "5    8.409037  차량용도가해자_중분류\n",
       "6    2.979514         도로종류\n",
       "7    5.048331         도로선형\n",
       "8    4.019721         발생시각\n",
       "9    3.193203          심각도"
      ]
     },
     "execution_count": 19,
     "metadata": {},
     "output_type": "execute_result"
    }
   ],
   "source": [
    "corolla = pd.concat([X,y],axis=1)\n",
    "#corolla = sm.add_constant(corolla, has_constant='add')\n",
    "\n",
    "vif = pd.DataFrame()\n",
    "vif[\"VIF Factor\"] = [variance_inflation_factor(corolla.values, i) for i in range(corolla.shape[1])]\n",
    "vif[\"features\"] = corolla.columns\n",
    "vif"
   ]
  },
  {
   "cell_type": "markdown",
   "metadata": {},
   "source": [
    "---"
   ]
  },
  {
   "cell_type": "markdown",
   "metadata": {},
   "source": [
    "---"
   ]
  },
  {
   "cell_type": "markdown",
   "metadata": {},
   "source": [
    "---"
   ]
  },
  {
   "cell_type": "markdown",
   "metadata": {},
   "source": [
    "# ■ ols 모델에서 중요 변수를 선택하는 과정을 수행해보자"
   ]
  },
  {
   "cell_type": "markdown",
   "metadata": {},
   "source": [
    "### ▶ 위 진행방식과 달리 상수항을 정의하기위해 'const'라는 컬럼을 추가하였다. (각 행마다 1을 부여)"
   ]
  },
  {
   "cell_type": "markdown",
   "metadata": {},
   "source": [
    "### ▶ 아래에 결과를 보면 R값이 약 2.5% 또는 2.6%가 산출되는데, const를 추가함으로써 생기는 새로운 문제이다."
   ]
  },
  {
   "cell_type": "markdown",
   "metadata": {},
   "source": [
    "### ▶ 상수항을 제거한 모델을 사용하는것에는 많은 오류가 있는 것으로 보인다."
   ]
  },
  {
   "cell_type": "markdown",
   "metadata": {},
   "source": [
    "# 0.변수선택법"
   ]
  },
  {
   "cell_type": "code",
   "execution_count": 21,
   "metadata": {},
   "outputs": [],
   "source": [
    "feature_columns = X.columns.difference([\"심각도\"])"
   ]
  },
  {
   "cell_type": "code",
   "execution_count": 22,
   "metadata": {},
   "outputs": [
    {
     "name": "stdout",
     "output_type": "stream",
     "text": [
      "{'model': <statsmodels.regression.linear_model.RegressionResultsWrapper object at 0x00000088AA46C4C0>, 'AIC': 51968.019631214134}\n"
     ]
    }
   ],
   "source": [
    "#변수 선택법\n",
    "def processSubset(x,y, feature_set):\n",
    "    model = sm.OLS(y,x[list(feature_set)])  #modeling\n",
    "    regr = model.fit()  #모델학습\n",
    "    AIC = regr.aic    #모델의 AIC\n",
    "    return {\"model\" : regr , \"AIC\" : AIC}\n",
    " \n",
    "print(processSubset(x=train_x,y=train_y,feature_set=feature_columns))"
   ]
  },
  {
   "cell_type": "code",
   "execution_count": 23,
   "metadata": {},
   "outputs": [],
   "source": [
    "train_x= sm.add_constant(train_x, has_constant='add')"
   ]
  },
  {
   "cell_type": "code",
   "execution_count": 24,
   "metadata": {},
   "outputs": [],
   "source": [
    "#모든 조합을 다 조합해서 좋은 모델을 반환시키는 알고리즘\n",
    "import time\n",
    "import itertools\n",
    " \n",
    "def getBest(x,y,k):\n",
    "    tic = time.time()  #시작시간\n",
    "    results = []       #결과저장공간\n",
    "    for combo in itertools.combinations(x.columns.difference(['const']),k): \n",
    "        combo=(list(combo)+['const'])\n",
    "        #각 변수조합을 고려한 경우의 수\n",
    "        results.append(processSubset(x,y,feature_set=combo))#모델링된 것들을 저장\n",
    "    models=pd.DataFrame(results) #데이터 프레임으로 변환\n",
    "    #가장 낮은 AIC를 가지는 모델 선택 및 저장\n",
    "    bestModel = models.loc[models['AIC'].argmin()] #index\n",
    "    toc = time.time() #종료시간\n",
    "    print(\"Processed\",models.shape[0],\"models on\",k,\"predictors in\",(toc-tic),\n",
    "          \"seconds.\")\n",
    "    return  bestModel"
   ]
  },
  {
   "cell_type": "code",
   "execution_count": 25,
   "metadata": {},
   "outputs": [
    {
     "name": "stdout",
     "output_type": "stream",
     "text": [
      "Processed 36 models on 2 predictors in 0.21770882606506348 seconds.\n",
      "model    <statsmodels.regression.linear_model.Regressio...\n",
      "AIC                                                52740.9\n",
      "Name: 28, dtype: object\n"
     ]
    }
   ],
   "source": [
    "print(getBest(x=train_x,y=train_y,k=2))"
   ]
  },
  {
   "cell_type": "code",
   "execution_count": 26,
   "metadata": {},
   "outputs": [
    {
     "name": "stdout",
     "output_type": "stream",
     "text": [
      "Processed 9 models on 1 predictors in 0.05414295196533203 seconds.\n",
      "Processed 36 models on 2 predictors in 0.21731925010681152 seconds.\n",
      "Processed 84 models on 3 predictors in 0.6311333179473877 seconds.\n",
      "Processed 126 models on 4 predictors in 1.1349997520446777 seconds.\n",
      "Total elapsed time :  2.207519054412842 seconds\n",
      "            AIC                                              model\n",
      "1  53294.157970  <statsmodels.regression.linear_model.Regressio...\n",
      "2  52740.937232  <statsmodels.regression.linear_model.Regressio...\n",
      "3  52322.793277  <statsmodels.regression.linear_model.Regressio...\n",
      "4  52010.635783  <statsmodels.regression.linear_model.Regressio...\n"
     ]
    }
   ],
   "source": [
    "#변수 선택에 따른 학습시간과 저장 K 반복\n",
    " \n",
    "models = pd.DataFrame(columns=[\"AIC\",\"model\"])\n",
    "tic = time.time()\n",
    "for i in range(1,5):\n",
    "    models.loc[i] = getBest(train_x,train_y,i)\n",
    " \n",
    "toc = time.time()\n",
    "print(\"Total elapsed time : \",(toc-tic),\"seconds\")\n",
    " \n",
    "print(models)"
   ]
  },
  {
   "cell_type": "code",
   "execution_count": 27,
   "metadata": {},
   "outputs": [
    {
     "data": {
      "text/html": [
       "<table class=\"simpletable\">\n",
       "<caption>OLS Regression Results</caption>\n",
       "<tr>\n",
       "  <th>Dep. Variable:</th>           <td>심각도</td>       <th>  R-squared:         </th> <td>   0.050</td> \n",
       "</tr>\n",
       "<tr>\n",
       "  <th>Model:</th>                   <td>OLS</td>       <th>  Adj. R-squared:    </th> <td>   0.050</td> \n",
       "</tr>\n",
       "<tr>\n",
       "  <th>Method:</th>             <td>Least Squares</td>  <th>  F-statistic:       </th> <td>   539.7</td> \n",
       "</tr>\n",
       "<tr>\n",
       "  <th>Date:</th>             <td>Thu, 26 Nov 2020</td> <th>  Prob (F-statistic):</th>  <td>  0.00</td>  \n",
       "</tr>\n",
       "<tr>\n",
       "  <th>Time:</th>                 <td>15:44:43</td>     <th>  Log-Likelihood:    </th> <td> -26000.</td> \n",
       "</tr>\n",
       "<tr>\n",
       "  <th>No. Observations:</th>      <td> 40641</td>      <th>  AIC:               </th> <td>5.201e+04</td>\n",
       "</tr>\n",
       "<tr>\n",
       "  <th>Df Residuals:</th>          <td> 40636</td>      <th>  BIC:               </th> <td>5.205e+04</td>\n",
       "</tr>\n",
       "<tr>\n",
       "  <th>Df Model:</th>              <td>     4</td>      <th>                     </th>     <td> </td>    \n",
       "</tr>\n",
       "<tr>\n",
       "  <th>Covariance Type:</th>      <td>nonrobust</td>    <th>                     </th>     <td> </td>    \n",
       "</tr>\n",
       "</table>\n",
       "<table class=\"simpletable\">\n",
       "<tr>\n",
       "       <td></td>          <th>coef</th>     <th>std err</th>      <th>t</th>      <th>P>|t|</th>  <th>[0.025</th>    <th>0.975]</th>  \n",
       "</tr>\n",
       "<tr>\n",
       "  <th>사고유형</th>        <td>    0.0260</td> <td>    0.001</td> <td>   19.920</td> <td> 0.000</td> <td>    0.023</td> <td>    0.029</td>\n",
       "</tr>\n",
       "<tr>\n",
       "  <th>차량용도가해자_중분류</th> <td>    0.0126</td> <td>    0.001</td> <td>   20.163</td> <td> 0.000</td> <td>    0.011</td> <td>    0.014</td>\n",
       "</tr>\n",
       "<tr>\n",
       "  <th>피해자신체상해주부위</th>  <td>    0.0107</td> <td>    0.000</td> <td>   24.377</td> <td> 0.000</td> <td>    0.010</td> <td>    0.012</td>\n",
       "</tr>\n",
       "<tr>\n",
       "  <th>행동유형가해자</th>     <td>    0.0167</td> <td>    0.001</td> <td>   17.758</td> <td> 0.000</td> <td>    0.015</td> <td>    0.019</td>\n",
       "</tr>\n",
       "<tr>\n",
       "  <th>const</th>       <td>    0.3063</td> <td>    0.009</td> <td>   34.290</td> <td> 0.000</td> <td>    0.289</td> <td>    0.324</td>\n",
       "</tr>\n",
       "</table>\n",
       "<table class=\"simpletable\">\n",
       "<tr>\n",
       "  <th>Omnibus:</th>       <td>7058844.858</td> <th>  Durbin-Watson:     </th> <td>   1.998</td>\n",
       "</tr>\n",
       "<tr>\n",
       "  <th>Prob(Omnibus):</th>   <td> 0.000</td>    <th>  Jarque-Bera (JB):  </th> <td>6018.842</td>\n",
       "</tr>\n",
       "<tr>\n",
       "  <th>Skew:</th>            <td>-0.666</td>    <th>  Prob(JB):          </th> <td>    0.00</td>\n",
       "</tr>\n",
       "<tr>\n",
       "  <th>Kurtosis:</th>        <td> 1.665</td>    <th>  Cond. No.          </th> <td>    56.7</td>\n",
       "</tr>\n",
       "</table><br/><br/>Warnings:<br/>[1] Standard Errors assume that the covariance matrix of the errors is correctly specified."
      ],
      "text/plain": [
       "<class 'statsmodels.iolib.summary.Summary'>\n",
       "\"\"\"\n",
       "                            OLS Regression Results                            \n",
       "==============================================================================\n",
       "Dep. Variable:                    심각도   R-squared:                       0.050\n",
       "Model:                            OLS   Adj. R-squared:                  0.050\n",
       "Method:                 Least Squares   F-statistic:                     539.7\n",
       "Date:                Thu, 26 Nov 2020   Prob (F-statistic):               0.00\n",
       "Time:                        15:44:43   Log-Likelihood:                -26000.\n",
       "No. Observations:               40641   AIC:                         5.201e+04\n",
       "Df Residuals:                   40636   BIC:                         5.205e+04\n",
       "Df Model:                           4                                         \n",
       "Covariance Type:            nonrobust                                         \n",
       "===============================================================================\n",
       "                  coef    std err          t      P>|t|      [0.025      0.975]\n",
       "-------------------------------------------------------------------------------\n",
       "사고유형            0.0260      0.001     19.920      0.000       0.023       0.029\n",
       "차량용도가해자_중분류     0.0126      0.001     20.163      0.000       0.011       0.014\n",
       "피해자신체상해주부위      0.0107      0.000     24.377      0.000       0.010       0.012\n",
       "행동유형가해자         0.0167      0.001     17.758      0.000       0.015       0.019\n",
       "const           0.3063      0.009     34.290      0.000       0.289       0.324\n",
       "==============================================================================\n",
       "Omnibus:                  7058844.858   Durbin-Watson:                   1.998\n",
       "Prob(Omnibus):                  0.000   Jarque-Bera (JB):             6018.842\n",
       "Skew:                          -0.666   Prob(JB):                         0.00\n",
       "Kurtosis:                       1.665   Cond. No.                         56.7\n",
       "==============================================================================\n",
       "\n",
       "Warnings:\n",
       "[1] Standard Errors assume that the covariance matrix of the errors is correctly specified.\n",
       "\"\"\""
      ]
     },
     "execution_count": 27,
     "metadata": {},
     "output_type": "execute_result"
    }
   ],
   "source": [
    "models.loc[4,\"model\"].summary()"
   ]
  },
  {
   "cell_type": "markdown",
   "metadata": {},
   "source": [
    "# 1.전진선택법"
   ]
  },
  {
   "cell_type": "code",
   "execution_count": 29,
   "metadata": {},
   "outputs": [
    {
     "name": "stdout",
     "output_type": "stream",
     "text": [
      "Processed  9 models on 1 predictors in 0.051136016845703125\n",
      "Selected predictors: ['피해자신체상해주부위', 'const'] AIC :  <statsmodels.regression.linear_model.RegressionResultsWrapper object at 0x00000088B21AABE0>\n",
      "Processed  8 models on 2 predictors in 0.03313565254211426\n",
      "Selected predictors: ['피해자신체상해주부위', '사고유형', 'const'] AIC :  <statsmodels.regression.linear_model.RegressionResultsWrapper object at 0x00000088A9A41760>\n",
      "Processed  7 models on 3 predictors in 0.04687976837158203\n",
      "Selected predictors: ['피해자신체상해주부위', '사고유형', '차량용도가해자_중분류', 'const'] AIC :  <statsmodels.regression.linear_model.RegressionResultsWrapper object at 0x00000088B21AABB0>\n",
      "Processed  6 models on 4 predictors in 0.04688000679016113\n",
      "Selected predictors: ['피해자신체상해주부위', '사고유형', '차량용도가해자_중분류', '행동유형가해자', 'const'] AIC :  <statsmodels.regression.linear_model.RegressionResultsWrapper object at 0x00000088A9A2B460>\n",
      "Processed  5 models on 5 predictors in 0.06108427047729492\n",
      "Selected predictors: ['피해자신체상해주부위', '사고유형', '차량용도가해자_중분류', '행동유형가해자', '발생시각', 'const'] AIC :  <statsmodels.regression.linear_model.RegressionResultsWrapper object at 0x00000088A9A41520>\n",
      "Processed  4 models on 6 predictors in 0.04862833023071289\n",
      "Selected predictors: ['피해자신체상해주부위', '사고유형', '차량용도가해자_중분류', '행동유형가해자', '발생시각', '도로종류', 'const'] AIC :  <statsmodels.regression.linear_model.RegressionResultsWrapper object at 0x00000088A9A41A00>\n",
      "Processed  3 models on 7 predictors in 0.03709769248962402\n",
      "Selected predictors: ['피해자신체상해주부위', '사고유형', '차량용도가해자_중분류', '행동유형가해자', '발생시각', '도로종류', '연령가해자', 'const'] AIC :  <statsmodels.regression.linear_model.RegressionResultsWrapper object at 0x00000088AF978FA0>\n",
      "Processed  2 models on 8 predictors in 0.028576135635375977\n",
      "Selected predictors: ['피해자신체상해주부위', '사고유형', '차량용도가해자_중분류', '행동유형가해자', '발생시각', '도로종류', '연령가해자', '도로선형', 'const'] AIC :  <statsmodels.regression.linear_model.RegressionResultsWrapper object at 0x00000088A9A411C0>\n",
      "Processed  1 models on 9 predictors in 0.01604175567626953\n",
      "Selected predictors: ['피해자신체상해주부위', '사고유형', '차량용도가해자_중분류', '행동유형가해자', '발생시각', '도로종류', '연령가해자', '도로선형', '법규위반가해자', 'const'] AIC :  <statsmodels.regression.linear_model.RegressionResultsWrapper object at 0x00000088A9A415E0>\n",
      "Total elapesed time :  0.435809850692749 seconds.\n",
      "                            OLS Regression Results                            \n",
      "==============================================================================\n",
      "Dep. Variable:                    심각도   R-squared:                       0.058\n",
      "Model:                            OLS   Adj. R-squared:                  0.058\n",
      "Method:                 Least Squares   F-statistic:                     311.5\n",
      "Date:                Thu, 26 Nov 2020   Prob (F-statistic):               0.00\n",
      "Time:                        15:46:01   Log-Likelihood:                -25842.\n",
      "No. Observations:               40641   AIC:                         5.170e+04\n",
      "Df Residuals:                   40632   BIC:                         5.178e+04\n",
      "Df Model:                           8                                         \n",
      "Covariance Type:            nonrobust                                         \n",
      "===============================================================================\n",
      "                  coef    std err          t      P>|t|      [0.025      0.975]\n",
      "-------------------------------------------------------------------------------\n",
      "피해자신체상해주부위      0.0102      0.000     23.380      0.000       0.009       0.011\n",
      "사고유형            0.0236      0.001     18.071      0.000       0.021       0.026\n",
      "차량용도가해자_중분류     0.0117      0.001     17.871      0.000       0.010       0.013\n",
      "행동유형가해자         0.0140      0.001     14.666      0.000       0.012       0.016\n",
      "발생시각            0.0157      0.001     13.086      0.000       0.013       0.018\n",
      "도로종류            0.0190      0.002     10.237      0.000       0.015       0.023\n",
      "연령가해자           0.0070      0.001      4.799      0.000       0.004       0.010\n",
      "도로선형            0.0150      0.004      3.508      0.000       0.007       0.023\n",
      "const           0.2073      0.011     18.266      0.000       0.185       0.230\n",
      "==============================================================================\n",
      "Omnibus:                   462400.055   Durbin-Watson:                   1.999\n",
      "Prob(Omnibus):                  0.000   Jarque-Bera (JB):             5854.450\n",
      "Skew:                          -0.653   Prob(JB):                         0.00\n",
      "Kurtosis:                       1.676   Cond. No.                         78.8\n",
      "==============================================================================\n",
      "\n",
      "Warnings:\n",
      "[1] Standard Errors assume that the covariance matrix of the errors is correctly specified.\n"
     ]
    }
   ],
   "source": [
    "#전진 선택법(Step=1)\n",
    " \n",
    "def forward(x,y,predictors):\n",
    "    remainingPredictors = [p for p in x.columns.difference(['const'])\n",
    "                           if p not in predictors]\n",
    "    tic=time.time()\n",
    "    results=[]\n",
    "    for p in remainingPredictors:\n",
    "        results.append(processSubset(x=x,y=y,feature_set=predictors+[p]+['const']))\n",
    "    #데이터프레임으로 변환\n",
    "    models = pd.DataFrame(results)\n",
    " \n",
    "    #AIC가 가장 낮은 것을 선택\n",
    "    bestModel = models.loc[models['AIC'].argmin()] #index\n",
    "    toc = time.time()\n",
    "    print(\"Processed \", models.shape[0],\"models on\", len(predictors)+1,\n",
    "          \"predictors in\",(toc-tic))\n",
    "    print(\"Selected predictors:\",bestModel['model'].model.exog_names,\n",
    "          'AIC : ',bestModel[0])\n",
    "    return bestModel\n",
    " \n",
    "#전진선택법 모델\n",
    "def forward_model(x,y):\n",
    "    fModels = pd.DataFrame(columns=[\"AIC\",\"model\"])\n",
    "    tic = time.time()\n",
    "    #미리 정의된 데이터 변수\n",
    "    predictors = []\n",
    "    #변수1~10개 : 0~9 -> 1~10\n",
    "    for i in range(1,len(x.columns.difference(['const']))+1):\n",
    "        forwardResult= forward(x,y,predictors)\n",
    "        if i > 1:\n",
    "            if forwardResult['AIC'] > fmodelBefore:\n",
    "                break\n",
    "        fModels.loc[i] = forwardResult\n",
    "        predictors = fModels.loc[i][\"model\"].model.exog_names\n",
    "        fmodelBefore = fModels.loc[i][\"AIC\"]\n",
    "        predictors = [k for k in predictors if k != 'const']\n",
    "    toc = time.time()\n",
    "    print(\"Total elapesed time : \", (toc - tic), \"seconds.\")\n",
    " \n",
    "    return (fModels['model'][len(fModels['model'])])\n",
    " \n",
    "forwordBestModel=forward_model(train_x,train_y)\n",
    " \n",
    "print(forwordBestModel.summary())"
   ]
  },
  {
   "cell_type": "markdown",
   "metadata": {},
   "source": [
    "# 2.후진제거법"
   ]
  },
  {
   "cell_type": "code",
   "execution_count": 30,
   "metadata": {},
   "outputs": [
    {
     "name": "stdout",
     "output_type": "stream",
     "text": [
      "Processed 9 models on 8 predictors in 0.1275489330291748\n",
      "Selected predictors : ['도로선형', '도로종류', '발생시각', '사고유형', '연령가해자', '차량용도가해자_중분류', '피해자신체상해주부위', '행동유형가해자', 'const']  AIC: <statsmodels.regression.linear_model.RegressionResultsWrapper object at 0x00000088A9A2B1C0>\n",
      "Processed 8 models on 7 predictors in 0.09376001358032227\n",
      "Selected predictors : ['도로종류', '발생시각', '사고유형', '연령가해자', '차량용도가해자_중분류', '피해자신체상해주부위', '행동유형가해자', 'const']  AIC: <statsmodels.regression.linear_model.RegressionResultsWrapper object at 0x00000088AF978F70>\n",
      "Total elapsed time : 0.26601147651672363 seconds.\n",
      "                            OLS Regression Results                            \n",
      "==============================================================================\n",
      "Dep. Variable:                    심각도   R-squared:                       0.058\n",
      "Model:                            OLS   Adj. R-squared:                  0.058\n",
      "Method:                 Least Squares   F-statistic:                     311.5\n",
      "Date:                Thu, 26 Nov 2020   Prob (F-statistic):               0.00\n",
      "Time:                        15:46:26   Log-Likelihood:                -25842.\n",
      "No. Observations:               40641   AIC:                         5.170e+04\n",
      "Df Residuals:                   40632   BIC:                         5.178e+04\n",
      "Df Model:                           8                                         \n",
      "Covariance Type:            nonrobust                                         \n",
      "===============================================================================\n",
      "                  coef    std err          t      P>|t|      [0.025      0.975]\n",
      "-------------------------------------------------------------------------------\n",
      "도로선형            0.0150      0.004      3.508      0.000       0.007       0.023\n",
      "도로종류            0.0190      0.002     10.237      0.000       0.015       0.023\n",
      "발생시각            0.0157      0.001     13.086      0.000       0.013       0.018\n",
      "사고유형            0.0236      0.001     18.071      0.000       0.021       0.026\n",
      "연령가해자           0.0070      0.001      4.799      0.000       0.004       0.010\n",
      "차량용도가해자_중분류     0.0117      0.001     17.871      0.000       0.010       0.013\n",
      "피해자신체상해주부위      0.0102      0.000     23.380      0.000       0.009       0.011\n",
      "행동유형가해자         0.0140      0.001     14.666      0.000       0.012       0.016\n",
      "const           0.2073      0.011     18.266      0.000       0.185       0.230\n",
      "==============================================================================\n",
      "Omnibus:                   462400.055   Durbin-Watson:                   1.999\n",
      "Prob(Omnibus):                  0.000   Jarque-Bera (JB):             5854.450\n",
      "Skew:                          -0.653   Prob(JB):                         0.00\n",
      "Kurtosis:                       1.676   Cond. No.                         78.8\n",
      "==============================================================================\n",
      "\n",
      "Warnings:\n",
      "[1] Standard Errors assume that the covariance matrix of the errors is correctly specified.\n"
     ]
    }
   ],
   "source": [
    "#후진제거법\n",
    " \n",
    "def backward(x,y,predictors):\n",
    "    tic = time.time()\n",
    "    results=[]\n",
    "    #데이터 변수들이 미리정의된 predictors 조합확인\n",
    "    for combo in itertools.combinations(predictors, len(predictors)-1):\n",
    "        results.append(processSubset(x,y,list(combo)+['const']))\n",
    "    models = pd.DataFrame(results)\n",
    "    #가장 낮은 AIC를 가진 모델을 선택\n",
    "    bestModel = models.loc[models['AIC'].argmin()]\n",
    "    toc = time.time()\n",
    "    print(\"Processed\",models.shape[0],\"models on\",len(predictors)-1,\n",
    "          \"predictors in\",(toc - tic))\n",
    "    print(\"Selected predictors :\",bestModel['model'].model.exog_names,\n",
    "          ' AIC:',bestModel[0])\n",
    "    return bestModel\n",
    " \n",
    "def backword_model(x,y):\n",
    "    BModels = pd.DataFrame(columns=[\"AIC\",\"model\"])\n",
    "    tic = time.time()\n",
    "    #미리 정의된 데이터 변수\n",
    "    predictors = x.columns.difference(['const'])\n",
    "    BmodelBefore = processSubset(x,y,predictors)['AIC']\n",
    "    while(len(predictors)>1):\n",
    "        backwardResult=backward(train_x,train_y,predictors)\n",
    "        if backwardResult['AIC'] > BmodelBefore:\n",
    "            break\n",
    "        BModels.loc[len(predictors)-1] = backwardResult\n",
    "        predictors = BModels.loc[len(predictors)-1][\"model\"].model.exog_names\n",
    "        BmodelBefore = backwardResult[\"AIC\"]\n",
    "        predictors = [ k for k in predictors if k != 'const']\n",
    " \n",
    "    toc = time.time()\n",
    "    print(\"Total elapsed time :\",(toc - tic), \"seconds.\")\n",
    "    return (BModels[\"model\"].dropna().iloc[0])\n",
    " \n",
    "backwardBestModel = backword_model(train_x,train_y)\n",
    "print(backwardBestModel.summary())"
   ]
  },
  {
   "cell_type": "markdown",
   "metadata": {},
   "source": [
    "# 3.단계적선택법"
   ]
  },
  {
   "cell_type": "code",
   "execution_count": 31,
   "metadata": {},
   "outputs": [
    {
     "name": "stdout",
     "output_type": "stream",
     "text": [
      "Processed  9 models on 1 predictors in 0.048127174377441406\n",
      "Selected predictors: ['피해자신체상해주부위', 'const'] AIC :  <statsmodels.regression.linear_model.RegressionResultsWrapper object at 0x00000088A9A71250>\n",
      "forward\n",
      "Processed 1 models on 0 predictors in 0.004010438919067383\n",
      "Selected predictors : ['const']  AIC: <statsmodels.regression.linear_model.RegressionResultsWrapper object at 0x00000088A9A71370>\n",
      "Processed  8 models on 2 predictors in 0.046121835708618164\n",
      "Selected predictors: ['피해자신체상해주부위', '사고유형', 'const'] AIC :  <statsmodels.regression.linear_model.RegressionResultsWrapper object at 0x00000088A99EF250>\n",
      "forward\n",
      "Processed 2 models on 1 predictors in 0.00952458381652832\n",
      "Selected predictors : ['피해자신체상해주부위', 'const']  AIC: <statsmodels.regression.linear_model.RegressionResultsWrapper object at 0x00000088A99EF100>\n",
      "Processed  7 models on 3 predictors in 0.04913067817687988\n",
      "Selected predictors: ['피해자신체상해주부위', '사고유형', '차량용도가해자_중분류', 'const'] AIC :  <statsmodels.regression.linear_model.RegressionResultsWrapper object at 0x00000088A9A419A0>\n",
      "forward\n",
      "Processed 3 models on 2 predictors in 0.017044544219970703\n",
      "Selected predictors : ['피해자신체상해주부위', '사고유형', 'const']  AIC: <statsmodels.regression.linear_model.RegressionResultsWrapper object at 0x00000088A99EF310>\n",
      "Processed  6 models on 4 predictors in 0.05263924598693848\n",
      "Selected predictors: ['피해자신체상해주부위', '사고유형', '차량용도가해자_중분류', '행동유형가해자', 'const'] AIC :  <statsmodels.regression.linear_model.RegressionResultsWrapper object at 0x00000088A9A713A0>\n",
      "forward\n",
      "Processed 4 models on 3 predictors in 0.03158402442932129\n",
      "Selected predictors : ['피해자신체상해주부위', '사고유형', '차량용도가해자_중분류', 'const']  AIC: <statsmodels.regression.linear_model.RegressionResultsWrapper object at 0x00000088A9A716A0>\n",
      "Processed  5 models on 5 predictors in 0.05263948440551758\n",
      "Selected predictors: ['피해자신체상해주부위', '사고유형', '차량용도가해자_중분류', '행동유형가해자', '발생시각', 'const'] AIC :  <statsmodels.regression.linear_model.RegressionResultsWrapper object at 0x00000088A9A41070>\n",
      "forward\n",
      "Processed 5 models on 4 predictors in 0.044116973876953125\n",
      "Selected predictors : ['피해자신체상해주부위', '사고유형', '차량용도가해자_중분류', '행동유형가해자', 'const']  AIC: <statsmodels.regression.linear_model.RegressionResultsWrapper object at 0x00000088B04B95B0>\n",
      "Processed  4 models on 6 predictors in 0.03677034378051758\n",
      "Selected predictors: ['피해자신체상해주부위', '사고유형', '차량용도가해자_중분류', '행동유형가해자', '발생시각', '도로종류', 'const'] AIC :  <statsmodels.regression.linear_model.RegressionResultsWrapper object at 0x00000088A9A71100>\n",
      "forward\n",
      "Processed 6 models on 5 predictors in 0.06508922576904297\n",
      "Selected predictors : ['피해자신체상해주부위', '사고유형', '차량용도가해자_중분류', '행동유형가해자', '발생시각', 'const']  AIC: <statsmodels.regression.linear_model.RegressionResultsWrapper object at 0x00000088A996B5E0>\n",
      "Processed  3 models on 7 predictors in 0.05102252960205078\n",
      "Selected predictors: ['피해자신체상해주부위', '사고유형', '차량용도가해자_중분류', '행동유형가해자', '발생시각', '도로종류', '연령가해자', 'const'] AIC :  <statsmodels.regression.linear_model.RegressionResultsWrapper object at 0x00000088A9A41640>\n",
      "forward\n",
      "Processed 7 models on 6 predictors in 0.09805035591125488\n",
      "Selected predictors : ['피해자신체상해주부위', '사고유형', '차량용도가해자_중분류', '행동유형가해자', '발생시각', '도로종류', 'const']  AIC: <statsmodels.regression.linear_model.RegressionResultsWrapper object at 0x00000088A9A71160>\n",
      "Processed  2 models on 8 predictors in 0.028203487396240234\n",
      "Selected predictors: ['피해자신체상해주부위', '사고유형', '차량용도가해자_중분류', '행동유형가해자', '발생시각', '도로종류', '연령가해자', '도로선형', 'const'] AIC :  <statsmodels.regression.linear_model.RegressionResultsWrapper object at 0x00000088AD469AF0>\n",
      "forward\n",
      "Processed 8 models on 7 predictors in 0.10850071907043457\n",
      "Selected predictors : ['피해자신체상해주부위', '사고유형', '차량용도가해자_중분류', '행동유형가해자', '발생시각', '도로종류', '연령가해자', 'const']  AIC: <statsmodels.regression.linear_model.RegressionResultsWrapper object at 0x00000088B21AAA90>\n",
      "Processed  1 models on 9 predictors in 0.017130374908447266\n",
      "Selected predictors: ['피해자신체상해주부위', '사고유형', '차량용도가해자_중분류', '행동유형가해자', '발생시각', '도로종류', '연령가해자', '도로선형', '법규위반가해자', 'const'] AIC :  <statsmodels.regression.linear_model.RegressionResultsWrapper object at 0x00000088A9A71310>\n",
      "forward\n",
      "Processed 9 models on 8 predictors in 0.12494730949401855\n",
      "Selected predictors : ['피해자신체상해주부위', '사고유형', '차량용도가해자_중분류', '행동유형가해자', '발생시각', '도로종류', '연령가해자', '도로선형', 'const']  AIC: <statsmodels.regression.linear_model.RegressionResultsWrapper object at 0x00000088A9A41100>\n",
      "backward\n",
      "Total elapsed time :  1.0026414394378662 seconds\n",
      "                            OLS Regression Results                            \n",
      "==============================================================================\n",
      "Dep. Variable:                    심각도   R-squared:                       0.058\n",
      "Model:                            OLS   Adj. R-squared:                  0.058\n",
      "Method:                 Least Squares   F-statistic:                     311.5\n",
      "Date:                Thu, 26 Nov 2020   Prob (F-statistic):               0.00\n",
      "Time:                        15:46:52   Log-Likelihood:                -25842.\n",
      "No. Observations:               40641   AIC:                         5.170e+04\n",
      "Df Residuals:                   40632   BIC:                         5.178e+04\n",
      "Df Model:                           8                                         \n",
      "Covariance Type:            nonrobust                                         \n",
      "===============================================================================\n",
      "                  coef    std err          t      P>|t|      [0.025      0.975]\n",
      "-------------------------------------------------------------------------------\n",
      "피해자신체상해주부위      0.0102      0.000     23.380      0.000       0.009       0.011\n",
      "사고유형            0.0236      0.001     18.071      0.000       0.021       0.026\n",
      "차량용도가해자_중분류     0.0117      0.001     17.871      0.000       0.010       0.013\n",
      "행동유형가해자         0.0140      0.001     14.666      0.000       0.012       0.016\n",
      "발생시각            0.0157      0.001     13.086      0.000       0.013       0.018\n",
      "도로종류            0.0190      0.002     10.237      0.000       0.015       0.023\n",
      "연령가해자           0.0070      0.001      4.799      0.000       0.004       0.010\n",
      "도로선형            0.0150      0.004      3.508      0.000       0.007       0.023\n",
      "const           0.2073      0.011     18.266      0.000       0.185       0.230\n",
      "==============================================================================\n",
      "Omnibus:                   462400.055   Durbin-Watson:                   1.999\n",
      "Prob(Omnibus):                  0.000   Jarque-Bera (JB):             5854.450\n",
      "Skew:                          -0.653   Prob(JB):                         0.00\n",
      "Kurtosis:                       1.676   Cond. No.                         78.8\n",
      "==============================================================================\n",
      "\n",
      "Warnings:\n",
      "[1] Standard Errors assume that the covariance matrix of the errors is correctly specified.\n"
     ]
    }
   ],
   "source": [
    "def Stepwise_model(x,y):\n",
    "    stepModels = pd.DataFrame(columns=[\"AIC\",\"model\"])\n",
    "    tic = time.time()\n",
    "    predictors = []\n",
    "    SmodelBefore = processSubset(x,y,predictors+['const'])['AIC']\n",
    "    #변수 1~10개 : 0~9 -> 1~10\n",
    "    for i in range(1, len(x.columns.difference(['const']))+1):\n",
    "        forwardResult = forward(x,y,predictors)\n",
    "        print(\"forward\")\n",
    "        stepModels.loc[i] = forwardResult\n",
    "        predictors = stepModels.loc[i][\"model\"].model.exog_names\n",
    "        predictors = [k for k in predictors if k != 'const']\n",
    "        backwordResult = backward(x,y,predictors)\n",
    "        if backwordResult['AIC'] < forwardResult['AIC']:\n",
    "            stepModels.loc[i] = backwordResult\n",
    "            predictors=stepModels.loc[i][\"model\"].model.exog_names\n",
    "            smodelBefore=stepModels.loc[i][\"AIC\"]\n",
    "            predictors=[k for k in predictors if k != 'const']\n",
    "            print('backward')\n",
    "        if stepModels.loc[i][\"AIC\"] > SmodelBefore:\n",
    "            break\n",
    "        else:\n",
    "            smodelBefore = stepModels.loc[i][\"AIC\"]\n",
    "    toc=time.time()\n",
    "    print(\"Total elapsed time : \", (toc - tic), \"seconds\")\n",
    "    return (stepModels['model'][len(stepModels['model'])])\n",
    " \n",
    "stepwiseBestModel = Stepwise_model(train_x,train_y)\n",
    "print(stepwiseBestModel.summary())"
   ]
  },
  {
   "cell_type": "markdown",
   "metadata": {},
   "source": [
    "## ■ 3가지 모델 선택법 모두 변수 10개 중 8개를 선택\n",
    "### ▶ 변수별 어떤 범주의 값이 영향이 큰 지 알 수 없어서 좋은 방법이 아닌 것 같다."
   ]
  },
  {
   "cell_type": "markdown",
   "metadata": {},
   "source": [
    "---"
   ]
  },
  {
   "cell_type": "markdown",
   "metadata": {},
   "source": [
    "---"
   ]
  },
  {
   "cell_type": "markdown",
   "metadata": {},
   "source": [
    "# ■ 스피어만 상관분석 테스트\n",
    "### ▶ 순서척도로 바꾼 뒤 상관분석(척도의 형태를 고려하여 스피어만 사용)을 하여도 결과가 좋지 않음"
   ]
  },
  {
   "cell_type": "code",
   "execution_count": 40,
   "metadata": {},
   "outputs": [],
   "source": [
    "cor_data = df.corr(method='spearman')"
   ]
  },
  {
   "cell_type": "code",
   "execution_count": 41,
   "metadata": {},
   "outputs": [
    {
     "data": {
      "text/plain": [
       "<AxesSubplot:>"
      ]
     },
     "execution_count": 41,
     "metadata": {},
     "output_type": "execute_result"
    },
    {
     "data": {
      "image/png": "[encoded data removed]",
      "text/plain": [
       "<Figure size 1440x1080 with 2 Axes>"
      ]
     },
     "metadata": {
      "needs_background": "light"
     },
     "output_type": "display_data"
    }
   ],
   "source": [
    "import matplotlib.pyplot as plt \n",
    "import seaborn as sns\n",
    "\n",
    "# 한글 폰트 깨지는 것 때문에 추가함\n",
    "import matplotlib\n",
    "from matplotlib import font_manager, rc\n",
    "import platform\n",
    "\n",
    "matplotlib.rcParams['axes.unicode_minus'] = False\n",
    "\n",
    "font_name = font_manager.FontProperties(fname=\"c:/Windows/Fonts/malgun.ttf\").get_name()\n",
    "rc('font', family=font_name)\n",
    "\n",
    "plt.figure(figsize=(20,15))\n",
    "sns.heatmap(cor_data, cbar = True, annot = False, square = False, cmap = 'Blues')"
   ]
  },
  {
   "cell_type": "code",
   "execution_count": null,
   "metadata": {},
   "outputs": [],
   "source": []
  }
 ],
 "metadata": {
  "kernelspec": {
   "display_name": "Python 3",
   "language": "python",
   "name": "python3"
  },
  "language_info": {
   "codemirror_mode": {
    "name": "ipython",
    "version": 3
   },
   "file_extension": ".py",
   "mimetype": "text/x-python",
   "name": "python",
   "nbconvert_exporter": "python",
   "pygments_lexer": "ipython3",
   "version": "3.8.3"
  }
 },
 "nbformat": 4,
 "nbformat_minor": 4
}
