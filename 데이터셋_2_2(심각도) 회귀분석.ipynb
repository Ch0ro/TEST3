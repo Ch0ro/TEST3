{
 "cells": [
  {
   "cell_type": "code",
   "execution_count": 6,
   "metadata": {},
   "outputs": [],
   "source": [
    "import pandas as pd\n",
    "from sklearn import datasets\n",
    "from sklearn.model_selection import train_test_split\n",
    "from statsmodels.api import OLS"
   ]
  },
  {
   "cell_type": "code",
   "execution_count": 7,
   "metadata": {},
   "outputs": [],
   "source": [
    "df=pd.read_csv('C:/Users/user/TEST3/csv파일/데이터셋_2_2(심각도).csv',encoding='cp949')"
   ]
  },
  {
   "cell_type": "code",
   "execution_count": 8,
   "metadata": {},
   "outputs": [
    {
     "name": "stdout",
     "output_type": "stream",
     "text": [
      "<class 'pandas.core.frame.DataFrame'>\n",
      "RangeIndex: 58059 entries, 0 to 58058\n",
      "Data columns (total 11 columns):\n",
      " #   Column       Non-Null Count  Dtype\n",
      "---  ------       --------------  -----\n",
      " 0   사고유형         58059 non-null  int64\n",
      " 1   연령가해자        58059 non-null  int64\n",
      " 2   법규위반가해자      58059 non-null  int64\n",
      " 3   행동유형가해자      58059 non-null  int64\n",
      " 4   피해자신체상해주부위   58059 non-null  int64\n",
      " 5   차량용도가해자_중분류  58059 non-null  int64\n",
      " 6   도로종류         58059 non-null  int64\n",
      " 7   도로형태         58059 non-null  int64\n",
      " 8   도로선형         58059 non-null  int64\n",
      " 9   발생시각         58059 non-null  int64\n",
      " 10  심각도          58059 non-null  int64\n",
      "dtypes: int64(11)\n",
      "memory usage: 4.9 MB\n"
     ]
    }
   ],
   "source": [
    "df.info()"
   ]
  },
  {
   "cell_type": "markdown",
   "metadata": {},
   "source": [
    "# 1. 전체"
   ]
  },
  {
   "cell_type": "code",
   "execution_count": 9,
   "metadata": {},
   "outputs": [],
   "source": [
    "y=df['심각도']"
   ]
  },
  {
   "cell_type": "code",
   "execution_count": 10,
   "metadata": {},
   "outputs": [
    {
     "data": {
      "text/html": [
       "<table class=\"simpletable\">\n",
       "<caption>OLS Regression Results</caption>\n",
       "<tr>\n",
       "  <th>Dep. Variable:</th>           <td>심각도</td>       <th>  R-squared (uncentered):</th>      <td>   0.687</td> \n",
       "</tr>\n",
       "<tr>\n",
       "  <th>Model:</th>                   <td>OLS</td>       <th>  Adj. R-squared (uncentered):</th> <td>   0.687</td> \n",
       "</tr>\n",
       "<tr>\n",
       "  <th>Method:</th>             <td>Least Squares</td>  <th>  F-statistic:       </th>          <td>1.274e+04</td>\n",
       "</tr>\n",
       "<tr>\n",
       "  <th>Date:</th>             <td>Wed, 18 Nov 2020</td> <th>  Prob (F-statistic):</th>           <td>  0.00</td>  \n",
       "</tr>\n",
       "<tr>\n",
       "  <th>Time:</th>                 <td>13:25:20</td>     <th>  Log-Likelihood:    </th>          <td> -37026.</td> \n",
       "</tr>\n",
       "<tr>\n",
       "  <th>No. Observations:</th>      <td> 58059</td>      <th>  AIC:               </th>          <td>7.407e+04</td>\n",
       "</tr>\n",
       "<tr>\n",
       "  <th>Df Residuals:</th>          <td> 58049</td>      <th>  BIC:               </th>          <td>7.416e+04</td>\n",
       "</tr>\n",
       "<tr>\n",
       "  <th>Df Model:</th>              <td>    10</td>      <th>                     </th>              <td> </td>    \n",
       "</tr>\n",
       "<tr>\n",
       "  <th>Covariance Type:</th>      <td>nonrobust</td>    <th>                     </th>              <td> </td>    \n",
       "</tr>\n",
       "</table>\n",
       "<table class=\"simpletable\">\n",
       "<tr>\n",
       "       <td></td>          <th>coef</th>     <th>std err</th>      <th>t</th>      <th>P>|t|</th>  <th>[0.025</th>    <th>0.975]</th>  \n",
       "</tr>\n",
       "<tr>\n",
       "  <th>사고유형</th>        <td>    0.0245</td> <td>    0.001</td> <td>   22.443</td> <td> 0.000</td> <td>    0.022</td> <td>    0.027</td>\n",
       "</tr>\n",
       "<tr>\n",
       "  <th>연령가해자</th>       <td>    0.0141</td> <td>    0.001</td> <td>   11.926</td> <td> 0.000</td> <td>    0.012</td> <td>    0.016</td>\n",
       "</tr>\n",
       "<tr>\n",
       "  <th>법규위반가해자</th>     <td>    0.0128</td> <td>    0.002</td> <td>    8.394</td> <td> 0.000</td> <td>    0.010</td> <td>    0.016</td>\n",
       "</tr>\n",
       "<tr>\n",
       "  <th>행동유형가해자</th>     <td>    0.0162</td> <td>    0.001</td> <td>   19.755</td> <td> 0.000</td> <td>    0.015</td> <td>    0.018</td>\n",
       "</tr>\n",
       "<tr>\n",
       "  <th>피해자신체상해주부위</th>  <td>    0.0110</td> <td>    0.000</td> <td>   30.120</td> <td> 0.000</td> <td>    0.010</td> <td>    0.012</td>\n",
       "</tr>\n",
       "<tr>\n",
       "  <th>차량용도가해자_중분류</th> <td>    0.0146</td> <td>    0.001</td> <td>   27.903</td> <td> 0.000</td> <td>    0.014</td> <td>    0.016</td>\n",
       "</tr>\n",
       "<tr>\n",
       "  <th>도로종류</th>        <td>    0.0228</td> <td>    0.002</td> <td>   14.785</td> <td> 0.000</td> <td>    0.020</td> <td>    0.026</td>\n",
       "</tr>\n",
       "<tr>\n",
       "  <th>도로형태</th>        <td>    0.0101</td> <td>    0.002</td> <td>    4.299</td> <td> 0.000</td> <td>    0.006</td> <td>    0.015</td>\n",
       "</tr>\n",
       "<tr>\n",
       "  <th>도로선형</th>        <td>    0.0377</td> <td>    0.003</td> <td>   10.883</td> <td> 0.000</td> <td>    0.031</td> <td>    0.045</td>\n",
       "</tr>\n",
       "<tr>\n",
       "  <th>발생시각</th>        <td>    0.0221</td> <td>    0.001</td> <td>   22.466</td> <td> 0.000</td> <td>    0.020</td> <td>    0.024</td>\n",
       "</tr>\n",
       "</table>\n",
       "<table class=\"simpletable\">\n",
       "<tr>\n",
       "  <th>Omnibus:</th>       <td>82079.021</td> <th>  Durbin-Watson:     </th> <td>   1.991</td>\n",
       "</tr>\n",
       "<tr>\n",
       "  <th>Prob(Omnibus):</th>  <td> 0.000</td>   <th>  Jarque-Bera (JB):  </th> <td>7534.839</td>\n",
       "</tr>\n",
       "<tr>\n",
       "  <th>Skew:</th>           <td>-0.628</td>   <th>  Prob(JB):          </th> <td>    0.00</td>\n",
       "</tr>\n",
       "<tr>\n",
       "  <th>Kurtosis:</th>       <td> 1.759</td>   <th>  Cond. No.          </th> <td>    29.9</td>\n",
       "</tr>\n",
       "</table><br/><br/>Warnings:<br/>[1] Standard Errors assume that the covariance matrix of the errors is correctly specified."
      ],
      "text/plain": [
       "<class 'statsmodels.iolib.summary.Summary'>\n",
       "\"\"\"\n",
       "                                 OLS Regression Results                                \n",
       "=======================================================================================\n",
       "Dep. Variable:                    심각도   R-squared (uncentered):                   0.687\n",
       "Model:                            OLS   Adj. R-squared (uncentered):              0.687\n",
       "Method:                 Least Squares   F-statistic:                          1.274e+04\n",
       "Date:                Wed, 18 Nov 2020   Prob (F-statistic):                        0.00\n",
       "Time:                        13:25:20   Log-Likelihood:                         -37026.\n",
       "No. Observations:               58059   AIC:                                  7.407e+04\n",
       "Df Residuals:                   58049   BIC:                                  7.416e+04\n",
       "Df Model:                          10                                                  \n",
       "Covariance Type:            nonrobust                                                  \n",
       "===============================================================================\n",
       "                  coef    std err          t      P>|t|      [0.025      0.975]\n",
       "-------------------------------------------------------------------------------\n",
       "사고유형            0.0245      0.001     22.443      0.000       0.022       0.027\n",
       "연령가해자           0.0141      0.001     11.926      0.000       0.012       0.016\n",
       "법규위반가해자         0.0128      0.002      8.394      0.000       0.010       0.016\n",
       "행동유형가해자         0.0162      0.001     19.755      0.000       0.015       0.018\n",
       "피해자신체상해주부위      0.0110      0.000     30.120      0.000       0.010       0.012\n",
       "차량용도가해자_중분류     0.0146      0.001     27.903      0.000       0.014       0.016\n",
       "도로종류            0.0228      0.002     14.785      0.000       0.020       0.026\n",
       "도로형태            0.0101      0.002      4.299      0.000       0.006       0.015\n",
       "도로선형            0.0377      0.003     10.883      0.000       0.031       0.045\n",
       "발생시각            0.0221      0.001     22.466      0.000       0.020       0.024\n",
       "==============================================================================\n",
       "Omnibus:                    82079.021   Durbin-Watson:                   1.991\n",
       "Prob(Omnibus):                  0.000   Jarque-Bera (JB):             7534.839\n",
       "Skew:                          -0.628   Prob(JB):                         0.00\n",
       "Kurtosis:                       1.759   Cond. No.                         29.9\n",
       "==============================================================================\n",
       "\n",
       "Warnings:\n",
       "[1] Standard Errors assume that the covariance matrix of the errors is correctly specified.\n",
       "\"\"\""
      ]
     },
     "execution_count": 10,
     "metadata": {},
     "output_type": "execute_result"
    }
   ],
   "source": [
    "x=df.drop(['심각도'],axis=1)\n",
    "ols = OLS(y,x).fit().summary()\n",
    "ols"
   ]
  },
  {
   "cell_type": "code",
   "execution_count": null,
   "metadata": {},
   "outputs": [],
   "source": []
  }
 ],
 "metadata": {
  "kernelspec": {
   "display_name": "Python 3",
   "language": "python",
   "name": "python3"
  },
  "language_info": {
   "codemirror_mode": {
    "name": "ipython",
    "version": 3
   },
   "file_extension": ".py",
   "mimetype": "text/x-python",
   "name": "python",
   "nbconvert_exporter": "python",
   "pygments_lexer": "ipython3",
   "version": "3.8.3"
  }
 },
 "nbformat": 4,
 "nbformat_minor": 4
}
