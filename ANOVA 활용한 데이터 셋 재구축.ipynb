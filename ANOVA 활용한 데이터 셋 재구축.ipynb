{
 "cells": [
  {
   "cell_type": "markdown",
   "metadata": {},
   "source": [
    "## [분산분석] - 차이가 없는 것 명시\n",
    "\n",
    "### 1. 사고유형\n",
    "\n",
    "#### 길가장자리구역통행중 , 기타\n",
    "\n",
    "#### => 안 묶어도 될 듯\n",
    "\n",
    "### 2. 연령가해자\n",
    "\n",
    "#### 기타/불명 과 20세 이하 외에는 다들 큰 차이가 없다. \n",
    "#### => 안 묶어도 될 듯\n",
    "\n",
    "### 3. 법규위반가해자\n",
    "#### 교차로 통행방법 위반, 안전거리 미확보, 안전운전 의무 불이행 - 그룹1\n",
    "#### 신호위반, 보행자 보호의무 위반, 중앙선 침범 - 그룹2\n",
    "#### 과속 - 그룹3\n",
    "\n",
    "### 4. 행동유형가해자\n",
    "\n",
    "#### 후진중, 출발중 -그룹1\n",
    "#### 진로변경중, 직진중 - 그룹2\n",
    "#### 좌우회전중, 앞지르기중, U턴중 - 그룹3\n",
    "#### 주행 중 대기, 주정차중 - 그룹4\n",
    "\n",
    "\n",
    "### 5. 피해자신체상해주부위\n",
    "\n",
    "#### 상해없음 - 그룹1\n",
    "#### 팔, 앞목, 목, 뒷목 - 그룹2\n",
    "#### 허리, 어깨, 손, 등 - 그룹3\n",
    "#### 하퇴부, 얼굴, 발 - 그룹4\n",
    "#### 배, 머리, 대퇴부 - 그룹5\n",
    "##### 가슴 - 그룹6\n",
    "\n",
    "### 6. 차량용도가해자 \n",
    "\n",
    "#### 화물차, 택시, 전세버스, 기타/건설기계- 그룹1\n",
    "#### 특수여객(장의), 콘크리트믹서, 위험물운송, 덤프트럭, 농기계, 노선버스 - 그룹2\n",
    "#### 이륜차, 원동기장치자전거, 어린이통학버스, 사륜오토바이(ATV) 그룹3\n",
    "#### 승용차, 사업용기타, 비사업용기타, 버스, 렌터카 - 그룹4\n",
    "#### 개인형이동수단(PM), 자전거 - 그룹5\n",
    "\n",
    "### 7. 도로종류\n",
    "\n",
    "#### 고속국도 vs 나머지로 비교하면 차이가 크게 없지만 각각은 평균에 차이를 줌\n",
    "#### 따라서 안묶음\n",
    "\n",
    "### 8. 도로형태\n",
    "#### 불명, 기타/불명, 기타 속성 통합 필요하고 나머지는 유의한 차이가 있어서 안묶음\n",
    "\n",
    "### 9.도로선형\n",
    "\n",
    "#### 오르막,내리막은 유의한 차이가 없으나 \n",
    "#### 내리막 - 평지는 차이가 있고, 오르막 - 평지는 차이가 없다 \n",
    "#### 따라서 묶지 않겠다.\n",
    "\n",
    "### 10. 발생시각\n",
    " \n",
    "#### 02-04시, 05-07시 - 그룹1 (새벽~아침)\n",
    "#### 08-10시, 17-19시 - 그룹2 ( 출퇴근 시간)\n",
    "#### 11-13시, 14-16시 - 그룹3 (낮)\n",
    "#### 20-22시, 23-01시 - 그룹4 (저녁~자정)"
   ]
  },
  {
   "cell_type": "code",
   "execution_count": 43,
   "metadata": {},
   "outputs": [],
   "source": [
    "import pandas as pd\n",
    "import numpy as np\n",
    "import warnings \n",
    "warnings.filterwarnings('ignore')"
   ]
  },
  {
   "cell_type": "code",
   "execution_count": 44,
   "metadata": {},
   "outputs": [],
   "source": [
    "df = pd.read_csv('./csv파일/데이터셋_2(심각도).csv',encoding='cp949')"
   ]
  },
  {
   "cell_type": "code",
   "execution_count": 45,
   "metadata": {},
   "outputs": [
    {
     "data": {
      "text/html": [
       "<div>\n",
       "<style scoped>\n",
       "    .dataframe tbody tr th:only-of-type {\n",
       "        vertical-align: middle;\n",
       "    }\n",
       "\n",
       "    .dataframe tbody tr th {\n",
       "        vertical-align: top;\n",
       "    }\n",
       "\n",
       "    .dataframe thead th {\n",
       "        text-align: right;\n",
       "    }\n",
       "</style>\n",
       "<table border=\"1\" class=\"dataframe\">\n",
       "  <thead>\n",
       "    <tr style=\"text-align: right;\">\n",
       "      <th></th>\n",
       "      <th>사고유형</th>\n",
       "      <th>연령가해자</th>\n",
       "      <th>법규위반가해자</th>\n",
       "      <th>행동유형가해자</th>\n",
       "      <th>피해자신체상해주부위</th>\n",
       "      <th>차량용도가해자_중분류</th>\n",
       "      <th>도로종류</th>\n",
       "      <th>도로형태</th>\n",
       "      <th>도로선형</th>\n",
       "      <th>발생시각</th>\n",
       "      <th>심각도</th>\n",
       "    </tr>\n",
       "  </thead>\n",
       "  <tbody>\n",
       "    <tr>\n",
       "      <th>0</th>\n",
       "      <td>보도통행중</td>\n",
       "      <td>20세이하</td>\n",
       "      <td>안전운전 의무 불이행</td>\n",
       "      <td>직진중</td>\n",
       "      <td>하퇴부</td>\n",
       "      <td>자전거</td>\n",
       "      <td>기타</td>\n",
       "      <td>단일로</td>\n",
       "      <td>평지</td>\n",
       "      <td>14-16시</td>\n",
       "      <td>0</td>\n",
       "    </tr>\n",
       "    <tr>\n",
       "      <th>1</th>\n",
       "      <td>횡단중</td>\n",
       "      <td>65세이상</td>\n",
       "      <td>안전운전 의무 불이행</td>\n",
       "      <td>직진중</td>\n",
       "      <td>머리</td>\n",
       "      <td>승용차</td>\n",
       "      <td>시도</td>\n",
       "      <td>단일로</td>\n",
       "      <td>평지</td>\n",
       "      <td>08-10시</td>\n",
       "      <td>1</td>\n",
       "    </tr>\n",
       "    <tr>\n",
       "      <th>2</th>\n",
       "      <td>길가장자리구역통행중</td>\n",
       "      <td>20세이하</td>\n",
       "      <td>안전운전 의무 불이행</td>\n",
       "      <td>직진중</td>\n",
       "      <td>기타</td>\n",
       "      <td>승용차</td>\n",
       "      <td>시도</td>\n",
       "      <td>단일로</td>\n",
       "      <td>평지</td>\n",
       "      <td>17-19시</td>\n",
       "      <td>0</td>\n",
       "    </tr>\n",
       "    <tr>\n",
       "      <th>3</th>\n",
       "      <td>길가장자리구역통행중</td>\n",
       "      <td>21-30세</td>\n",
       "      <td>안전운전 의무 불이행</td>\n",
       "      <td>후진중</td>\n",
       "      <td>기타</td>\n",
       "      <td>화물차</td>\n",
       "      <td>기타</td>\n",
       "      <td>단일로</td>\n",
       "      <td>평지</td>\n",
       "      <td>11-13시</td>\n",
       "      <td>1</td>\n",
       "    </tr>\n",
       "    <tr>\n",
       "      <th>4</th>\n",
       "      <td>횡단중</td>\n",
       "      <td>41-50세</td>\n",
       "      <td>안전운전 의무 불이행</td>\n",
       "      <td>직진중</td>\n",
       "      <td>머리</td>\n",
       "      <td>승용차</td>\n",
       "      <td>기타</td>\n",
       "      <td>단일로</td>\n",
       "      <td>평지</td>\n",
       "      <td>11-13시</td>\n",
       "      <td>1</td>\n",
       "    </tr>\n",
       "    <tr>\n",
       "      <th>...</th>\n",
       "      <td>...</td>\n",
       "      <td>...</td>\n",
       "      <td>...</td>\n",
       "      <td>...</td>\n",
       "      <td>...</td>\n",
       "      <td>...</td>\n",
       "      <td>...</td>\n",
       "      <td>...</td>\n",
       "      <td>...</td>\n",
       "      <td>...</td>\n",
       "      <td>...</td>\n",
       "    </tr>\n",
       "    <tr>\n",
       "      <th>58054</th>\n",
       "      <td>길가장자리구역통행중</td>\n",
       "      <td>51-60세</td>\n",
       "      <td>안전운전 의무 불이행</td>\n",
       "      <td>직진중</td>\n",
       "      <td>팔</td>\n",
       "      <td>승용차</td>\n",
       "      <td>시도</td>\n",
       "      <td>단일로</td>\n",
       "      <td>평지</td>\n",
       "      <td>14-16시</td>\n",
       "      <td>0</td>\n",
       "    </tr>\n",
       "    <tr>\n",
       "      <th>58055</th>\n",
       "      <td>보도통행중</td>\n",
       "      <td>21-30세</td>\n",
       "      <td>기타</td>\n",
       "      <td>후진중</td>\n",
       "      <td>팔</td>\n",
       "      <td>승용차</td>\n",
       "      <td>군도</td>\n",
       "      <td>교차로</td>\n",
       "      <td>평지</td>\n",
       "      <td>17-19시</td>\n",
       "      <td>0</td>\n",
       "    </tr>\n",
       "    <tr>\n",
       "      <th>58056</th>\n",
       "      <td>차도통행중</td>\n",
       "      <td>31-40세</td>\n",
       "      <td>안전운전 의무 불이행</td>\n",
       "      <td>직진중</td>\n",
       "      <td>발</td>\n",
       "      <td>승용차</td>\n",
       "      <td>군도</td>\n",
       "      <td>단일로</td>\n",
       "      <td>평지</td>\n",
       "      <td>08-10시</td>\n",
       "      <td>1</td>\n",
       "    </tr>\n",
       "    <tr>\n",
       "      <th>58057</th>\n",
       "      <td>기타</td>\n",
       "      <td>65세이상</td>\n",
       "      <td>안전운전 의무 불이행</td>\n",
       "      <td>직진중</td>\n",
       "      <td>하퇴부</td>\n",
       "      <td>승용차</td>\n",
       "      <td>시도</td>\n",
       "      <td>단일로</td>\n",
       "      <td>평지</td>\n",
       "      <td>08-10시</td>\n",
       "      <td>1</td>\n",
       "    </tr>\n",
       "    <tr>\n",
       "      <th>58058</th>\n",
       "      <td>횡단중</td>\n",
       "      <td>31-40세</td>\n",
       "      <td>안전운전 의무 불이행</td>\n",
       "      <td>좌우회전중</td>\n",
       "      <td>발</td>\n",
       "      <td>승용차</td>\n",
       "      <td>기타</td>\n",
       "      <td>교차로</td>\n",
       "      <td>평지</td>\n",
       "      <td>17-19시</td>\n",
       "      <td>1</td>\n",
       "    </tr>\n",
       "  </tbody>\n",
       "</table>\n",
       "<p>58059 rows × 11 columns</p>\n",
       "</div>"
      ],
      "text/plain": [
       "             사고유형   연령가해자      법규위반가해자 행동유형가해자 피해자신체상해주부위 차량용도가해자_중분류 도로종류  \\\n",
       "0           보도통행중   20세이하  안전운전 의무 불이행     직진중        하퇴부         자전거   기타   \n",
       "1             횡단중   65세이상  안전운전 의무 불이행     직진중         머리         승용차   시도   \n",
       "2      길가장자리구역통행중   20세이하  안전운전 의무 불이행     직진중         기타         승용차   시도   \n",
       "3      길가장자리구역통행중  21-30세  안전운전 의무 불이행     후진중         기타         화물차   기타   \n",
       "4             횡단중  41-50세  안전운전 의무 불이행     직진중         머리         승용차   기타   \n",
       "...           ...     ...          ...     ...        ...         ...  ...   \n",
       "58054  길가장자리구역통행중  51-60세  안전운전 의무 불이행     직진중          팔         승용차   시도   \n",
       "58055       보도통행중  21-30세           기타     후진중          팔         승용차   군도   \n",
       "58056       차도통행중  31-40세  안전운전 의무 불이행     직진중          발         승용차   군도   \n",
       "58057          기타   65세이상  안전운전 의무 불이행     직진중        하퇴부         승용차   시도   \n",
       "58058         횡단중  31-40세  안전운전 의무 불이행   좌우회전중          발         승용차   기타   \n",
       "\n",
       "      도로형태 도로선형    발생시각  심각도  \n",
       "0      단일로   평지  14-16시    0  \n",
       "1      단일로   평지  08-10시    1  \n",
       "2      단일로   평지  17-19시    0  \n",
       "3      단일로   평지  11-13시    1  \n",
       "4      단일로   평지  11-13시    1  \n",
       "...    ...  ...     ...  ...  \n",
       "58054  단일로   평지  14-16시    0  \n",
       "58055  교차로   평지  17-19시    0  \n",
       "58056  단일로   평지  08-10시    1  \n",
       "58057  단일로   평지  08-10시    1  \n",
       "58058  교차로   평지  17-19시    1  \n",
       "\n",
       "[58059 rows x 11 columns]"
      ]
     },
     "execution_count": 45,
     "metadata": {},
     "output_type": "execute_result"
    }
   ],
   "source": [
    "df"
   ]
  },
  {
   "cell_type": "code",
   "execution_count": 46,
   "metadata": {},
   "outputs": [
    {
     "name": "stdout",
     "output_type": "stream",
     "text": [
      "<class 'pandas.core.frame.DataFrame'>\n",
      "RangeIndex: 58059 entries, 0 to 58058\n",
      "Data columns (total 11 columns):\n",
      " #   Column       Non-Null Count  Dtype \n",
      "---  ------       --------------  ----- \n",
      " 0   사고유형         58059 non-null  object\n",
      " 1   연령가해자        58059 non-null  object\n",
      " 2   법규위반가해자      58059 non-null  object\n",
      " 3   행동유형가해자      58059 non-null  object\n",
      " 4   피해자신체상해주부위   58059 non-null  object\n",
      " 5   차량용도가해자_중분류  58059 non-null  object\n",
      " 6   도로종류         58059 non-null  object\n",
      " 7   도로형태         58059 non-null  object\n",
      " 8   도로선형         58059 non-null  object\n",
      " 9   발생시각         58059 non-null  object\n",
      " 10  심각도          58059 non-null  int64 \n",
      "dtypes: int64(1), object(10)\n",
      "memory usage: 4.9+ MB\n"
     ]
    }
   ],
   "source": [
    "df.info()"
   ]
  },
  {
   "cell_type": "markdown",
   "metadata": {},
   "source": [
    "## 법규위반가해자"
   ]
  },
  {
   "cell_type": "code",
   "execution_count": 47,
   "metadata": {},
   "outputs": [
    {
     "data": {
      "text/plain": [
       "array(['안전운전 의무 불이행', '보행자 보호의무 위반', '기타', '중앙선 침범', '교차로 통행방법 위반',\n",
       "       '신호위반', '과속', '안전거리 미확보'], dtype=object)"
      ]
     },
     "execution_count": 47,
     "metadata": {},
     "output_type": "execute_result"
    }
   ],
   "source": [
    "df['법규위반가해자'].unique()"
   ]
  },
  {
   "cell_type": "code",
   "execution_count": 48,
   "metadata": {},
   "outputs": [],
   "source": [
    "idx = df[df['법규위반가해자']=='교차로 통행방법 위반'].index\n",
    "for i in idx:\n",
    "    df.iloc[:,2][i]=df.iloc[:,2][i].replace('교차로 통행방법 위반','그룹1')\n",
    "\n",
    "idx = df[df['법규위반가해자']=='안전거리 미확보'].index\n",
    "for i in idx:\n",
    "    df.iloc[:,2][i]=df.iloc[:,2][i].replace('안전거리 미확보','그룹1') \n",
    "    \n",
    "idx = df[df['법규위반가해자']=='안전운전 의무 불이행'].index\n",
    "for i in idx:\n",
    "    df.iloc[:,2][i]=df.iloc[:,2][i].replace('안전운전 의무 불이행','그룹1')"
   ]
  },
  {
   "cell_type": "code",
   "execution_count": 49,
   "metadata": {},
   "outputs": [],
   "source": [
    "idx = df[df['법규위반가해자']=='신호위반'].index\n",
    "for i in idx:\n",
    "    df.iloc[:,2][i]=df.iloc[:,2][i].replace('신호위반','그룹2')\n",
    "\n",
    "idx = df[df['법규위반가해자']=='보행자 보호의무 위반'].index\n",
    "for i in idx:\n",
    "    df.iloc[:,2][i]=df.iloc[:,2][i].replace('보행자 보호의무 위반','그룹2') \n",
    "    \n",
    "idx = df[df['법규위반가해자']=='중앙선 침범'].index\n",
    "for i in idx:\n",
    "    df.iloc[:,2][i]=df.iloc[:,2][i].replace('중앙선 침범','그룹2')"
   ]
  },
  {
   "cell_type": "code",
   "execution_count": 50,
   "metadata": {},
   "outputs": [],
   "source": [
    "idx = df[df['법규위반가해자']=='과속'].index\n",
    "for i in idx:\n",
    "    df.iloc[:,2][i]=df.iloc[:,2][i].replace('과속','그룹3')"
   ]
  },
  {
   "cell_type": "code",
   "execution_count": 51,
   "metadata": {},
   "outputs": [
    {
     "data": {
      "text/plain": [
       "array(['그룹1', '그룹2', '기타', '그룹3'], dtype=object)"
      ]
     },
     "execution_count": 51,
     "metadata": {},
     "output_type": "execute_result"
    }
   ],
   "source": [
    "df['법규위반가해자'].unique()"
   ]
  },
  {
   "cell_type": "markdown",
   "metadata": {},
   "source": [
    "## 행동유형가해자"
   ]
  },
  {
   "cell_type": "code",
   "execution_count": 52,
   "metadata": {},
   "outputs": [
    {
     "data": {
      "text/plain": [
       "array(['직진중', '후진중', '좌우회전중', 'U턴중', '기타/불명', '출발중', '주ㆍ정차중', '진로변경중',\n",
       "       '주행 중 대기', '앞지르기중'], dtype=object)"
      ]
     },
     "execution_count": 52,
     "metadata": {},
     "output_type": "execute_result"
    }
   ],
   "source": [
    "df['행동유형가해자'].unique()"
   ]
  },
  {
   "cell_type": "code",
   "execution_count": 53,
   "metadata": {},
   "outputs": [],
   "source": [
    "idx = df[df['행동유형가해자']=='후진중'].index\n",
    "for i in idx:\n",
    "    df.iloc[:,3][i]=df.iloc[:,3][i].replace('후진중','그룹1')\n",
    "\n",
    "idx = df[df['행동유형가해자']=='출발중'].index\n",
    "for i in idx:\n",
    "    df.iloc[:,3][i]=df.iloc[:,3][i].replace('출발중','그룹1') \n",
    "    "
   ]
  },
  {
   "cell_type": "code",
   "execution_count": 54,
   "metadata": {},
   "outputs": [],
   "source": [
    "idx = df[df['행동유형가해자']=='진로변경중'].index\n",
    "for i in idx:\n",
    "    df.iloc[:,3][i]=df.iloc[:,3][i].replace('진로변경중','그룹2')\n",
    "\n",
    "idx = df[df['행동유형가해자']=='직진중'].index\n",
    "for i in idx:\n",
    "    df.iloc[:,3][i]=df.iloc[:,3][i].replace('직진중','그룹2') "
   ]
  },
  {
   "cell_type": "code",
   "execution_count": 55,
   "metadata": {},
   "outputs": [],
   "source": [
    "idx = df[df['행동유형가해자']=='좌우회전중'].index\n",
    "for i in idx:\n",
    "    df.iloc[:,3][i]=df.iloc[:,3][i].replace('좌우회전중','그룹3')\n",
    "\n",
    "idx = df[df['행동유형가해자']=='앞지르기중'].index\n",
    "for i in idx:\n",
    "    df.iloc[:,3][i]=df.iloc[:,3][i].replace('앞지르기중','그룹3') \n",
    "\n",
    "idx = df[df['행동유형가해자']=='U턴중'].index\n",
    "for i in idx:\n",
    "    df.iloc[:,3][i]=df.iloc[:,3][i].replace('U턴중','그룹3')     "
   ]
  },
  {
   "cell_type": "code",
   "execution_count": 56,
   "metadata": {},
   "outputs": [],
   "source": [
    "idx = df[df['행동유형가해자']=='주ㆍ정차중'].index\n",
    "for i in idx:\n",
    "    df.iloc[:,3][i]=df.iloc[:,3][i].replace('주ㆍ정차중','그룹4')\n",
    "\n",
    "idx = df[df['행동유형가해자']=='주행 중 대기'].index\n",
    "for i in idx:\n",
    "    df.iloc[:,3][i]=df.iloc[:,3][i].replace('주행 중 대기','그룹4')"
   ]
  },
  {
   "cell_type": "code",
   "execution_count": 57,
   "metadata": {},
   "outputs": [
    {
     "data": {
      "text/plain": [
       "array(['그룹2', '그룹1', '그룹3', '기타/불명', '그룹4'], dtype=object)"
      ]
     },
     "execution_count": 57,
     "metadata": {},
     "output_type": "execute_result"
    }
   ],
   "source": [
    "df['행동유형가해자'].unique()"
   ]
  },
  {
   "cell_type": "markdown",
   "metadata": {},
   "source": [
    "## 피해자신체상해주부위"
   ]
  },
  {
   "cell_type": "code",
   "execution_count": 58,
   "metadata": {},
   "outputs": [
    {
     "data": {
      "text/plain": [
       "array(['하퇴부', '머리', '기타', '발', '허리', '목', '얼굴', '팔', '손', '대퇴부', '가슴',\n",
       "       '배', '어깨', '등', '뒷목', '불명', '앞목', '상해없음'], dtype=object)"
      ]
     },
     "execution_count": 58,
     "metadata": {},
     "output_type": "execute_result"
    }
   ],
   "source": [
    "df['피해자신체상해주부위'].unique()"
   ]
  },
  {
   "cell_type": "code",
   "execution_count": 59,
   "metadata": {},
   "outputs": [],
   "source": [
    "idx = df[df['피해자신체상해주부위']=='상해없음'].index\n",
    "for i in idx:\n",
    "    df.iloc[:,4][i]=df.iloc[:,4][i].replace('상해없음','그룹1')\n",
    "    "
   ]
  },
  {
   "cell_type": "code",
   "execution_count": 60,
   "metadata": {},
   "outputs": [],
   "source": [
    "idx = df[df['피해자신체상해주부위']=='팔'].index\n",
    "for i in idx:\n",
    "    df.iloc[:,4][i]=df.iloc[:,4][i].replace('팔','그룹2')\n",
    "    \n",
    "idx = df[df['피해자신체상해주부위']=='앞목'].index\n",
    "for i in idx:\n",
    "    df.iloc[:,4][i]=df.iloc[:,4][i].replace('앞목','그룹2')\n",
    "    \n",
    "idx = df[df['피해자신체상해주부위']=='목'].index\n",
    "for i in idx:\n",
    "    df.iloc[:,4][i]=df.iloc[:,4][i].replace('목','그룹2')\n",
    "    \n",
    "idx = df[df['피해자신체상해주부위']=='뒷목'].index\n",
    "for i in idx:\n",
    "    df.iloc[:,4][i]=df.iloc[:,4][i].replace('뒷목','그룹2')"
   ]
  },
  {
   "cell_type": "code",
   "execution_count": 61,
   "metadata": {},
   "outputs": [],
   "source": [
    "idx = df[df['피해자신체상해주부위']=='허리'].index\n",
    "for i in idx:\n",
    "    df.iloc[:,4][i]=df.iloc[:,4][i].replace('허리','그룹3')\n",
    "    \n",
    "idx = df[df['피해자신체상해주부위']=='어깨'].index\n",
    "for i in idx:\n",
    "    df.iloc[:,4][i]=df.iloc[:,4][i].replace('어깨','그룹3')\n",
    "    \n",
    "idx = df[df['피해자신체상해주부위']=='손'].index\n",
    "for i in idx:\n",
    "    df.iloc[:,4][i]=df.iloc[:,4][i].replace('손','그룹3')\n",
    "    \n",
    "idx = df[df['피해자신체상해주부위']=='등'].index\n",
    "for i in idx:\n",
    "    df.iloc[:,4][i]=df.iloc[:,4][i].replace('등','그룹3')"
   ]
  },
  {
   "cell_type": "code",
   "execution_count": 62,
   "metadata": {},
   "outputs": [],
   "source": [
    "idx = df[df['피해자신체상해주부위']=='하퇴부'].index\n",
    "for i in idx:\n",
    "    df.iloc[:,4][i]=df.iloc[:,4][i].replace('하퇴부','그룹4')\n",
    "    \n",
    "idx = df[df['피해자신체상해주부위']=='얼굴'].index\n",
    "for i in idx:\n",
    "    df.iloc[:,4][i]=df.iloc[:,4][i].replace('얼굴','그룹4')\n",
    "    \n",
    "idx = df[df['피해자신체상해주부위']=='발'].index\n",
    "for i in idx:\n",
    "    df.iloc[:,4][i]=df.iloc[:,4][i].replace('발','그룹4')\n"
   ]
  },
  {
   "cell_type": "code",
   "execution_count": 63,
   "metadata": {},
   "outputs": [],
   "source": [
    "idx = df[df['피해자신체상해주부위']=='배'].index\n",
    "for i in idx:\n",
    "    df.iloc[:,4][i]=df.iloc[:,4][i].replace('배','그룹5')\n",
    "    \n",
    "idx = df[df['피해자신체상해주부위']=='머리'].index\n",
    "for i in idx:\n",
    "    df.iloc[:,4][i]=df.iloc[:,4][i].replace('머리','그룹5')\n",
    "    \n",
    "idx = df[df['피해자신체상해주부위']=='대퇴부'].index\n",
    "for i in idx:\n",
    "    df.iloc[:,4][i]=df.iloc[:,4][i].replace('대퇴부','그룹5')\n",
    "    "
   ]
  },
  {
   "cell_type": "code",
   "execution_count": 64,
   "metadata": {},
   "outputs": [],
   "source": [
    "idx = df[df['피해자신체상해주부위']=='가슴'].index\n",
    "for i in idx:\n",
    "    df.iloc[:,4][i]=df.iloc[:,4][i].replace('가슴','그룹6')\n",
    "    "
   ]
  },
  {
   "cell_type": "code",
   "execution_count": 65,
   "metadata": {},
   "outputs": [],
   "source": [
    "idx = df[df['피해자신체상해주부위']=='기타'].index\n",
    "for i in idx:\n",
    "    df.iloc[:,4][i]=df.iloc[:,4][i].replace('기타','기타/불명')\n",
    "    \n",
    "idx = df[df['피해자신체상해주부위']=='불명'].index\n",
    "for i in idx:\n",
    "    df.iloc[:,4][i]=df.iloc[:,4][i].replace('불명','기타/불명')"
   ]
  },
  {
   "cell_type": "code",
   "execution_count": 66,
   "metadata": {},
   "outputs": [
    {
     "data": {
      "text/plain": [
       "array(['그룹4', '그룹5', '기타/불명', '그룹3', '그룹2', '그룹6', '그룹1'], dtype=object)"
      ]
     },
     "execution_count": 66,
     "metadata": {},
     "output_type": "execute_result"
    }
   ],
   "source": [
    "df['피해자신체상해주부위'].unique()"
   ]
  },
  {
   "cell_type": "markdown",
   "metadata": {},
   "source": [
    "## 차량용도가해자"
   ]
  },
  {
   "cell_type": "code",
   "execution_count": 67,
   "metadata": {},
   "outputs": [],
   "source": [
    "df.rename(columns ={'차량용도가해자_중분류':'차량용도가해자'},inplace=True)"
   ]
  },
  {
   "cell_type": "code",
   "execution_count": 68,
   "metadata": {},
   "outputs": [
    {
     "data": {
      "text/plain": [
       "array(['자전거', '승용차', '화물차', '택시', '기타불명', '노선버스', '버스', '이륜차', '비사업용기타',\n",
       "       '원동기장치자전거', '콘크리트믹서', '전세버스', '렌터카', '사업용기타', '사륜오토바이(ATV)',\n",
       "       '어린이통학버스', '덤프트럭', '기타/건설기계', '불명', '기타', '농기계', '개인형이동수단(PM)',\n",
       "       '위험물운송', '특수여객(장의)'], dtype=object)"
      ]
     },
     "execution_count": 68,
     "metadata": {},
     "output_type": "execute_result"
    }
   ],
   "source": [
    "df['차량용도가해자'].unique()"
   ]
  },
  {
   "cell_type": "code",
   "execution_count": 69,
   "metadata": {},
   "outputs": [],
   "source": [
    "idx = df[df['차량용도가해자']=='화물차'].index\n",
    "for i in idx:\n",
    "    df.iloc[:,5][i]=df.iloc[:,5][i].replace('화물차','그룹1')\n",
    "    \n",
    "idx = df[df['차량용도가해자']=='택시'].index\n",
    "for i in idx:\n",
    "    df.iloc[:,5][i]=df.iloc[:,5][i].replace('택시','그룹1')\n",
    "    \n",
    "idx = df[df['차량용도가해자']=='전세버스'].index\n",
    "for i in idx:\n",
    "    df.iloc[:,5][i]=df.iloc[:,5][i].replace('전세버스','그룹1')\n",
    "    \n",
    "idx = df[df['차량용도가해자']=='기타/건설기계'].index\n",
    "for i in idx:\n",
    "    df.iloc[:,5][i]=df.iloc[:,5][i].replace('기타/건설기계','그룹1')"
   ]
  },
  {
   "cell_type": "code",
   "execution_count": 75,
   "metadata": {},
   "outputs": [],
   "source": [
    "idx = df[df['차량용도가해자']=='특수여객(장의)'].index\n",
    "for i in idx:\n",
    "    df.iloc[:,5][i]=df.iloc[:,5][i].replace('특수여객(장의)','그룹2')\n",
    "    \n",
    "idx = df[df['차량용도가해자']=='콘크리트믹서'].index\n",
    "for i in idx:\n",
    "    df.iloc[:,5][i]=df.iloc[:,5][i].replace('콘크리트믹서','그룹2')\n",
    "    \n",
    "idx = df[df['차량용도가해자']=='위험물운송'].index\n",
    "for i in idx:\n",
    "    df.iloc[:,5][i]=df.iloc[:,5][i].replace('위험물운송','그룹2')\n",
    "    \n",
    "idx = df[df['차량용도가해자']=='덤프트럭'].index\n",
    "for i in idx:\n",
    "    df.iloc[:,5][i]=df.iloc[:,5][i].replace('덤프트럭','그룹2')\n",
    "    \n",
    "idx = df[df['차량용도가해자']=='농기계'].index\n",
    "for i in idx:\n",
    "    df.iloc[:,5][i]=df.iloc[:,5][i].replace('농기계','그룹2')\n",
    "    \n",
    "idx = df[df['차량용도가해자']=='노선버스'].index\n",
    "for i in idx:\n",
    "    df.iloc[:,5][i]=df.iloc[:,5][i].replace('노선버스','그룹2')"
   ]
  },
  {
   "cell_type": "code",
   "execution_count": 71,
   "metadata": {},
   "outputs": [],
   "source": [
    "idx = df[df['차량용도가해자']=='이륜차'].index\n",
    "for i in idx:\n",
    "    df.iloc[:,5][i]=df.iloc[:,5][i].replace('이륜차','그룹3')\n",
    "    \n",
    "idx = df[df['차량용도가해자']=='원동기장치자전거'].index\n",
    "for i in idx:\n",
    "    df.iloc[:,5][i]=df.iloc[:,5][i].replace('원동기장치자전거','그룹3')\n",
    "    \n",
    "idx = df[df['차량용도가해자']=='어린이통학버스'].index\n",
    "for i in idx:\n",
    "    df.iloc[:,5][i]=df.iloc[:,5][i].replace('어린이통학버스','그룹3')\n",
    "    \n",
    "idx = df[df['차량용도가해자']=='사륜오토바이(ATV)'].index\n",
    "for i in idx:\n",
    "    df.iloc[:,5][i]=df.iloc[:,5][i].replace('사륜오토바이(ATV)','그룹3')\n",
    "    "
   ]
  },
  {
   "cell_type": "code",
   "execution_count": 72,
   "metadata": {},
   "outputs": [],
   "source": [
    "idx = df[df['차량용도가해자']=='승용차'].index\n",
    "for i in idx:\n",
    "    df.iloc[:,5][i]=df.iloc[:,5][i].replace('승용차','그룹4')\n",
    "    \n",
    "idx = df[df['차량용도가해자']=='사업용기타'].index\n",
    "for i in idx:\n",
    "    df.iloc[:,5][i]=df.iloc[:,5][i].replace('사업용기타','그룹4')\n",
    "    \n",
    "idx = df[df['차량용도가해자']=='비사업용기타'].index\n",
    "for i in idx:\n",
    "    df.iloc[:,5][i]=df.iloc[:,5][i].replace('비사업용기타','그룹4')\n",
    "    \n",
    "idx = df[df['차량용도가해자']=='버스'].index\n",
    "for i in idx:\n",
    "    df.iloc[:,5][i]=df.iloc[:,5][i].replace('버스','그룹4')\n",
    "    \n",
    "idx = df[df['차량용도가해자']=='렌터카'].index\n",
    "for i in idx:\n",
    "    df.iloc[:,5][i]=df.iloc[:,5][i].replace('렌터카','그룹4')"
   ]
  },
  {
   "cell_type": "code",
   "execution_count": 73,
   "metadata": {},
   "outputs": [],
   "source": [
    "idx = df[df['차량용도가해자']=='개인형이동수단(PM)'].index\n",
    "for i in idx:\n",
    "    df.iloc[:,5][i]=df.iloc[:,5][i].replace('개인형이동수단(PM)','그룹5')\n",
    "    \n",
    "idx = df[df['차량용도가해자']=='자전거'].index\n",
    "for i in idx:\n",
    "    df.iloc[:,5][i]=df.iloc[:,5][i].replace('자전거','그룹5')"
   ]
  },
  {
   "cell_type": "code",
   "execution_count": 79,
   "metadata": {},
   "outputs": [],
   "source": [
    "idx = df[df['차량용도가해자']=='불명'].index\n",
    "for i in idx:\n",
    "    df.iloc[:,5][i]=df.iloc[:,5][i].replace('불명','기타/불명')\n",
    "    \n",
    "idx = df[df['차량용도가해자']=='기타'].index\n",
    "for i in idx:\n",
    "    df.iloc[:,5][i]=df.iloc[:,5][i].replace('기타','기타/불명')\n",
    "    \n",
    "idx = df[df['차량용도가해자']=='기타불명'].index\n",
    "for i in idx:\n",
    "    df.iloc[:,5][i]=df.iloc[:,5][i].replace('기타불명','기타/불명')"
   ]
  },
  {
   "cell_type": "code",
   "execution_count": 80,
   "metadata": {},
   "outputs": [
    {
     "data": {
      "text/plain": [
       "array(['그룹5', '그룹4', '그룹1', '기타/불명', '그룹2', '그룹3'], dtype=object)"
      ]
     },
     "execution_count": 80,
     "metadata": {},
     "output_type": "execute_result"
    }
   ],
   "source": [
    "df['차량용도가해자'].unique()"
   ]
  },
  {
   "cell_type": "markdown",
   "metadata": {},
   "source": [
    "## 발생시각"
   ]
  },
  {
   "cell_type": "code",
   "execution_count": 82,
   "metadata": {},
   "outputs": [
    {
     "data": {
      "text/plain": [
       "array(['14-16시', '08-10시', '17-19시', '11-13시', '20-22시', '05-07시',\n",
       "       '02-04시', '23-01시'], dtype=object)"
      ]
     },
     "execution_count": 82,
     "metadata": {},
     "output_type": "execute_result"
    }
   ],
   "source": [
    "df['발생시각'].unique()"
   ]
  },
  {
   "cell_type": "code",
   "execution_count": 83,
   "metadata": {},
   "outputs": [],
   "source": [
    "idx = df[df['발생시각']=='02-04시'].index\n",
    "for i in idx:\n",
    "    df.iloc[:,9][i]=df.iloc[:,9][i].replace('02-04시','새벽~아침')\n",
    "    \n",
    "idx = df[df['발생시각']=='05-07시'].index\n",
    "for i in idx:\n",
    "    df.iloc[:,9][i]=df.iloc[:,9][i].replace('05-07시','새벽~아침')"
   ]
  },
  {
   "cell_type": "code",
   "execution_count": 84,
   "metadata": {},
   "outputs": [],
   "source": [
    "idx = df[df['발생시각']=='08-10시'].index\n",
    "for i in idx:\n",
    "    df.iloc[:,9][i]=df.iloc[:,9][i].replace('08-10시','출퇴근시간')\n",
    "    \n",
    "idx = df[df['발생시각']=='17-19시'].index\n",
    "for i in idx:\n",
    "    df.iloc[:,9][i]=df.iloc[:,9][i].replace('17-19시','출퇴근시간')"
   ]
  },
  {
   "cell_type": "code",
   "execution_count": 85,
   "metadata": {},
   "outputs": [],
   "source": [
    "idx = df[df['발생시각']=='11-13시'].index\n",
    "for i in idx:\n",
    "    df.iloc[:,9][i]=df.iloc[:,9][i].replace('11-13시','낮')\n",
    "    \n",
    "idx = df[df['발생시각']=='14-16시'].index\n",
    "for i in idx:\n",
    "    df.iloc[:,9][i]=df.iloc[:,9][i].replace('14-16시','낮')"
   ]
  },
  {
   "cell_type": "code",
   "execution_count": 86,
   "metadata": {},
   "outputs": [],
   "source": [
    "idx = df[df['발생시각']=='20-22시'].index\n",
    "for i in idx:\n",
    "    df.iloc[:,9][i]=df.iloc[:,9][i].replace('20-22시','저녁~자정')\n",
    "\n",
    "idx = df[df['발생시각']=='23-01시'].index\n",
    "for i in idx:\n",
    "    df.iloc[:,9][i]=df.iloc[:,9][i].replace('23-01시','저녁~자정')"
   ]
  },
  {
   "cell_type": "code",
   "execution_count": 87,
   "metadata": {},
   "outputs": [
    {
     "data": {
      "text/plain": [
       "array(['낮', '출퇴근시간', '저녁~자정', '새벽~아침'], dtype=object)"
      ]
     },
     "execution_count": 87,
     "metadata": {},
     "output_type": "execute_result"
    }
   ],
   "source": [
    "df['발생시각'].unique()"
   ]
  },
  {
   "cell_type": "markdown",
   "metadata": {},
   "source": [
    "---"
   ]
  },
  {
   "cell_type": "markdown",
   "metadata": {},
   "source": [
    "## 데이터셋_3(심각도) 완성 "
   ]
  },
  {
   "cell_type": "code",
   "execution_count": 88,
   "metadata": {},
   "outputs": [],
   "source": [
    "df.to_csv('C:/Users/user/TEST3/csv파일/데이터셋_3(심각도).csv',encoding='cp949')"
   ]
  },
  {
   "cell_type": "code",
   "execution_count": null,
   "metadata": {},
   "outputs": [],
   "source": []
  }
 ],
 "metadata": {
  "kernelspec": {
   "display_name": "Python 3",
   "language": "python",
   "name": "python3"
  },
  "language_info": {
   "codemirror_mode": {
    "name": "ipython",
    "version": 3
   },
   "file_extension": ".py",
   "mimetype": "text/x-python",
   "name": "python",
   "nbconvert_exporter": "python",
   "pygments_lexer": "ipython3",
   "version": "3.8.3"
  }
 },
 "nbformat": 4,
 "nbformat_minor": 4
}
