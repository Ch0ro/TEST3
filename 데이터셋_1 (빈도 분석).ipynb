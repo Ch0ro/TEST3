{
 "cells": [
  {
   "cell_type": "code",
   "execution_count": 420,
   "metadata": {},
   "outputs": [],
   "source": [
    "import pandas as pd\n",
    "import numpy as np\n",
    "import re\n",
    "import seaborn as sns\n",
    "import matplotlib.pyplot as plt\n",
    "import warnings\n",
    "warnings.filterwarnings(\"ignore\")"
   ]
  },
  {
   "cell_type": "code",
   "execution_count": 421,
   "metadata": {},
   "outputs": [],
   "source": [
    "from matplotlib import font_manager, rc\n",
    "font_name = font_manager.FontProperties(fname=\"c:/Windows/Fonts/malgun.ttf\").get_name()\n",
    "rc('font', family=font_name)"
   ]
  },
  {
   "cell_type": "code",
   "execution_count": 422,
   "metadata": {},
   "outputs": [],
   "source": [
    "df = pd.read_csv('./csv파일/데이터셋_1.csv',encoding='cp949')"
   ]
  },
  {
   "cell_type": "code",
   "execution_count": 423,
   "metadata": {},
   "outputs": [
    {
     "data": {
      "text/html": [
       "<div>\n",
       "<style scoped>\n",
       "    .dataframe tbody tr th:only-of-type {\n",
       "        vertical-align: middle;\n",
       "    }\n",
       "\n",
       "    .dataframe tbody tr th {\n",
       "        vertical-align: top;\n",
       "    }\n",
       "\n",
       "    .dataframe thead th {\n",
       "        text-align: right;\n",
       "    }\n",
       "</style>\n",
       "<table border=\"1\" class=\"dataframe\">\n",
       "  <thead>\n",
       "    <tr style=\"text-align: right;\">\n",
       "      <th></th>\n",
       "      <th>요일</th>\n",
       "      <th>사고내용</th>\n",
       "      <th>사고유형</th>\n",
       "      <th>가해자성별</th>\n",
       "      <th>피해자성별</th>\n",
       "      <th>연령가해자</th>\n",
       "      <th>연령피해자</th>\n",
       "      <th>가해자음주</th>\n",
       "      <th>법규위반가해자</th>\n",
       "      <th>행동유형가해자</th>\n",
       "      <th>...</th>\n",
       "      <th>교차로형태</th>\n",
       "      <th>사망자수</th>\n",
       "      <th>중상자수</th>\n",
       "      <th>경상자수</th>\n",
       "      <th>부상신고자수</th>\n",
       "      <th>발생시각</th>\n",
       "      <th>EPDO1</th>\n",
       "      <th>EPDO2</th>\n",
       "      <th>가해자차량용도</th>\n",
       "      <th>심각도</th>\n",
       "    </tr>\n",
       "  </thead>\n",
       "  <tbody>\n",
       "    <tr>\n",
       "      <th>0</th>\n",
       "      <td>화</td>\n",
       "      <td>경상</td>\n",
       "      <td>보도통행중</td>\n",
       "      <td>여</td>\n",
       "      <td>여</td>\n",
       "      <td>18</td>\n",
       "      <td>68</td>\n",
       "      <td>기타불명</td>\n",
       "      <td>안전운전 의무 불이행</td>\n",
       "      <td>직진중</td>\n",
       "      <td>...</td>\n",
       "      <td>교차로아님</td>\n",
       "      <td>0</td>\n",
       "      <td>0</td>\n",
       "      <td>1</td>\n",
       "      <td>0</td>\n",
       "      <td>15</td>\n",
       "      <td>2</td>\n",
       "      <td>3</td>\n",
       "      <td>자전거</td>\n",
       "      <td>0</td>\n",
       "    </tr>\n",
       "    <tr>\n",
       "      <th>1</th>\n",
       "      <td>토</td>\n",
       "      <td>중상</td>\n",
       "      <td>횡단중</td>\n",
       "      <td>남</td>\n",
       "      <td>여</td>\n",
       "      <td>80</td>\n",
       "      <td>75</td>\n",
       "      <td>기타불명</td>\n",
       "      <td>안전운전 의무 불이행</td>\n",
       "      <td>직진중</td>\n",
       "      <td>...</td>\n",
       "      <td>교차로아님</td>\n",
       "      <td>0</td>\n",
       "      <td>1</td>\n",
       "      <td>0</td>\n",
       "      <td>0</td>\n",
       "      <td>9</td>\n",
       "      <td>32</td>\n",
       "      <td>6</td>\n",
       "      <td>비사업용_승용차</td>\n",
       "      <td>1</td>\n",
       "    </tr>\n",
       "    <tr>\n",
       "      <th>2</th>\n",
       "      <td>목</td>\n",
       "      <td>경상</td>\n",
       "      <td>길가장자리구역통행중</td>\n",
       "      <td>남</td>\n",
       "      <td>남</td>\n",
       "      <td>18</td>\n",
       "      <td>68</td>\n",
       "      <td>기타불명</td>\n",
       "      <td>안전운전 의무 불이행</td>\n",
       "      <td>직진중</td>\n",
       "      <td>...</td>\n",
       "      <td>교차로아님</td>\n",
       "      <td>0</td>\n",
       "      <td>0</td>\n",
       "      <td>1</td>\n",
       "      <td>0</td>\n",
       "      <td>19</td>\n",
       "      <td>2</td>\n",
       "      <td>3</td>\n",
       "      <td>비사업용_승용차</td>\n",
       "      <td>0</td>\n",
       "    </tr>\n",
       "    <tr>\n",
       "      <th>3</th>\n",
       "      <td>목</td>\n",
       "      <td>중상</td>\n",
       "      <td>길가장자리구역통행중</td>\n",
       "      <td>남</td>\n",
       "      <td>여</td>\n",
       "      <td>22</td>\n",
       "      <td>89</td>\n",
       "      <td>기타불명</td>\n",
       "      <td>안전운전 의무 불이행</td>\n",
       "      <td>후진중</td>\n",
       "      <td>...</td>\n",
       "      <td>교차로아님</td>\n",
       "      <td>0</td>\n",
       "      <td>1</td>\n",
       "      <td>0</td>\n",
       "      <td>0</td>\n",
       "      <td>11</td>\n",
       "      <td>32</td>\n",
       "      <td>6</td>\n",
       "      <td>비사업용_화물차</td>\n",
       "      <td>1</td>\n",
       "    </tr>\n",
       "    <tr>\n",
       "      <th>4</th>\n",
       "      <td>목</td>\n",
       "      <td>중상</td>\n",
       "      <td>횡단중</td>\n",
       "      <td>여</td>\n",
       "      <td>여</td>\n",
       "      <td>45</td>\n",
       "      <td>85</td>\n",
       "      <td>기타불명</td>\n",
       "      <td>안전운전 의무 불이행</td>\n",
       "      <td>직진중</td>\n",
       "      <td>...</td>\n",
       "      <td>교차로아님</td>\n",
       "      <td>0</td>\n",
       "      <td>1</td>\n",
       "      <td>0</td>\n",
       "      <td>0</td>\n",
       "      <td>12</td>\n",
       "      <td>32</td>\n",
       "      <td>6</td>\n",
       "      <td>비사업용_승용차</td>\n",
       "      <td>1</td>\n",
       "    </tr>\n",
       "    <tr>\n",
       "      <th>...</th>\n",
       "      <td>...</td>\n",
       "      <td>...</td>\n",
       "      <td>...</td>\n",
       "      <td>...</td>\n",
       "      <td>...</td>\n",
       "      <td>...</td>\n",
       "      <td>...</td>\n",
       "      <td>...</td>\n",
       "      <td>...</td>\n",
       "      <td>...</td>\n",
       "      <td>...</td>\n",
       "      <td>...</td>\n",
       "      <td>...</td>\n",
       "      <td>...</td>\n",
       "      <td>...</td>\n",
       "      <td>...</td>\n",
       "      <td>...</td>\n",
       "      <td>...</td>\n",
       "      <td>...</td>\n",
       "      <td>...</td>\n",
       "      <td>...</td>\n",
       "    </tr>\n",
       "    <tr>\n",
       "      <th>58054</th>\n",
       "      <td>월</td>\n",
       "      <td>경상</td>\n",
       "      <td>길가장자리구역통행중</td>\n",
       "      <td>여</td>\n",
       "      <td>여</td>\n",
       "      <td>53</td>\n",
       "      <td>65</td>\n",
       "      <td>기타불명</td>\n",
       "      <td>안전운전 의무 불이행</td>\n",
       "      <td>직진중</td>\n",
       "      <td>...</td>\n",
       "      <td>교차로아님</td>\n",
       "      <td>0</td>\n",
       "      <td>0</td>\n",
       "      <td>1</td>\n",
       "      <td>0</td>\n",
       "      <td>16</td>\n",
       "      <td>2</td>\n",
       "      <td>3</td>\n",
       "      <td>비사업용_승용차</td>\n",
       "      <td>0</td>\n",
       "    </tr>\n",
       "    <tr>\n",
       "      <th>58055</th>\n",
       "      <td>금</td>\n",
       "      <td>경상</td>\n",
       "      <td>보도통행중</td>\n",
       "      <td>여</td>\n",
       "      <td>남</td>\n",
       "      <td>28</td>\n",
       "      <td>71</td>\n",
       "      <td>해당 없음</td>\n",
       "      <td>기타</td>\n",
       "      <td>후진중</td>\n",
       "      <td>...</td>\n",
       "      <td>교차로</td>\n",
       "      <td>0</td>\n",
       "      <td>0</td>\n",
       "      <td>1</td>\n",
       "      <td>0</td>\n",
       "      <td>17</td>\n",
       "      <td>2</td>\n",
       "      <td>3</td>\n",
       "      <td>비사업용_승용차</td>\n",
       "      <td>0</td>\n",
       "    </tr>\n",
       "    <tr>\n",
       "      <th>58056</th>\n",
       "      <td>금</td>\n",
       "      <td>중상</td>\n",
       "      <td>차도통행중</td>\n",
       "      <td>여</td>\n",
       "      <td>남</td>\n",
       "      <td>32</td>\n",
       "      <td>76</td>\n",
       "      <td>해당 없음</td>\n",
       "      <td>안전운전 의무 불이행</td>\n",
       "      <td>직진중</td>\n",
       "      <td>...</td>\n",
       "      <td>교차로아님</td>\n",
       "      <td>0</td>\n",
       "      <td>1</td>\n",
       "      <td>0</td>\n",
       "      <td>0</td>\n",
       "      <td>10</td>\n",
       "      <td>32</td>\n",
       "      <td>6</td>\n",
       "      <td>비사업용_승용차</td>\n",
       "      <td>1</td>\n",
       "    </tr>\n",
       "    <tr>\n",
       "      <th>58057</th>\n",
       "      <td>토</td>\n",
       "      <td>중상</td>\n",
       "      <td>기타</td>\n",
       "      <td>남</td>\n",
       "      <td>여</td>\n",
       "      <td>75</td>\n",
       "      <td>77</td>\n",
       "      <td>해당 없음</td>\n",
       "      <td>안전운전 의무 불이행</td>\n",
       "      <td>직진중</td>\n",
       "      <td>...</td>\n",
       "      <td>교차로아님</td>\n",
       "      <td>0</td>\n",
       "      <td>1</td>\n",
       "      <td>0</td>\n",
       "      <td>0</td>\n",
       "      <td>10</td>\n",
       "      <td>32</td>\n",
       "      <td>6</td>\n",
       "      <td>비사업용_승용차</td>\n",
       "      <td>1</td>\n",
       "    </tr>\n",
       "    <tr>\n",
       "      <th>58058</th>\n",
       "      <td>목</td>\n",
       "      <td>중상</td>\n",
       "      <td>횡단중</td>\n",
       "      <td>남</td>\n",
       "      <td>남</td>\n",
       "      <td>34</td>\n",
       "      <td>77</td>\n",
       "      <td>해당 없음</td>\n",
       "      <td>안전운전 의무 불이행</td>\n",
       "      <td>좌우회전중</td>\n",
       "      <td>...</td>\n",
       "      <td>교차로</td>\n",
       "      <td>0</td>\n",
       "      <td>1</td>\n",
       "      <td>0</td>\n",
       "      <td>0</td>\n",
       "      <td>19</td>\n",
       "      <td>32</td>\n",
       "      <td>6</td>\n",
       "      <td>비사업용_승용차</td>\n",
       "      <td>1</td>\n",
       "    </tr>\n",
       "  </tbody>\n",
       "</table>\n",
       "<p>58059 rows × 33 columns</p>\n",
       "</div>"
      ],
      "text/plain": [
       "      요일 사고내용        사고유형 가해자성별 피해자성별  연령가해자  연령피해자  가해자음주      법규위반가해자  \\\n",
       "0      화   경상       보도통행중     여     여     18     68   기타불명  안전운전 의무 불이행   \n",
       "1      토   중상         횡단중     남     여     80     75   기타불명  안전운전 의무 불이행   \n",
       "2      목   경상  길가장자리구역통행중     남     남     18     68   기타불명  안전운전 의무 불이행   \n",
       "3      목   중상  길가장자리구역통행중     남     여     22     89   기타불명  안전운전 의무 불이행   \n",
       "4      목   중상         횡단중     여     여     45     85   기타불명  안전운전 의무 불이행   \n",
       "...   ..  ...         ...   ...   ...    ...    ...    ...          ...   \n",
       "58054  월   경상  길가장자리구역통행중     여     여     53     65   기타불명  안전운전 의무 불이행   \n",
       "58055  금   경상       보도통행중     여     남     28     71  해당 없음           기타   \n",
       "58056  금   중상       차도통행중     여     남     32     76  해당 없음  안전운전 의무 불이행   \n",
       "58057  토   중상          기타     남     여     75     77  해당 없음  안전운전 의무 불이행   \n",
       "58058  목   중상         횡단중     남     남     34     77  해당 없음  안전운전 의무 불이행   \n",
       "\n",
       "      행동유형가해자  ...  교차로형태 사망자수 중상자수 경상자수 부상신고자수 발생시각 EPDO1 EPDO2   가해자차량용도 심각도  \n",
       "0         직진중  ...  교차로아님    0    0    1      0   15     2     3       자전거   0  \n",
       "1         직진중  ...  교차로아님    0    1    0      0    9    32     6  비사업용_승용차   1  \n",
       "2         직진중  ...  교차로아님    0    0    1      0   19     2     3  비사업용_승용차   0  \n",
       "3         후진중  ...  교차로아님    0    1    0      0   11    32     6  비사업용_화물차   1  \n",
       "4         직진중  ...  교차로아님    0    1    0      0   12    32     6  비사업용_승용차   1  \n",
       "...       ...  ...    ...  ...  ...  ...    ...  ...   ...   ...       ...  ..  \n",
       "58054     직진중  ...  교차로아님    0    0    1      0   16     2     3  비사업용_승용차   0  \n",
       "58055     후진중  ...    교차로    0    0    1      0   17     2     3  비사업용_승용차   0  \n",
       "58056     직진중  ...  교차로아님    0    1    0      0   10    32     6  비사업용_승용차   1  \n",
       "58057     직진중  ...  교차로아님    0    1    0      0   10    32     6  비사업용_승용차   1  \n",
       "58058   좌우회전중  ...    교차로    0    1    0      0   19    32     6  비사업용_승용차   1  \n",
       "\n",
       "[58059 rows x 33 columns]"
      ]
     },
     "execution_count": 423,
     "metadata": {},
     "output_type": "execute_result"
    }
   ],
   "source": [
    "df"
   ]
  },
  {
   "cell_type": "markdown",
   "metadata": {},
   "source": [
    "---"
   ]
  },
  {
   "cell_type": "code",
   "execution_count": 424,
   "metadata": {},
   "outputs": [
    {
     "name": "stdout",
     "output_type": "stream",
     "text": [
      "<class 'pandas.core.frame.DataFrame'>\n",
      "RangeIndex: 58059 entries, 0 to 58058\n",
      "Data columns (total 33 columns):\n",
      " #   Column       Non-Null Count  Dtype \n",
      "---  ------       --------------  ----- \n",
      " 0   요일           58059 non-null  object\n",
      " 1   사고내용         58059 non-null  object\n",
      " 2   사고유형         58059 non-null  object\n",
      " 3   가해자성별        58059 non-null  object\n",
      " 4   피해자성별        58059 non-null  object\n",
      " 5   연령가해자        58059 non-null  int64 \n",
      " 6   연령피해자        58059 non-null  int64 \n",
      " 7   가해자음주        58059 non-null  object\n",
      " 8   법규위반가해자      58059 non-null  object\n",
      " 9   행동유형가해자      58059 non-null  object\n",
      " 10  신체상해정도가해자    58059 non-null  object\n",
      " 11  신체상해정도피해자    58059 non-null  object\n",
      " 12  가해자신체상해주부위   58059 non-null  object\n",
      " 13  피해자신체상해주부위   58059 non-null  object\n",
      " 14  차량용도가해자_중분류  58059 non-null  object\n",
      " 15  도로종류         58059 non-null  object\n",
      " 16  도로형태         58059 non-null  object\n",
      " 17  노인보호구역_여부    58059 non-null  object\n",
      " 18  어린이보호구역_여부   58059 non-null  object\n",
      " 19  자전거도로_여부     34691 non-null  object\n",
      " 20  도로선형         58059 non-null  object\n",
      " 21  기상상태         58059 non-null  object\n",
      " 22  노면상태         58059 non-null  object\n",
      " 23  교차로형태        58059 non-null  object\n",
      " 24  사망자수         58059 non-null  int64 \n",
      " 25  중상자수         58059 non-null  int64 \n",
      " 26  경상자수         58059 non-null  int64 \n",
      " 27  부상신고자수       58059 non-null  int64 \n",
      " 28  발생시각         58059 non-null  int64 \n",
      " 29  EPDO1        58059 non-null  int64 \n",
      " 30  EPDO2        58059 non-null  int64 \n",
      " 31  가해자차량용도      58059 non-null  object\n",
      " 32  심각도          58059 non-null  int64 \n",
      "dtypes: int64(10), object(23)\n",
      "memory usage: 14.6+ MB\n"
     ]
    }
   ],
   "source": [
    "df.info()"
   ]
  },
  {
   "cell_type": "markdown",
   "metadata": {},
   "source": [
    "# 1. 빈도분석"
   ]
  },
  {
   "cell_type": "code",
   "execution_count": 425,
   "metadata": {},
   "outputs": [
    {
     "data": {
      "image/png": "[encoded data removed]",
      "text/plain": [
       "<Figure size 1152x864 with 1 Axes>"
      ]
     },
     "metadata": {
      "needs_background": "light"
     },
     "output_type": "display_data"
    }
   ],
   "source": [
    "cnt = df[\"요일\"].value_counts()\n",
    "\n",
    "fig, (ax1) = plt.subplots(1,1, figsize=(16,12))\n",
    "g = sns.countplot(data=df, x=\"요일\", ax=ax1)\n",
    "for i in range(cnt.shape[0]):\n",
    "    g.text(x=i, y=cnt[i], s=cnt[i], \n",
    "           horizontalalignment='center')"
   ]
  },
  {
   "cell_type": "code",
   "execution_count": 426,
   "metadata": {},
   "outputs": [
    {
     "data": {
      "text/html": [
       "<div>\n",
       "<style scoped>\n",
       "    .dataframe tbody tr th:only-of-type {\n",
       "        vertical-align: middle;\n",
       "    }\n",
       "\n",
       "    .dataframe tbody tr th {\n",
       "        vertical-align: top;\n",
       "    }\n",
       "\n",
       "    .dataframe thead th {\n",
       "        text-align: right;\n",
       "    }\n",
       "</style>\n",
       "<table border=\"1\" class=\"dataframe\">\n",
       "  <thead>\n",
       "    <tr style=\"text-align: right;\">\n",
       "      <th></th>\n",
       "      <th>월</th>\n",
       "      <th>금</th>\n",
       "      <th>목</th>\n",
       "      <th>수</th>\n",
       "      <th>화</th>\n",
       "      <th>토</th>\n",
       "      <th>일</th>\n",
       "    </tr>\n",
       "  </thead>\n",
       "  <tbody>\n",
       "    <tr>\n",
       "      <th>요일</th>\n",
       "      <td>9582</td>\n",
       "      <td>9441</td>\n",
       "      <td>8851</td>\n",
       "      <td>8845</td>\n",
       "      <td>8796</td>\n",
       "      <td>7400</td>\n",
       "      <td>5144</td>\n",
       "    </tr>\n",
       "  </tbody>\n",
       "</table>\n",
       "</div>"
      ],
      "text/plain": [
       "       월     금     목     수     화     토     일\n",
       "요일  9582  9441  8851  8845  8796  7400  5144"
      ]
     },
     "execution_count": 426,
     "metadata": {},
     "output_type": "execute_result"
    }
   ],
   "source": [
    "cnt = pd.DataFrame(cnt)\n",
    "cnt.transpose()"
   ]
  },
  {
   "cell_type": "code",
   "execution_count": 490,
   "metadata": {},
   "outputs": [
    {
     "data": {
      "text/plain": [
       "0.21605608088323947"
      ]
     },
     "execution_count": 490,
     "metadata": {},
     "output_type": "execute_result"
    }
   ],
   "source": [
    "(len(df[df['요일']=='일'])+len(df[df['요일']=='토']))/len(df['요일'])"
   ]
  },
  {
   "cell_type": "markdown",
   "metadata": {},
   "source": [
    "---"
   ]
  },
  {
   "cell_type": "code",
   "execution_count": 427,
   "metadata": {},
   "outputs": [
    {
     "data": {
      "image/png": "[encoded data removed]",
      "text/plain": [
       "<Figure size 1152x864 with 1 Axes>"
      ]
     },
     "metadata": {
      "needs_background": "light"
     },
     "output_type": "display_data"
    }
   ],
   "source": [
    "cnt = df[\"사고내용\"].value_counts()\n",
    "\n",
    "fig, (ax1) = plt.subplots(1,1, figsize=(16,12))\n",
    "g = sns.countplot(data=df, x=\"사고내용\", ax=ax1)\n",
    "for i in range(cnt.shape[0]):\n",
    "    g.text(x=i, y=cnt[i], s=cnt[i], \n",
    "           horizontalalignment='center')"
   ]
  },
  {
   "cell_type": "code",
   "execution_count": 428,
   "metadata": {},
   "outputs": [
    {
     "data": {
      "text/html": [
       "<div>\n",
       "<style scoped>\n",
       "    .dataframe tbody tr th:only-of-type {\n",
       "        vertical-align: middle;\n",
       "    }\n",
       "\n",
       "    .dataframe tbody tr th {\n",
       "        vertical-align: top;\n",
       "    }\n",
       "\n",
       "    .dataframe thead th {\n",
       "        text-align: right;\n",
       "    }\n",
       "</style>\n",
       "<table border=\"1\" class=\"dataframe\">\n",
       "  <thead>\n",
       "    <tr style=\"text-align: right;\">\n",
       "      <th></th>\n",
       "      <th>중상</th>\n",
       "      <th>경상</th>\n",
       "      <th>사망</th>\n",
       "      <th>부상신고</th>\n",
       "    </tr>\n",
       "  </thead>\n",
       "  <tbody>\n",
       "    <tr>\n",
       "      <th>사고내용</th>\n",
       "      <td>34309</td>\n",
       "      <td>17690</td>\n",
       "      <td>4150</td>\n",
       "      <td>1910</td>\n",
       "    </tr>\n",
       "  </tbody>\n",
       "</table>\n",
       "</div>"
      ],
      "text/plain": [
       "         중상     경상    사망  부상신고\n",
       "사고내용  34309  17690  4150  1910"
      ]
     },
     "execution_count": 428,
     "metadata": {},
     "output_type": "execute_result"
    }
   ],
   "source": [
    "cnt = pd.DataFrame(cnt)\n",
    "cnt.transpose()"
   ]
  },
  {
   "cell_type": "code",
   "execution_count": 492,
   "metadata": {},
   "outputs": [
    {
     "data": {
      "text/plain": [
       "0.5909333608915069"
      ]
     },
     "execution_count": 492,
     "metadata": {},
     "output_type": "execute_result"
    }
   ],
   "source": [
    "len(df[df['사고내용']=='중상'])/len(df['사고내용'])"
   ]
  },
  {
   "cell_type": "markdown",
   "metadata": {},
   "source": [
    "---"
   ]
  },
  {
   "cell_type": "code",
   "execution_count": 429,
   "metadata": {},
   "outputs": [
    {
     "data": {
      "image/png": "[encoded data removed]",
      "text/plain": [
       "<Figure size 1152x864 with 1 Axes>"
      ]
     },
     "metadata": {
      "needs_background": "light"
     },
     "output_type": "display_data"
    }
   ],
   "source": [
    "cnt = df[\"사고유형\"].value_counts()\n",
    "\n",
    "fig, (ax1) = plt.subplots(1,1, figsize=(16,12))\n",
    "g = sns.countplot(data=df, x=\"사고유형\", ax=ax1)\n",
    "for i in range(cnt.shape[0]):\n",
    "    g.text(x=i, y=cnt[i], s=cnt[i], \n",
    "           horizontalalignment='center')"
   ]
  },
  {
   "cell_type": "code",
   "execution_count": 430,
   "metadata": {},
   "outputs": [
    {
     "data": {
      "text/html": [
       "<div>\n",
       "<style scoped>\n",
       "    .dataframe tbody tr th:only-of-type {\n",
       "        vertical-align: middle;\n",
       "    }\n",
       "\n",
       "    .dataframe tbody tr th {\n",
       "        vertical-align: top;\n",
       "    }\n",
       "\n",
       "    .dataframe thead th {\n",
       "        text-align: right;\n",
       "    }\n",
       "</style>\n",
       "<table border=\"1\" class=\"dataframe\">\n",
       "  <thead>\n",
       "    <tr style=\"text-align: right;\">\n",
       "      <th></th>\n",
       "      <th>횡단중</th>\n",
       "      <th>기타</th>\n",
       "      <th>차도통행중</th>\n",
       "      <th>길가장자리구역통행중</th>\n",
       "      <th>보도통행중</th>\n",
       "    </tr>\n",
       "  </thead>\n",
       "  <tbody>\n",
       "    <tr>\n",
       "      <th>사고유형</th>\n",
       "      <td>27821</td>\n",
       "      <td>18121</td>\n",
       "      <td>5773</td>\n",
       "      <td>4010</td>\n",
       "      <td>2334</td>\n",
       "    </tr>\n",
       "  </tbody>\n",
       "</table>\n",
       "</div>"
      ],
      "text/plain": [
       "        횡단중     기타  차도통행중  길가장자리구역통행중  보도통행중\n",
       "사고유형  27821  18121   5773        4010   2334"
      ]
     },
     "execution_count": 430,
     "metadata": {},
     "output_type": "execute_result"
    }
   ],
   "source": [
    "cnt = pd.DataFrame(cnt)\n",
    "cnt.transpose()"
   ]
  },
  {
   "cell_type": "code",
   "execution_count": 493,
   "metadata": {},
   "outputs": [
    {
     "data": {
      "text/plain": [
       "47.9184967016311"
      ]
     },
     "execution_count": 493,
     "metadata": {},
     "output_type": "execute_result"
    }
   ],
   "source": [
    "(len(df[df['사고유형']=='횡단중'])/len(df['사고유형']))*100"
   ]
  },
  {
   "cell_type": "markdown",
   "metadata": {},
   "source": [
    "---"
   ]
  },
  {
   "cell_type": "code",
   "execution_count": 431,
   "metadata": {},
   "outputs": [
    {
     "data": {
      "image/png": "[encoded data removed]",
      "text/plain": [
       "<Figure size 1152x864 with 1 Axes>"
      ]
     },
     "metadata": {
      "needs_background": "light"
     },
     "output_type": "display_data"
    }
   ],
   "source": [
    "cnt = df[\"가해자성별\"].value_counts()\n",
    "\n",
    "fig, (ax1) = plt.subplots(1,1, figsize=(16,12))\n",
    "g = sns.countplot(data=df, x=\"가해자성별\", ax=ax1)\n",
    "for i in range(cnt.shape[0]):\n",
    "    g.text(x=i, y=cnt[i], s=cnt[i], \n",
    "           horizontalalignment='center')"
   ]
  },
  {
   "cell_type": "code",
   "execution_count": 432,
   "metadata": {},
   "outputs": [
    {
     "data": {
      "text/html": [
       "<div>\n",
       "<style scoped>\n",
       "    .dataframe tbody tr th:only-of-type {\n",
       "        vertical-align: middle;\n",
       "    }\n",
       "\n",
       "    .dataframe tbody tr th {\n",
       "        vertical-align: top;\n",
       "    }\n",
       "\n",
       "    .dataframe thead th {\n",
       "        text-align: right;\n",
       "    }\n",
       "</style>\n",
       "<table border=\"1\" class=\"dataframe\">\n",
       "  <thead>\n",
       "    <tr style=\"text-align: right;\">\n",
       "      <th></th>\n",
       "      <th>남</th>\n",
       "      <th>여</th>\n",
       "      <th>기타불명</th>\n",
       "    </tr>\n",
       "  </thead>\n",
       "  <tbody>\n",
       "    <tr>\n",
       "      <th>가해자성별</th>\n",
       "      <td>43412</td>\n",
       "      <td>13034</td>\n",
       "      <td>1613</td>\n",
       "    </tr>\n",
       "  </tbody>\n",
       "</table>\n",
       "</div>"
      ],
      "text/plain": [
       "           남      여  기타불명\n",
       "가해자성별  43412  13034  1613"
      ]
     },
     "execution_count": 432,
     "metadata": {},
     "output_type": "execute_result"
    }
   ],
   "source": [
    "cnt = pd.DataFrame(cnt)\n",
    "cnt.transpose()"
   ]
  },
  {
   "cell_type": "markdown",
   "metadata": {},
   "source": [
    "---"
   ]
  },
  {
   "cell_type": "code",
   "execution_count": 433,
   "metadata": {},
   "outputs": [
    {
     "data": {
      "image/png": "[encoded data removed]",
      "text/plain": [
       "<Figure size 1152x864 with 1 Axes>"
      ]
     },
     "metadata": {
      "needs_background": "light"
     },
     "output_type": "display_data"
    }
   ],
   "source": [
    "cnt = df[\"피해자성별\"].value_counts()\n",
    "\n",
    "fig, (ax1) = plt.subplots(1,1, figsize=(16,12))\n",
    "g = sns.countplot(data=df, x=\"피해자성별\", ax=ax1)\n",
    "for i in range(cnt.shape[0]):\n",
    "    g.text(x=i, y=cnt[i], s=cnt[i], \n",
    "           horizontalalignment='center')"
   ]
  },
  {
   "cell_type": "code",
   "execution_count": 434,
   "metadata": {},
   "outputs": [
    {
     "data": {
      "text/html": [
       "<div>\n",
       "<style scoped>\n",
       "    .dataframe tbody tr th:only-of-type {\n",
       "        vertical-align: middle;\n",
       "    }\n",
       "\n",
       "    .dataframe tbody tr th {\n",
       "        vertical-align: top;\n",
       "    }\n",
       "\n",
       "    .dataframe thead th {\n",
       "        text-align: right;\n",
       "    }\n",
       "</style>\n",
       "<table border=\"1\" class=\"dataframe\">\n",
       "  <thead>\n",
       "    <tr style=\"text-align: right;\">\n",
       "      <th></th>\n",
       "      <th>여</th>\n",
       "      <th>남</th>\n",
       "    </tr>\n",
       "  </thead>\n",
       "  <tbody>\n",
       "    <tr>\n",
       "      <th>피해자성별</th>\n",
       "      <td>37255</td>\n",
       "      <td>20804</td>\n",
       "    </tr>\n",
       "  </tbody>\n",
       "</table>\n",
       "</div>"
      ],
      "text/plain": [
       "           여      남\n",
       "피해자성별  37255  20804"
      ]
     },
     "execution_count": 434,
     "metadata": {},
     "output_type": "execute_result"
    }
   ],
   "source": [
    "cnt = pd.DataFrame(cnt)\n",
    "cnt.transpose()"
   ]
  },
  {
   "cell_type": "markdown",
   "metadata": {},
   "source": [
    "---"
   ]
  },
  {
   "cell_type": "code",
   "execution_count": 435,
   "metadata": {},
   "outputs": [
    {
     "data": {
      "text/plain": [
       "<AxesSubplot:xlabel='연령가해자', ylabel='count'>"
      ]
     },
     "execution_count": 435,
     "metadata": {},
     "output_type": "execute_result"
    },
    {
     "data": {
      "image/png": "[encoded data removed]",
      "text/plain": [
       "<Figure size 1152x864 with 1 Axes>"
      ]
     },
     "metadata": {
      "needs_background": "light"
     },
     "output_type": "display_data"
    }
   ],
   "source": [
    "cnt = df[\"연령가해자\"].value_counts()\n",
    "\n",
    "fig, (ax1) = plt.subplots(1,1, figsize=(16,12))\n",
    "sns.countplot(data=df, x=\"연령가해자\")"
   ]
  },
  {
   "cell_type": "code",
   "execution_count": 436,
   "metadata": {},
   "outputs": [
    {
     "data": {
      "text/html": [
       "<div>\n",
       "<style scoped>\n",
       "    .dataframe tbody tr th:only-of-type {\n",
       "        vertical-align: middle;\n",
       "    }\n",
       "\n",
       "    .dataframe tbody tr th {\n",
       "        vertical-align: top;\n",
       "    }\n",
       "\n",
       "    .dataframe thead th {\n",
       "        text-align: right;\n",
       "    }\n",
       "</style>\n",
       "<table border=\"1\" class=\"dataframe\">\n",
       "  <thead>\n",
       "    <tr style=\"text-align: right;\">\n",
       "      <th></th>\n",
       "      <th>56</th>\n",
       "      <th>54</th>\n",
       "      <th>55</th>\n",
       "      <th>57</th>\n",
       "      <th>58</th>\n",
       "      <th>0</th>\n",
       "      <th>59</th>\n",
       "      <th>53</th>\n",
       "      <th>52</th>\n",
       "      <th>50</th>\n",
       "      <th>...</th>\n",
       "      <th>90</th>\n",
       "      <th>94</th>\n",
       "      <th>91</th>\n",
       "      <th>93</th>\n",
       "      <th>92</th>\n",
       "      <th>98</th>\n",
       "      <th>5</th>\n",
       "      <th>6</th>\n",
       "      <th>4</th>\n",
       "      <th>119</th>\n",
       "    </tr>\n",
       "  </thead>\n",
       "  <tbody>\n",
       "    <tr>\n",
       "      <th>연령가해자</th>\n",
       "      <td>1687</td>\n",
       "      <td>1635</td>\n",
       "      <td>1605</td>\n",
       "      <td>1597</td>\n",
       "      <td>1583</td>\n",
       "      <td>1574</td>\n",
       "      <td>1545</td>\n",
       "      <td>1506</td>\n",
       "      <td>1500</td>\n",
       "      <td>1466</td>\n",
       "      <td>...</td>\n",
       "      <td>4</td>\n",
       "      <td>3</td>\n",
       "      <td>3</td>\n",
       "      <td>2</td>\n",
       "      <td>2</td>\n",
       "      <td>2</td>\n",
       "      <td>2</td>\n",
       "      <td>2</td>\n",
       "      <td>1</td>\n",
       "      <td>1</td>\n",
       "    </tr>\n",
       "  </tbody>\n",
       "</table>\n",
       "<p>1 rows × 95 columns</p>\n",
       "</div>"
      ],
      "text/plain": [
       "        56    54    55    57    58    0     59    53    52    50   ...  90   \\\n",
       "연령가해자  1687  1635  1605  1597  1583  1574  1545  1506  1500  1466  ...    4   \n",
       "\n",
       "       94   91   93   92   98   5    6    4    119  \n",
       "연령가해자    3    3    2    2    2    2    2    1    1  \n",
       "\n",
       "[1 rows x 95 columns]"
      ]
     },
     "execution_count": 436,
     "metadata": {},
     "output_type": "execute_result"
    }
   ],
   "source": [
    "cnt = pd.DataFrame(cnt)\n",
    "cnt.transpose()"
   ]
  },
  {
   "cell_type": "markdown",
   "metadata": {},
   "source": [
    "---"
   ]
  },
  {
   "cell_type": "code",
   "execution_count": 437,
   "metadata": {},
   "outputs": [
    {
     "data": {
      "text/plain": [
       "<AxesSubplot:xlabel='연령피해자', ylabel='count'>"
      ]
     },
     "execution_count": 437,
     "metadata": {},
     "output_type": "execute_result"
    },
    {
     "data": {
      "image/png": "[encoded data removed]",
      "text/plain": [
       "<Figure size 1152x864 with 1 Axes>"
      ]
     },
     "metadata": {
      "needs_background": "light"
     },
     "output_type": "display_data"
    }
   ],
   "source": [
    "cnt = df[\"연령피해자\"].value_counts()\n",
    "\n",
    "fig, (ax1) = plt.subplots(1,1, figsize=(16,12))\n",
    "sns.countplot(data=df, x=\"연령피해자\", ax=ax1)"
   ]
  },
  {
   "cell_type": "code",
   "execution_count": 438,
   "metadata": {},
   "outputs": [
    {
     "data": {
      "text/html": [
       "<div>\n",
       "<style scoped>\n",
       "    .dataframe tbody tr th:only-of-type {\n",
       "        vertical-align: middle;\n",
       "    }\n",
       "\n",
       "    .dataframe tbody tr th {\n",
       "        vertical-align: top;\n",
       "    }\n",
       "\n",
       "    .dataframe thead th {\n",
       "        text-align: right;\n",
       "    }\n",
       "</style>\n",
       "<table border=\"1\" class=\"dataframe\">\n",
       "  <thead>\n",
       "    <tr style=\"text-align: right;\">\n",
       "      <th></th>\n",
       "      <th>65</th>\n",
       "      <th>66</th>\n",
       "      <th>76</th>\n",
       "      <th>75</th>\n",
       "      <th>67</th>\n",
       "      <th>74</th>\n",
       "      <th>68</th>\n",
       "      <th>69</th>\n",
       "      <th>71</th>\n",
       "      <th>70</th>\n",
       "      <th>...</th>\n",
       "      <th>105</th>\n",
       "      <th>106</th>\n",
       "      <th>108</th>\n",
       "      <th>103</th>\n",
       "      <th>104</th>\n",
       "      <th>101</th>\n",
       "      <th>100</th>\n",
       "      <th>109</th>\n",
       "      <th>110</th>\n",
       "      <th>117</th>\n",
       "    </tr>\n",
       "  </thead>\n",
       "  <tbody>\n",
       "    <tr>\n",
       "      <th>연령피해자</th>\n",
       "      <td>3289</td>\n",
       "      <td>3210</td>\n",
       "      <td>3143</td>\n",
       "      <td>3114</td>\n",
       "      <td>3091</td>\n",
       "      <td>3056</td>\n",
       "      <td>3053</td>\n",
       "      <td>3050</td>\n",
       "      <td>3009</td>\n",
       "      <td>2991</td>\n",
       "      <td>...</td>\n",
       "      <td>2</td>\n",
       "      <td>2</td>\n",
       "      <td>2</td>\n",
       "      <td>1</td>\n",
       "      <td>1</td>\n",
       "      <td>1</td>\n",
       "      <td>1</td>\n",
       "      <td>1</td>\n",
       "      <td>1</td>\n",
       "      <td>1</td>\n",
       "    </tr>\n",
       "  </tbody>\n",
       "</table>\n",
       "<p>1 rows × 46 columns</p>\n",
       "</div>"
      ],
      "text/plain": [
       "        65    66    76    75    67    74    68    69    71    70   ...  105  \\\n",
       "연령피해자  3289  3210  3143  3114  3091  3056  3053  3050  3009  2991  ...    2   \n",
       "\n",
       "       106  108  103  104  101  100  109  110  117  \n",
       "연령피해자    2    2    1    1    1    1    1    1    1  \n",
       "\n",
       "[1 rows x 46 columns]"
      ]
     },
     "execution_count": 438,
     "metadata": {},
     "output_type": "execute_result"
    }
   ],
   "source": [
    "cnt = pd.DataFrame(cnt)\n",
    "cnt.transpose()"
   ]
  },
  {
   "cell_type": "markdown",
   "metadata": {},
   "source": [
    "---"
   ]
  },
  {
   "cell_type": "code",
   "execution_count": 439,
   "metadata": {},
   "outputs": [
    {
     "data": {
      "image/png": "[encoded data removed]",
      "text/plain": [
       "<Figure size 1152x864 with 1 Axes>"
      ]
     },
     "metadata": {
      "needs_background": "light"
     },
     "output_type": "display_data"
    }
   ],
   "source": [
    "cnt = df[\"가해자음주\"].value_counts()\n",
    "\n",
    "fig, (ax1) = plt.subplots(1,1, figsize=(16,12))\n",
    "g = sns.countplot(data=df, x=\"가해자음주\", ax=ax1)\n",
    "for i in range(cnt.shape[0]):\n",
    "    g.text(x=i, y=cnt[i], s=cnt[i], \n",
    "           horizontalalignment='center')"
   ]
  },
  {
   "cell_type": "code",
   "execution_count": 440,
   "metadata": {},
   "outputs": [
    {
     "data": {
      "text/html": [
       "<div>\n",
       "<style scoped>\n",
       "    .dataframe tbody tr th:only-of-type {\n",
       "        vertical-align: middle;\n",
       "    }\n",
       "\n",
       "    .dataframe tbody tr th {\n",
       "        vertical-align: top;\n",
       "    }\n",
       "\n",
       "    .dataframe thead th {\n",
       "        text-align: right;\n",
       "    }\n",
       "</style>\n",
       "<table border=\"1\" class=\"dataframe\">\n",
       "  <thead>\n",
       "    <tr style=\"text-align: right;\">\n",
       "      <th></th>\n",
       "      <th>기타불명</th>\n",
       "      <th>해당 없음</th>\n",
       "      <th>음주운전</th>\n",
       "      <th>측정불능</th>\n",
       "    </tr>\n",
       "  </thead>\n",
       "  <tbody>\n",
       "    <tr>\n",
       "      <th>가해자음주</th>\n",
       "      <td>33697</td>\n",
       "      <td>23061</td>\n",
       "      <td>1248</td>\n",
       "      <td>53</td>\n",
       "    </tr>\n",
       "  </tbody>\n",
       "</table>\n",
       "</div>"
      ],
      "text/plain": [
       "        기타불명  해당 없음  음주운전  측정불능\n",
       "가해자음주  33697  23061  1248    53"
      ]
     },
     "execution_count": 440,
     "metadata": {},
     "output_type": "execute_result"
    }
   ],
   "source": [
    "cnt = pd.DataFrame(cnt)\n",
    "cnt.transpose()"
   ]
  },
  {
   "cell_type": "code",
   "execution_count": 494,
   "metadata": {},
   "outputs": [
    {
     "data": {
      "text/plain": [
       "0.021495375393995764"
      ]
     },
     "execution_count": 494,
     "metadata": {},
     "output_type": "execute_result"
    }
   ],
   "source": [
    "len(df[df['가해자음주']=='음주운전'])/len(df['가해자음주'])"
   ]
  },
  {
   "cell_type": "markdown",
   "metadata": {},
   "source": [
    "---"
   ]
  },
  {
   "cell_type": "code",
   "execution_count": 441,
   "metadata": {},
   "outputs": [
    {
     "data": {
      "image/png": "[encoded data removed]",
      "text/plain": [
       "<Figure size 1152x864 with 1 Axes>"
      ]
     },
     "metadata": {
      "needs_background": "light"
     },
     "output_type": "display_data"
    }
   ],
   "source": [
    "cnt = df[\"법규위반가해자\"].value_counts()\n",
    "\n",
    "fig, (ax1) = plt.subplots(1,1, figsize=(16,12))\n",
    "g = sns.countplot(data=df, x=\"법규위반가해자\", ax=ax1)\n",
    "for i in range(cnt.shape[0]):\n",
    "    g.text(x=i, y=cnt[i], s=cnt[i], \n",
    "           horizontalalignment='center')"
   ]
  },
  {
   "cell_type": "code",
   "execution_count": 442,
   "metadata": {},
   "outputs": [
    {
     "data": {
      "text/html": [
       "<div>\n",
       "<style scoped>\n",
       "    .dataframe tbody tr th:only-of-type {\n",
       "        vertical-align: middle;\n",
       "    }\n",
       "\n",
       "    .dataframe tbody tr th {\n",
       "        vertical-align: top;\n",
       "    }\n",
       "\n",
       "    .dataframe thead th {\n",
       "        text-align: right;\n",
       "    }\n",
       "</style>\n",
       "<table border=\"1\" class=\"dataframe\">\n",
       "  <thead>\n",
       "    <tr style=\"text-align: right;\">\n",
       "      <th></th>\n",
       "      <th>안전운전 의무 불이행</th>\n",
       "      <th>보행자 보호의무 위반</th>\n",
       "      <th>신호위반</th>\n",
       "      <th>기타</th>\n",
       "      <th>중앙선 침범</th>\n",
       "      <th>교차로 통행방법 위반</th>\n",
       "      <th>과속</th>\n",
       "      <th>안전거리 미확보</th>\n",
       "    </tr>\n",
       "  </thead>\n",
       "  <tbody>\n",
       "    <tr>\n",
       "      <th>법규위반가해자</th>\n",
       "      <td>41846</td>\n",
       "      <td>8736</td>\n",
       "      <td>3007</td>\n",
       "      <td>2856</td>\n",
       "      <td>708</td>\n",
       "      <td>465</td>\n",
       "      <td>360</td>\n",
       "      <td>81</td>\n",
       "    </tr>\n",
       "  </tbody>\n",
       "</table>\n",
       "</div>"
      ],
      "text/plain": [
       "         안전운전 의무 불이행  보행자 보호의무 위반  신호위반    기타  중앙선 침범  교차로 통행방법 위반   과속  \\\n",
       "법규위반가해자        41846         8736  3007  2856     708          465  360   \n",
       "\n",
       "         안전거리 미확보  \n",
       "법규위반가해자        81  "
      ]
     },
     "execution_count": 442,
     "metadata": {},
     "output_type": "execute_result"
    }
   ],
   "source": [
    "cnt = pd.DataFrame(cnt)\n",
    "cnt.transpose()"
   ]
  },
  {
   "cell_type": "markdown",
   "metadata": {},
   "source": [
    "---"
   ]
  },
  {
   "cell_type": "code",
   "execution_count": 496,
   "metadata": {},
   "outputs": [
    {
     "data": {
      "image/png": "[encoded data removed]",
      "text/plain": [
       "<Figure size 1152x864 with 1 Axes>"
      ]
     },
     "metadata": {
      "needs_background": "light"
     },
     "output_type": "display_data"
    }
   ],
   "source": [
    "cnt = df[\"행동유형가해자\"].value_counts()\n",
    "\n",
    "fig, (ax1) = plt.subplots(1,1, figsize=(16,12))\n",
    "g = sns.countplot(data=df, x=\"행동유형가해자\", ax=ax1)\n",
    "for i in range(cnt.shape[0]):\n",
    "    g.text(x=i, y=cnt[i], s=cnt[i], \n",
    "           horizontalalignment='center')"
   ]
  },
  {
   "cell_type": "code",
   "execution_count": 497,
   "metadata": {},
   "outputs": [
    {
     "data": {
      "text/html": [
       "<div>\n",
       "<style scoped>\n",
       "    .dataframe tbody tr th:only-of-type {\n",
       "        vertical-align: middle;\n",
       "    }\n",
       "\n",
       "    .dataframe tbody tr th {\n",
       "        vertical-align: top;\n",
       "    }\n",
       "\n",
       "    .dataframe thead th {\n",
       "        text-align: right;\n",
       "    }\n",
       "</style>\n",
       "<table border=\"1\" class=\"dataframe\">\n",
       "  <thead>\n",
       "    <tr style=\"text-align: right;\">\n",
       "      <th></th>\n",
       "      <th>직진중</th>\n",
       "      <th>좌우회전중</th>\n",
       "      <th>후진중</th>\n",
       "      <th>기타/불명</th>\n",
       "      <th>주ㆍ정차중</th>\n",
       "      <th>출발중</th>\n",
       "      <th>U턴중</th>\n",
       "      <th>주행 중 대기</th>\n",
       "      <th>진로변경중</th>\n",
       "      <th>앞지르기중</th>\n",
       "    </tr>\n",
       "  </thead>\n",
       "  <tbody>\n",
       "    <tr>\n",
       "      <th>행동유형가해자</th>\n",
       "      <td>31828</td>\n",
       "      <td>16285</td>\n",
       "      <td>5288</td>\n",
       "      <td>2385</td>\n",
       "      <td>779</td>\n",
       "      <td>642</td>\n",
       "      <td>471</td>\n",
       "      <td>163</td>\n",
       "      <td>148</td>\n",
       "      <td>70</td>\n",
       "    </tr>\n",
       "  </tbody>\n",
       "</table>\n",
       "</div>"
      ],
      "text/plain": [
       "           직진중  좌우회전중   후진중  기타/불명  주ㆍ정차중  출발중  U턴중  주행 중 대기  진로변경중  앞지르기중\n",
       "행동유형가해자  31828  16285  5288   2385    779  642  471      163    148     70"
      ]
     },
     "execution_count": 497,
     "metadata": {},
     "output_type": "execute_result"
    }
   ],
   "source": [
    "cnt = pd.DataFrame(cnt)\n",
    "cnt.transpose()"
   ]
  },
  {
   "cell_type": "code",
   "execution_count": 498,
   "metadata": {},
   "outputs": [
    {
     "data": {
      "text/plain": [
       "54.820096798084705"
      ]
     },
     "execution_count": 498,
     "metadata": {},
     "output_type": "execute_result"
    }
   ],
   "source": [
    "(len(df[df['행동유형가해자']=='직진중'])/len(df['행동유형가해자']))*100"
   ]
  },
  {
   "cell_type": "markdown",
   "metadata": {},
   "source": [
    "---"
   ]
  },
  {
   "cell_type": "code",
   "execution_count": 444,
   "metadata": {},
   "outputs": [
    {
     "data": {
      "image/png": "[encoded data removed]",
      "text/plain": [
       "<Figure size 1152x864 with 1 Axes>"
      ]
     },
     "metadata": {
      "needs_background": "light"
     },
     "output_type": "display_data"
    }
   ],
   "source": [
    "cnt = df[\"신체상해정도가해자\"].value_counts()\n",
    "\n",
    "fig, (ax1) = plt.subplots(1,1, figsize=(16,12))\n",
    "g = sns.countplot(data=df, x=\"신체상해정도가해자\", ax=ax1)\n",
    "for i in range(cnt.shape[0]):\n",
    "    g.text(x=i, y=cnt[i], s=cnt[i], \n",
    "           horizontalalignment='center')"
   ]
  },
  {
   "cell_type": "code",
   "execution_count": 445,
   "metadata": {},
   "outputs": [
    {
     "data": {
      "text/html": [
       "<div>\n",
       "<style scoped>\n",
       "    .dataframe tbody tr th:only-of-type {\n",
       "        vertical-align: middle;\n",
       "    }\n",
       "\n",
       "    .dataframe tbody tr th {\n",
       "        vertical-align: top;\n",
       "    }\n",
       "\n",
       "    .dataframe thead th {\n",
       "        text-align: right;\n",
       "    }\n",
       "</style>\n",
       "<table border=\"1\" class=\"dataframe\">\n",
       "  <thead>\n",
       "    <tr style=\"text-align: right;\">\n",
       "      <th></th>\n",
       "      <th>상해없음</th>\n",
       "      <th>기타불명</th>\n",
       "      <th>경상</th>\n",
       "      <th>부상신고</th>\n",
       "      <th>중상</th>\n",
       "      <th>사망</th>\n",
       "    </tr>\n",
       "  </thead>\n",
       "  <tbody>\n",
       "    <tr>\n",
       "      <th>신체상해정도가해자</th>\n",
       "      <td>54426</td>\n",
       "      <td>2972</td>\n",
       "      <td>342</td>\n",
       "      <td>191</td>\n",
       "      <td>123</td>\n",
       "      <td>5</td>\n",
       "    </tr>\n",
       "  </tbody>\n",
       "</table>\n",
       "</div>"
      ],
      "text/plain": [
       "            상해없음  기타불명   경상  부상신고   중상  사망\n",
       "신체상해정도가해자  54426  2972  342   191  123   5"
      ]
     },
     "execution_count": 445,
     "metadata": {},
     "output_type": "execute_result"
    }
   ],
   "source": [
    "cnt = pd.DataFrame(cnt)\n",
    "cnt.transpose()"
   ]
  },
  {
   "cell_type": "markdown",
   "metadata": {},
   "source": [
    "---"
   ]
  },
  {
   "cell_type": "code",
   "execution_count": 446,
   "metadata": {},
   "outputs": [
    {
     "data": {
      "image/png": "[encoded data removed]",
      "text/plain": [
       "<Figure size 1152x864 with 1 Axes>"
      ]
     },
     "metadata": {
      "needs_background": "light"
     },
     "output_type": "display_data"
    }
   ],
   "source": [
    "cnt = df[\"신체상해정도피해자\"].value_counts()\n",
    "\n",
    "fig, (ax1) = plt.subplots(1,1, figsize=(16,12))\n",
    "g = sns.countplot(data=df, x=\"신체상해정도피해자\", ax=ax1)\n",
    "for i in range(cnt.shape[0]):\n",
    "    g.text(x=i, y=cnt[i], s=cnt[i], \n",
    "           horizontalalignment='center')"
   ]
  },
  {
   "cell_type": "code",
   "execution_count": 447,
   "metadata": {},
   "outputs": [
    {
     "data": {
      "text/html": [
       "<div>\n",
       "<style scoped>\n",
       "    .dataframe tbody tr th:only-of-type {\n",
       "        vertical-align: middle;\n",
       "    }\n",
       "\n",
       "    .dataframe tbody tr th {\n",
       "        vertical-align: top;\n",
       "    }\n",
       "\n",
       "    .dataframe thead th {\n",
       "        text-align: right;\n",
       "    }\n",
       "</style>\n",
       "<table border=\"1\" class=\"dataframe\">\n",
       "  <thead>\n",
       "    <tr style=\"text-align: right;\">\n",
       "      <th></th>\n",
       "      <th>중상</th>\n",
       "      <th>경상</th>\n",
       "      <th>사망</th>\n",
       "      <th>부상신고</th>\n",
       "      <th>상해없음</th>\n",
       "      <th>기타불명</th>\n",
       "    </tr>\n",
       "  </thead>\n",
       "  <tbody>\n",
       "    <tr>\n",
       "      <th>신체상해정도피해자</th>\n",
       "      <td>34153</td>\n",
       "      <td>17739</td>\n",
       "      <td>4138</td>\n",
       "      <td>1900</td>\n",
       "      <td>127</td>\n",
       "      <td>2</td>\n",
       "    </tr>\n",
       "  </tbody>\n",
       "</table>\n",
       "</div>"
      ],
      "text/plain": [
       "              중상     경상    사망  부상신고  상해없음  기타불명\n",
       "신체상해정도피해자  34153  17739  4138  1900   127     2"
      ]
     },
     "execution_count": 447,
     "metadata": {},
     "output_type": "execute_result"
    }
   ],
   "source": [
    "cnt = pd.DataFrame(cnt)\n",
    "cnt.transpose()"
   ]
  },
  {
   "cell_type": "code",
   "execution_count": 500,
   "metadata": {},
   "outputs": [
    {
     "data": {
      "text/plain": [
       "30.55340257324446"
      ]
     },
     "execution_count": 500,
     "metadata": {},
     "output_type": "execute_result"
    }
   ],
   "source": [
    "(len(df[df['신체상해정도피해자']=='경상'])/len(df['신체상해정도피해자']))*100"
   ]
  },
  {
   "cell_type": "markdown",
   "metadata": {},
   "source": [
    "---"
   ]
  },
  {
   "cell_type": "code",
   "execution_count": 448,
   "metadata": {},
   "outputs": [
    {
     "data": {
      "image/png": "[encoded data removed]",
      "text/plain": [
       "<Figure size 1152x864 with 1 Axes>"
      ]
     },
     "metadata": {
      "needs_background": "light"
     },
     "output_type": "display_data"
    }
   ],
   "source": [
    "cnt = df[\"가해자신체상해주부위\"].value_counts()\n",
    "\n",
    "fig, (ax1) = plt.subplots(1,1, figsize=(16,12))\n",
    "g = sns.countplot(data=df, x=\"가해자신체상해주부위\", ax=ax1)\n",
    "for i in range(cnt.shape[0]):\n",
    "    g.text(x=i, y=cnt[i], s=cnt[i], \n",
    "           horizontalalignment='center')"
   ]
  },
  {
   "cell_type": "code",
   "execution_count": 449,
   "metadata": {},
   "outputs": [
    {
     "data": {
      "text/html": [
       "<div>\n",
       "<style scoped>\n",
       "    .dataframe tbody tr th:only-of-type {\n",
       "        vertical-align: middle;\n",
       "    }\n",
       "\n",
       "    .dataframe tbody tr th {\n",
       "        vertical-align: top;\n",
       "    }\n",
       "\n",
       "    .dataframe thead th {\n",
       "        text-align: right;\n",
       "    }\n",
       "</style>\n",
       "<table border=\"1\" class=\"dataframe\">\n",
       "  <thead>\n",
       "    <tr style=\"text-align: right;\">\n",
       "      <th></th>\n",
       "      <th>상해없음</th>\n",
       "      <th>기타</th>\n",
       "      <th>얼굴</th>\n",
       "      <th>하퇴부</th>\n",
       "      <th>가슴</th>\n",
       "      <th>허리</th>\n",
       "      <th>팔</th>\n",
       "      <th>발</th>\n",
       "      <th>머리</th>\n",
       "      <th>어깨</th>\n",
       "      <th>대퇴부</th>\n",
       "      <th>손</th>\n",
       "      <th>목</th>\n",
       "      <th>불명</th>\n",
       "      <th>뒷목</th>\n",
       "      <th>앞목</th>\n",
       "      <th>없음</th>\n",
       "      <th>등</th>\n",
       "    </tr>\n",
       "  </thead>\n",
       "  <tbody>\n",
       "    <tr>\n",
       "      <th>가해자신체상해주부위</th>\n",
       "      <td>57395</td>\n",
       "      <td>242</td>\n",
       "      <td>58</td>\n",
       "      <td>56</td>\n",
       "      <td>45</td>\n",
       "      <td>42</td>\n",
       "      <td>40</td>\n",
       "      <td>31</td>\n",
       "      <td>29</td>\n",
       "      <td>26</td>\n",
       "      <td>25</td>\n",
       "      <td>19</td>\n",
       "      <td>17</td>\n",
       "      <td>12</td>\n",
       "      <td>11</td>\n",
       "      <td>7</td>\n",
       "      <td>3</td>\n",
       "      <td>1</td>\n",
       "    </tr>\n",
       "  </tbody>\n",
       "</table>\n",
       "</div>"
      ],
      "text/plain": [
       "             상해없음   기타  얼굴  하퇴부  가슴  허리   팔   발  머리  어깨  대퇴부   손   목  불명  뒷목  \\\n",
       "가해자신체상해주부위  57395  242  58   56  45  42  40  31  29  26   25  19  17  12  11   \n",
       "\n",
       "            앞목  없음  등  \n",
       "가해자신체상해주부위   7   3  1  "
      ]
     },
     "execution_count": 449,
     "metadata": {},
     "output_type": "execute_result"
    }
   ],
   "source": [
    "cnt = pd.DataFrame(cnt)\n",
    "cnt.transpose()"
   ]
  },
  {
   "cell_type": "code",
   "execution_count": 501,
   "metadata": {},
   "outputs": [
    {
     "data": {
      "text/plain": [
       "98.85633579634509"
      ]
     },
     "execution_count": 501,
     "metadata": {},
     "output_type": "execute_result"
    }
   ],
   "source": [
    "(len(df[df['가해자신체상해주부위']=='상해없음'])/len(df['가해자신체상해주부위']))*100"
   ]
  },
  {
   "cell_type": "markdown",
   "metadata": {},
   "source": [
    "---"
   ]
  },
  {
   "cell_type": "code",
   "execution_count": 502,
   "metadata": {},
   "outputs": [
    {
     "data": {
      "image/png": "[encoded data removed]",
      "text/plain": [
       "<Figure size 1152x864 with 1 Axes>"
      ]
     },
     "metadata": {
      "needs_background": "light"
     },
     "output_type": "display_data"
    }
   ],
   "source": [
    "cnt = df[\"피해자신체상해주부위\"].value_counts()\n",
    "\n",
    "fig, (ax1) = plt.subplots(1,1, figsize=(16,12))\n",
    "g = sns.countplot(data=df, x=\"피해자신체상해주부위\", ax=ax1)\n",
    "for i in range(cnt.shape[0]):\n",
    "    g.text(x=i, y=cnt[i], s=cnt[i], \n",
    "           horizontalalignment='center')"
   ]
  },
  {
   "cell_type": "code",
   "execution_count": 503,
   "metadata": {},
   "outputs": [
    {
     "data": {
      "text/html": [
       "<div>\n",
       "<style scoped>\n",
       "    .dataframe tbody tr th:only-of-type {\n",
       "        vertical-align: middle;\n",
       "    }\n",
       "\n",
       "    .dataframe tbody tr th {\n",
       "        vertical-align: top;\n",
       "    }\n",
       "\n",
       "    .dataframe thead th {\n",
       "        text-align: right;\n",
       "    }\n",
       "</style>\n",
       "<table border=\"1\" class=\"dataframe\">\n",
       "  <thead>\n",
       "    <tr style=\"text-align: right;\">\n",
       "      <th></th>\n",
       "      <th>기타</th>\n",
       "      <th>허리</th>\n",
       "      <th>머리</th>\n",
       "      <th>하퇴부</th>\n",
       "      <th>발</th>\n",
       "      <th>대퇴부</th>\n",
       "      <th>가슴</th>\n",
       "      <th>팔</th>\n",
       "      <th>얼굴</th>\n",
       "      <th>어깨</th>\n",
       "      <th>뒷목</th>\n",
       "      <th>손</th>\n",
       "      <th>목</th>\n",
       "      <th>등</th>\n",
       "      <th>배</th>\n",
       "      <th>불명</th>\n",
       "      <th>앞목</th>\n",
       "      <th>상해없음</th>\n",
       "    </tr>\n",
       "  </thead>\n",
       "  <tbody>\n",
       "    <tr>\n",
       "      <th>피해자신체상해주부위</th>\n",
       "      <td>12982</td>\n",
       "      <td>7967</td>\n",
       "      <td>6677</td>\n",
       "      <td>6065</td>\n",
       "      <td>5710</td>\n",
       "      <td>4351</td>\n",
       "      <td>3446</td>\n",
       "      <td>2564</td>\n",
       "      <td>2491</td>\n",
       "      <td>1925</td>\n",
       "      <td>1149</td>\n",
       "      <td>938</td>\n",
       "      <td>673</td>\n",
       "      <td>388</td>\n",
       "      <td>276</td>\n",
       "      <td>185</td>\n",
       "      <td>143</td>\n",
       "      <td>129</td>\n",
       "    </tr>\n",
       "  </tbody>\n",
       "</table>\n",
       "</div>"
      ],
      "text/plain": [
       "               기타    허리    머리   하퇴부     발   대퇴부    가슴     팔    얼굴    어깨    뒷목  \\\n",
       "피해자신체상해주부위  12982  7967  6677  6065  5710  4351  3446  2564  2491  1925  1149   \n",
       "\n",
       "              손    목    등    배   불명   앞목  상해없음  \n",
       "피해자신체상해주부위  938  673  388  276  185  143   129  "
      ]
     },
     "execution_count": 503,
     "metadata": {},
     "output_type": "execute_result"
    }
   ],
   "source": [
    "cnt = pd.DataFrame(cnt)\n",
    "cnt.transpose()"
   ]
  },
  {
   "cell_type": "code",
   "execution_count": 514,
   "metadata": {},
   "outputs": [
    {
     "data": {
      "text/plain": [
       "0.229008422466801"
      ]
     },
     "execution_count": 514,
     "metadata": {},
     "output_type": "execute_result"
    }
   ],
   "source": [
    "(len(df[df['피해자신체상해주부위']=='불명'])+len(df[df['피해자신체상해주부위']=='기타'])+len(df[df['피해자신체상해주부위']=='상해없음']))/len(df['피해자신체상해주부위'])"
   ]
  },
  {
   "cell_type": "markdown",
   "metadata": {},
   "source": [
    "---"
   ]
  },
  {
   "cell_type": "code",
   "execution_count": 450,
   "metadata": {},
   "outputs": [
    {
     "data": {
      "image/png": "[encoded data removed]",
      "text/plain": [
       "<Figure size 1152x864 with 1 Axes>"
      ]
     },
     "metadata": {
      "needs_background": "light"
     },
     "output_type": "display_data"
    }
   ],
   "source": [
    "cnt = df[\"차량용도가해자_중분류\"].value_counts()\n",
    "\n",
    "fig, (ax1) = plt.subplots(1,1, figsize=(16,12))\n",
    "g = sns.countplot(data=df, x=\"차량용도가해자_중분류\", ax=ax1)\n",
    "for i in range(cnt.shape[0]):\n",
    "    g.text(x=i, y=cnt[i], s=cnt[i], \n",
    "           horizontalalignment='center')"
   ]
  },
  {
   "cell_type": "code",
   "execution_count": 451,
   "metadata": {},
   "outputs": [
    {
     "data": {
      "text/html": [
       "<div>\n",
       "<style scoped>\n",
       "    .dataframe tbody tr th:only-of-type {\n",
       "        vertical-align: middle;\n",
       "    }\n",
       "\n",
       "    .dataframe tbody tr th {\n",
       "        vertical-align: top;\n",
       "    }\n",
       "\n",
       "    .dataframe thead th {\n",
       "        text-align: right;\n",
       "    }\n",
       "</style>\n",
       "<table border=\"1\" class=\"dataframe\">\n",
       "  <thead>\n",
       "    <tr style=\"text-align: right;\">\n",
       "      <th></th>\n",
       "      <th>승용차</th>\n",
       "      <th>화물차</th>\n",
       "      <th>택시</th>\n",
       "      <th>노선버스</th>\n",
       "      <th>이륜차</th>\n",
       "      <th>렌터카</th>\n",
       "      <th>자전거</th>\n",
       "      <th>기타/건설기계</th>\n",
       "      <th>비사업용기타</th>\n",
       "      <th>불명</th>\n",
       "      <th>...</th>\n",
       "      <th>사업용기타</th>\n",
       "      <th>어린이통학버스</th>\n",
       "      <th>기타</th>\n",
       "      <th>덤프트럭</th>\n",
       "      <th>개인형이동수단(PM)</th>\n",
       "      <th>사륜오토바이(ATV)</th>\n",
       "      <th>농기계</th>\n",
       "      <th>콘크리트믹서</th>\n",
       "      <th>위험물운송</th>\n",
       "      <th>특수여객(장의)</th>\n",
       "    </tr>\n",
       "  </thead>\n",
       "  <tbody>\n",
       "    <tr>\n",
       "      <th>차량용도가해자_중분류</th>\n",
       "      <td>29200</td>\n",
       "      <td>9879</td>\n",
       "      <td>4095</td>\n",
       "      <td>3588</td>\n",
       "      <td>2495</td>\n",
       "      <td>1560</td>\n",
       "      <td>1529</td>\n",
       "      <td>944</td>\n",
       "      <td>859</td>\n",
       "      <td>841</td>\n",
       "      <td>...</td>\n",
       "      <td>276</td>\n",
       "      <td>247</td>\n",
       "      <td>61</td>\n",
       "      <td>51</td>\n",
       "      <td>47</td>\n",
       "      <td>47</td>\n",
       "      <td>39</td>\n",
       "      <td>25</td>\n",
       "      <td>11</td>\n",
       "      <td>5</td>\n",
       "    </tr>\n",
       "  </tbody>\n",
       "</table>\n",
       "<p>1 rows × 24 columns</p>\n",
       "</div>"
      ],
      "text/plain": [
       "               승용차   화물차    택시  노선버스   이륜차   렌터카   자전거  기타/건설기계  비사업용기타   불명  \\\n",
       "차량용도가해자_중분류  29200  9879  4095  3588  2495  1560  1529      944     859  841   \n",
       "\n",
       "             ...  사업용기타  어린이통학버스  기타  덤프트럭  개인형이동수단(PM)  사륜오토바이(ATV)  농기계  \\\n",
       "차량용도가해자_중분류  ...    276      247  61    51           47           47   39   \n",
       "\n",
       "             콘크리트믹서  위험물운송  특수여객(장의)  \n",
       "차량용도가해자_중분류      25     11         5  \n",
       "\n",
       "[1 rows x 24 columns]"
      ]
     },
     "execution_count": 451,
     "metadata": {},
     "output_type": "execute_result"
    }
   ],
   "source": [
    "cnt = pd.DataFrame(cnt)\n",
    "cnt.transpose()"
   ]
  },
  {
   "cell_type": "code",
   "execution_count": 519,
   "metadata": {},
   "outputs": [
    {
     "data": {
      "text/plain": [
       "6.179920425773782"
      ]
     },
     "execution_count": 519,
     "metadata": {},
     "output_type": "execute_result"
    }
   ],
   "source": [
    "(len(df[df['차량용도가해자_중분류']=='노선버스'])/len(df['차량용도가해자_중분류']))*100"
   ]
  },
  {
   "cell_type": "markdown",
   "metadata": {},
   "source": [
    "---"
   ]
  },
  {
   "cell_type": "code",
   "execution_count": 452,
   "metadata": {},
   "outputs": [
    {
     "data": {
      "image/png": "[encoded data removed]",
      "text/plain": [
       "<Figure size 1152x864 with 1 Axes>"
      ]
     },
     "metadata": {
      "needs_background": "light"
     },
     "output_type": "display_data"
    }
   ],
   "source": [
    "cnt = df[\"도로종류\"].value_counts()\n",
    "\n",
    "fig, (ax1) = plt.subplots(1,1, figsize=(16,12))\n",
    "g = sns.countplot(data=df, x=\"도로종류\", ax=ax1)\n",
    "for i in range(cnt.shape[0]):\n",
    "    g.text(x=i, y=cnt[i], s=cnt[i], \n",
    "           horizontalalignment='center')"
   ]
  },
  {
   "cell_type": "code",
   "execution_count": 453,
   "metadata": {},
   "outputs": [
    {
     "data": {
      "text/html": [
       "<div>\n",
       "<style scoped>\n",
       "    .dataframe tbody tr th:only-of-type {\n",
       "        vertical-align: middle;\n",
       "    }\n",
       "\n",
       "    .dataframe tbody tr th {\n",
       "        vertical-align: top;\n",
       "    }\n",
       "\n",
       "    .dataframe thead th {\n",
       "        text-align: right;\n",
       "    }\n",
       "</style>\n",
       "<table border=\"1\" class=\"dataframe\">\n",
       "  <thead>\n",
       "    <tr style=\"text-align: right;\">\n",
       "      <th></th>\n",
       "      <th>특별광역시도</th>\n",
       "      <th>시도</th>\n",
       "      <th>기타</th>\n",
       "      <th>지방도</th>\n",
       "      <th>일반국도</th>\n",
       "      <th>군도</th>\n",
       "      <th>고속국도</th>\n",
       "    </tr>\n",
       "  </thead>\n",
       "  <tbody>\n",
       "    <tr>\n",
       "      <th>도로종류</th>\n",
       "      <td>23926</td>\n",
       "      <td>18612</td>\n",
       "      <td>5667</td>\n",
       "      <td>3958</td>\n",
       "      <td>2929</td>\n",
       "      <td>2901</td>\n",
       "      <td>66</td>\n",
       "    </tr>\n",
       "  </tbody>\n",
       "</table>\n",
       "</div>"
      ],
      "text/plain": [
       "      특별광역시도     시도    기타   지방도  일반국도    군도  고속국도\n",
       "도로종류   23926  18612  5667  3958  2929  2901    66"
      ]
     },
     "execution_count": 453,
     "metadata": {},
     "output_type": "execute_result"
    }
   ],
   "source": [
    "cnt = pd.DataFrame(cnt)\n",
    "cnt.transpose()"
   ]
  },
  {
   "cell_type": "code",
   "execution_count": 521,
   "metadata": {},
   "outputs": [
    {
     "data": {
      "text/plain": [
       "32.05704541931483"
      ]
     },
     "execution_count": 521,
     "metadata": {},
     "output_type": "execute_result"
    }
   ],
   "source": [
    "(len(df[df['도로종류']=='시도'])/len(df['도로종류']))*100"
   ]
  },
  {
   "cell_type": "markdown",
   "metadata": {},
   "source": [
    "---"
   ]
  },
  {
   "cell_type": "code",
   "execution_count": 454,
   "metadata": {},
   "outputs": [
    {
     "data": {
      "image/png": "[encoded data removed]",
      "text/plain": [
       "<Figure size 1152x864 with 1 Axes>"
      ]
     },
     "metadata": {
      "needs_background": "light"
     },
     "output_type": "display_data"
    }
   ],
   "source": [
    "cnt = df[\"도로형태\"].value_counts()\n",
    "\n",
    "fig, (ax1) = plt.subplots(1,1, figsize=(16,12))\n",
    "g = sns.countplot(data=df, x=\"도로형태\", ax=ax1)\n",
    "for i in range(cnt.shape[0]):\n",
    "    g.text(x=i, y=cnt[i], s=cnt[i], \n",
    "           horizontalalignment='center')"
   ]
  },
  {
   "cell_type": "code",
   "execution_count": 455,
   "metadata": {},
   "outputs": [
    {
     "data": {
      "text/html": [
       "<div>\n",
       "<style scoped>\n",
       "    .dataframe tbody tr th:only-of-type {\n",
       "        vertical-align: middle;\n",
       "    }\n",
       "\n",
       "    .dataframe tbody tr th {\n",
       "        vertical-align: top;\n",
       "    }\n",
       "\n",
       "    .dataframe thead th {\n",
       "        text-align: right;\n",
       "    }\n",
       "</style>\n",
       "<table border=\"1\" class=\"dataframe\">\n",
       "  <thead>\n",
       "    <tr style=\"text-align: right;\">\n",
       "      <th></th>\n",
       "      <th>단일로</th>\n",
       "      <th>교차로</th>\n",
       "      <th>기타</th>\n",
       "      <th>기타/불명</th>\n",
       "      <th>주차장</th>\n",
       "      <th>불명</th>\n",
       "    </tr>\n",
       "  </thead>\n",
       "  <tbody>\n",
       "    <tr>\n",
       "      <th>도로형태</th>\n",
       "      <td>32805</td>\n",
       "      <td>21874</td>\n",
       "      <td>2039</td>\n",
       "      <td>906</td>\n",
       "      <td>403</td>\n",
       "      <td>32</td>\n",
       "    </tr>\n",
       "  </tbody>\n",
       "</table>\n",
       "</div>"
      ],
      "text/plain": [
       "        단일로    교차로    기타  기타/불명  주차장  불명\n",
       "도로형태  32805  21874  2039    906  403  32"
      ]
     },
     "execution_count": 455,
     "metadata": {},
     "output_type": "execute_result"
    }
   ],
   "source": [
    "cnt = pd.DataFrame(cnt)\n",
    "cnt.transpose()"
   ]
  },
  {
   "cell_type": "code",
   "execution_count": 524,
   "metadata": {},
   "outputs": [
    {
     "data": {
      "text/plain": [
       "37.67546805835443"
      ]
     },
     "execution_count": 524,
     "metadata": {},
     "output_type": "execute_result"
    }
   ],
   "source": [
    "(len(df[df['도로형태']=='교차로'])/len(df['도로형태']))*100"
   ]
  },
  {
   "cell_type": "markdown",
   "metadata": {},
   "source": [
    "---"
   ]
  },
  {
   "cell_type": "code",
   "execution_count": 456,
   "metadata": {},
   "outputs": [
    {
     "data": {
      "image/png": "[encoded data removed]",
      "text/plain": [
       "<Figure size 1152x864 with 1 Axes>"
      ]
     },
     "metadata": {
      "needs_background": "light"
     },
     "output_type": "display_data"
    }
   ],
   "source": [
    "cnt = df[\"노인보호구역_여부\"].value_counts()\n",
    "\n",
    "fig, (ax1) = plt.subplots(1,1, figsize=(16,12))\n",
    "g = sns.countplot(data=df, x=\"노인보호구역_여부\", ax=ax1)\n",
    "for i in range(cnt.shape[0]):\n",
    "    g.text(x=i, y=cnt[i], s=cnt[i], \n",
    "           horizontalalignment='center')"
   ]
  },
  {
   "cell_type": "code",
   "execution_count": 457,
   "metadata": {},
   "outputs": [
    {
     "data": {
      "text/html": [
       "<div>\n",
       "<style scoped>\n",
       "    .dataframe tbody tr th:only-of-type {\n",
       "        vertical-align: middle;\n",
       "    }\n",
       "\n",
       "    .dataframe tbody tr th {\n",
       "        vertical-align: top;\n",
       "    }\n",
       "\n",
       "    .dataframe thead th {\n",
       "        text-align: right;\n",
       "    }\n",
       "</style>\n",
       "<table border=\"1\" class=\"dataframe\">\n",
       "  <thead>\n",
       "    <tr style=\"text-align: right;\">\n",
       "      <th></th>\n",
       "      <th>아니오</th>\n",
       "      <th>예</th>\n",
       "    </tr>\n",
       "  </thead>\n",
       "  <tbody>\n",
       "    <tr>\n",
       "      <th>노인보호구역_여부</th>\n",
       "      <td>58018</td>\n",
       "      <td>41</td>\n",
       "    </tr>\n",
       "  </tbody>\n",
       "</table>\n",
       "</div>"
      ],
      "text/plain": [
       "             아니오   예\n",
       "노인보호구역_여부  58018  41"
      ]
     },
     "execution_count": 457,
     "metadata": {},
     "output_type": "execute_result"
    }
   ],
   "source": [
    "cnt = pd.DataFrame(cnt)\n",
    "cnt.transpose()"
   ]
  },
  {
   "cell_type": "markdown",
   "metadata": {},
   "source": [
    "---"
   ]
  },
  {
   "cell_type": "code",
   "execution_count": 458,
   "metadata": {},
   "outputs": [
    {
     "data": {
      "image/png": "[encoded data removed]",
      "text/plain": [
       "<Figure size 1152x864 with 1 Axes>"
      ]
     },
     "metadata": {
      "needs_background": "light"
     },
     "output_type": "display_data"
    }
   ],
   "source": [
    "cnt = df[\"어린이보호구역_여부\"].value_counts()\n",
    "\n",
    "fig, (ax1) = plt.subplots(1,1, figsize=(16,12))\n",
    "g = sns.countplot(data=df, x=\"어린이보호구역_여부\", ax=ax1)\n",
    "for i in range(cnt.shape[0]):\n",
    "    g.text(x=i, y=cnt[i], s=cnt[i], \n",
    "           horizontalalignment='center')"
   ]
  },
  {
   "cell_type": "code",
   "execution_count": 459,
   "metadata": {},
   "outputs": [
    {
     "data": {
      "text/html": [
       "<div>\n",
       "<style scoped>\n",
       "    .dataframe tbody tr th:only-of-type {\n",
       "        vertical-align: middle;\n",
       "    }\n",
       "\n",
       "    .dataframe tbody tr th {\n",
       "        vertical-align: top;\n",
       "    }\n",
       "\n",
       "    .dataframe thead th {\n",
       "        text-align: right;\n",
       "    }\n",
       "</style>\n",
       "<table border=\"1\" class=\"dataframe\">\n",
       "  <thead>\n",
       "    <tr style=\"text-align: right;\">\n",
       "      <th></th>\n",
       "      <th>아니오</th>\n",
       "      <th>예</th>\n",
       "    </tr>\n",
       "  </thead>\n",
       "  <tbody>\n",
       "    <tr>\n",
       "      <th>어린이보호구역_여부</th>\n",
       "      <td>57846</td>\n",
       "      <td>213</td>\n",
       "    </tr>\n",
       "  </tbody>\n",
       "</table>\n",
       "</div>"
      ],
      "text/plain": [
       "              아니오    예\n",
       "어린이보호구역_여부  57846  213"
      ]
     },
     "execution_count": 459,
     "metadata": {},
     "output_type": "execute_result"
    }
   ],
   "source": [
    "cnt = pd.DataFrame(cnt)\n",
    "cnt.transpose()"
   ]
  },
  {
   "cell_type": "markdown",
   "metadata": {},
   "source": [
    "---"
   ]
  },
  {
   "cell_type": "code",
   "execution_count": 460,
   "metadata": {},
   "outputs": [
    {
     "data": {
      "image/png": "[encoded data removed]",
      "text/plain": [
       "<Figure size 1152x864 with 1 Axes>"
      ]
     },
     "metadata": {
      "needs_background": "light"
     },
     "output_type": "display_data"
    }
   ],
   "source": [
    "cnt = df[\"자전거도로_여부\"].value_counts()\n",
    "\n",
    "fig, (ax1) = plt.subplots(1,1, figsize=(16,12))\n",
    "g = sns.countplot(data=df, x=\"자전거도로_여부\", ax=ax1)\n",
    "for i in range(cnt.shape[0]):\n",
    "    g.text(x=i, y=cnt[i], s=cnt[i], \n",
    "           horizontalalignment='center')"
   ]
  },
  {
   "cell_type": "code",
   "execution_count": 461,
   "metadata": {},
   "outputs": [
    {
     "data": {
      "text/html": [
       "<div>\n",
       "<style scoped>\n",
       "    .dataframe tbody tr th:only-of-type {\n",
       "        vertical-align: middle;\n",
       "    }\n",
       "\n",
       "    .dataframe tbody tr th {\n",
       "        vertical-align: top;\n",
       "    }\n",
       "\n",
       "    .dataframe thead th {\n",
       "        text-align: right;\n",
       "    }\n",
       "</style>\n",
       "<table border=\"1\" class=\"dataframe\">\n",
       "  <thead>\n",
       "    <tr style=\"text-align: right;\">\n",
       "      <th></th>\n",
       "      <th>아니오</th>\n",
       "      <th>예</th>\n",
       "    </tr>\n",
       "  </thead>\n",
       "  <tbody>\n",
       "    <tr>\n",
       "      <th>자전거도로_여부</th>\n",
       "      <td>34574</td>\n",
       "      <td>117</td>\n",
       "    </tr>\n",
       "  </tbody>\n",
       "</table>\n",
       "</div>"
      ],
      "text/plain": [
       "            아니오    예\n",
       "자전거도로_여부  34574  117"
      ]
     },
     "execution_count": 461,
     "metadata": {},
     "output_type": "execute_result"
    }
   ],
   "source": [
    "cnt = pd.DataFrame(cnt)\n",
    "cnt.transpose()"
   ]
  },
  {
   "cell_type": "markdown",
   "metadata": {},
   "source": [
    "--"
   ]
  },
  {
   "cell_type": "code",
   "execution_count": 462,
   "metadata": {},
   "outputs": [
    {
     "data": {
      "image/png": "[encoded data removed]",
      "text/plain": [
       "<Figure size 1152x864 with 1 Axes>"
      ]
     },
     "metadata": {
      "needs_background": "light"
     },
     "output_type": "display_data"
    }
   ],
   "source": [
    "cnt = df[\"도로선형\"].value_counts()\n",
    "\n",
    "fig, (ax1) = plt.subplots(1,1, figsize=(16,12))\n",
    "g = sns.countplot(data=df, x=\"도로선형\", ax=ax1)\n",
    "for i in range(cnt.shape[0]):\n",
    "    g.text(x=i, y=cnt[i], s=cnt[i], \n",
    "           horizontalalignment='center')"
   ]
  },
  {
   "cell_type": "code",
   "execution_count": 463,
   "metadata": {},
   "outputs": [
    {
     "data": {
      "text/html": [
       "<div>\n",
       "<style scoped>\n",
       "    .dataframe tbody tr th:only-of-type {\n",
       "        vertical-align: middle;\n",
       "    }\n",
       "\n",
       "    .dataframe tbody tr th {\n",
       "        vertical-align: top;\n",
       "    }\n",
       "\n",
       "    .dataframe thead th {\n",
       "        text-align: right;\n",
       "    }\n",
       "</style>\n",
       "<table border=\"1\" class=\"dataframe\">\n",
       "  <thead>\n",
       "    <tr style=\"text-align: right;\">\n",
       "      <th></th>\n",
       "      <th>평지</th>\n",
       "      <th>내리막</th>\n",
       "      <th>오르막</th>\n",
       "      <th>평지</th>\n",
       "      <th>기타/서비스구역</th>\n",
       "    </tr>\n",
       "  </thead>\n",
       "  <tbody>\n",
       "    <tr>\n",
       "      <th>도로선형</th>\n",
       "      <td>48277</td>\n",
       "      <td>3426</td>\n",
       "      <td>3200</td>\n",
       "      <td>1814</td>\n",
       "      <td>1342</td>\n",
       "    </tr>\n",
       "  </tbody>\n",
       "</table>\n",
       "</div>"
      ],
      "text/plain": [
       "         평지   내리막   오르막  평지    기타/서비스구역\n",
       "도로선형  48277  3426  3200  1814      1342"
      ]
     },
     "execution_count": 463,
     "metadata": {},
     "output_type": "execute_result"
    }
   ],
   "source": [
    "cnt = pd.DataFrame(cnt)\n",
    "cnt.transpose()"
   ]
  },
  {
   "cell_type": "code",
   "execution_count": 529,
   "metadata": {},
   "outputs": [
    {
     "data": {
      "text/plain": [
       "0.11412528634664737"
      ]
     },
     "execution_count": 529,
     "metadata": {},
     "output_type": "execute_result"
    }
   ],
   "source": [
    "(len(df[df['도로선형']=='오르막'])+len(df[df['도로선형']=='내리막']))/len(df['도로선형'])"
   ]
  },
  {
   "cell_type": "markdown",
   "metadata": {},
   "source": [
    "---"
   ]
  },
  {
   "cell_type": "code",
   "execution_count": 464,
   "metadata": {},
   "outputs": [
    {
     "data": {
      "image/png": "[encoded data removed]",
      "text/plain": [
       "<Figure size 1152x864 with 1 Axes>"
      ]
     },
     "metadata": {
      "needs_background": "light"
     },
     "output_type": "display_data"
    }
   ],
   "source": [
    "cnt = df[\"기상상태\"].value_counts()\n",
    "\n",
    "fig, (ax1) = plt.subplots(1,1, figsize=(16,12))\n",
    "g = sns.countplot(data=df, x=\"기상상태\", ax=ax1)\n",
    "for i in range(cnt.shape[0]):\n",
    "    g.text(x=i, y=cnt[i], s=cnt[i], \n",
    "           horizontalalignment='center')"
   ]
  },
  {
   "cell_type": "code",
   "execution_count": 465,
   "metadata": {},
   "outputs": [
    {
     "data": {
      "text/html": [
       "<div>\n",
       "<style scoped>\n",
       "    .dataframe tbody tr th:only-of-type {\n",
       "        vertical-align: middle;\n",
       "    }\n",
       "\n",
       "    .dataframe tbody tr th {\n",
       "        vertical-align: top;\n",
       "    }\n",
       "\n",
       "    .dataframe thead th {\n",
       "        text-align: right;\n",
       "    }\n",
       "</style>\n",
       "<table border=\"1\" class=\"dataframe\">\n",
       "  <thead>\n",
       "    <tr style=\"text-align: right;\">\n",
       "      <th></th>\n",
       "      <th>맑음</th>\n",
       "      <th>비</th>\n",
       "      <th>흐림</th>\n",
       "      <th>기타/불명</th>\n",
       "      <th>눈</th>\n",
       "      <th>안개</th>\n",
       "    </tr>\n",
       "  </thead>\n",
       "  <tbody>\n",
       "    <tr>\n",
       "      <th>기상상태</th>\n",
       "      <td>51744</td>\n",
       "      <td>3518</td>\n",
       "      <td>2190</td>\n",
       "      <td>305</td>\n",
       "      <td>204</td>\n",
       "      <td>98</td>\n",
       "    </tr>\n",
       "  </tbody>\n",
       "</table>\n",
       "</div>"
      ],
      "text/plain": [
       "         맑음     비    흐림  기타/불명    눈  안개\n",
       "기상상태  51744  3518  2190    305  204  98"
      ]
     },
     "execution_count": 465,
     "metadata": {},
     "output_type": "execute_result"
    }
   ],
   "source": [
    "cnt = pd.DataFrame(cnt)\n",
    "cnt.transpose()"
   ]
  },
  {
   "cell_type": "code",
   "execution_count": 531,
   "metadata": {},
   "outputs": [
    {
     "data": {
      "text/plain": [
       "0.8912313336433628"
      ]
     },
     "execution_count": 531,
     "metadata": {},
     "output_type": "execute_result"
    }
   ],
   "source": [
    "len(df[df['기상상태']=='맑음'])/len(df['기상상태'])"
   ]
  },
  {
   "cell_type": "markdown",
   "metadata": {},
   "source": [
    "---"
   ]
  },
  {
   "cell_type": "code",
   "execution_count": 466,
   "metadata": {},
   "outputs": [
    {
     "data": {
      "image/png": "[encoded data removed]",
      "text/plain": [
       "<Figure size 1152x864 with 1 Axes>"
      ]
     },
     "metadata": {
      "needs_background": "light"
     },
     "output_type": "display_data"
    }
   ],
   "source": [
    "cnt = df[\"노면상태\"].value_counts()\n",
    "\n",
    "fig, (ax1) = plt.subplots(1,1, figsize=(16,12))\n",
    "g = sns.countplot(data=df, x=\"노면상태\", ax=ax1)\n",
    "for i in range(cnt.shape[0]):\n",
    "    g.text(x=i, y=cnt[i], s=cnt[i], \n",
    "           horizontalalignment='center')"
   ]
  },
  {
   "cell_type": "code",
   "execution_count": 467,
   "metadata": {},
   "outputs": [
    {
     "data": {
      "text/html": [
       "<div>\n",
       "<style scoped>\n",
       "    .dataframe tbody tr th:only-of-type {\n",
       "        vertical-align: middle;\n",
       "    }\n",
       "\n",
       "    .dataframe tbody tr th {\n",
       "        vertical-align: top;\n",
       "    }\n",
       "\n",
       "    .dataframe thead th {\n",
       "        text-align: right;\n",
       "    }\n",
       "</style>\n",
       "<table border=\"1\" class=\"dataframe\">\n",
       "  <thead>\n",
       "    <tr style=\"text-align: right;\">\n",
       "      <th></th>\n",
       "      <th>건조</th>\n",
       "      <th>젖음/습기</th>\n",
       "      <th>기타</th>\n",
       "      <th>서리/결빙</th>\n",
       "      <th>적설</th>\n",
       "    </tr>\n",
       "  </thead>\n",
       "  <tbody>\n",
       "    <tr>\n",
       "      <th>노면상태</th>\n",
       "      <td>52709</td>\n",
       "      <td>4688</td>\n",
       "      <td>469</td>\n",
       "      <td>103</td>\n",
       "      <td>90</td>\n",
       "    </tr>\n",
       "  </tbody>\n",
       "</table>\n",
       "</div>"
      ],
      "text/plain": [
       "         건조  젖음/습기   기타  서리/결빙  적설\n",
       "노면상태  52709   4688  469    103  90"
      ]
     },
     "execution_count": 467,
     "metadata": {},
     "output_type": "execute_result"
    }
   ],
   "source": [
    "cnt = pd.DataFrame(cnt)\n",
    "cnt.transpose()"
   ]
  },
  {
   "cell_type": "code",
   "execution_count": 532,
   "metadata": {},
   "outputs": [
    {
     "data": {
      "text/plain": [
       "0.08074544859539434"
      ]
     },
     "execution_count": 532,
     "metadata": {},
     "output_type": "execute_result"
    }
   ],
   "source": [
    "len(df[df['노면상태']=='젖음/습기'])/len(df['노면상태'])"
   ]
  },
  {
   "cell_type": "markdown",
   "metadata": {},
   "source": [
    "---"
   ]
  },
  {
   "cell_type": "code",
   "execution_count": 468,
   "metadata": {},
   "outputs": [
    {
     "data": {
      "image/png": "[encoded data removed]",
      "text/plain": [
       "<Figure size 1152x864 with 1 Axes>"
      ]
     },
     "metadata": {
      "needs_background": "light"
     },
     "output_type": "display_data"
    }
   ],
   "source": [
    "cnt = df[\"교차로형태\"].value_counts()\n",
    "\n",
    "fig, (ax1) = plt.subplots(1,1, figsize=(16,12))\n",
    "g = sns.countplot(data=df, x=\"교차로형태\", ax=ax1)\n",
    "for i in range(cnt.shape[0]):\n",
    "    g.text(x=i, y=cnt[i], s=cnt[i], \n",
    "           horizontalalignment='center')"
   ]
  },
  {
   "cell_type": "code",
   "execution_count": 469,
   "metadata": {},
   "outputs": [
    {
     "data": {
      "text/html": [
       "<div>\n",
       "<style scoped>\n",
       "    .dataframe tbody tr th:only-of-type {\n",
       "        vertical-align: middle;\n",
       "    }\n",
       "\n",
       "    .dataframe tbody tr th {\n",
       "        vertical-align: top;\n",
       "    }\n",
       "\n",
       "    .dataframe thead th {\n",
       "        text-align: right;\n",
       "    }\n",
       "</style>\n",
       "<table border=\"1\" class=\"dataframe\">\n",
       "  <thead>\n",
       "    <tr style=\"text-align: right;\">\n",
       "      <th></th>\n",
       "      <th>교차로아님</th>\n",
       "      <th>교차로</th>\n",
       "      <th>기타불명</th>\n",
       "    </tr>\n",
       "  </thead>\n",
       "  <tbody>\n",
       "    <tr>\n",
       "      <th>교차로형태</th>\n",
       "      <td>36120</td>\n",
       "      <td>21874</td>\n",
       "      <td>65</td>\n",
       "    </tr>\n",
       "  </tbody>\n",
       "</table>\n",
       "</div>"
      ],
      "text/plain": [
       "       교차로아님    교차로  기타불명\n",
       "교차로형태  36120  21874    65"
      ]
     },
     "execution_count": 469,
     "metadata": {},
     "output_type": "execute_result"
    }
   ],
   "source": [
    "cnt = pd.DataFrame(cnt)\n",
    "cnt.transpose()"
   ]
  },
  {
   "cell_type": "markdown",
   "metadata": {},
   "source": [
    "---"
   ]
  },
  {
   "cell_type": "code",
   "execution_count": 470,
   "metadata": {},
   "outputs": [
    {
     "data": {
      "image/png": "[encoded data removed]",
      "text/plain": [
       "<Figure size 1152x864 with 1 Axes>"
      ]
     },
     "metadata": {
      "needs_background": "light"
     },
     "output_type": "display_data"
    }
   ],
   "source": [
    "cnt = df[\"사망자수\"].value_counts()\n",
    "\n",
    "fig, (ax1) = plt.subplots(1,1, figsize=(16,12))\n",
    "g = sns.countplot(data=df, x=\"사망자수\", ax=ax1)\n",
    "for i in range(cnt.shape[0]):\n",
    "    g.text(x=i, y=cnt[i], s=cnt[i], \n",
    "           horizontalalignment='center')"
   ]
  },
  {
   "cell_type": "code",
   "execution_count": 471,
   "metadata": {},
   "outputs": [
    {
     "data": {
      "text/html": [
       "<div>\n",
       "<style scoped>\n",
       "    .dataframe tbody tr th:only-of-type {\n",
       "        vertical-align: middle;\n",
       "    }\n",
       "\n",
       "    .dataframe tbody tr th {\n",
       "        vertical-align: top;\n",
       "    }\n",
       "\n",
       "    .dataframe thead th {\n",
       "        text-align: right;\n",
       "    }\n",
       "</style>\n",
       "<table border=\"1\" class=\"dataframe\">\n",
       "  <thead>\n",
       "    <tr style=\"text-align: right;\">\n",
       "      <th></th>\n",
       "      <th>0</th>\n",
       "      <th>1</th>\n",
       "      <th>2</th>\n",
       "      <th>3</th>\n",
       "      <th>4</th>\n",
       "    </tr>\n",
       "  </thead>\n",
       "  <tbody>\n",
       "    <tr>\n",
       "      <th>사망자수</th>\n",
       "      <td>53909</td>\n",
       "      <td>4119</td>\n",
       "      <td>28</td>\n",
       "      <td>2</td>\n",
       "      <td>1</td>\n",
       "    </tr>\n",
       "  </tbody>\n",
       "</table>\n",
       "</div>"
      ],
      "text/plain": [
       "          0     1   2  3  4\n",
       "사망자수  53909  4119  28  2  1"
      ]
     },
     "execution_count": 471,
     "metadata": {},
     "output_type": "execute_result"
    }
   ],
   "source": [
    "cnt = pd.DataFrame(cnt)\n",
    "cnt.transpose()"
   ]
  },
  {
   "cell_type": "code",
   "execution_count": 535,
   "metadata": {},
   "outputs": [
    {
     "data": {
      "text/plain": [
       "7.1479012728431375"
      ]
     },
     "execution_count": 535,
     "metadata": {},
     "output_type": "execute_result"
    }
   ],
   "source": [
    "(1-(len(df[df['사망자수']==0])/len(df['사망자수'])))*100"
   ]
  },
  {
   "cell_type": "markdown",
   "metadata": {},
   "source": [
    "---"
   ]
  },
  {
   "cell_type": "code",
   "execution_count": 472,
   "metadata": {},
   "outputs": [
    {
     "data": {
      "image/png": "[encoded data removed]",
      "text/plain": [
       "<Figure size 1152x864 with 1 Axes>"
      ]
     },
     "metadata": {
      "needs_background": "light"
     },
     "output_type": "display_data"
    }
   ],
   "source": [
    "cnt = df[\"중상자수\"].value_counts()\n",
    "\n",
    "fig, (ax1) = plt.subplots(1,1, figsize=(16,12))\n",
    "g = sns.countplot(data=df, x=\"중상자수\", ax=ax1)\n",
    "for i in range(cnt.shape[0]):\n",
    "    g.text(x=i, y=cnt[i], s=cnt[i], \n",
    "           horizontalalignment='center')"
   ]
  },
  {
   "cell_type": "code",
   "execution_count": 473,
   "metadata": {},
   "outputs": [
    {
     "data": {
      "text/html": [
       "<div>\n",
       "<style scoped>\n",
       "    .dataframe tbody tr th:only-of-type {\n",
       "        vertical-align: middle;\n",
       "    }\n",
       "\n",
       "    .dataframe tbody tr th {\n",
       "        vertical-align: top;\n",
       "    }\n",
       "\n",
       "    .dataframe thead th {\n",
       "        text-align: right;\n",
       "    }\n",
       "</style>\n",
       "<table border=\"1\" class=\"dataframe\">\n",
       "  <thead>\n",
       "    <tr style=\"text-align: right;\">\n",
       "      <th></th>\n",
       "      <th>1</th>\n",
       "      <th>0</th>\n",
       "      <th>2</th>\n",
       "      <th>3</th>\n",
       "      <th>4</th>\n",
       "      <th>6</th>\n",
       "      <th>5</th>\n",
       "    </tr>\n",
       "  </thead>\n",
       "  <tbody>\n",
       "    <tr>\n",
       "      <th>중상자수</th>\n",
       "      <td>33973</td>\n",
       "      <td>23661</td>\n",
       "      <td>392</td>\n",
       "      <td>26</td>\n",
       "      <td>4</td>\n",
       "      <td>2</td>\n",
       "      <td>1</td>\n",
       "    </tr>\n",
       "  </tbody>\n",
       "</table>\n",
       "</div>"
      ],
      "text/plain": [
       "          1      0    2   3  4  6  5\n",
       "중상자수  33973  23661  392  26  4  2  1"
      ]
     },
     "execution_count": 473,
     "metadata": {},
     "output_type": "execute_result"
    }
   ],
   "source": [
    "cnt = pd.DataFrame(cnt)\n",
    "cnt.transpose()"
   ]
  },
  {
   "cell_type": "code",
   "execution_count": 536,
   "metadata": {},
   "outputs": [
    {
     "data": {
      "text/plain": [
       "59.24662842970082"
      ]
     },
     "execution_count": 536,
     "metadata": {},
     "output_type": "execute_result"
    }
   ],
   "source": [
    "(1-(len(df[df['중상자수']==0])/len(df['중상자수'])))*100"
   ]
  },
  {
   "cell_type": "markdown",
   "metadata": {},
   "source": [
    "---"
   ]
  },
  {
   "cell_type": "code",
   "execution_count": 474,
   "metadata": {},
   "outputs": [
    {
     "data": {
      "image/png": "[encoded data removed]",
      "text/plain": [
       "<Figure size 1152x864 with 1 Axes>"
      ]
     },
     "metadata": {
      "needs_background": "light"
     },
     "output_type": "display_data"
    }
   ],
   "source": [
    "cnt = df[\"경상자수\"].value_counts()\n",
    "\n",
    "fig, (ax1) = plt.subplots(1,1, figsize=(16,12))\n",
    "g = sns.countplot(data=df, x=\"경상자수\", ax=ax1)\n",
    "for i in range(cnt.shape[0]):\n",
    "    g.text(x=i, y=cnt[i], s=cnt[i], \n",
    "           horizontalalignment='center')"
   ]
  },
  {
   "cell_type": "code",
   "execution_count": 475,
   "metadata": {},
   "outputs": [
    {
     "data": {
      "text/html": [
       "<div>\n",
       "<style scoped>\n",
       "    .dataframe tbody tr th:only-of-type {\n",
       "        vertical-align: middle;\n",
       "    }\n",
       "\n",
       "    .dataframe tbody tr th {\n",
       "        vertical-align: top;\n",
       "    }\n",
       "\n",
       "    .dataframe thead th {\n",
       "        text-align: right;\n",
       "    }\n",
       "</style>\n",
       "<table border=\"1\" class=\"dataframe\">\n",
       "  <thead>\n",
       "    <tr style=\"text-align: right;\">\n",
       "      <th></th>\n",
       "      <th>0</th>\n",
       "      <th>1</th>\n",
       "      <th>2</th>\n",
       "      <th>3</th>\n",
       "      <th>4</th>\n",
       "      <th>5</th>\n",
       "      <th>9</th>\n",
       "      <th>8</th>\n",
       "      <th>7</th>\n",
       "      <th>6</th>\n",
       "    </tr>\n",
       "  </thead>\n",
       "  <tbody>\n",
       "    <tr>\n",
       "      <th>경상자수</th>\n",
       "      <td>39657</td>\n",
       "      <td>17978</td>\n",
       "      <td>375</td>\n",
       "      <td>32</td>\n",
       "      <td>9</td>\n",
       "      <td>3</td>\n",
       "      <td>2</td>\n",
       "      <td>1</td>\n",
       "      <td>1</td>\n",
       "      <td>1</td>\n",
       "    </tr>\n",
       "  </tbody>\n",
       "</table>\n",
       "</div>"
      ],
      "text/plain": [
       "          0      1    2   3  4  5  9  8  7  6\n",
       "경상자수  39657  17978  375  32  9  3  2  1  1  1"
      ]
     },
     "execution_count": 475,
     "metadata": {},
     "output_type": "execute_result"
    }
   ],
   "source": [
    "cnt = pd.DataFrame(cnt)\n",
    "cnt.transpose()"
   ]
  },
  {
   "cell_type": "code",
   "execution_count": 538,
   "metadata": {},
   "outputs": [
    {
     "data": {
      "text/plain": [
       "31.695344391050483"
      ]
     },
     "execution_count": 538,
     "metadata": {},
     "output_type": "execute_result"
    }
   ],
   "source": [
    "(1-(len(df[df['경상자수']==0])/len(df['경상자수'])))*100"
   ]
  },
  {
   "cell_type": "markdown",
   "metadata": {},
   "source": [
    "---"
   ]
  },
  {
   "cell_type": "code",
   "execution_count": 476,
   "metadata": {},
   "outputs": [
    {
     "data": {
      "image/png": "[encoded data removed]",
      "text/plain": [
       "<Figure size 1152x864 with 1 Axes>"
      ]
     },
     "metadata": {
      "needs_background": "light"
     },
     "output_type": "display_data"
    }
   ],
   "source": [
    "cnt = df[\"부상신고자수\"].value_counts()\n",
    "\n",
    "fig, (ax1) = plt.subplots(1,1, figsize=(16,12))\n",
    "g = sns.countplot(data=df, x=\"부상신고자수\", ax=ax1)\n",
    "for i in range(cnt.shape[0]):\n",
    "    g.text(x=i, y=cnt[i], s=cnt[i], \n",
    "           horizontalalignment='center')"
   ]
  },
  {
   "cell_type": "code",
   "execution_count": 477,
   "metadata": {},
   "outputs": [
    {
     "data": {
      "text/html": [
       "<div>\n",
       "<style scoped>\n",
       "    .dataframe tbody tr th:only-of-type {\n",
       "        vertical-align: middle;\n",
       "    }\n",
       "\n",
       "    .dataframe tbody tr th {\n",
       "        vertical-align: top;\n",
       "    }\n",
       "\n",
       "    .dataframe thead th {\n",
       "        text-align: right;\n",
       "    }\n",
       "</style>\n",
       "<table border=\"1\" class=\"dataframe\">\n",
       "  <thead>\n",
       "    <tr style=\"text-align: right;\">\n",
       "      <th></th>\n",
       "      <th>0</th>\n",
       "      <th>1</th>\n",
       "      <th>2</th>\n",
       "      <th>3</th>\n",
       "    </tr>\n",
       "  </thead>\n",
       "  <tbody>\n",
       "    <tr>\n",
       "      <th>부상신고자수</th>\n",
       "      <td>55916</td>\n",
       "      <td>2106</td>\n",
       "      <td>36</td>\n",
       "      <td>1</td>\n",
       "    </tr>\n",
       "  </tbody>\n",
       "</table>\n",
       "</div>"
      ],
      "text/plain": [
       "            0     1   2  3\n",
       "부상신고자수  55916  2106  36  1"
      ]
     },
     "execution_count": 477,
     "metadata": {},
     "output_type": "execute_result"
    }
   ],
   "source": [
    "cnt = pd.DataFrame(cnt)\n",
    "cnt.transpose()"
   ]
  },
  {
   "cell_type": "code",
   "execution_count": 539,
   "metadata": {},
   "outputs": [
    {
     "data": {
      "text/plain": [
       "3.6910728741452625"
      ]
     },
     "execution_count": 539,
     "metadata": {},
     "output_type": "execute_result"
    }
   ],
   "source": [
    "(1-(len(df[df['부상신고자수']==0])/len(df['부상신고자수'])))*100"
   ]
  },
  {
   "cell_type": "markdown",
   "metadata": {},
   "source": [
    "---"
   ]
  },
  {
   "cell_type": "code",
   "execution_count": 545,
   "metadata": {},
   "outputs": [
    {
     "data": {
      "image/png": "[encoded data removed]",
      "text/plain": [
       "<Figure size 1152x864 with 1 Axes>"
      ]
     },
     "metadata": {
      "needs_background": "light"
     },
     "output_type": "display_data"
    }
   ],
   "source": [
    "cnt = df[\"발생시각\"].value_counts()\n",
    "\n",
    "fig, (ax1) = plt.subplots(1,1, figsize=(16,12))\n",
    "g = sns.countplot(data=df, x=\"발생시각\", ax=ax1)\n",
    "for i in range(cnt.shape[0]):\n",
    "    g.text(x=i, y=cnt[i], s=cnt[i], \n",
    "           horizontalalignment='center')"
   ]
  },
  {
   "cell_type": "code",
   "execution_count": 546,
   "metadata": {},
   "outputs": [
    {
     "data": {
      "text/html": [
       "<div>\n",
       "<style scoped>\n",
       "    .dataframe tbody tr th:only-of-type {\n",
       "        vertical-align: middle;\n",
       "    }\n",
       "\n",
       "    .dataframe tbody tr th {\n",
       "        vertical-align: top;\n",
       "    }\n",
       "\n",
       "    .dataframe thead th {\n",
       "        text-align: right;\n",
       "    }\n",
       "</style>\n",
       "<table border=\"1\" class=\"dataframe\">\n",
       "  <thead>\n",
       "    <tr style=\"text-align: right;\">\n",
       "      <th></th>\n",
       "      <th>18</th>\n",
       "      <th>10</th>\n",
       "      <th>17</th>\n",
       "      <th>15</th>\n",
       "      <th>11</th>\n",
       "      <th>9</th>\n",
       "      <th>16</th>\n",
       "      <th>14</th>\n",
       "      <th>19</th>\n",
       "      <th>13</th>\n",
       "      <th>...</th>\n",
       "      <th>7</th>\n",
       "      <th>21</th>\n",
       "      <th>5</th>\n",
       "      <th>22</th>\n",
       "      <th>4</th>\n",
       "      <th>23</th>\n",
       "      <th>0</th>\n",
       "      <th>1</th>\n",
       "      <th>3</th>\n",
       "      <th>2</th>\n",
       "    </tr>\n",
       "  </thead>\n",
       "  <tbody>\n",
       "    <tr>\n",
       "      <th>발생시각</th>\n",
       "      <td>4456</td>\n",
       "      <td>4253</td>\n",
       "      <td>3904</td>\n",
       "      <td>3888</td>\n",
       "      <td>3887</td>\n",
       "      <td>3825</td>\n",
       "      <td>3667</td>\n",
       "      <td>3632</td>\n",
       "      <td>3603</td>\n",
       "      <td>3468</td>\n",
       "      <td>...</td>\n",
       "      <td>1883</td>\n",
       "      <td>1654</td>\n",
       "      <td>1644</td>\n",
       "      <td>942</td>\n",
       "      <td>734</td>\n",
       "      <td>580</td>\n",
       "      <td>355</td>\n",
       "      <td>234</td>\n",
       "      <td>224</td>\n",
       "      <td>194</td>\n",
       "    </tr>\n",
       "  </tbody>\n",
       "</table>\n",
       "<p>1 rows × 24 columns</p>\n",
       "</div>"
      ],
      "text/plain": [
       "        18    10    17    15    11    9     16    14    19    13  ...    7   \\\n",
       "발생시각  4456  4253  3904  3888  3887  3825  3667  3632  3603  3468  ...  1883   \n",
       "\n",
       "        21    5    22   4    23   0    1    3    2   \n",
       "발생시각  1654  1644  942  734  580  355  234  224  194  \n",
       "\n",
       "[1 rows x 24 columns]"
      ]
     },
     "execution_count": 546,
     "metadata": {},
     "output_type": "execute_result"
    }
   ],
   "source": [
    "cnt = pd.DataFrame(cnt)\n",
    "cnt.transpose()"
   ]
  },
  {
   "cell_type": "code",
   "execution_count": 550,
   "metadata": {},
   "outputs": [
    {
     "data": {
      "text/plain": [
       "13.0"
      ]
     },
     "execution_count": 550,
     "metadata": {},
     "output_type": "execute_result"
    }
   ],
   "source": [
    "Q2 = df['발생시각'].quantile(.5)\n",
    "Q2"
   ]
  },
  {
   "cell_type": "code",
   "execution_count": 556,
   "metadata": {},
   "outputs": [
    {
     "data": {
      "text/plain": [
       "52.21929416627913"
      ]
     },
     "execution_count": 556,
     "metadata": {},
     "output_type": "execute_result"
    }
   ],
   "source": [
    "sum=0\n",
    "for i in range(11,19):\n",
    "    sum+=len(df[df['발생시각']==i])\n",
    "(sum/len(df['발생시각']))*100"
   ]
  },
  {
   "cell_type": "markdown",
   "metadata": {},
   "source": [
    "---"
   ]
  },
  {
   "cell_type": "code",
   "execution_count": 480,
   "metadata": {},
   "outputs": [
    {
     "data": {
      "image/png": "[encoded data removed]",
      "text/plain": [
       "<Figure size 1152x864 with 1 Axes>"
      ]
     },
     "metadata": {
      "needs_background": "light"
     },
     "output_type": "display_data"
    }
   ],
   "source": [
    "cnt = df[\"가해자차량용도\"].value_counts()\n",
    "\n",
    "fig, (ax1) = plt.subplots(1,1, figsize=(16,12))\n",
    "g = sns.countplot(data=df, x=\"가해자차량용도\", ax=ax1)\n",
    "for i in range(cnt.shape[0]):\n",
    "    g.text(x=i, y=cnt[i], s=cnt[i], \n",
    "           horizontalalignment='center')"
   ]
  },
  {
   "cell_type": "markdown",
   "metadata": {},
   "source": [
    "cnt = pd.DataFrame(cnt)\n",
    "cnt.transpose()"
   ]
  },
  {
   "cell_type": "code",
   "execution_count": 481,
   "metadata": {},
   "outputs": [
    {
     "data": {
      "text/html": [
       "<div>\n",
       "<style scoped>\n",
       "    .dataframe tbody tr th:only-of-type {\n",
       "        vertical-align: middle;\n",
       "    }\n",
       "\n",
       "    .dataframe tbody tr th {\n",
       "        vertical-align: top;\n",
       "    }\n",
       "\n",
       "    .dataframe thead th {\n",
       "        text-align: right;\n",
       "    }\n",
       "</style>\n",
       "<table border=\"1\" class=\"dataframe\">\n",
       "  <thead>\n",
       "    <tr style=\"text-align: right;\">\n",
       "      <th></th>\n",
       "      <th>비사업용_승용차</th>\n",
       "      <th>비사업용_화물차</th>\n",
       "      <th>사업용_승용차</th>\n",
       "      <th>사업용_승합차</th>\n",
       "      <th>이륜차</th>\n",
       "      <th>비사업용_승합차</th>\n",
       "      <th>사업용_화물차</th>\n",
       "      <th>자전거</th>\n",
       "      <th>불명</th>\n",
       "      <th>원동기장치자전거</th>\n",
       "      <th>...</th>\n",
       "      <th>개인형이동수단(PM)</th>\n",
       "      <th>농기계</th>\n",
       "      <th>기타</th>\n",
       "      <th>사륜오토바이(ATV)</th>\n",
       "      <th>비사업용_농기계</th>\n",
       "      <th>기타_승합차</th>\n",
       "      <th>사륜오토바이(ATV)_이륜차</th>\n",
       "      <th>기타_화물차</th>\n",
       "      <th>기타_특수차</th>\n",
       "      <th>사업용_불명</th>\n",
       "    </tr>\n",
       "  </thead>\n",
       "  <tbody>\n",
       "    <tr>\n",
       "      <th>가해자차량용도</th>\n",
       "      <td>29312</td>\n",
       "      <td>8319</td>\n",
       "      <td>5591</td>\n",
       "      <td>4062</td>\n",
       "      <td>2495</td>\n",
       "      <td>1872</td>\n",
       "      <td>1743</td>\n",
       "      <td>1529</td>\n",
       "      <td>841</td>\n",
       "      <td>827</td>\n",
       "      <td>...</td>\n",
       "      <td>47</td>\n",
       "      <td>39</td>\n",
       "      <td>39</td>\n",
       "      <td>34</td>\n",
       "      <td>22</td>\n",
       "      <td>18</td>\n",
       "      <td>13</td>\n",
       "      <td>3</td>\n",
       "      <td>1</td>\n",
       "      <td>1</td>\n",
       "    </tr>\n",
       "  </tbody>\n",
       "</table>\n",
       "<p>1 rows × 25 columns</p>\n",
       "</div>"
      ],
      "text/plain": [
       "         비사업용_승용차  비사업용_화물차  사업용_승용차  사업용_승합차   이륜차  비사업용_승합차  사업용_화물차   자전거  \\\n",
       "가해자차량용도     29312      8319     5591     4062  2495      1872     1743  1529   \n",
       "\n",
       "          불명  원동기장치자전거  ...  개인형이동수단(PM)  농기계  기타  사륜오토바이(ATV)  비사업용_농기계  \\\n",
       "가해자차량용도  841       827  ...           47   39  39           34        22   \n",
       "\n",
       "         기타_승합차  사륜오토바이(ATV)_이륜차  기타_화물차  기타_특수차  사업용_불명  \n",
       "가해자차량용도      18               13       3       1       1  \n",
       "\n",
       "[1 rows x 25 columns]"
      ]
     },
     "execution_count": 481,
     "metadata": {},
     "output_type": "execute_result"
    }
   ],
   "source": [
    "cnt = pd.DataFrame(cnt)\n",
    "cnt.transpose()"
   ]
  },
  {
   "cell_type": "code",
   "execution_count": 557,
   "metadata": {},
   "outputs": [
    {
     "data": {
      "text/plain": [
       "0.5048657400230799"
      ]
     },
     "execution_count": 557,
     "metadata": {},
     "output_type": "execute_result"
    }
   ],
   "source": [
    "len(df[df['가해자차량용도']=='비사업용_승용차'])/len(df['가해자차량용도'])"
   ]
  },
  {
   "cell_type": "markdown",
   "metadata": {},
   "source": [
    "---"
   ]
  },
  {
   "cell_type": "code",
   "execution_count": 482,
   "metadata": {},
   "outputs": [
    {
     "data": {
      "text/plain": [
       "<AxesSubplot:xlabel='EPDO1', ylabel='count'>"
      ]
     },
     "execution_count": 482,
     "metadata": {},
     "output_type": "execute_result"
    },
    {
     "data": {
      "image/png": "[encoded data removed]",
      "text/plain": [
       "<Figure size 1152x864 with 1 Axes>"
      ]
     },
     "metadata": {
      "needs_background": "light"
     },
     "output_type": "display_data"
    }
   ],
   "source": [
    "cnt = df[\"EPDO1\"].value_counts()\n",
    "\n",
    "fig, (ax1) = plt.subplots(1,1, figsize=(16,12))\n",
    "sns.countplot(data=df, x=\"EPDO1\", ax=ax1)\n"
   ]
  },
  {
   "cell_type": "code",
   "execution_count": 483,
   "metadata": {},
   "outputs": [
    {
     "data": {
      "text/html": [
       "<div>\n",
       "<style scoped>\n",
       "    .dataframe tbody tr th:only-of-type {\n",
       "        vertical-align: middle;\n",
       "    }\n",
       "\n",
       "    .dataframe tbody tr th {\n",
       "        vertical-align: top;\n",
       "    }\n",
       "\n",
       "    .dataframe thead th {\n",
       "        text-align: right;\n",
       "    }\n",
       "</style>\n",
       "<table border=\"1\" class=\"dataframe\">\n",
       "  <thead>\n",
       "    <tr style=\"text-align: right;\">\n",
       "      <th></th>\n",
       "      <th>32</th>\n",
       "      <th>2</th>\n",
       "      <th>273</th>\n",
       "      <th>1</th>\n",
       "      <th>34</th>\n",
       "      <th>64</th>\n",
       "      <th>4</th>\n",
       "      <th>33</th>\n",
       "      <th>275</th>\n",
       "      <th>305</th>\n",
       "      <th>...</th>\n",
       "      <th>37</th>\n",
       "      <th>76</th>\n",
       "      <th>42</th>\n",
       "      <th>10</th>\n",
       "      <th>9</th>\n",
       "      <th>71</th>\n",
       "      <th>7</th>\n",
       "      <th>379</th>\n",
       "      <th>102</th>\n",
       "      <th>1094</th>\n",
       "    </tr>\n",
       "  </thead>\n",
       "  <tbody>\n",
       "    <tr>\n",
       "      <th>EPDO1</th>\n",
       "      <td>33199</td>\n",
       "      <td>17311</td>\n",
       "      <td>3951</td>\n",
       "      <td>1890</td>\n",
       "      <td>522</td>\n",
       "      <td>333</td>\n",
       "      <td>316</td>\n",
       "      <td>129</td>\n",
       "      <td>61</td>\n",
       "      <td>59</td>\n",
       "      <td>...</td>\n",
       "      <td>1</td>\n",
       "      <td>1</td>\n",
       "      <td>1</td>\n",
       "      <td>1</td>\n",
       "      <td>1</td>\n",
       "      <td>1</td>\n",
       "      <td>1</td>\n",
       "      <td>1</td>\n",
       "      <td>1</td>\n",
       "      <td>1</td>\n",
       "    </tr>\n",
       "  </tbody>\n",
       "</table>\n",
       "<p>1 rows × 65 columns</p>\n",
       "</div>"
      ],
      "text/plain": [
       "        32     2     273   1     34    64    4     33    275   305   ...  \\\n",
       "EPDO1  33199  17311  3951  1890   522   333   316   129    61    59  ...   \n",
       "\n",
       "       37    76    42    10    9     71    7     379   102   1094  \n",
       "EPDO1     1     1     1     1     1     1     1     1     1     1  \n",
       "\n",
       "[1 rows x 65 columns]"
      ]
     },
     "execution_count": 483,
     "metadata": {},
     "output_type": "execute_result"
    }
   ],
   "source": [
    "cnt = pd.DataFrame(cnt)\n",
    "cnt.transpose()"
   ]
  },
  {
   "cell_type": "markdown",
   "metadata": {},
   "source": [
    "---"
   ]
  },
  {
   "cell_type": "code",
   "execution_count": 484,
   "metadata": {},
   "outputs": [
    {
     "data": {
      "text/plain": [
       "<AxesSubplot:xlabel='EPDO2', ylabel='count'>"
      ]
     },
     "execution_count": 484,
     "metadata": {},
     "output_type": "execute_result"
    },
    {
     "data": {
      "image/png": "[encoded data removed]",
      "text/plain": [
       "<Figure size 1152x864 with 1 Axes>"
      ]
     },
     "metadata": {
      "needs_background": "light"
     },
     "output_type": "display_data"
    }
   ],
   "source": [
    "cnt = df[\"EPDO2\"].value_counts()\n",
    "\n",
    "fig, (ax1) = plt.subplots(1,1, figsize=(16,12))\n",
    "sns.countplot(data=df, x=\"EPDO2\", ax=ax1)\n"
   ]
  },
  {
   "cell_type": "code",
   "execution_count": 485,
   "metadata": {},
   "outputs": [
    {
     "data": {
      "text/html": [
       "<div>\n",
       "<style scoped>\n",
       "    .dataframe tbody tr th:only-of-type {\n",
       "        vertical-align: middle;\n",
       "    }\n",
       "\n",
       "    .dataframe tbody tr th {\n",
       "        vertical-align: top;\n",
       "    }\n",
       "\n",
       "    .dataframe thead th {\n",
       "        text-align: right;\n",
       "    }\n",
       "</style>\n",
       "<table border=\"1\" class=\"dataframe\">\n",
       "  <thead>\n",
       "    <tr style=\"text-align: right;\">\n",
       "      <th></th>\n",
       "      <th>6</th>\n",
       "      <th>3</th>\n",
       "      <th>12</th>\n",
       "      <th>9</th>\n",
       "      <th>15</th>\n",
       "      <th>18</th>\n",
       "      <th>24</th>\n",
       "      <th>21</th>\n",
       "      <th>30</th>\n",
       "      <th>27</th>\n",
       "      <th>36</th>\n",
       "      <th>33</th>\n",
       "      <th>39</th>\n",
       "      <th>42</th>\n",
       "      <th>51</th>\n",
       "      <th>57</th>\n",
       "      <th>45</th>\n",
       "    </tr>\n",
       "  </thead>\n",
       "  <tbody>\n",
       "    <tr>\n",
       "      <th>EPDO2</th>\n",
       "      <td>33578</td>\n",
       "      <td>19182</td>\n",
       "      <td>4331</td>\n",
       "      <td>674</td>\n",
       "      <td>115</td>\n",
       "      <td>98</td>\n",
       "      <td>32</td>\n",
       "      <td>16</td>\n",
       "      <td>11</td>\n",
       "      <td>11</td>\n",
       "      <td>3</td>\n",
       "      <td>3</td>\n",
       "      <td>1</td>\n",
       "      <td>1</td>\n",
       "      <td>1</td>\n",
       "      <td>1</td>\n",
       "      <td>1</td>\n",
       "    </tr>\n",
       "  </tbody>\n",
       "</table>\n",
       "</div>"
      ],
      "text/plain": [
       "          6      3     12   9    15  18  24  21  30  27  36  33  39  42  51  \\\n",
       "EPDO2  33578  19182  4331  674  115  98  32  16  11  11   3   3   1   1   1   \n",
       "\n",
       "       57  45  \n",
       "EPDO2   1   1  "
      ]
     },
     "execution_count": 485,
     "metadata": {},
     "output_type": "execute_result"
    }
   ],
   "source": [
    "cnt = pd.DataFrame(cnt)\n",
    "cnt.transpose()"
   ]
  },
  {
   "cell_type": "markdown",
   "metadata": {},
   "source": [
    "---"
   ]
  },
  {
   "cell_type": "code",
   "execution_count": 486,
   "metadata": {},
   "outputs": [
    {
     "data": {
      "text/plain": [
       "<AxesSubplot:xlabel='심각도', ylabel='count'>"
      ]
     },
     "execution_count": 486,
     "metadata": {},
     "output_type": "execute_result"
    },
    {
     "data": {
      "image/png": "[encoded data removed]",
      "text/plain": [
       "<Figure size 1152x864 with 1 Axes>"
      ]
     },
     "metadata": {
      "needs_background": "light"
     },
     "output_type": "display_data"
    }
   ],
   "source": [
    "cnt = df[\"심각도\"].value_counts()\n",
    "\n",
    "fig, (ax1) = plt.subplots(1,1, figsize=(16,12))\n",
    "sns.countplot(data=df, x=\"심각도\", ax=ax1)"
   ]
  },
  {
   "cell_type": "code",
   "execution_count": 487,
   "metadata": {},
   "outputs": [
    {
     "data": {
      "text/html": [
       "<div>\n",
       "<style scoped>\n",
       "    .dataframe tbody tr th:only-of-type {\n",
       "        vertical-align: middle;\n",
       "    }\n",
       "\n",
       "    .dataframe tbody tr th {\n",
       "        vertical-align: top;\n",
       "    }\n",
       "\n",
       "    .dataframe thead th {\n",
       "        text-align: right;\n",
       "    }\n",
       "</style>\n",
       "<table border=\"1\" class=\"dataframe\">\n",
       "  <thead>\n",
       "    <tr style=\"text-align: right;\">\n",
       "      <th></th>\n",
       "      <th>1</th>\n",
       "      <th>0</th>\n",
       "    </tr>\n",
       "  </thead>\n",
       "  <tbody>\n",
       "    <tr>\n",
       "      <th>심각도</th>\n",
       "      <td>38877</td>\n",
       "      <td>19182</td>\n",
       "    </tr>\n",
       "  </tbody>\n",
       "</table>\n",
       "</div>"
      ],
      "text/plain": [
       "         1      0\n",
       "심각도  38877  19182"
      ]
     },
     "execution_count": 487,
     "metadata": {},
     "output_type": "execute_result"
    }
   ],
   "source": [
    "cnt = pd.DataFrame(cnt)\n",
    "cnt.transpose()"
   ]
  },
  {
   "cell_type": "markdown",
   "metadata": {},
   "source": [
    "---"
   ]
  },
  {
   "cell_type": "markdown",
   "metadata": {},
   "source": [
    "---"
   ]
  },
  {
   "cell_type": "markdown",
   "metadata": {},
   "source": [
    " 0   요일           58059 non-null  object\n",
    "\n",
    "- 주말(토,일)에 비해 평일 사고 건수가 더 많다. \n",
    "- 주말 사고 발생률은 약 0.2161(21.61%)이고 그 중 일요일 사고 발생률은 약 0.0886 (8.86%)이다.\n",
    "\n",
    " 1   사고내용         58059 non-null  object\n",
    "\n",
    "- 중상 사고건수가 월등히 많이 존재한다. => 대부분의 고령 보행자 사고는 중상으로 이어진다. 전체 사고 중 약 0.5909 (59.09%) 차지\n",
    "\n",
    " 2   사고유형         58059 non-null  object\n",
    "\n",
    "- 대부분의 고령 보행자 사고는 횡단 중 발생하며 전체 사고 유형 중 약 47.92% 차지한다.\n",
    "\n",
    " 3   가해자성별        58059 non-null  object\n",
    "\n",
    "-  가해자 성별은 대부분 남성이다.\n",
    "\n",
    " 4   피해자성별        58059 non-null  object\n",
    "\n",
    "- 피해자 성별은 대부분 여성이다. \n",
    "\n",
    " 5   연령가해자        58059 non-null  int64 \n",
    "\n",
    "- 50대가 가장 많으며 주로 40대-50대이다. (50대를 기준으로 종모양 분포)\n",
    "\n",
    " 6   연령피해자        58059 non-null  int64 \n",
    "\n",
    "- 65세 이상으로 전처리를 진행했기 때문에 의미가 없다.\n",
    "\n",
    " 7   가해자음주        58059 non-null  object\n",
    "\n",
    "- 데이터를 보았을 때, 기타불명 과 해당 없음이 상당수 많아 ‘음주운전’인 경우가 약 2.15% 밖에 존재하지 않는다. \n",
    "- 음주운전이 고령보행자 사고에 큰 영향을 끼치지 않는 것으로 보인다.\n",
    "\n",
    " 8   법규위반가해자      58059 non-null  object\n",
    "\n",
    "- ‘안전운전 의무 불이행’ 이 가장 높게 나왔으나, 사고 조사 당시 ‘과속’ 등과 같은 법령을 피하기 위해 ‘안전운전 의무 불이행’으로 법규위반 명이 들어간 경우가 있다. 이를 고려했을 때 빈도분석만으로는 <법규위반가해자> 컬럼을 판단하기 어렵다.\n",
    "\n",
    " 9   행동유형가해자      58059 non-null  object\n",
    "\n",
    "- ‘직진중’ 발생 한 사고가 전체 대비 약 54.82%로 상당수를 차지하고 있으며, U턴중, 출발중, 진로변경중, 주행 중 대기, 앞지르기 중의 경우 발생 건수가 상당히 작다. \n",
    "\n",
    " 10  신체상해정도가해자    58059 non-null  object\n",
    "\n",
    "- 상해없음이 월등히 많다.\n",
    "\n",
    " 11  신체상해정도피해자    58059 non-null  object\n",
    "\n",
    "- 중상으로 이어지는 경우가 월등히 많으며, 경상자 수도 약 30.55%로 다수 있다.\n",
    "- 부상신고보다는 사망자 수가 많다.\n",
    "\n",
    " 12  가해자신체상해주부위   58059 non-null  object\n",
    "\n",
    "- 상해 없음이 약 98.86%으로 대부분 다치지 않는 것으로 나타난다.\n",
    "\n",
    " 13  피해자신체상해주부위   58059 non-null  object\n",
    "\n",
    "- 신체상해가 적은 가해자에 비해 피해자는 ‘허리’ (약 13.72%), ‘머리’ (약 11.5%), ‘하퇴부’ (약 10.47%)으로 나타났다.\n",
    "- 즉, 기타/상해없음/불명이 전체 대비 약 22.9%이므로 피해자는 가해자에 비해 상해 발생률이 약 77.1%이다.\n",
    "  \n",
    " 14  차량용도가해자_중분류  58059 non-null  object\n",
    "\n",
    "- 승용차에 의해 많은 사고가 발생 \n",
    "- 승용차 (약 50.29%) / 화물차 (약 17.02%) 그 외......\n",
    "\n",
    " 15  도로종류         58059 non-null  object\n",
    "\n",
    "- 특별광역시도 (약 41.21%), 시도 (약 32.06%) 으로 두 속성 값이 월등히 많다.\n",
    "\n",
    " 16  도로형태         58059 non-null  object\n",
    "\n",
    "- 단일로 (약 56.50%), 교차로 (약 37.68%)으로 두 속성 값이 월등히 많다. \n",
    "-교차로보다 교차로가 아닌 곳에서 사고가 더 많이 발생함을 알 수 있다.\n",
    "\n",
    " 17  노인보호구역_여부    58059 non-null  object\n",
    "\n",
    "- 노인보호구역이 아닌 곳에서 사고 발생률이 높다. \n",
    "  (아니요: 58018 / 예: 41)\n",
    "\n",
    " 18  어린이보호구역_여부   58059 non-null  object\n",
    "\n",
    "- 어린이보호구역이 아닌 곳에서 사고 발생률이 높다.\n",
    "  (아니요: 57846 / 예: 213)\n",
    "\n",
    " 19  자전거도로_여부     34691 non-null  object\n",
    "\n",
    "- 자전거도로가 아닌 곳에서 사고 발생률이 높다.\n",
    "  (아니요: 34574 / 예: 117)\n",
    "\n",
    " 20  도로선형         58059 non-null  object\n",
    "\n",
    "- 평지에서 사고가 월등히 많이 발생하였다. (약 83.15%)\n",
    "- 오르막/내리막인 경우 즉, 경사로는 약 11.41%이다.\n",
    " \n",
    " 21  기상상태         58059 non-null  object\n",
    "\n",
    "- 대체로 맑은 날씨에 사고가 발생한 것으로 보아 (약 89.12%) 날씨가 고령 보행자 사고에 큰 영향을 준다고 볼 수 없다.\n",
    "\n",
    " 22  노면상태         58059 non-null  object\n",
    "\n",
    "- 기상상태와 마찬가지로 노면상태 역시 ‘건조’일 때 사고가 많이 발생하였다. \n",
    "- 젖음/습기의 경우 약 8.07%로 기상 및 노면 상태는 고령 보행자 사고에 큰 영향을 끼치지 않는 것으로 보인다.\n",
    "\n",
    " 23  교차로형태        58059 non-null  object\n",
    "\n",
    "- <도로형태>의 결과와 마찬가지로 ‘교차로아님’에서 더 많은 사고가 발생한 것으로 보인다. \n",
    "- 두 컬럼 중 하나는 삭제해도 될 것 같다.\n",
    "\n",
    " 24  사망자수         58059 non-null  int64 \n",
    "\n",
    "- 전체 사고 중 고령보행자 교통사고 발생 시 사망으로 이어질 확률은 약 7.15%로 나타났다.\n",
    "\n",
    " 25  중상자수         58059 non-null  int64 \n",
    "\n",
    "- 전체 사고 중 고령보행자 교통사고 발생 시 중상으로 이어질 확률은 약 59.25%로 나타났다. 즉, 대부분의 사고가 중상으로 이어진다는 것이다.\n",
    "\n",
    " 26  경상자수         58059 non-null  int64 \n",
    "\n",
    "- 전체 사고 중 고령보행자 교통사고 발생 시 중상으로 이어질 확률은 약 31.7%로 나타났다.\n",
    "\n",
    " 27  부상신고자수       58059 non-null  int64 \n",
    "\n",
    "- 전체 사고 중 고령보행자 교통사고 발생 시 중상으로 이어질 확률은 약 3.7%로 나타났다.\n",
    " \n",
    " 28  발생시각         58059 non-null  int64 \n",
    "\n",
    "- 9시, 10시, 11시, 12시, 13시,, 14시, 15시, 16시, 17시, 18시에 사고가 많이 발생했으며,\n",
    "  11시-18시 사이 발생 => 약 52.22%\n",
    "\n",
    " 29  EPDO1        58059 non-null  int64 \n",
    "\n",
    "- \n",
    " 30  EPDO2        58059 non-null  int64 \n",
    "\n",
    " 31  가해자차량용도      58059 non-null  object => 차량용도가해자_중분류 사용\n",
    "\n",
    "- 비사업용_승용차 사고 발생률은 약 50.49%로 <차량용도가해자_중분류>의 결과와 유사하다.\n",
    " \n",
    " 32  심각도          58059 non-null  int64 "
   ]
  },
  {
   "cell_type": "code",
   "execution_count": null,
   "metadata": {},
   "outputs": [],
   "source": []
  }
 ],
 "metadata": {
  "kernelspec": {
   "display_name": "Python 3",
   "language": "python",
   "name": "python3"
  },
  "language_info": {
   "codemirror_mode": {
    "name": "ipython",
    "version": 3
   },
   "file_extension": ".py",
   "mimetype": "text/x-python",
   "name": "python",
   "nbconvert_exporter": "python",
   "pygments_lexer": "ipython3",
   "version": "3.8.3"
  }
 },
 "nbformat": 4,
 "nbformat_minor": 4
}
