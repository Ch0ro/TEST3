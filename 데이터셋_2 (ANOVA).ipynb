{
 "cells": [
  {
   "cell_type": "code",
   "execution_count": 1,
   "metadata": {},
   "outputs": [],
   "source": [
    "import scipy.stats as stats\n",
    "import pandas as pd\n",
    "import urllib\n",
    "from statsmodels.formula.api import ols\n",
    "from statsmodels.stats.anova import anova_lm\n",
    "import matplotlib.pyplot as plt\n",
    "import numpy as np\n",
    "%matplotlib inline\n",
    "from statsmodels.formula.api import ols\n",
    "from statsmodels.stats.anova import anova_lm\n",
    "from statsmodels.stats.multicomp import pairwise_tukeyhsd\n",
    "import warnings\n",
    "warnings.filterwarnings(\"ignore\")"
   ]
  },
  {
   "cell_type": "code",
   "execution_count": 2,
   "metadata": {},
   "outputs": [],
   "source": [
    "import matplotlib\n",
    "from matplotlib import font_manager, rc\n",
    "import platform\n",
    "\n",
    "matplotlib.rcParams['axes.unicode_minus'] = False\n",
    "\n",
    "font_name = font_manager.FontProperties(fname=\"c:/Windows/Fonts/malgun.ttf\").get_name()\n",
    "rc('font', family=font_name)"
   ]
  },
  {
   "cell_type": "code",
   "execution_count": 5,
   "metadata": {},
   "outputs": [],
   "source": [
    "df = pd.read_csv('C:/Users/user/TEST3/csv파일/데이터셋_2.csv',encoding='cp949')"
   ]
  },
  {
   "cell_type": "code",
   "execution_count": 6,
   "metadata": {},
   "outputs": [
    {
     "name": "stdout",
     "output_type": "stream",
     "text": [
      "<class 'pandas.core.frame.DataFrame'>\n",
      "RangeIndex: 58059 entries, 0 to 58058\n",
      "Data columns (total 13 columns):\n",
      " #   Column       Non-Null Count  Dtype \n",
      "---  ------       --------------  ----- \n",
      " 0   사고유형         58059 non-null  object\n",
      " 1   연령가해자        58059 non-null  object\n",
      " 2   법규위반가해자      58059 non-null  object\n",
      " 3   행동유형가해자      58059 non-null  object\n",
      " 4   피해자신체상해주부위   58059 non-null  object\n",
      " 5   차량용도가해자_중분류  58059 non-null  object\n",
      " 6   도로종류         58059 non-null  object\n",
      " 7   도로형태         58059 non-null  object\n",
      " 8   도로선형         58059 non-null  object\n",
      " 9   발생시각         58059 non-null  object\n",
      " 10  EPDO1        58059 non-null  int64 \n",
      " 11  EPDO2        58059 non-null  int64 \n",
      " 12  심각도          58059 non-null  int64 \n",
      "dtypes: int64(3), object(10)\n",
      "memory usage: 5.8+ MB\n"
     ]
    }
   ],
   "source": [
    "df.info()"
   ]
  },
  {
   "cell_type": "markdown",
   "metadata": {},
   "source": [
    " # 첫 번째 괄호는 유의수준 0.05로 기각 / 두 번째 괄호는 유의수준 0.01로 기각"
   ]
  },
  {
   "cell_type": "markdown",
   "metadata": {},
   "source": [
    "# ■ 1. 사고유형"
   ]
  },
  {
   "cell_type": "markdown",
   "metadata": {},
   "source": [
    "## 1.1 EPDO1 ~ 사고유형 (O) / (O)"
   ]
  },
  {
   "cell_type": "code",
   "execution_count": 7,
   "metadata": {},
   "outputs": [
    {
     "data": {
      "text/html": [
       "<div>\n",
       "<style scoped>\n",
       "    .dataframe tbody tr th:only-of-type {\n",
       "        vertical-align: middle;\n",
       "    }\n",
       "\n",
       "    .dataframe tbody tr th {\n",
       "        vertical-align: top;\n",
       "    }\n",
       "\n",
       "    .dataframe thead th {\n",
       "        text-align: right;\n",
       "    }\n",
       "</style>\n",
       "<table border=\"1\" class=\"dataframe\">\n",
       "  <thead>\n",
       "    <tr style=\"text-align: right;\">\n",
       "      <th></th>\n",
       "      <th>df</th>\n",
       "      <th>sum_sq</th>\n",
       "      <th>mean_sq</th>\n",
       "      <th>F</th>\n",
       "      <th>PR(&gt;F)</th>\n",
       "    </tr>\n",
       "  </thead>\n",
       "  <tbody>\n",
       "    <tr>\n",
       "      <th>C(사고유형)</th>\n",
       "      <td>4.0</td>\n",
       "      <td>2.908499e+06</td>\n",
       "      <td>727124.787070</td>\n",
       "      <td>160.369261</td>\n",
       "      <td>9.369877e-137</td>\n",
       "    </tr>\n",
       "    <tr>\n",
       "      <th>Residual</th>\n",
       "      <td>58054.0</td>\n",
       "      <td>2.632207e+08</td>\n",
       "      <td>4534.065834</td>\n",
       "      <td>NaN</td>\n",
       "      <td>NaN</td>\n",
       "    </tr>\n",
       "  </tbody>\n",
       "</table>\n",
       "</div>"
      ],
      "text/plain": [
       "               df        sum_sq        mean_sq           F         PR(>F)\n",
       "C(사고유형)       4.0  2.908499e+06  727124.787070  160.369261  9.369877e-137\n",
       "Residual  58054.0  2.632207e+08    4534.065834         NaN            NaN"
      ]
     },
     "execution_count": 7,
     "metadata": {},
     "output_type": "execute_result"
    }
   ],
   "source": [
    "model = ols('EPDO1 ~ C(사고유형)', df).fit()\n",
    "anova_lm(model)"
   ]
  },
  {
   "cell_type": "code",
   "execution_count": 8,
   "metadata": {},
   "outputs": [
    {
     "name": "stdout",
     "output_type": "stream",
     "text": [
      "    Multiple Comparison of Means - Tukey HSD, FWER=0.05     \n",
      "============================================================\n",
      "  group1     group2   meandiff p-adj   lower   upper  reject\n",
      "------------------------------------------------------------\n",
      "        기타 길가장자리구역통행중   3.3741 0.0333  0.1686  6.5796   True\n",
      "        기타      보도통행중   2.7777 0.3304 -1.2617  6.8172  False\n",
      "        기타      차도통행중   12.292  0.001  9.5161  15.068   True\n",
      "        기타        횡단중  15.4596  0.001 13.7062 17.2131   True\n",
      "길가장자리구역통행중      보도통행중  -0.5964    0.9 -5.3785  4.1858  False\n",
      "길가장자리구역통행중      차도통행중   8.9179  0.001   5.142 12.6939   True\n",
      "길가장자리구역통행중        횡단중  12.0856  0.001  8.9829 15.1882   True\n",
      "     보도통행중      차도통행중   9.5143  0.001  5.0088 14.0198   True\n",
      "     보도통행중        횡단중  12.6819  0.001  8.7236 16.6402   True\n",
      "     차도통행중        횡단중   3.1676 0.0101  0.5111  5.8241   True\n",
      "------------------------------------------------------------\n"
     ]
    }
   ],
   "source": [
    "posthoc = pairwise_tukeyhsd(df['EPDO1'], df['사고유형'], alpha=0.05)\n",
    "print(posthoc)"
   ]
  },
  {
   "cell_type": "code",
   "execution_count": 9,
   "metadata": {},
   "outputs": [
    {
     "data": {
      "image/png": "[encoded data removed]",
      "text/plain": [
       "<Figure size 720x432 with 1 Axes>"
      ]
     },
     "metadata": {
      "needs_background": "light"
     },
     "output_type": "display_data"
    }
   ],
   "source": [
    "fig = posthoc.plot_simultaneous()"
   ]
  },
  {
   "cell_type": "markdown",
   "metadata": {},
   "source": [
    "## 1.2 EPDO2 ~ 사고유형 (O) / (O)"
   ]
  },
  {
   "cell_type": "code",
   "execution_count": 10,
   "metadata": {},
   "outputs": [
    {
     "data": {
      "text/html": [
       "<div>\n",
       "<style scoped>\n",
       "    .dataframe tbody tr th:only-of-type {\n",
       "        vertical-align: middle;\n",
       "    }\n",
       "\n",
       "    .dataframe tbody tr th {\n",
       "        vertical-align: top;\n",
       "    }\n",
       "\n",
       "    .dataframe thead th {\n",
       "        text-align: right;\n",
       "    }\n",
       "</style>\n",
       "<table border=\"1\" class=\"dataframe\">\n",
       "  <thead>\n",
       "    <tr style=\"text-align: right;\">\n",
       "      <th></th>\n",
       "      <th>df</th>\n",
       "      <th>sum_sq</th>\n",
       "      <th>mean_sq</th>\n",
       "      <th>F</th>\n",
       "      <th>PR(&gt;F)</th>\n",
       "    </tr>\n",
       "  </thead>\n",
       "  <tbody>\n",
       "    <tr>\n",
       "      <th>C(사고유형)</th>\n",
       "      <td>4.0</td>\n",
       "      <td>5525.371033</td>\n",
       "      <td>1381.342758</td>\n",
       "      <td>211.159732</td>\n",
       "      <td>3.394978e-180</td>\n",
       "    </tr>\n",
       "    <tr>\n",
       "      <th>Residual</th>\n",
       "      <td>58054.0</td>\n",
       "      <td>379771.615791</td>\n",
       "      <td>6.541696</td>\n",
       "      <td>NaN</td>\n",
       "      <td>NaN</td>\n",
       "    </tr>\n",
       "  </tbody>\n",
       "</table>\n",
       "</div>"
      ],
      "text/plain": [
       "               df         sum_sq      mean_sq           F         PR(>F)\n",
       "C(사고유형)       4.0    5525.371033  1381.342758  211.159732  3.394978e-180\n",
       "Residual  58054.0  379771.615791     6.541696         NaN            NaN"
      ]
     },
     "execution_count": 10,
     "metadata": {},
     "output_type": "execute_result"
    }
   ],
   "source": [
    "model = ols('EPDO2 ~ C(사고유형)', df).fit()\n",
    "anova_lm(model)"
   ]
  },
  {
   "cell_type": "code",
   "execution_count": 11,
   "metadata": {},
   "outputs": [
    {
     "name": "stdout",
     "output_type": "stream",
     "text": [
      "    Multiple Comparison of Means - Tukey HSD, FWER=0.05    \n",
      "===========================================================\n",
      "  group1     group2   meandiff p-adj   lower  upper  reject\n",
      "-----------------------------------------------------------\n",
      "        기타 길가장자리구역통행중   0.0617 0.6207   -0.06 0.1835  False\n",
      "        기타      보도통행중   0.2072 0.0021  0.0538 0.3606   True\n",
      "        기타      차도통행중   0.4295  0.001  0.3241  0.535   True\n",
      "        기타        횡단중   0.6749  0.001  0.6083 0.7415   True\n",
      "길가장자리구역통행중      보도통행중   0.1455 0.1852 -0.0362 0.3271  False\n",
      "길가장자리구역통행중      차도통행중   0.3678  0.001  0.2244 0.5112   True\n",
      "길가장자리구역통행중        횡단중   0.6131  0.001  0.4953  0.731   True\n",
      "     보도통행중      차도통행중   0.2223 0.0036  0.0512 0.3935   True\n",
      "     보도통행중        횡단중   0.4676  0.001  0.3173  0.618   True\n",
      "     차도통행중        횡단중   0.2453  0.001  0.1444 0.3462   True\n",
      "-----------------------------------------------------------\n"
     ]
    }
   ],
   "source": [
    "posthoc = pairwise_tukeyhsd(df['EPDO2'], df['사고유형'], alpha=0.05)\n",
    "print(posthoc)"
   ]
  },
  {
   "cell_type": "code",
   "execution_count": 13,
   "metadata": {},
   "outputs": [
    {
     "data": {
      "image/png": "[encoded data removed]",
      "text/plain": [
       "<Figure size 720x432 with 1 Axes>"
      ]
     },
     "metadata": {
      "needs_background": "light"
     },
     "output_type": "display_data"
    }
   ],
   "source": [
    "fig = posthoc.plot_simultaneous()"
   ]
  },
  {
   "cell_type": "markdown",
   "metadata": {},
   "source": [
    "## 1.3 심각도 ~ 사고유형 (O) / (O)"
   ]
  },
  {
   "cell_type": "code",
   "execution_count": 14,
   "metadata": {},
   "outputs": [
    {
     "data": {
      "text/html": [
       "<div>\n",
       "<style scoped>\n",
       "    .dataframe tbody tr th:only-of-type {\n",
       "        vertical-align: middle;\n",
       "    }\n",
       "\n",
       "    .dataframe tbody tr th {\n",
       "        vertical-align: top;\n",
       "    }\n",
       "\n",
       "    .dataframe thead th {\n",
       "        text-align: right;\n",
       "    }\n",
       "</style>\n",
       "<table border=\"1\" class=\"dataframe\">\n",
       "  <thead>\n",
       "    <tr style=\"text-align: right;\">\n",
       "      <th></th>\n",
       "      <th>df</th>\n",
       "      <th>sum_sq</th>\n",
       "      <th>mean_sq</th>\n",
       "      <th>F</th>\n",
       "      <th>PR(&gt;F)</th>\n",
       "    </tr>\n",
       "  </thead>\n",
       "  <tbody>\n",
       "    <tr>\n",
       "      <th>C(사고유형)</th>\n",
       "      <td>4.0</td>\n",
       "      <td>227.230028</td>\n",
       "      <td>56.807507</td>\n",
       "      <td>261.380154</td>\n",
       "      <td>5.007495e-223</td>\n",
       "    </tr>\n",
       "    <tr>\n",
       "      <th>Residual</th>\n",
       "      <td>58054.0</td>\n",
       "      <td>12617.266329</td>\n",
       "      <td>0.217337</td>\n",
       "      <td>NaN</td>\n",
       "      <td>NaN</td>\n",
       "    </tr>\n",
       "  </tbody>\n",
       "</table>\n",
       "</div>"
      ],
      "text/plain": [
       "               df        sum_sq    mean_sq           F         PR(>F)\n",
       "C(사고유형)       4.0    227.230028  56.807507  261.380154  5.007495e-223\n",
       "Residual  58054.0  12617.266329   0.217337         NaN            NaN"
      ]
     },
     "execution_count": 14,
     "metadata": {},
     "output_type": "execute_result"
    }
   ],
   "source": [
    "model = ols('심각도 ~ C(사고유형)', df).fit()\n",
    "anova_lm(model)"
   ]
  },
  {
   "cell_type": "code",
   "execution_count": 19,
   "metadata": {},
   "outputs": [
    {
     "name": "stdout",
     "output_type": "stream",
     "text": [
      "    Multiple Comparison of Means - Tukey HSD, FWER=0.05    \n",
      "===========================================================\n",
      "  group1     group2   meandiff p-adj   lower  upper  reject\n",
      "-----------------------------------------------------------\n",
      "        기타 길가장자리구역통행중  -0.0041    0.9 -0.0263 0.0181  False\n",
      "        기타      보도통행중   0.0339 0.0083   0.006 0.0619   True\n",
      "        기타      차도통행중   0.0681  0.001  0.0489 0.0873   True\n",
      "        기타        횡단중   0.1339  0.001  0.1218  0.146   True\n",
      "길가장자리구역통행중      보도통행중    0.038  0.015  0.0049 0.0711   True\n",
      "길가장자리구역통행중      차도통행중   0.0722  0.001   0.046 0.0983   True\n",
      "길가장자리구역통행중        횡단중    0.138  0.001  0.1165 0.1595   True\n",
      "     보도통행중      차도통행중   0.0342 0.0236   0.003 0.0653   True\n",
      "     보도통행중        횡단중      0.1  0.001  0.0726 0.1274   True\n",
      "     차도통행중        횡단중   0.0658  0.001  0.0474 0.0842   True\n",
      "-----------------------------------------------------------\n"
     ]
    }
   ],
   "source": [
    "posthoc = pairwise_tukeyhsd(df['심각도'], df['사고유형'], alpha=0.05)\n",
    "print(posthoc)"
   ]
  },
  {
   "cell_type": "code",
   "execution_count": 20,
   "metadata": {},
   "outputs": [
    {
     "data": {
      "image/png": "[encoded data removed]",
      "text/plain": [
       "<Figure size 720x432 with 1 Axes>"
      ]
     },
     "metadata": {
      "needs_background": "light"
     },
     "output_type": "display_data"
    }
   ],
   "source": [
    "fig = posthoc.plot_simultaneous()"
   ]
  },
  {
   "cell_type": "markdown",
   "metadata": {},
   "source": [
    "---"
   ]
  },
  {
   "cell_type": "markdown",
   "metadata": {},
   "source": [
    "# ■ 2. 연령가해자"
   ]
  },
  {
   "cell_type": "markdown",
   "metadata": {},
   "source": [
    "## 2.1 EPDO1 ~ 연령가해자 (O) / (O)"
   ]
  },
  {
   "cell_type": "code",
   "execution_count": 18,
   "metadata": {},
   "outputs": [
    {
     "data": {
      "text/html": [
       "<div>\n",
       "<style scoped>\n",
       "    .dataframe tbody tr th:only-of-type {\n",
       "        vertical-align: middle;\n",
       "    }\n",
       "\n",
       "    .dataframe tbody tr th {\n",
       "        vertical-align: top;\n",
       "    }\n",
       "\n",
       "    .dataframe thead th {\n",
       "        text-align: right;\n",
       "    }\n",
       "</style>\n",
       "<table border=\"1\" class=\"dataframe\">\n",
       "  <thead>\n",
       "    <tr style=\"text-align: right;\">\n",
       "      <th></th>\n",
       "      <th>df</th>\n",
       "      <th>sum_sq</th>\n",
       "      <th>mean_sq</th>\n",
       "      <th>F</th>\n",
       "      <th>PR(&gt;F)</th>\n",
       "    </tr>\n",
       "  </thead>\n",
       "  <tbody>\n",
       "    <tr>\n",
       "      <th>C(연령가해자)</th>\n",
       "      <td>7.0</td>\n",
       "      <td>1.492258e+06</td>\n",
       "      <td>213179.666295</td>\n",
       "      <td>46.763293</td>\n",
       "      <td>1.355129e-66</td>\n",
       "    </tr>\n",
       "    <tr>\n",
       "      <th>Residual</th>\n",
       "      <td>58051.0</td>\n",
       "      <td>2.646369e+08</td>\n",
       "      <td>4558.696654</td>\n",
       "      <td>NaN</td>\n",
       "      <td>NaN</td>\n",
       "    </tr>\n",
       "  </tbody>\n",
       "</table>\n",
       "</div>"
      ],
      "text/plain": [
       "               df        sum_sq        mean_sq          F        PR(>F)\n",
       "C(연령가해자)      7.0  1.492258e+06  213179.666295  46.763293  1.355129e-66\n",
       "Residual  58051.0  2.646369e+08    4558.696654        NaN           NaN"
      ]
     },
     "execution_count": 18,
     "metadata": {},
     "output_type": "execute_result"
    }
   ],
   "source": [
    "model = ols('EPDO1 ~ C(연령가해자)', df).fit()\n",
    "anova_lm(model)"
   ]
  },
  {
   "cell_type": "code",
   "execution_count": 21,
   "metadata": {},
   "outputs": [
    {
     "name": "stdout",
     "output_type": "stream",
     "text": [
      " Multiple Comparison of Means - Tukey HSD, FWER=0.05  \n",
      "======================================================\n",
      "group1 group2 meandiff p-adj   lower    upper   reject\n",
      "------------------------------------------------------\n",
      " 20세이하 21-30세   8.0831 0.0014   2.0187  14.1476   True\n",
      " 20세이하 31-40세   8.6917  0.001   2.8933    14.49   True\n",
      " 20세이하 41-50세   9.2127  0.001   3.5459  14.8795   True\n",
      " 20세이하 51-60세   9.5788  0.001   3.9654  15.1923   True\n",
      " 20세이하 61-64세  10.1983  0.001   4.0818  16.3148   True\n",
      " 20세이하  65세이상   9.4494  0.001   3.6207  15.2782   True\n",
      " 20세이하  기타/불명 -20.7356  0.001 -28.1794 -13.2918   True\n",
      "21-30세 31-40세   0.6085    0.9   -2.968   4.1851  False\n",
      "21-30세 41-50세   1.1295    0.9  -2.2296   4.4886  False\n",
      "21-30세 51-60세   1.4957 0.8502  -1.7726   4.7639  False\n",
      "21-30세 61-64세   2.1151 0.7382   -1.957   6.1873  False\n",
      "21-30세  65세이상   1.3663    0.9  -2.2593   4.9919  False\n",
      "21-30세  기타/불명 -28.8188  0.001 -34.6994 -22.9382   True\n",
      "31-40세 41-50세    0.521    0.9  -2.3298   3.3718  False\n",
      "31-40세 51-60세   0.8871    0.9  -1.8561   3.6303  False\n",
      "31-40세 61-64세   1.5066    0.9  -2.1576   5.1708  False\n",
      "31-40세  65세이상   0.7577    0.9  -2.4027   3.9182  False\n",
      "31-40세  기타/불명 -29.4273  0.001 -35.0331 -23.8215   True\n",
      "41-50세 51-60세   0.3661    0.9  -2.0868   2.8191  False\n",
      "41-50세 61-64세   0.9856    0.9  -2.4666   4.4379  False\n",
      "41-50세  65세이상   0.2368    0.9  -2.6754   3.1489  False\n",
      "41-50세  기타/불명 -29.9483  0.001 -35.4179 -24.4787   True\n",
      "51-60세 61-64세   0.6195    0.9  -2.7444   3.9834  False\n",
      "51-60세  65세이상  -0.1294    0.9  -2.9362   2.6775  False\n",
      "51-60세  기타/불명 -30.3145  0.001 -35.7288 -24.9001   True\n",
      "61-64세  65세이상  -0.7488    0.9  -4.4609   2.9632  False\n",
      "61-64세  기타/불명 -30.9339  0.001 -36.8682 -24.9996   True\n",
      " 65세이상  기타/불명 -30.1851  0.001 -35.8223 -24.5479   True\n",
      "------------------------------------------------------\n"
     ]
    }
   ],
   "source": [
    "posthoc = pairwise_tukeyhsd(df['EPDO1'], df['연령가해자'], alpha=0.05)\n",
    "print(posthoc)"
   ]
  },
  {
   "cell_type": "code",
   "execution_count": 22,
   "metadata": {},
   "outputs": [
    {
     "data": {
      "image/png": "[encoded data removed]",
      "text/plain": [
       "<Figure size 720x432 with 1 Axes>"
      ]
     },
     "metadata": {
      "needs_background": "light"
     },
     "output_type": "display_data"
    }
   ],
   "source": [
    "fig = posthoc.plot_simultaneous()"
   ]
  },
  {
   "cell_type": "markdown",
   "metadata": {},
   "source": [
    "## 2.2 EPDO2 ~ 연령가해자 (O) / (O)"
   ]
  },
  {
   "cell_type": "code",
   "execution_count": 24,
   "metadata": {},
   "outputs": [
    {
     "data": {
      "text/html": [
       "<div>\n",
       "<style scoped>\n",
       "    .dataframe tbody tr th:only-of-type {\n",
       "        vertical-align: middle;\n",
       "    }\n",
       "\n",
       "    .dataframe tbody tr th {\n",
       "        vertical-align: top;\n",
       "    }\n",
       "\n",
       "    .dataframe thead th {\n",
       "        text-align: right;\n",
       "    }\n",
       "</style>\n",
       "<table border=\"1\" class=\"dataframe\">\n",
       "  <thead>\n",
       "    <tr style=\"text-align: right;\">\n",
       "      <th></th>\n",
       "      <th>df</th>\n",
       "      <th>sum_sq</th>\n",
       "      <th>mean_sq</th>\n",
       "      <th>F</th>\n",
       "      <th>PR(&gt;F)</th>\n",
       "    </tr>\n",
       "  </thead>\n",
       "  <tbody>\n",
       "    <tr>\n",
       "      <th>C(연령가해자)</th>\n",
       "      <td>7.0</td>\n",
       "      <td>4683.425993</td>\n",
       "      <td>669.060856</td>\n",
       "      <td>102.044845</td>\n",
       "      <td>4.849148e-149</td>\n",
       "    </tr>\n",
       "    <tr>\n",
       "      <th>Residual</th>\n",
       "      <td>58051.0</td>\n",
       "      <td>380613.560831</td>\n",
       "      <td>6.556538</td>\n",
       "      <td>NaN</td>\n",
       "      <td>NaN</td>\n",
       "    </tr>\n",
       "  </tbody>\n",
       "</table>\n",
       "</div>"
      ],
      "text/plain": [
       "               df         sum_sq     mean_sq           F         PR(>F)\n",
       "C(연령가해자)      7.0    4683.425993  669.060856  102.044845  4.849148e-149\n",
       "Residual  58051.0  380613.560831    6.556538         NaN            NaN"
      ]
     },
     "execution_count": 24,
     "metadata": {},
     "output_type": "execute_result"
    }
   ],
   "source": [
    "model = ols('EPDO2 ~ C(연령가해자)', df).fit()\n",
    "anova_lm(model)"
   ]
  },
  {
   "cell_type": "code",
   "execution_count": 25,
   "metadata": {},
   "outputs": [
    {
     "name": "stdout",
     "output_type": "stream",
     "text": [
      "Multiple Comparison of Means - Tukey HSD, FWER=0.05 \n",
      "====================================================\n",
      "group1 group2 meandiff p-adj   lower   upper  reject\n",
      "----------------------------------------------------\n",
      " 20세이하 21-30세   0.1494 0.5027 -0.0806  0.3793  False\n",
      " 20세이하 31-40세   0.0913    0.9 -0.1286  0.3112  False\n",
      " 20세이하 41-50세   0.1225 0.6469 -0.0925  0.3374  False\n",
      " 20세이하 51-60세   0.1205  0.654 -0.0924  0.3333  False\n",
      " 20세이하 61-64세   0.1553 0.4639 -0.0766  0.3873  False\n",
      " 20세이하  65세이상   0.1933 0.1379 -0.0278  0.4143  False\n",
      " 20세이하  기타/불명  -1.6049  0.001 -1.8872 -1.3226   True\n",
      "21-30세 31-40세   -0.058    0.9 -0.1937  0.0776  False\n",
      "21-30세 41-50세  -0.0269    0.9 -0.1543  0.1005  False\n",
      "21-30세 51-60세  -0.0289    0.9 -0.1528  0.0951  False\n",
      "21-30세 61-64세    0.006    0.9 -0.1485  0.1604  False\n",
      "21-30세  65세이상   0.0439    0.9 -0.0936  0.1814  False\n",
      "21-30세  기타/불명  -1.7543  0.001 -1.9773 -1.5312   True\n",
      "31-40세 41-50세   0.0311    0.9  -0.077  0.1393  False\n",
      "31-40세 51-60세   0.0292    0.9 -0.0749  0.1332  False\n",
      "31-40세 61-64세    0.064 0.8448  -0.075   0.203  False\n",
      "31-40세  65세이상    0.102 0.1637 -0.0179  0.2218  False\n",
      "31-40세  기타/불명  -1.6962  0.001 -1.9088 -1.4836   True\n",
      "41-50세 51-60세   -0.002    0.9  -0.095   0.091  False\n",
      "41-50세 61-64세   0.0329    0.9 -0.0981  0.1638  False\n",
      "41-50세  65세이상   0.0708 0.5173 -0.0396  0.1813  False\n",
      "41-50세  기타/불명  -1.7274  0.001 -1.9348 -1.5199   True\n",
      "51-60세 61-64세   0.0349    0.9 -0.0927  0.1624  False\n",
      "51-60세  65세이상   0.0728 0.4349 -0.0336  0.1793  False\n",
      "51-60세  기타/불명  -1.7254  0.001 -1.9307   -1.52   True\n",
      "61-64세  65세이상    0.038    0.9 -0.1028  0.1788  False\n",
      "61-64세  기타/불명  -1.7602  0.001 -1.9853 -1.5352   True\n",
      " 65세이상  기타/불명  -1.7982  0.001  -2.012 -1.5844   True\n",
      "----------------------------------------------------\n"
     ]
    }
   ],
   "source": [
    "posthoc = pairwise_tukeyhsd(df['EPDO2'], df['연령가해자'], alpha=0.05)\n",
    "print(posthoc)"
   ]
  },
  {
   "cell_type": "code",
   "execution_count": 26,
   "metadata": {},
   "outputs": [
    {
     "data": {
      "image/png": "[encoded data removed]",
      "text/plain": [
       "<Figure size 720x432 with 1 Axes>"
      ]
     },
     "metadata": {
      "needs_background": "light"
     },
     "output_type": "display_data"
    }
   ],
   "source": [
    "fig = posthoc.plot_simultaneous()"
   ]
  },
  {
   "cell_type": "markdown",
   "metadata": {},
   "source": [
    "## 2.3 심각도 ~ 연령가해자 (O) / (O)"
   ]
  },
  {
   "cell_type": "code",
   "execution_count": 27,
   "metadata": {},
   "outputs": [
    {
     "data": {
      "text/html": [
       "<div>\n",
       "<style scoped>\n",
       "    .dataframe tbody tr th:only-of-type {\n",
       "        vertical-align: middle;\n",
       "    }\n",
       "\n",
       "    .dataframe tbody tr th {\n",
       "        vertical-align: top;\n",
       "    }\n",
       "\n",
       "    .dataframe thead th {\n",
       "        text-align: right;\n",
       "    }\n",
       "</style>\n",
       "<table border=\"1\" class=\"dataframe\">\n",
       "  <thead>\n",
       "    <tr style=\"text-align: right;\">\n",
       "      <th></th>\n",
       "      <th>df</th>\n",
       "      <th>sum_sq</th>\n",
       "      <th>mean_sq</th>\n",
       "      <th>F</th>\n",
       "      <th>PR(&gt;F)</th>\n",
       "    </tr>\n",
       "  </thead>\n",
       "  <tbody>\n",
       "    <tr>\n",
       "      <th>C(연령가해자)</th>\n",
       "      <td>7.0</td>\n",
       "      <td>241.244707</td>\n",
       "      <td>34.463530</td>\n",
       "      <td>158.740174</td>\n",
       "      <td>2.051534e-233</td>\n",
       "    </tr>\n",
       "    <tr>\n",
       "      <th>Residual</th>\n",
       "      <td>58051.0</td>\n",
       "      <td>12603.251650</td>\n",
       "      <td>0.217107</td>\n",
       "      <td>NaN</td>\n",
       "      <td>NaN</td>\n",
       "    </tr>\n",
       "  </tbody>\n",
       "</table>\n",
       "</div>"
      ],
      "text/plain": [
       "               df        sum_sq    mean_sq           F         PR(>F)\n",
       "C(연령가해자)      7.0    241.244707  34.463530  158.740174  2.051534e-233\n",
       "Residual  58051.0  12603.251650   0.217107         NaN            NaN"
      ]
     },
     "execution_count": 27,
     "metadata": {},
     "output_type": "execute_result"
    }
   ],
   "source": [
    "model = ols('심각도 ~ C(연령가해자)', df).fit()\n",
    "anova_lm(model)"
   ]
  },
  {
   "cell_type": "code",
   "execution_count": 28,
   "metadata": {},
   "outputs": [
    {
     "name": "stdout",
     "output_type": "stream",
     "text": [
      "Multiple Comparison of Means - Tukey HSD, FWER=0.05 \n",
      "====================================================\n",
      "group1 group2 meandiff p-adj   lower   upper  reject\n",
      "----------------------------------------------------\n",
      " 20세이하 21-30세    0.045 0.0249  0.0031  0.0868   True\n",
      " 20세이하 31-40세   0.0394  0.057 -0.0006  0.0794  False\n",
      " 20세이하 41-50세   0.0471 0.0064   0.008  0.0862   True\n",
      " 20세이하 51-60세   0.0409 0.0302  0.0021  0.0796   True\n",
      " 20세이하 61-64세   0.0458 0.0227  0.0036   0.088   True\n",
      " 20세이하  65세이상   0.0522 0.0021   0.012  0.0925   True\n",
      " 20세이하  기타/불명  -0.3503  0.001 -0.4017  -0.299   True\n",
      "21-30세 31-40세  -0.0055    0.9 -0.0302  0.0191  False\n",
      "21-30세 41-50세   0.0021    0.9  -0.021  0.0253  False\n",
      "21-30세 51-60세  -0.0041    0.9 -0.0267  0.0184  False\n",
      "21-30세 61-64세   0.0008    0.9 -0.0273  0.0289  False\n",
      "21-30세  65세이상   0.0073    0.9 -0.0178  0.0323  False\n",
      "21-30세  기타/불명  -0.3953  0.001 -0.4359 -0.3547   True\n",
      "31-40세 41-50세   0.0077    0.9  -0.012  0.0274  False\n",
      "31-40세 51-60세   0.0014    0.9 -0.0175  0.0204  False\n",
      "31-40세 61-64세   0.0063    0.9 -0.0189  0.0316  False\n",
      "31-40세  65세이상   0.0128 0.6155  -0.009  0.0346  False\n",
      "31-40세  기타/불명  -0.3898  0.001 -0.4284 -0.3511   True\n",
      "41-50세 51-60세  -0.0063    0.9 -0.0232  0.0107  False\n",
      "41-50세 61-64세  -0.0013    0.9 -0.0252  0.0225  False\n",
      "41-50세  65세이상   0.0051    0.9  -0.015  0.0252  False\n",
      "41-50세  기타/불명  -0.3974  0.001 -0.4352 -0.3597   True\n",
      "51-60세 61-64세   0.0049    0.9 -0.0183  0.0281  False\n",
      "51-60세  65세이상   0.0114 0.6153  -0.008  0.0307  False\n",
      "51-60세  기타/불명  -0.3912  0.001 -0.4286 -0.3538   True\n",
      "61-64세  65세이상   0.0065    0.9 -0.0192  0.0321  False\n",
      "61-64세  기타/불명  -0.3961  0.001 -0.4371 -0.3551   True\n",
      " 65세이상  기타/불명  -0.4026  0.001 -0.4415 -0.3637   True\n",
      "----------------------------------------------------\n"
     ]
    }
   ],
   "source": [
    "posthoc = pairwise_tukeyhsd(df['심각도'], df['연령가해자'], alpha=0.05)\n",
    "print(posthoc)"
   ]
  },
  {
   "cell_type": "code",
   "execution_count": 29,
   "metadata": {},
   "outputs": [
    {
     "data": {
      "image/png": "[encoded data removed]",
      "text/plain": [
       "<Figure size 720x432 with 1 Axes>"
      ]
     },
     "metadata": {
      "needs_background": "light"
     },
     "output_type": "display_data"
    }
   ],
   "source": [
    "fig = posthoc.plot_simultaneous()"
   ]
  },
  {
   "cell_type": "markdown",
   "metadata": {},
   "source": [
    "---"
   ]
  },
  {
   "cell_type": "markdown",
   "metadata": {},
   "source": [
    "# ■ 3. 법규위반가해자"
   ]
  },
  {
   "cell_type": "markdown",
   "metadata": {},
   "source": [
    "## 3.1 EPDO1 ~ 법규위반가해자 (O) / (O)"
   ]
  },
  {
   "cell_type": "code",
   "execution_count": 30,
   "metadata": {},
   "outputs": [
    {
     "data": {
      "text/html": [
       "<div>\n",
       "<style scoped>\n",
       "    .dataframe tbody tr th:only-of-type {\n",
       "        vertical-align: middle;\n",
       "    }\n",
       "\n",
       "    .dataframe tbody tr th {\n",
       "        vertical-align: top;\n",
       "    }\n",
       "\n",
       "    .dataframe thead th {\n",
       "        text-align: right;\n",
       "    }\n",
       "</style>\n",
       "<table border=\"1\" class=\"dataframe\">\n",
       "  <thead>\n",
       "    <tr style=\"text-align: right;\">\n",
       "      <th></th>\n",
       "      <th>df</th>\n",
       "      <th>sum_sq</th>\n",
       "      <th>mean_sq</th>\n",
       "      <th>F</th>\n",
       "      <th>PR(&gt;F)</th>\n",
       "    </tr>\n",
       "  </thead>\n",
       "  <tbody>\n",
       "    <tr>\n",
       "      <th>C(법규위반가해자)</th>\n",
       "      <td>7.0</td>\n",
       "      <td>9.400558e+06</td>\n",
       "      <td>1.342937e+06</td>\n",
       "      <td>303.662432</td>\n",
       "      <td>0.0</td>\n",
       "    </tr>\n",
       "    <tr>\n",
       "      <th>Residual</th>\n",
       "      <td>58051.0</td>\n",
       "      <td>2.567286e+08</td>\n",
       "      <td>4.422466e+03</td>\n",
       "      <td>NaN</td>\n",
       "      <td>NaN</td>\n",
       "    </tr>\n",
       "  </tbody>\n",
       "</table>\n",
       "</div>"
      ],
      "text/plain": [
       "                 df        sum_sq       mean_sq           F  PR(>F)\n",
       "C(법규위반가해자)      7.0  9.400558e+06  1.342937e+06  303.662432     0.0\n",
       "Residual    58051.0  2.567286e+08  4.422466e+03         NaN     NaN"
      ]
     },
     "execution_count": 30,
     "metadata": {},
     "output_type": "execute_result"
    }
   ],
   "source": [
    "model = ols('EPDO1 ~ C(법규위반가해자)', df).fit()\n",
    "anova_lm(model)"
   ]
  },
  {
   "cell_type": "code",
   "execution_count": 31,
   "metadata": {},
   "outputs": [
    {
     "name": "stdout",
     "output_type": "stream",
     "text": [
      "        Multiple Comparison of Means - Tukey HSD, FWER=0.05        \n",
      "===================================================================\n",
      "   group1      group2    meandiff p-adj    lower     upper   reject\n",
      "-------------------------------------------------------------------\n",
      "         과속 교차로 통행방법 위반 -168.3378  0.001  -182.488 -154.1876   True\n",
      "         과속          기타 -168.5229  0.001 -179.7959 -157.2498   True\n",
      "         과속 보행자 보호의무 위반 -157.8471  0.001 -168.6871  -147.007   True\n",
      "         과속        신호위반 -155.3343  0.001 -166.5757  -144.093   True\n",
      "         과속    안전거리 미확보 -152.5228  0.001 -177.3107 -127.7349   True\n",
      "         과속 안전운전 의무 불이행 -154.3275  0.001 -164.9965 -143.6585   True\n",
      "         과속      중앙선 침범 -145.5694  0.001  -158.617 -132.5218   True\n",
      "교차로 통행방법 위반          기타    -0.185    0.9  -10.2646    9.8946  False\n",
      "교차로 통행방법 위반 보행자 보호의무 위반   10.4908 0.0207    0.8979   20.0836   True\n",
      "교차로 통행방법 위반        신호위반   13.0035 0.0022    2.9594   23.0476   True\n",
      "교차로 통행방법 위반    안전거리 미확보    15.815 0.4985   -8.4534   40.0834  False\n",
      "교차로 통행방법 위반 안전운전 의무 불이행   14.0103  0.001    4.6112   23.4095   True\n",
      "교차로 통행방법 위반      중앙선 침범   22.7684  0.001   10.7369   34.7999   True\n",
      "         기타 보행자 보호의무 위반   10.6758  0.001    6.3311   15.0205   True\n",
      "         기타        신호위반   13.1885  0.001    7.9219   18.4551   True\n",
      "         기타    안전거리 미확보      16.0 0.3941   -6.7114   38.7114  False\n",
      "         기타 안전운전 의무 불이행   14.1954  0.001   10.2971   18.0936   True\n",
      "         기타      중앙선 침범   22.9535  0.001   14.4912   31.4157   True\n",
      "보행자 보호의무 위반        신호위반    2.5127  0.611   -1.7489    6.7744  False\n",
      "보행자 보호의무 위반    안전거리 미확보    5.3242    0.9  -17.1754   27.8239  False\n",
      "보행자 보호의무 위반 안전운전 의무 불이행    3.5196  0.001    1.1486    5.8906   True\n",
      "보행자 보호의무 위반      중앙선 침범   12.2777  0.001    4.4014   20.1539   True\n",
      "       신호위반    안전거리 미확보    2.8115    0.9  -19.8842   25.5072  False\n",
      "       신호위반 안전운전 의무 불이행    1.0069    0.9   -2.7987    4.8124  False\n",
      "       신호위반      중앙선 침범    9.7649 0.0104     1.345   18.1849   True\n",
      "   안전거리 미확보 안전운전 의무 불이행   -1.8046    0.9  -24.2224   20.6131  False\n",
      "   안전거리 미확보      중앙선 침범    6.9534    0.9  -16.6891   30.5959  False\n",
      "안전운전 의무 불이행      중앙선 침범    8.7581  0.012     1.119   16.3972   True\n",
      "-------------------------------------------------------------------\n"
     ]
    }
   ],
   "source": [
    "posthoc = pairwise_tukeyhsd(df['EPDO1'], df['법규위반가해자'], alpha=0.05)\n",
    "print(posthoc)"
   ]
  },
  {
   "cell_type": "code",
   "execution_count": 32,
   "metadata": {},
   "outputs": [
    {
     "data": {
      "image/png": "[encoded data removed]",
      "text/plain": [
       "<Figure size 720x432 with 1 Axes>"
      ]
     },
     "metadata": {
      "needs_background": "light"
     },
     "output_type": "display_data"
    }
   ],
   "source": [
    "fig = posthoc.plot_simultaneous()"
   ]
  },
  {
   "cell_type": "markdown",
   "metadata": {},
   "source": [
    "## 3.2 EPDO2 ~ 법규위반가해자 (O) / (O)"
   ]
  },
  {
   "cell_type": "code",
   "execution_count": 33,
   "metadata": {},
   "outputs": [
    {
     "data": {
      "text/html": [
       "<div>\n",
       "<style scoped>\n",
       "    .dataframe tbody tr th:only-of-type {\n",
       "        vertical-align: middle;\n",
       "    }\n",
       "\n",
       "    .dataframe tbody tr th {\n",
       "        vertical-align: top;\n",
       "    }\n",
       "\n",
       "    .dataframe thead th {\n",
       "        text-align: right;\n",
       "    }\n",
       "</style>\n",
       "<table border=\"1\" class=\"dataframe\">\n",
       "  <thead>\n",
       "    <tr style=\"text-align: right;\">\n",
       "      <th></th>\n",
       "      <th>df</th>\n",
       "      <th>sum_sq</th>\n",
       "      <th>mean_sq</th>\n",
       "      <th>F</th>\n",
       "      <th>PR(&gt;F)</th>\n",
       "    </tr>\n",
       "  </thead>\n",
       "  <tbody>\n",
       "    <tr>\n",
       "      <th>C(법규위반가해자)</th>\n",
       "      <td>7.0</td>\n",
       "      <td>10021.985890</td>\n",
       "      <td>1431.712270</td>\n",
       "      <td>221.470465</td>\n",
       "      <td>0.0</td>\n",
       "    </tr>\n",
       "    <tr>\n",
       "      <th>Residual</th>\n",
       "      <td>58051.0</td>\n",
       "      <td>375275.000934</td>\n",
       "      <td>6.464574</td>\n",
       "      <td>NaN</td>\n",
       "      <td>NaN</td>\n",
       "    </tr>\n",
       "  </tbody>\n",
       "</table>\n",
       "</div>"
      ],
      "text/plain": [
       "                 df         sum_sq      mean_sq           F  PR(>F)\n",
       "C(법규위반가해자)      7.0   10021.985890  1431.712270  221.470465     0.0\n",
       "Residual    58051.0  375275.000934     6.464574         NaN     NaN"
      ]
     },
     "execution_count": 33,
     "metadata": {},
     "output_type": "execute_result"
    }
   ],
   "source": [
    "model = ols('EPDO2 ~ C(법규위반가해자)', df).fit()\n",
    "anova_lm(model)"
   ]
  },
  {
   "cell_type": "code",
   "execution_count": 34,
   "metadata": {},
   "outputs": [
    {
     "name": "stdout",
     "output_type": "stream",
     "text": [
      "     Multiple Comparison of Means - Tukey HSD, FWER=0.05      \n",
      "==============================================================\n",
      "   group1      group2   meandiff p-adj   lower   upper  reject\n",
      "--------------------------------------------------------------\n",
      "         과속 교차로 통행방법 위반  -5.3968  0.001 -5.9378 -4.8558   True\n",
      "         과속          기타  -5.4433  0.001 -5.8743 -5.0123   True\n",
      "         과속 보행자 보호의무 위반  -4.9179  0.001 -5.3324 -4.5035   True\n",
      "         과속        신호위반  -4.7255  0.001 -5.1553 -4.2957   True\n",
      "         과속    안전거리 미확보  -5.2407  0.001 -6.1885  -4.293   True\n",
      "         과속 안전운전 의무 불이행  -4.9742  0.001 -5.3821 -4.5663   True\n",
      "         과속      중앙선 침범  -4.3856  0.001 -4.8844 -3.8867   True\n",
      "교차로 통행방법 위반          기타  -0.0465    0.9 -0.4319  0.3389  False\n",
      "교차로 통행방법 위반 보행자 보호의무 위반   0.4788 0.0019  0.1121  0.8456   True\n",
      "교차로 통행방법 위반        신호위반   0.6713  0.001  0.2873  1.0553   True\n",
      "교차로 통행방법 위반    안전거리 미확보    0.156    0.9 -0.7718  1.0839  False\n",
      "교차로 통행방법 위반 안전운전 의무 불이행   0.4226 0.0087  0.0633   0.782   True\n",
      "교차로 통행방법 위반      중앙선 침범   1.0112  0.001  0.5512  1.4712   True\n",
      "         기타 보행자 보호의무 위반   0.5254  0.001  0.3592  0.6915   True\n",
      "         기타        신호위반   0.7178  0.001  0.5164  0.9192   True\n",
      "         기타    안전거리 미확보   0.2025    0.9 -0.6658  1.0709  False\n",
      "         기타 안전운전 의무 불이행   0.4691  0.001  0.3201  0.6182   True\n",
      "         기타      중앙선 침범   1.0577  0.001  0.7341  1.3812   True\n",
      "보행자 보호의무 위반        신호위반   0.1925 0.0083  0.0295  0.3554   True\n",
      "보행자 보호의무 위반    안전거리 미확보  -0.3228    0.9  -1.183  0.5374  False\n",
      "보행자 보호의무 위반 안전운전 의무 불이행  -0.0562 0.5552 -0.1469  0.0344  False\n",
      "보행자 보호의무 위반      중앙선 침범   0.5323  0.001  0.2312  0.8335   True\n",
      "       신호위반    안전거리 미확보  -0.5153 0.6034  -1.383  0.3525  False\n",
      "       신호위반 안전운전 의무 불이행  -0.2487  0.001 -0.3942 -0.1032   True\n",
      "       신호위반      중앙선 침범   0.3399 0.0299   0.018  0.6618   True\n",
      "   안전거리 미확보 안전운전 의무 불이행   0.2666    0.9 -0.5905  1.1237  False\n",
      "   안전거리 미확보      중앙선 침범   0.8551 0.0796 -0.0488  1.7591  False\n",
      "안전운전 의무 불이행      중앙선 침범   0.5886  0.001  0.2965  0.8806   True\n",
      "--------------------------------------------------------------\n"
     ]
    }
   ],
   "source": [
    "posthoc = pairwise_tukeyhsd(df['EPDO2'], df['법규위반가해자'], alpha=0.05)\n",
    "print(posthoc)"
   ]
  },
  {
   "cell_type": "code",
   "execution_count": 35,
   "metadata": {},
   "outputs": [
    {
     "data": {
      "image/png": "[encoded data removed]",
      "text/plain": [
       "<Figure size 720x432 with 1 Axes>"
      ]
     },
     "metadata": {
      "needs_background": "light"
     },
     "output_type": "display_data"
    }
   ],
   "source": [
    "fig = posthoc.plot_simultaneous()"
   ]
  },
  {
   "cell_type": "markdown",
   "metadata": {},
   "source": [
    "## 3.3 심각도 ~ 법규위반가해자 (O) / (O)"
   ]
  },
  {
   "cell_type": "code",
   "execution_count": 36,
   "metadata": {},
   "outputs": [
    {
     "data": {
      "text/html": [
       "<div>\n",
       "<style scoped>\n",
       "    .dataframe tbody tr th:only-of-type {\n",
       "        vertical-align: middle;\n",
       "    }\n",
       "\n",
       "    .dataframe tbody tr th {\n",
       "        vertical-align: top;\n",
       "    }\n",
       "\n",
       "    .dataframe thead th {\n",
       "        text-align: right;\n",
       "    }\n",
       "</style>\n",
       "<table border=\"1\" class=\"dataframe\">\n",
       "  <thead>\n",
       "    <tr style=\"text-align: right;\">\n",
       "      <th></th>\n",
       "      <th>df</th>\n",
       "      <th>sum_sq</th>\n",
       "      <th>mean_sq</th>\n",
       "      <th>F</th>\n",
       "      <th>PR(&gt;F)</th>\n",
       "    </tr>\n",
       "  </thead>\n",
       "  <tbody>\n",
       "    <tr>\n",
       "      <th>C(법규위반가해자)</th>\n",
       "      <td>7.0</td>\n",
       "      <td>104.763815</td>\n",
       "      <td>14.966259</td>\n",
       "      <td>68.19659</td>\n",
       "      <td>1.519561e-98</td>\n",
       "    </tr>\n",
       "    <tr>\n",
       "      <th>Residual</th>\n",
       "      <td>58051.0</td>\n",
       "      <td>12739.732543</td>\n",
       "      <td>0.219458</td>\n",
       "      <td>NaN</td>\n",
       "      <td>NaN</td>\n",
       "    </tr>\n",
       "  </tbody>\n",
       "</table>\n",
       "</div>"
      ],
      "text/plain": [
       "                 df        sum_sq    mean_sq         F        PR(>F)\n",
       "C(법규위반가해자)      7.0    104.763815  14.966259  68.19659  1.519561e-98\n",
       "Residual    58051.0  12739.732543   0.219458       NaN           NaN"
      ]
     },
     "execution_count": 36,
     "metadata": {},
     "output_type": "execute_result"
    }
   ],
   "source": [
    "model = ols('심각도 ~ C(법규위반가해자)', df).fit()\n",
    "anova_lm(model)"
   ]
  },
  {
   "cell_type": "code",
   "execution_count": 37,
   "metadata": {},
   "outputs": [
    {
     "name": "stdout",
     "output_type": "stream",
     "text": [
      "     Multiple Comparison of Means - Tukey HSD, FWER=0.05      \n",
      "==============================================================\n",
      "   group1      group2   meandiff p-adj   lower   upper  reject\n",
      "--------------------------------------------------------------\n",
      "         과속 교차로 통행방법 위반  -0.3388  0.001 -0.4385 -0.2391   True\n",
      "         과속          기타  -0.4108  0.001 -0.4902 -0.3314   True\n",
      "         과속 보행자 보호의무 위반  -0.2698  0.001 -0.3461 -0.1934   True\n",
      "         과속        신호위반  -0.2561  0.001 -0.3353  -0.177   True\n",
      "         과속    안전거리 미확보  -0.4676  0.001 -0.6422  -0.293   True\n",
      "         과속 안전운전 의무 불이행  -0.3279  0.001  -0.403 -0.2527   True\n",
      "         과속      중앙선 침범  -0.2262  0.001 -0.3181 -0.1343   True\n",
      "교차로 통행방법 위반          기타   -0.072  0.044  -0.143  -0.001   True\n",
      "교차로 통행방법 위반 보행자 보호의무 위반    0.069 0.0412  0.0015  0.1366   True\n",
      "교차로 통행방법 위반        신호위반   0.0827 0.0095  0.0119  0.1534   True\n",
      "교차로 통행방법 위반    안전거리 미확보  -0.1288 0.3028 -0.2997  0.0422  False\n",
      "교차로 통행방법 위반 안전운전 의무 불이행   0.0109    0.9 -0.0553  0.0771  False\n",
      "교차로 통행방법 위반      중앙선 침범   0.1126 0.0015  0.0278  0.1973   True\n",
      "         기타 보행자 보호의무 위반   0.1411  0.001  0.1105  0.1717   True\n",
      "         기타        신호위반   0.1547  0.001  0.1176  0.1918   True\n",
      "         기타    안전거리 미확보  -0.0568    0.9 -0.2167  0.1032  False\n",
      "         기타 안전운전 의무 불이행    0.083  0.001  0.0555  0.1104   True\n",
      "         기타      중앙선 침범   0.1846  0.001   0.125  0.2442   True\n",
      "보행자 보호의무 위반        신호위반   0.0136 0.8575 -0.0164  0.0436  False\n",
      "보행자 보호의무 위반    안전거리 미확보  -0.1978 0.0039 -0.3563 -0.0393   True\n",
      "보행자 보호의무 위반 안전운전 의무 불이행  -0.0581  0.001 -0.0748 -0.0414   True\n",
      "보행자 보호의무 위반      중앙선 침범   0.0435 0.2517 -0.0119   0.099  False\n",
      "       신호위반    안전거리 미확보  -0.2114 0.0016 -0.3713 -0.0516   True\n",
      "       신호위반 안전운전 의무 불이행  -0.0717  0.001 -0.0985 -0.0449   True\n",
      "       신호위반      중앙선 침범   0.0299 0.7652 -0.0294  0.0892  False\n",
      "   안전거리 미확보 안전운전 의무 불이행   0.1397 0.1276 -0.0182  0.2976  False\n",
      "   안전거리 미확보      중앙선 침범   0.2414  0.001  0.0748  0.4079   True\n",
      "안전운전 의무 불이행      중앙선 침범   0.1016  0.001  0.0478  0.1555   True\n",
      "--------------------------------------------------------------\n"
     ]
    }
   ],
   "source": [
    "posthoc = pairwise_tukeyhsd(df['심각도'], df['법규위반가해자'], alpha=0.05)\n",
    "print(posthoc)"
   ]
  },
  {
   "cell_type": "code",
   "execution_count": 38,
   "metadata": {},
   "outputs": [
    {
     "data": {
      "image/png": "[encoded data removed]",
      "text/plain": [
       "<Figure size 720x432 with 1 Axes>"
      ]
     },
     "metadata": {
      "needs_background": "light"
     },
     "output_type": "display_data"
    }
   ],
   "source": [
    "fig = posthoc.plot_simultaneous()"
   ]
  },
  {
   "cell_type": "markdown",
   "metadata": {},
   "source": [
    "---"
   ]
  },
  {
   "cell_type": "markdown",
   "metadata": {},
   "source": [
    "# ■ 4. 행동유형가해자"
   ]
  },
  {
   "cell_type": "markdown",
   "metadata": {},
   "source": [
    "## 4.1 EPDO1 ~ 행동유형가해자 (O) / (O)"
   ]
  },
  {
   "cell_type": "code",
   "execution_count": 39,
   "metadata": {},
   "outputs": [
    {
     "data": {
      "text/html": [
       "<div>\n",
       "<style scoped>\n",
       "    .dataframe tbody tr th:only-of-type {\n",
       "        vertical-align: middle;\n",
       "    }\n",
       "\n",
       "    .dataframe tbody tr th {\n",
       "        vertical-align: top;\n",
       "    }\n",
       "\n",
       "    .dataframe thead th {\n",
       "        text-align: right;\n",
       "    }\n",
       "</style>\n",
       "<table border=\"1\" class=\"dataframe\">\n",
       "  <thead>\n",
       "    <tr style=\"text-align: right;\">\n",
       "      <th></th>\n",
       "      <th>df</th>\n",
       "      <th>sum_sq</th>\n",
       "      <th>mean_sq</th>\n",
       "      <th>F</th>\n",
       "      <th>PR(&gt;F)</th>\n",
       "    </tr>\n",
       "  </thead>\n",
       "  <tbody>\n",
       "    <tr>\n",
       "      <th>C(행동유형가해자)</th>\n",
       "      <td>9.0</td>\n",
       "      <td>5.580604e+06</td>\n",
       "      <td>620067.154920</td>\n",
       "      <td>138.148065</td>\n",
       "      <td>3.520941e-259</td>\n",
       "    </tr>\n",
       "    <tr>\n",
       "      <th>Residual</th>\n",
       "      <td>58049.0</td>\n",
       "      <td>2.605486e+08</td>\n",
       "      <td>4488.424481</td>\n",
       "      <td>NaN</td>\n",
       "      <td>NaN</td>\n",
       "    </tr>\n",
       "  </tbody>\n",
       "</table>\n",
       "</div>"
      ],
      "text/plain": [
       "                 df        sum_sq        mean_sq           F         PR(>F)\n",
       "C(행동유형가해자)      9.0  5.580604e+06  620067.154920  138.148065  3.520941e-259\n",
       "Residual    58049.0  2.605486e+08    4488.424481         NaN            NaN"
      ]
     },
     "execution_count": 39,
     "metadata": {},
     "output_type": "execute_result"
    }
   ],
   "source": [
    "model = ols('EPDO1 ~ C(행동유형가해자)', df).fit()\n",
    "anova_lm(model)"
   ]
  },
  {
   "cell_type": "code",
   "execution_count": 40,
   "metadata": {},
   "outputs": [
    {
     "name": "stdout",
     "output_type": "stream",
     "text": [
      "  Multiple Comparison of Means - Tukey HSD, FWER=0.05   \n",
      "========================================================\n",
      " group1  group2 meandiff p-adj   lower    upper   reject\n",
      "--------------------------------------------------------\n",
      "    U턴중   기타/불명 -16.3136  0.001 -27.0014  -5.6259   True\n",
      "    U턴중   앞지르기중  14.9721  0.742 -12.1799   42.124  False\n",
      "    U턴중   좌우회전중  -0.1339    0.9 -10.0409   9.7731  False\n",
      "    U턴중   주ㆍ정차중 -12.5445 0.0438 -24.9165  -0.1726   True\n",
      "    U턴중 주행 중 대기 -15.8208 0.2182 -35.0829   3.4412  False\n",
      "    U턴중     직진중  15.5043  0.001   5.6656  25.3431   True\n",
      "    U턴중   진로변경중  25.9439 0.0016   5.9698  45.9179   True\n",
      "    U턴중     출발중   1.1991    0.9 -11.6606  14.0588  False\n",
      "    U턴중     후진중  -4.2867    0.9 -14.4792   5.9058  False\n",
      "  기타/불명   앞지르기중  31.2857 0.0046   5.5821  56.9893   True\n",
      "  기타/불명   좌우회전중  16.1797  0.001  11.5324  20.8269   True\n",
      "  기타/불명   주ㆍ정차중   3.7691    0.9  -4.9781  12.5162  False\n",
      "  기타/불명 주행 중 대기   0.4928    0.9 -16.6675   17.653  False\n",
      "  기타/불명     직진중   31.818  0.001   27.318  36.3179   True\n",
      "  기타/불명   진로변경중  42.2575  0.001  24.3017  60.2133   True\n",
      "  기타/불명     출발중  17.5127  0.001   8.0882  26.9372   True\n",
      "  기타/불명     후진중  12.0269  0.001   6.7987  17.2552   True\n",
      "  앞지르기중   좌우회전중  -15.106 0.6572 -40.4949  10.2829  False\n",
      "  앞지르기중   주ㆍ정차중 -27.5166 0.0337 -53.9649  -1.0683   True\n",
      "  앞지르기중 주행 중 대기 -30.7929 0.0427 -61.0827  -0.5031   True\n",
      "  앞지르기중     직진중   0.5323    0.9 -24.8301  25.8946  False\n",
      "  앞지르기중   진로변경중  10.9718    0.9 -19.7757  41.7193  False\n",
      "  앞지르기중     출발중  -13.773 0.8104  -40.453   12.907  False\n",
      "  앞지르기중     후진중 -19.2588 0.3322 -44.7604   6.2429  False\n",
      "  좌우회전중   주ㆍ정차중 -12.4106  0.001 -20.1845  -4.6367   True\n",
      "  좌우회전중 주행 중 대기 -15.6869 0.0867 -32.3721   0.9983  False\n",
      "  좌우회전중     직진중  15.6383  0.001  13.5961  17.6804   True\n",
      "  좌우회전중   진로변경중  26.0778  0.001   8.5755  43.5801   True\n",
      "  좌우회전중     출발중    1.333    0.9  -7.1958   9.8619  False\n",
      "  좌우회전중     후진중  -4.1528 0.0036  -7.5076  -0.7979   True\n",
      "  주ㆍ정차중 주행 중 대기  -3.2763    0.9 -21.5331  14.9805  False\n",
      "  주ㆍ정차중     직진중  28.0489  0.001  20.3621  35.7357   True\n",
      "  주ㆍ정차중   진로변경중  38.4884  0.001  19.4819  57.4949   True\n",
      "  주ㆍ정차중     출발중  13.7436 0.0047   2.4451  25.0422   True\n",
      "  주ㆍ정차중     후진중   8.2579 0.0433   0.1233  16.3924   True\n",
      "주행 중 대기     직진중  31.3252  0.001  14.6804  47.9699   True\n",
      "주행 중 대기   진로변경중  41.7647  0.001   17.698  65.8315   True\n",
      "주행 중 대기     출발중  17.0199 0.1066  -1.5709  35.6107  False\n",
      "주행 중 대기     후진중  11.5341 0.4828  -5.3221  28.3904  False\n",
      "    직진중   진로변경중  10.4395 0.6518  -7.0242  27.9033  False\n",
      "    직진중     출발중 -14.3053  0.001 -22.7547  -5.8558   True\n",
      "    직진중     후진중  -19.791  0.001 -22.9387 -16.6433   True\n",
      "  진로변경중     출발중 -24.7448 0.0021 -44.0724  -5.4172   True\n",
      "  진로변경중     후진중 -30.2306  0.001  -47.896 -12.5651   True\n",
      "    출발중     후진중  -5.4858   0.61 -14.3446   3.3731  False\n",
      "--------------------------------------------------------\n"
     ]
    }
   ],
   "source": [
    "posthoc = pairwise_tukeyhsd(df['EPDO1'], df['행동유형가해자'], alpha=0.05)\n",
    "print(posthoc)"
   ]
  },
  {
   "cell_type": "code",
   "execution_count": 41,
   "metadata": {},
   "outputs": [
    {
     "data": {
      "image/png": "[encoded data removed]",
      "text/plain": [
       "<Figure size 720x432 with 1 Axes>"
      ]
     },
     "metadata": {
      "needs_background": "light"
     },
     "output_type": "display_data"
    }
   ],
   "source": [
    "fig = posthoc.plot_simultaneous()"
   ]
  },
  {
   "cell_type": "markdown",
   "metadata": {},
   "source": [
    "## 4.2 EPDO2 ~ 행동유형가해자 (O) / (O)"
   ]
  },
  {
   "cell_type": "code",
   "execution_count": 42,
   "metadata": {},
   "outputs": [
    {
     "data": {
      "text/html": [
       "<div>\n",
       "<style scoped>\n",
       "    .dataframe tbody tr th:only-of-type {\n",
       "        vertical-align: middle;\n",
       "    }\n",
       "\n",
       "    .dataframe tbody tr th {\n",
       "        vertical-align: top;\n",
       "    }\n",
       "\n",
       "    .dataframe thead th {\n",
       "        text-align: right;\n",
       "    }\n",
       "</style>\n",
       "<table border=\"1\" class=\"dataframe\">\n",
       "  <thead>\n",
       "    <tr style=\"text-align: right;\">\n",
       "      <th></th>\n",
       "      <th>df</th>\n",
       "      <th>sum_sq</th>\n",
       "      <th>mean_sq</th>\n",
       "      <th>F</th>\n",
       "      <th>PR(&gt;F)</th>\n",
       "    </tr>\n",
       "  </thead>\n",
       "  <tbody>\n",
       "    <tr>\n",
       "      <th>C(행동유형가해자)</th>\n",
       "      <td>9.0</td>\n",
       "      <td>9489.431322</td>\n",
       "      <td>1054.381258</td>\n",
       "      <td>162.864681</td>\n",
       "      <td>3.871565e-306</td>\n",
       "    </tr>\n",
       "    <tr>\n",
       "      <th>Residual</th>\n",
       "      <td>58049.0</td>\n",
       "      <td>375807.555501</td>\n",
       "      <td>6.473971</td>\n",
       "      <td>NaN</td>\n",
       "      <td>NaN</td>\n",
       "    </tr>\n",
       "  </tbody>\n",
       "</table>\n",
       "</div>"
      ],
      "text/plain": [
       "                 df         sum_sq      mean_sq           F         PR(>F)\n",
       "C(행동유형가해자)      9.0    9489.431322  1054.381258  162.864681  3.871565e-306\n",
       "Residual    58049.0  375807.555501     6.473971         NaN            NaN"
      ]
     },
     "execution_count": 42,
     "metadata": {},
     "output_type": "execute_result"
    }
   ],
   "source": [
    "model = ols('EPDO2 ~ C(행동유형가해자)', df).fit()\n",
    "anova_lm(model)"
   ]
  },
  {
   "cell_type": "code",
   "execution_count": 43,
   "metadata": {},
   "outputs": [
    {
     "name": "stdout",
     "output_type": "stream",
     "text": [
      " Multiple Comparison of Means - Tukey HSD, FWER=0.05  \n",
      "======================================================\n",
      " group1  group2 meandiff p-adj   lower   upper  reject\n",
      "------------------------------------------------------\n",
      "    U턴중   기타/불명  -0.9868  0.001 -1.3927 -0.5809   True\n",
      "    U턴중   앞지르기중   0.6925 0.5082 -0.3387  1.7237  False\n",
      "    U턴중   좌우회전중   0.0189    0.9 -0.3573  0.3952  False\n",
      "    U턴중   주ㆍ정차중  -0.7367  0.001 -1.2066 -0.2668   True\n",
      "    U턴중 주행 중 대기  -0.9331 0.0022 -1.6647 -0.2016   True\n",
      "    U턴중     직진중   0.5143  0.001  0.1407   0.888   True\n",
      "    U턴중   진로변경중    0.974  0.002  0.2154  1.7326   True\n",
      "    U턴중     출발중  -0.1167    0.9 -0.6051  0.3717  False\n",
      "    U턴중     후진중  -0.3097 0.2517 -0.6968  0.0774  False\n",
      "  기타/불명   앞지르기중   1.6793  0.001  0.7031  2.6555   True\n",
      "  기타/불명   좌우회전중   1.0057  0.001  0.8292  1.1822   True\n",
      "  기타/불명   주ㆍ정차중   0.2501  0.337 -0.0821  0.5823  False\n",
      "  기타/불명 주행 중 대기   0.0537    0.9 -0.5981  0.7054  False\n",
      "  기타/불명     직진중   1.5011  0.001  1.3302   1.672   True\n",
      "  기타/불명   진로변경중   1.9608  0.001  1.2789  2.6427   True\n",
      "  기타/불명     출발중   0.8701  0.001  0.5122  1.2281   True\n",
      "  기타/불명     후진중   0.6771  0.001  0.4786  0.8757   True\n",
      "  앞지르기중   좌우회전중  -0.6736 0.4527 -1.6379  0.2906  False\n",
      "  앞지르기중   주ㆍ정차중  -1.4292  0.001 -2.4337 -0.4248   True\n",
      "  앞지르기중 주행 중 대기  -1.6257  0.001  -2.776 -0.4753   True\n",
      "  앞지르기중     직진중  -0.1782    0.9 -1.1414   0.785  False\n",
      "  앞지르기중   진로변경중   0.2815    0.9 -0.8863  1.4492  False\n",
      "  앞지르기중     출발중  -0.8092 0.2539 -1.8225  0.2041  False\n",
      "  앞지르기중     후진중  -1.0022 0.0356 -1.9707 -0.0337   True\n",
      "  좌우회전중   주ㆍ정차중  -0.7556  0.001 -1.0509 -0.4604   True\n",
      "  좌우회전중 주행 중 대기  -0.9521  0.001 -1.5857 -0.3184   True\n",
      "  좌우회전중     직진중   0.4954  0.001  0.4179   0.573   True\n",
      "  좌우회전중   진로변경중   0.9551  0.001  0.2904  1.6198   True\n",
      "  좌우회전중     출발중  -0.1356    0.9 -0.4595  0.1883  False\n",
      "  좌우회전중     후진중  -0.3286  0.001  -0.456 -0.2012   True\n",
      "  주ㆍ정차중 주행 중 대기  -0.1964    0.9 -0.8898  0.4969  False\n",
      "  주ㆍ정차중     직진중    1.251  0.001  0.9591   1.543   True\n",
      "  주ㆍ정차중   진로변경중   1.7107  0.001  0.9889  2.4326   True\n",
      "  주ㆍ정차중     출발중     0.62  0.001  0.1909  1.0491   True\n",
      "  주ㆍ정차중     후진중   0.4271  0.001  0.1181   0.736   True\n",
      "주행 중 대기     직진중   1.4475  0.001  0.8153  2.0796   True\n",
      "주행 중 대기   진로변경중   1.9071  0.001  0.9931  2.8212   True\n",
      "주행 중 대기     출발중   0.8165 0.0096  0.1104  1.5225   True\n",
      "주행 중 대기     후진중   0.6235  0.064 -0.0167  1.2637  False\n",
      "    직진중   진로변경중   0.4597 0.4644 -0.2036  1.1229  False\n",
      "    직진중     출발중   -0.631  0.001 -0.9519 -0.3101   True\n",
      "    직진중     후진중   -0.824  0.001 -0.9435 -0.7044   True\n",
      "  진로변경중     출발중  -1.0907  0.001 -1.8247 -0.3566   True\n",
      "  진로변경중     후진중  -1.2837  0.001 -1.9546 -0.6128   True\n",
      "    출발중     후진중   -0.193 0.6988 -0.5294  0.1435  False\n",
      "------------------------------------------------------\n"
     ]
    }
   ],
   "source": [
    "posthoc = pairwise_tukeyhsd(df['EPDO2'], df['행동유형가해자'], alpha=0.05)\n",
    "print(posthoc)"
   ]
  },
  {
   "cell_type": "code",
   "execution_count": 44,
   "metadata": {},
   "outputs": [
    {
     "data": {
      "image/png": "[encoded data removed]",
      "text/plain": [
       "<Figure size 720x432 with 1 Axes>"
      ]
     },
     "metadata": {
      "needs_background": "light"
     },
     "output_type": "display_data"
    }
   ],
   "source": [
    "fig = posthoc.plot_simultaneous()"
   ]
  },
  {
   "cell_type": "markdown",
   "metadata": {},
   "source": [
    "## 4.3 심각도 ~ 행동유형가해자 (O) / (O)"
   ]
  },
  {
   "cell_type": "code",
   "execution_count": 45,
   "metadata": {},
   "outputs": [
    {
     "data": {
      "text/html": [
       "<div>\n",
       "<style scoped>\n",
       "    .dataframe tbody tr th:only-of-type {\n",
       "        vertical-align: middle;\n",
       "    }\n",
       "\n",
       "    .dataframe tbody tr th {\n",
       "        vertical-align: top;\n",
       "    }\n",
       "\n",
       "    .dataframe thead th {\n",
       "        text-align: right;\n",
       "    }\n",
       "</style>\n",
       "<table border=\"1\" class=\"dataframe\">\n",
       "  <thead>\n",
       "    <tr style=\"text-align: right;\">\n",
       "      <th></th>\n",
       "      <th>df</th>\n",
       "      <th>sum_sq</th>\n",
       "      <th>mean_sq</th>\n",
       "      <th>F</th>\n",
       "      <th>PR(&gt;F)</th>\n",
       "    </tr>\n",
       "  </thead>\n",
       "  <tbody>\n",
       "    <tr>\n",
       "      <th>C(행동유형가해자)</th>\n",
       "      <td>9.0</td>\n",
       "      <td>281.456790</td>\n",
       "      <td>31.272977</td>\n",
       "      <td>144.500462</td>\n",
       "      <td>2.917136e-271</td>\n",
       "    </tr>\n",
       "    <tr>\n",
       "      <th>Residual</th>\n",
       "      <td>58049.0</td>\n",
       "      <td>12563.039567</td>\n",
       "      <td>0.216421</td>\n",
       "      <td>NaN</td>\n",
       "      <td>NaN</td>\n",
       "    </tr>\n",
       "  </tbody>\n",
       "</table>\n",
       "</div>"
      ],
      "text/plain": [
       "                 df        sum_sq    mean_sq           F         PR(>F)\n",
       "C(행동유형가해자)      9.0    281.456790  31.272977  144.500462  2.917136e-271\n",
       "Residual    58049.0  12563.039567   0.216421         NaN            NaN"
      ]
     },
     "execution_count": 45,
     "metadata": {},
     "output_type": "execute_result"
    }
   ],
   "source": [
    "model = ols('심각도 ~ C(행동유형가해자)', df).fit()\n",
    "anova_lm(model)"
   ]
  },
  {
   "cell_type": "code",
   "execution_count": 46,
   "metadata": {},
   "outputs": [
    {
     "name": "stdout",
     "output_type": "stream",
     "text": [
      " Multiple Comparison of Means - Tukey HSD, FWER=0.05  \n",
      "======================================================\n",
      " group1  group2 meandiff p-adj   lower   upper  reject\n",
      "------------------------------------------------------\n",
      "    U턴중   기타/불명  -0.2939  0.001 -0.3681 -0.2197   True\n",
      "    U턴중   앞지르기중   0.0036    0.9 -0.1849  0.1921  False\n",
      "    U턴중   좌우회전중  -0.0084    0.9 -0.0772  0.0604  False\n",
      "    U턴중   주ㆍ정차중  -0.2278  0.001 -0.3138 -0.1419   True\n",
      "    U턴중 주행 중 대기  -0.2792  0.001  -0.413 -0.1455   True\n",
      "    U턴중     직진중   0.0034    0.9 -0.0649  0.0718  False\n",
      "    U턴중   진로변경중   0.0063    0.9 -0.1324   0.145  False\n",
      "    U턴중     출발중  -0.0687 0.3063  -0.158  0.0206  False\n",
      "    U턴중     후진중   -0.106  0.001 -0.1768 -0.0352   True\n",
      "  기타/불명   앞지르기중   0.2975  0.001   0.119   0.476   True\n",
      "  기타/불명   좌우회전중   0.2855  0.001  0.2532  0.3177   True\n",
      "  기타/불명   주ㆍ정차중    0.066 0.0207  0.0053  0.1268   True\n",
      "  기타/불명 주행 중 대기   0.0147    0.9 -0.1045  0.1338  False\n",
      "  기타/불명     직진중   0.2973  0.001  0.2661  0.3286   True\n",
      "  기타/불명   진로변경중   0.3002  0.001  0.1755  0.4249   True\n",
      "  기타/불명     출발중   0.2252  0.001  0.1598  0.2907   True\n",
      "  기타/불명     후진중   0.1879  0.001  0.1516  0.2242   True\n",
      "  앞지르기중   좌우회전중   -0.012    0.9 -0.1883  0.1643  False\n",
      "  앞지르기중   주ㆍ정차중  -0.2315 0.0027 -0.4151 -0.0478   True\n",
      "  앞지르기중 주행 중 대기  -0.2828  0.001 -0.4932 -0.0725   True\n",
      "  앞지르기중     직진중  -0.0002    0.9 -0.1763  0.1759  False\n",
      "  앞지르기중   진로변경중   0.0027    0.9 -0.2108  0.2162  False\n",
      "  앞지르기중     출발중  -0.0723    0.9 -0.2575   0.113  False\n",
      "  앞지르기중     후진중  -0.1096 0.6106 -0.2867  0.0675  False\n",
      "  좌우회전중   주ㆍ정차중  -0.2194  0.001 -0.2734 -0.1655   True\n",
      "  좌우회전중 주행 중 대기  -0.2708  0.001 -0.3867  -0.155   True\n",
      "  좌우회전중     직진중   0.0118 0.1993 -0.0024   0.026  False\n",
      "  좌우회전중   진로변경중   0.0147    0.9 -0.1068  0.1362  False\n",
      "  좌우회전중     출발중  -0.0603 0.0422 -0.1195  -0.001   True\n",
      "  좌우회전중     후진중  -0.0976  0.001 -0.1209 -0.0743   True\n",
      "  주ㆍ정차중 주행 중 대기  -0.0514    0.9 -0.1781  0.0754  False\n",
      "  주ㆍ정차중     직진중   0.2313  0.001  0.1779  0.2847   True\n",
      "  주ㆍ정차중   진로변경중   0.2342  0.001  0.1022  0.3661   True\n",
      "  주ㆍ정차중     출발중   0.1592  0.001  0.0807  0.2376   True\n",
      "  주ㆍ정차중     후진중   0.1218  0.001  0.0654  0.1783   True\n",
      "주행 중 대기     직진중   0.2826  0.001  0.1671  0.3982   True\n",
      "주행 중 대기   진로변경중   0.2855  0.001  0.1184  0.4526   True\n",
      "주행 중 대기     출발중   0.2105  0.001  0.0815  0.3396   True\n",
      "주행 중 대기     후진중   0.1732  0.001  0.0562  0.2903   True\n",
      "    직진중   진로변경중   0.0029    0.9 -0.1184  0.1241  False\n",
      "    직진중     출발중  -0.0721  0.004 -0.1308 -0.0134   True\n",
      "    직진중     후진중  -0.1094  0.001 -0.1313 -0.0876   True\n",
      "  진로변경중     출발중   -0.075 0.7279 -0.2092  0.0592  False\n",
      "  진로변경중     후진중  -0.1123 0.1065  -0.235  0.0104  False\n",
      "    출발중     후진중  -0.0373 0.6341 -0.0988  0.0242  False\n",
      "------------------------------------------------------\n"
     ]
    }
   ],
   "source": [
    "posthoc = pairwise_tukeyhsd(df['심각도'], df['행동유형가해자'], alpha=0.05)\n",
    "print(posthoc)"
   ]
  },
  {
   "cell_type": "code",
   "execution_count": 47,
   "metadata": {},
   "outputs": [
    {
     "data": {
      "image/png": "[encoded data removed]",
      "text/plain": [
       "<Figure size 720x432 with 1 Axes>"
      ]
     },
     "metadata": {
      "needs_background": "light"
     },
     "output_type": "display_data"
    }
   ],
   "source": [
    "fig = posthoc.plot_simultaneous()"
   ]
  },
  {
   "cell_type": "markdown",
   "metadata": {},
   "source": [
    "---"
   ]
  },
  {
   "cell_type": "markdown",
   "metadata": {},
   "source": [
    "# ■ 5. 피해자신체상해주부위"
   ]
  },
  {
   "cell_type": "markdown",
   "metadata": {},
   "source": [
    "## 5.1 EPDO1 ~ 피해자신체상해주부위 (O) / (O)"
   ]
  },
  {
   "cell_type": "code",
   "execution_count": 50,
   "metadata": {},
   "outputs": [
    {
     "data": {
      "text/html": [
       "<div>\n",
       "<style scoped>\n",
       "    .dataframe tbody tr th:only-of-type {\n",
       "        vertical-align: middle;\n",
       "    }\n",
       "\n",
       "    .dataframe tbody tr th {\n",
       "        vertical-align: top;\n",
       "    }\n",
       "\n",
       "    .dataframe thead th {\n",
       "        text-align: right;\n",
       "    }\n",
       "</style>\n",
       "<table border=\"1\" class=\"dataframe\">\n",
       "  <thead>\n",
       "    <tr style=\"text-align: right;\">\n",
       "      <th></th>\n",
       "      <th>df</th>\n",
       "      <th>sum_sq</th>\n",
       "      <th>mean_sq</th>\n",
       "      <th>F</th>\n",
       "      <th>PR(&gt;F)</th>\n",
       "    </tr>\n",
       "  </thead>\n",
       "  <tbody>\n",
       "    <tr>\n",
       "      <th>C(피해자신체상해주부위)</th>\n",
       "      <td>17.0</td>\n",
       "      <td>2.915341e+07</td>\n",
       "      <td>1.714906e+06</td>\n",
       "      <td>420.021412</td>\n",
       "      <td>0.0</td>\n",
       "    </tr>\n",
       "    <tr>\n",
       "      <th>Residual</th>\n",
       "      <td>58041.0</td>\n",
       "      <td>2.369757e+08</td>\n",
       "      <td>4.082903e+03</td>\n",
       "      <td>NaN</td>\n",
       "      <td>NaN</td>\n",
       "    </tr>\n",
       "  </tbody>\n",
       "</table>\n",
       "</div>"
      ],
      "text/plain": [
       "                    df        sum_sq       mean_sq           F  PR(>F)\n",
       "C(피해자신체상해주부위)     17.0  2.915341e+07  1.714906e+06  420.021412     0.0\n",
       "Residual       58041.0  2.369757e+08  4.082903e+03         NaN     NaN"
      ]
     },
     "execution_count": 50,
     "metadata": {},
     "output_type": "execute_result"
    }
   ],
   "source": [
    "model = ols('EPDO1 ~ C(피해자신체상해주부위)', df).fit()\n",
    "anova_lm(model)"
   ]
  },
  {
   "cell_type": "code",
   "execution_count": 51,
   "metadata": {},
   "outputs": [
    {
     "name": "stdout",
     "output_type": "stream",
     "text": [
      "  Multiple Comparison of Means - Tukey HSD, FWER=0.05   \n",
      "========================================================\n",
      "group1 group2  meandiff p-adj    lower    upper   reject\n",
      "--------------------------------------------------------\n",
      "    가슴     기타  -20.0392  0.001  -24.3114  -15.767   True\n",
      "    가슴    대퇴부  -21.0802  0.001  -26.1641 -15.9963   True\n",
      "    가슴     뒷목  -35.1088  0.001  -42.7036 -27.5141   True\n",
      "    가슴      등  -26.6396  0.001  -38.5778 -14.7013   True\n",
      "    가슴     머리     34.88  0.001   30.2037  39.5562   True\n",
      "    가슴      목  -31.1275  0.001   -40.523  -21.732   True\n",
      "    가슴      발  -33.5931  0.001  -38.4022  -28.784   True\n",
      "    가슴      배   58.9485  0.001   45.0021   72.895   True\n",
      "    가슴     불명   -2.4413    0.9  -19.2664  14.3838  False\n",
      "    가슴   상해없음  -44.5478  0.001  -64.5406  -24.555   True\n",
      "    가슴      손  -37.1293  0.001  -45.3397 -28.9189   True\n",
      "    가슴     앞목   -26.342  0.001  -45.3681  -7.3159   True\n",
      "    가슴     어깨  -36.5929  0.001  -42.9366 -30.2492   True\n",
      "    가슴     얼굴     0.841    0.9   -5.0221   6.7041  False\n",
      "    가슴      팔  -39.5518  0.001  -45.3662 -33.7373   True\n",
      "    가슴    하퇴부  -29.1031  0.001   -33.859 -24.3473   True\n",
      "    가슴     허리   -33.032  0.001  -37.5775 -28.4865   True\n",
      "    기타    대퇴부    -1.041    0.9   -4.9464   2.8643  False\n",
      "    기타     뒷목  -15.0697  0.001  -21.9315  -8.2078   True\n",
      "    기타      등   -6.6004 0.8498  -18.0863   4.8856  False\n",
      "    기타     머리   54.9191  0.001   51.5617  58.2766   True\n",
      "    기타      목  -11.0883 0.0016   -19.902  -2.2747   True\n",
      "    기타      발  -13.5539  0.001  -17.0941 -10.0137   True\n",
      "    기타      배   78.9877  0.001   65.4264   92.549   True\n",
      "    기타     불명   17.5979 0.0229    1.0907  34.1051   True\n",
      "    기타   상해없음  -24.5086  0.002  -44.2347  -4.7826   True\n",
      "    기타      손  -17.0901  0.001  -24.6277  -9.5525   True\n",
      "    기타     앞목   -6.3028    0.9  -25.0484  12.4427  False\n",
      "    기타     어깨  -16.5537  0.001  -21.9987 -11.1088   True\n",
      "    기타     얼굴   20.8802  0.001   16.0036  25.7568   True\n",
      "    기타      팔  -19.5126  0.001  -24.3306 -14.6946   True\n",
      "    기타    하퇴부    -9.064  0.001  -12.5315  -5.5965   True\n",
      "    기타     허리  -12.9929  0.001  -16.1657    -9.82   True\n",
      "   대퇴부     뒷목  -14.0286  0.001  -21.4232   -6.634   True\n",
      "   대퇴부      등   -5.5594    0.9  -17.3713   6.2526  False\n",
      "   대퇴부     머리   55.9602  0.001   51.6165  60.3038   True\n",
      "   대퇴부      목  -10.0473 0.0173  -19.2817  -0.8129   True\n",
      "   대퇴부      발  -12.5129  0.001  -16.9993  -8.0265   True\n",
      "   대퇴부      배   80.0287  0.001   66.1902  93.8672   True\n",
      "   대퇴부     불명   18.6389 0.0124    1.9032  35.3746   True\n",
      "   대퇴부   상해없음  -23.4676 0.0051  -43.3852    -3.55   True\n",
      "   대퇴부      손  -16.0491  0.001  -24.0747  -8.0234   True\n",
      "   대퇴부     앞목   -5.2618    0.9  -24.2089  13.6853  False\n",
      "   대퇴부     어깨  -15.5127  0.001  -21.6154    -9.41   True\n",
      "   대퇴부     얼굴   21.9212  0.001   16.3198  27.5226   True\n",
      "   대퇴부      팔  -18.4716  0.001   -24.022 -12.9211   True\n",
      "   대퇴부    하퇴부   -8.0229  0.001  -12.4522  -3.5937   True\n",
      "   대퇴부     허리  -11.9518  0.001  -16.1544  -7.7492   True\n",
      "    뒷목      등    8.4693 0.6847    -4.621  21.5595  False\n",
      "    뒷목     머리   69.9888  0.001   62.8683  77.1092   True\n",
      "    뒷목      목    3.9813    0.9   -6.8403   14.803  False\n",
      "    뒷목      발    1.5157    0.9   -5.6927   8.7241  False\n",
      "    뒷목      배   94.0573  0.001   79.1129 109.0018   True\n",
      "    뒷목     불명   32.6676  0.001   15.0064  50.3288   True\n",
      "    뒷목   상해없음   -9.4389    0.9  -30.1403  11.2624  False\n",
      "    뒷목      손   -2.0204    0.9  -11.8309     7.79  False\n",
      "    뒷목     앞목    8.7668    0.9  -11.0025  28.5361  False\n",
      "    뒷목     어깨   -1.4841    0.9   -9.7953   6.8271  False\n",
      "    뒷목     얼굴   35.9499  0.001   27.9994  43.9003   True\n",
      "    뒷목      팔   -4.4429 0.8802  -12.3576   3.4717  False\n",
      "    뒷목    하퇴부    6.0057 0.2405   -1.1673  13.1787  False\n",
      "    뒷목     허리    2.0768    0.9   -4.9585   9.1121  False\n",
      "     등     머리   61.5195  0.001   49.8773  73.1618   True\n",
      "     등      목   -4.4879    0.9  -18.6988    9.723  False\n",
      "     등      발   -6.9535 0.8045  -18.6498   4.7427  False\n",
      "     등      배   85.5881  0.001   68.0331 103.1431   True\n",
      "     등     불명   24.1983  0.003    4.2795  44.1171   True\n",
      "     등   상해없음  -17.9082 0.3416  -40.5663   4.7498  False\n",
      "     등      손  -10.4897 0.3691  -23.9465   2.9671  False\n",
      "     등     앞목    0.2976    0.9  -21.5122  22.1073  False\n",
      "     등     어깨   -9.9533 0.3137  -22.3597    2.453  False\n",
      "     등     얼굴   27.4806  0.001    15.313  39.6482   True\n",
      "     등      팔  -12.9122 0.0237  -25.0565  -0.7679   True\n",
      "     등    하퇴부   -2.4636    0.9   -14.138   9.2109  False\n",
      "     등     허리   -6.3925    0.9  -17.9828   5.1979  False\n",
      "    머리      목  -66.0074  0.001  -75.0238  -56.991   True\n",
      "    머리      발  -68.4731  0.001  -72.4915 -64.4546   True\n",
      "    머리      배   24.0686  0.001   10.3746  37.7625   True\n",
      "    머리     불명  -37.3212  0.001  -53.9376 -20.7048   True\n",
      "    머리   상해없음  -79.4277  0.001  -99.2452 -59.6103   True\n",
      "    머리      손  -72.0092  0.001   -79.783 -64.2355   True\n",
      "    머리     앞목   -61.222  0.001  -80.0637 -42.3802   True\n",
      "    머리     어깨  -71.4729  0.001  -77.2403 -65.7054   True\n",
      "    머리     얼굴  -34.0389  0.001  -39.2731 -28.8048   True\n",
      "    머리      팔  -74.4317  0.001  -79.6113 -69.2521   True\n",
      "    머리    하퇴부  -63.9831  0.001  -67.9377 -60.0285   True\n",
      "    머리     허리   -67.912  0.001  -71.6109  -64.213   True\n",
      "     목      발   -2.4656    0.9  -11.5517   6.6204  False\n",
      "     목      배    90.076  0.001   74.1408 106.0113   True\n",
      "     목     불명   28.6862  0.001   10.1791  47.1933   True\n",
      "     목   상해없음  -13.4203 0.7319  -34.8478   8.0073  False\n",
      "     목      손   -6.0018    0.9  -17.2641   5.2605  False\n",
      "     목     앞목    4.7855    0.9   -15.743   25.314  False\n",
      "     목     어깨   -5.4654    0.9   -15.449   4.5181  False\n",
      "     목     얼굴   31.9685  0.001   22.2832  41.6538   True\n",
      "     목      팔   -8.4243 0.1792  -18.0802   1.2316  False\n",
      "     목    하퇴부    2.0244    0.9   -7.0336  11.0823  False\n",
      "     목     허리   -1.9045    0.9  -10.8538   7.0448  False\n",
      "     발      배   92.5416  0.001   78.8017 106.2815   True\n",
      "     발     불명   31.1518  0.001   14.4976  47.8061   True\n",
      "     발   상해없음  -10.9547    0.9  -30.8039   8.8946  False\n",
      "     발      손   -3.5362    0.9  -11.3906   4.3183  False\n",
      "     발     앞목    7.2511    0.9  -11.6241  26.1263  False\n",
      "     발     어깨   -2.9998    0.9   -8.8755   2.8759  False\n",
      "     발     얼굴   34.4341  0.001   29.0809  39.7874   True\n",
      "     발      팔   -5.9587 0.0108  -11.2586  -0.6587   True\n",
      "     발    하퇴부      4.49 0.0164    0.3791   8.6009   True\n",
      "     발     허리    0.5611    0.9   -3.3045   4.4267  False\n",
      "     배     불명  -61.3898  0.001  -82.5733 -40.2063   True\n",
      "     배   상해없음 -103.4963  0.001 -127.2738 -79.7188   True\n",
      "     배      손  -96.0778  0.001 -111.3443 -80.8112   True\n",
      "     배     앞목  -85.2905  0.001 -108.2611 -62.3199   True\n",
      "     배     어깨  -95.5414  0.001 -109.8906 -81.1922   True\n",
      "     배     얼굴  -58.1075  0.001  -72.2508 -43.9642   True\n",
      "     배      팔  -98.5003  0.001 -112.6235 -84.3771   True\n",
      "     배    하퇴부  -88.0516  0.001  -101.773 -74.3303   True\n",
      "     배     허리  -91.9805  0.001 -105.6304 -78.3307   True\n",
      "    불명   상해없음  -42.1065  0.001  -67.6789 -16.5341   True\n",
      "    불명      손   -34.688  0.001  -52.6225 -16.7535   True\n",
      "    불명     앞목  -23.9007 0.0756  -48.7247   0.9232  False\n",
      "    불명     어깨  -34.1516  0.001  -51.3121 -16.9912   True\n",
      "    불명     얼굴    3.2823    0.9  -13.7063  20.2709  False\n",
      "    불명      팔  -37.1105  0.001  -54.0824 -20.1386   True\n",
      "    불명    하퇴부  -26.6619  0.001  -43.3008 -10.0229   True\n",
      "    불명     허리  -30.5908  0.001  -47.1708 -14.0107   True\n",
      "  상해없음      손    7.4185    0.9  -13.5165  28.3535  False\n",
      "  상해없음     앞목   18.2058 0.6264   -8.8655  45.2771  False\n",
      "  상해없음     어깨    7.9549    0.9  -12.3209  28.2307  False\n",
      "  상해없음     얼굴   45.3888  0.001   25.2582  65.5194   True\n",
      "  상해없음      팔     4.996    0.9  -15.1205  25.1125  False\n",
      "  상해없음    하퇴부   15.4446 0.3715   -4.3918  35.2811  False\n",
      "  상해없음     허리   11.5158 0.8331   -8.2713  31.3028  False\n",
      "     손     앞목   10.7873    0.9   -9.2266  30.8011  False\n",
      "     손     어깨    0.5364    0.9    -8.341   9.4137  False\n",
      "     손     얼굴   37.9703  0.001   29.4298  46.5108   True\n",
      "     손      팔   -2.4225    0.9  -10.9297   6.0847  False\n",
      "     손    하퇴부    8.0261 0.0371    0.2042   15.848   True\n",
      "     손     허리    4.0972    0.9   -3.5986  11.7931  False\n",
      "    앞목     어깨  -10.2509    0.9  -29.5741   9.0723  False\n",
      "    앞목     얼굴    27.183  0.001    8.0122  46.3538   True\n",
      "    앞목      팔  -13.2098 0.5874  -32.3658   5.9462  False\n",
      "    앞목    하퇴부   -2.7611    0.9  -21.6228  16.1005  False\n",
      "    앞목     허리     -6.69    0.9  -25.4998  12.1197  False\n",
      "    어깨     얼굴   37.4339  0.001   30.6684  44.1994   True\n",
      "    어깨      팔   -2.9588    0.9   -9.6822   3.7645  False\n",
      "    어깨    하퇴부    7.4898  0.001    1.6576  13.3219   True\n",
      "    어깨     허리    3.5609  0.726   -2.1011   9.2228  False\n",
      "    얼굴      팔  -40.3928  0.001  -46.6647 -34.1208   True\n",
      "    얼굴    하퇴부  -29.9442  0.001  -35.2496 -24.6387   True\n",
      "    얼굴     허리  -33.8731  0.001  -38.9908 -28.7553   True\n",
      "     팔    하퇴부   10.4486  0.001     5.197  15.7002   True\n",
      "     팔     허리    6.5197  0.001    1.4578  11.5817   True\n",
      "   하퇴부     허리   -3.9289 0.0338    -7.728  -0.1298   True\n",
      "--------------------------------------------------------\n"
     ]
    }
   ],
   "source": [
    "posthoc = pairwise_tukeyhsd(df['EPDO1'], df['피해자신체상해주부위'], alpha=0.05)\n",
    "print(posthoc)"
   ]
  },
  {
   "cell_type": "code",
   "execution_count": 52,
   "metadata": {},
   "outputs": [
    {
     "data": {
      "image/png": "[encoded data removed]",
      "text/plain": [
       "<Figure size 720x432 with 1 Axes>"
      ]
     },
     "metadata": {
      "needs_background": "light"
     },
     "output_type": "display_data"
    }
   ],
   "source": [
    "fig = posthoc.plot_simultaneous()"
   ]
  },
  {
   "cell_type": "markdown",
   "metadata": {},
   "source": [
    "## 5.2 EPDO2 ~ 피해자신체상해주부위 (O) / (O)"
   ]
  },
  {
   "cell_type": "code",
   "execution_count": 53,
   "metadata": {},
   "outputs": [
    {
     "data": {
      "text/html": [
       "<div>\n",
       "<style scoped>\n",
       "    .dataframe tbody tr th:only-of-type {\n",
       "        vertical-align: middle;\n",
       "    }\n",
       "\n",
       "    .dataframe tbody tr th {\n",
       "        vertical-align: top;\n",
       "    }\n",
       "\n",
       "    .dataframe thead th {\n",
       "        text-align: right;\n",
       "    }\n",
       "</style>\n",
       "<table border=\"1\" class=\"dataframe\">\n",
       "  <thead>\n",
       "    <tr style=\"text-align: right;\">\n",
       "      <th></th>\n",
       "      <th>df</th>\n",
       "      <th>sum_sq</th>\n",
       "      <th>mean_sq</th>\n",
       "      <th>F</th>\n",
       "      <th>PR(&gt;F)</th>\n",
       "    </tr>\n",
       "  </thead>\n",
       "  <tbody>\n",
       "    <tr>\n",
       "      <th>C(피해자신체상해주부위)</th>\n",
       "      <td>17.0</td>\n",
       "      <td>31445.916046</td>\n",
       "      <td>1849.759767</td>\n",
       "      <td>303.409868</td>\n",
       "      <td>0.0</td>\n",
       "    </tr>\n",
       "    <tr>\n",
       "      <th>Residual</th>\n",
       "      <td>58041.0</td>\n",
       "      <td>353851.070778</td>\n",
       "      <td>6.096571</td>\n",
       "      <td>NaN</td>\n",
       "      <td>NaN</td>\n",
       "    </tr>\n",
       "  </tbody>\n",
       "</table>\n",
       "</div>"
      ],
      "text/plain": [
       "                    df         sum_sq      mean_sq           F  PR(>F)\n",
       "C(피해자신체상해주부위)     17.0   31445.916046  1849.759767  303.409868     0.0\n",
       "Residual       58041.0  353851.070778     6.096571         NaN     NaN"
      ]
     },
     "execution_count": 53,
     "metadata": {},
     "output_type": "execute_result"
    }
   ],
   "source": [
    "model = ols('EPDO2 ~ C(피해자신체상해주부위)', df).fit()\n",
    "anova_lm(model)"
   ]
  },
  {
   "cell_type": "code",
   "execution_count": 54,
   "metadata": {},
   "outputs": [
    {
     "name": "stdout",
     "output_type": "stream",
     "text": [
      "Multiple Comparison of Means - Tukey HSD, FWER=0.05 \n",
      "====================================================\n",
      "group1 group2 meandiff p-adj   lower   upper  reject\n",
      "----------------------------------------------------\n",
      "    가슴     기타  -0.9728  0.001 -1.1379 -0.8077   True\n",
      "    가슴    대퇴부  -0.7132  0.001 -0.9097 -0.5168   True\n",
      "    가슴     뒷목  -1.8139  0.001 -2.1073 -1.5204   True\n",
      "    가슴      등  -1.2442  0.001 -1.7055 -0.7829   True\n",
      "    가슴     머리   0.7554  0.001  0.5747  0.9361   True\n",
      "    가슴      목  -1.4968  0.001 -1.8599 -1.1338   True\n",
      "    가슴      발  -1.2314  0.001 -1.4172 -1.0456   True\n",
      "    가슴      배   1.3952  0.001  0.8563  1.9341   True\n",
      "    가슴     불명  -0.7821 0.0036 -1.4323  -0.132   True\n",
      "    가슴   상해없음  -1.8278  0.001 -2.6003 -1.0552   True\n",
      "    가슴      손  -1.5702  0.001 -1.8874 -1.2529   True\n",
      "    가슴     앞목  -1.4791  0.001 -2.2143 -0.7439   True\n",
      "    가슴     어깨  -1.5562  0.001 -1.8013 -1.3111   True\n",
      "    가슴     얼굴  -0.3092  0.001 -0.5358 -0.0826   True\n",
      "    가슴      팔  -1.8858  0.001 -2.1105 -1.6611   True\n",
      "    가슴    하퇴부  -1.1155  0.001 -1.2993 -0.9317   True\n",
      "    가슴     허리  -1.3878  0.001 -1.5635 -1.2122   True\n",
      "    기타    대퇴부   0.2596  0.001  0.1086  0.4105   True\n",
      "    기타     뒷목  -0.8411  0.001 -1.1062 -0.5759   True\n",
      "    기타      등  -0.2714 0.7656 -0.7153  0.1724  False\n",
      "    기타     머리   1.7282  0.001  1.5985   1.858   True\n",
      "    기타      목   -0.524  0.001 -0.8646 -0.1835   True\n",
      "    기타      발  -0.2586  0.001 -0.3954 -0.1218   True\n",
      "    기타      배    2.368  0.001  1.8439   2.892   True\n",
      "    기타     불명   0.1907    0.9 -0.4472  0.8285  False\n",
      "    기타   상해없음   -0.855 0.0112 -1.6172 -0.0927   True\n",
      "    기타      손  -0.5974  0.001 -0.8886 -0.3061   True\n",
      "    기타     앞목  -0.5063  0.566 -1.2307  0.2181  False\n",
      "    기타     어깨  -0.5834  0.001 -0.7938  -0.373   True\n",
      "    기타     얼굴   0.6636  0.001  0.4751   0.852   True\n",
      "    기타      팔   -0.913  0.001 -1.0991 -0.7268   True\n",
      "    기타    하퇴부  -0.1427 0.0231 -0.2767 -0.0087   True\n",
      "    기타     허리   -0.415  0.001 -0.5376 -0.2924   True\n",
      "   대퇴부     뒷목  -1.1006  0.001 -1.3864 -0.8149   True\n",
      "   대퇴부      등   -0.531 0.0063 -0.9874 -0.0745   True\n",
      "   대퇴부     머리   1.4687  0.001  1.3008  1.6365   True\n",
      "   대퇴부      목  -0.7836  0.001 -1.1404 -0.4268   True\n",
      "   대퇴부      발  -0.5182  0.001 -0.6915 -0.3448   True\n",
      "   대퇴부      배   2.1084  0.001  1.5737  2.6432   True\n",
      "   대퇴부     불명  -0.0689    0.9 -0.7156  0.5778  False\n",
      "   대퇴부   상해없음  -1.1145  0.001 -1.8842 -0.3449   True\n",
      "   대퇴부      손  -0.8569  0.001  -1.167 -0.5468   True\n",
      "   대퇴부     앞목  -0.7659 0.0292  -1.498 -0.0337   True\n",
      "   대퇴부     어깨  -0.8429  0.001 -1.0788 -0.6071   True\n",
      "   대퇴부     얼굴    0.404  0.001  0.1876  0.6205   True\n",
      "   대퇴부      팔  -1.1725  0.001  -1.387 -0.9581   True\n",
      "   대퇴부    하퇴부  -0.4023  0.001 -0.5734 -0.2311   True\n",
      "   대퇴부     허리  -0.6746  0.001  -0.837 -0.5122   True\n",
      "    뒷목      등   0.5696 0.0105  0.0638  1.0755   True\n",
      "    뒷목     머리   2.5693  0.001  2.2941  2.8444   True\n",
      "    뒷목      목    0.317  0.425 -0.1011  0.7352  False\n",
      "    뒷목      발   0.5825  0.001  0.3039   0.861   True\n",
      "    뒷목      배    3.209  0.001  2.6316  3.7865   True\n",
      "    뒷목     불명   1.0317  0.001  0.3493  1.7142   True\n",
      "    뒷목   상해없음  -0.0139    0.9 -0.8138   0.786  False\n",
      "    뒷목      손   0.2437  0.694 -0.1354  0.6228  False\n",
      "    뒷목     앞목   0.3348    0.9 -0.4292  1.0987  False\n",
      "    뒷목     어깨   0.2577 0.3136 -0.0635  0.5788  False\n",
      "    뒷목     얼굴   1.5047  0.001  1.1974  1.8119   True\n",
      "    뒷목      팔  -0.0719    0.9 -0.3777  0.2339  False\n",
      "    뒷목    하퇴부   0.6984  0.001  0.4212  0.9755   True\n",
      "    뒷목     허리    0.426  0.001  0.1542  0.6979   True\n",
      "     등     머리   1.9996  0.001  1.5498  2.4495   True\n",
      "     등      목  -0.2526    0.9 -0.8018  0.2965  False\n",
      "     등      발   0.0128    0.9 -0.4392  0.4648  False\n",
      "     등      배   2.6394  0.001   1.961  3.3178   True\n",
      "     등     불명   0.4621 0.7912 -0.3076  1.2318  False\n",
      "     등   상해없음  -0.5836 0.6401 -1.4591   0.292  False\n",
      "     등      손  -0.3259 0.7308 -0.8459  0.1941  False\n",
      "     등     앞목  -0.2349    0.9 -1.0776  0.6079  False\n",
      "     등     어깨   -0.312 0.6761 -0.7914  0.1674  False\n",
      "     등     얼굴    0.935  0.001  0.4648  1.4052   True\n",
      "     등      팔  -0.6415  0.001 -1.1108 -0.1723   True\n",
      "     등    하퇴부   0.1287    0.9 -0.3224  0.5798  False\n",
      "     등     허리  -0.1436    0.9 -0.5915  0.3043  False\n",
      "    머리      목  -2.2523  0.001 -2.6007 -1.9039   True\n",
      "    머리      발  -1.9868  0.001 -2.1421 -1.8316   True\n",
      "    머리      배   0.6398 0.0033  0.1106  1.1689   True\n",
      "    머리     불명  -1.5376  0.001 -2.1797 -0.8955   True\n",
      "    머리   상해없음  -2.5832  0.001  -3.349 -1.8174   True\n",
      "    머리      손  -2.3256  0.001  -2.626 -2.0252   True\n",
      "    머리     앞목  -2.2345  0.001 -2.9626 -1.5064   True\n",
      "    머리     어깨  -2.3116  0.001 -2.5345 -2.0887   True\n",
      "    머리     얼굴  -1.0646  0.001 -1.2669 -0.8624   True\n",
      "    머리      팔  -2.6412  0.001 -2.8413  -2.441   True\n",
      "    머리    하퇴부  -1.8709  0.001 -2.0238 -1.7181   True\n",
      "    머리     허리  -2.1433  0.001 -2.2862 -2.0003   True\n",
      "     목      발   0.2654 0.4306 -0.0857  0.6165  False\n",
      "     목      배    2.892  0.001  2.2762  3.5078   True\n",
      "     목     불명   0.7147 0.0504 -0.0005  1.4298  False\n",
      "     목   상해없음  -0.3309    0.9 -1.1589  0.4971  False\n",
      "     목      손  -0.0733    0.9 -0.5085  0.3619  False\n",
      "     목     앞목   0.0177    0.9 -0.7755   0.811  False\n",
      "     목     어깨  -0.0593    0.9 -0.4451  0.3264  False\n",
      "     목     얼굴   1.1876  0.001  0.8134  1.5619   True\n",
      "     목      팔  -0.3889 0.0306 -0.7621 -0.0158   True\n",
      "     목    하퇴부   0.3813  0.017  0.0313  0.7313   True\n",
      "     목     허리    0.109    0.9 -0.2368  0.4548  False\n",
      "     발      배   2.6266  0.001  2.0957  3.1575   True\n",
      "     발     불명   0.4493  0.568 -0.1943  1.0928  False\n",
      "     발   상해없음  -0.5964 0.3743 -1.3634  0.1706  False\n",
      "     발      손  -0.3387  0.012 -0.6422 -0.0352   True\n",
      "     발     앞목  -0.2477    0.9 -0.9771  0.4817  False\n",
      "     발     어깨  -0.3248  0.001 -0.5518 -0.0977   True\n",
      "     발     얼굴   0.9222  0.001  0.7153  1.1291   True\n",
      "     발      팔  -0.6544  0.001 -0.8592 -0.4496   True\n",
      "     발    하퇴부   0.1159 0.4961  -0.043  0.2747  False\n",
      "     발     허리  -0.1564 0.0288 -0.3058  -0.007   True\n",
      "     배     불명  -2.1773  0.001 -2.9959 -1.3588   True\n",
      "     배   상해없음   -3.223  0.001 -4.1418 -2.3041   True\n",
      "     배      손  -2.9653  0.001 -3.5553 -2.3754   True\n",
      "     배     앞목  -2.8743  0.001 -3.7619 -1.9867   True\n",
      "     배     어깨  -2.9514  0.001 -3.5058 -2.3969   True\n",
      "     배     얼굴  -1.7044  0.001 -2.2509 -1.1579   True\n",
      "     배      팔  -3.2809  0.001 -3.8267 -2.7352   True\n",
      "     배    하퇴부  -2.5107  0.001 -3.0409 -1.9805   True\n",
      "     배     허리   -2.783  0.001 -3.3105 -2.2556   True\n",
      "    불명   상해없음  -1.0456 0.0252 -2.0338 -0.0575   True\n",
      "    불명      손   -0.788 0.0091  -1.481  -0.095   True\n",
      "    불명     앞목   -0.697  0.503 -1.6562  0.2623  False\n",
      "    불명     어깨   -0.774  0.006 -1.4372 -0.1109   True\n",
      "    불명     얼굴   0.4729  0.517 -0.1835  1.1294  False\n",
      "    불명      팔  -1.1036  0.001 -1.7595 -0.4478   True\n",
      "    불명    하퇴부  -0.3334    0.9 -0.9763  0.3096  False\n",
      "    불명     허리  -0.6057 0.0895 -1.2464   0.035  False\n",
      "  상해없음      손   0.2576    0.9 -0.5513  1.0666  False\n",
      "  상해없음     앞목   0.3487    0.9 -0.6974  1.3948  False\n",
      "  상해없음     어깨   0.2716    0.9 -0.5119  1.0551  False\n",
      "  상해없음     얼굴   1.5186  0.001  0.7407  2.2964   True\n",
      "  상해없음      팔   -0.058    0.9 -0.8353  0.7193  False\n",
      "  상해없음    하퇴부   0.7123  0.106 -0.0543  1.4788  False\n",
      "  상해없음     허리   0.4399 0.8482 -0.3247  1.2046  False\n",
      "     손     앞목   0.0911    0.9 -0.6823  0.8644  False\n",
      "     손     어깨    0.014    0.9 -0.3291   0.357  False\n",
      "     손     얼굴   1.2609  0.001  0.9309   1.591   True\n",
      "     손      팔  -0.3156 0.0778 -0.6444  0.0131  False\n",
      "     손    하퇴부   0.4546  0.001  0.1524  0.7569   True\n",
      "     손     허리   0.1823 0.7621 -0.1151  0.4797  False\n",
      "    앞목     어깨  -0.0771    0.9 -0.8238  0.6696  False\n",
      "    앞목     얼굴   1.1699  0.001  0.4291  1.9107   True\n",
      "    앞목      팔  -0.4067    0.9 -1.1469  0.3336  False\n",
      "    앞목    하퇴부   0.3636    0.9 -0.3653  1.0924  False\n",
      "    앞목     허리   0.0913    0.9 -0.6356  0.8181  False\n",
      "    어깨     얼굴    1.247  0.001  0.9855  1.5084   True\n",
      "    어깨      팔  -0.3296 0.0013 -0.5894 -0.0698   True\n",
      "    어깨    하퇴부   0.4407  0.001  0.2153   0.666   True\n",
      "    어깨     허리   0.1684 0.3953 -0.0504  0.3871  False\n",
      "    얼굴      팔  -1.5766  0.001 -1.8189 -1.3342   True\n",
      "    얼굴    하퇴부  -0.8063  0.001 -1.0113 -0.6013   True\n",
      "    얼굴     허리  -1.0786  0.001 -1.2764 -0.8809   True\n",
      "     팔    하퇴부   0.7703  0.001  0.5673  0.9732   True\n",
      "     팔     허리   0.4979  0.001  0.3023  0.6935   True\n",
      "   하퇴부     허리  -0.2723  0.001 -0.4191 -0.1255   True\n",
      "----------------------------------------------------\n"
     ]
    }
   ],
   "source": [
    "posthoc = pairwise_tukeyhsd(df['EPDO2'], df['피해자신체상해주부위'], alpha=0.05)\n",
    "print(posthoc)"
   ]
  },
  {
   "cell_type": "code",
   "execution_count": 57,
   "metadata": {},
   "outputs": [
    {
     "data": {
      "image/png": "[encoded data removed]",
      "text/plain": [
       "<Figure size 720x432 with 1 Axes>"
      ]
     },
     "metadata": {
      "needs_background": "light"
     },
     "output_type": "display_data"
    }
   ],
   "source": [
    "fig = posthoc.plot_simultaneous()"
   ]
  },
  {
   "cell_type": "markdown",
   "metadata": {},
   "source": [
    "## 5.3 심각도 ~ 피해자신체상해주부위 (O) / (O)"
   ]
  },
  {
   "cell_type": "code",
   "execution_count": 55,
   "metadata": {},
   "outputs": [
    {
     "data": {
      "text/html": [
       "<div>\n",
       "<style scoped>\n",
       "    .dataframe tbody tr th:only-of-type {\n",
       "        vertical-align: middle;\n",
       "    }\n",
       "\n",
       "    .dataframe tbody tr th {\n",
       "        vertical-align: top;\n",
       "    }\n",
       "\n",
       "    .dataframe thead th {\n",
       "        text-align: right;\n",
       "    }\n",
       "</style>\n",
       "<table border=\"1\" class=\"dataframe\">\n",
       "  <thead>\n",
       "    <tr style=\"text-align: right;\">\n",
       "      <th></th>\n",
       "      <th>df</th>\n",
       "      <th>sum_sq</th>\n",
       "      <th>mean_sq</th>\n",
       "      <th>F</th>\n",
       "      <th>PR(&gt;F)</th>\n",
       "    </tr>\n",
       "  </thead>\n",
       "  <tbody>\n",
       "    <tr>\n",
       "      <th>C(피해자신체상해주부위)</th>\n",
       "      <td>17.0</td>\n",
       "      <td>540.031506</td>\n",
       "      <td>31.766559</td>\n",
       "      <td>149.845026</td>\n",
       "      <td>0.0</td>\n",
       "    </tr>\n",
       "    <tr>\n",
       "      <th>Residual</th>\n",
       "      <td>58041.0</td>\n",
       "      <td>12304.464851</td>\n",
       "      <td>0.211996</td>\n",
       "      <td>NaN</td>\n",
       "      <td>NaN</td>\n",
       "    </tr>\n",
       "  </tbody>\n",
       "</table>\n",
       "</div>"
      ],
      "text/plain": [
       "                    df        sum_sq    mean_sq           F  PR(>F)\n",
       "C(피해자신체상해주부위)     17.0    540.031506  31.766559  149.845026     0.0\n",
       "Residual       58041.0  12304.464851   0.211996         NaN     NaN"
      ]
     },
     "execution_count": 55,
     "metadata": {},
     "output_type": "execute_result"
    }
   ],
   "source": [
    "model = ols('심각도 ~ C(피해자신체상해주부위)', df).fit()\n",
    "anova_lm(model)"
   ]
  },
  {
   "cell_type": "code",
   "execution_count": 56,
   "metadata": {},
   "outputs": [
    {
     "name": "stdout",
     "output_type": "stream",
     "text": [
      "Multiple Comparison of Means - Tukey HSD, FWER=0.05 \n",
      "====================================================\n",
      "group1 group2 meandiff p-adj   lower   upper  reject\n",
      "----------------------------------------------------\n",
      "    가슴     기타  -0.2166  0.001 -0.2474 -0.1858   True\n",
      "    가슴    대퇴부  -0.0771  0.001 -0.1138 -0.0405   True\n",
      "    가슴     뒷목  -0.4142  0.001  -0.469 -0.3595   True\n",
      "    가슴      등   -0.261  0.001  -0.347 -0.1749   True\n",
      "    가슴     머리   -0.072  0.001 -0.1057 -0.0383   True\n",
      "    가슴      목  -0.3441  0.001 -0.4118 -0.2764   True\n",
      "    가슴      발  -0.1525  0.001 -0.1872 -0.1179   True\n",
      "    가슴      배  -0.0277    0.9 -0.1282  0.0728  False\n",
      "    가슴     불명   -0.297  0.001 -0.4182 -0.1757   True\n",
      "    가슴   상해없음  -0.5204  0.001 -0.6645 -0.3763   True\n",
      "    가슴      손  -0.2621  0.001 -0.3212 -0.2029   True\n",
      "    가슴     앞목  -0.3363  0.001 -0.4734 -0.1992   True\n",
      "    가슴     어깨  -0.2802  0.001 -0.3259 -0.2345   True\n",
      "    가슴     얼굴  -0.1544  0.001 -0.1967 -0.1122   True\n",
      "    가슴      팔  -0.3807  0.001 -0.4226 -0.3388   True\n",
      "    가슴    하퇴부  -0.1728  0.001 -0.2071 -0.1385   True\n",
      "    가슴     허리  -0.2524  0.001 -0.2851 -0.2196   True\n",
      "    기타    대퇴부   0.1395  0.001  0.1113  0.1676   True\n",
      "    기타     뒷목  -0.1976  0.001  -0.247 -0.1482   True\n",
      "    기타      등  -0.0443    0.9 -0.1271  0.0384  False\n",
      "    기타     머리   0.1447  0.001  0.1205  0.1689   True\n",
      "    기타      목  -0.1275  0.001  -0.191 -0.0639   True\n",
      "    기타      발   0.0641  0.001  0.0386  0.0896   True\n",
      "    기타      배    0.189  0.001  0.0913  0.2867   True\n",
      "    기타     불명  -0.0804 0.6194 -0.1993  0.0386  False\n",
      "    기타   상해없음  -0.3038  0.001 -0.4459 -0.1616   True\n",
      "    기타      손  -0.0454 0.2422 -0.0997  0.0089  False\n",
      "    기타     앞목  -0.1196 0.1599 -0.2547  0.0154  False\n",
      "    기타     어깨  -0.0636  0.001 -0.1028 -0.0244   True\n",
      "    기타     얼굴   0.0622  0.001  0.0271  0.0973   True\n",
      "    기타      팔   -0.164  0.001 -0.1987 -0.1293   True\n",
      "    기타    하퇴부   0.0438  0.001  0.0189  0.0688   True\n",
      "    기타     허리  -0.0358  0.001 -0.0586 -0.0129   True\n",
      "   대퇴부     뒷목  -0.3371  0.001 -0.3904 -0.2838   True\n",
      "   대퇴부      등  -0.1838  0.001 -0.2689 -0.0987   True\n",
      "   대퇴부     머리   0.0052    0.9 -0.0261  0.0365  False\n",
      "   대퇴부      목  -0.2669  0.001 -0.3335 -0.2004   True\n",
      "   대퇴부      발  -0.0754  0.001 -0.1077  -0.043   True\n",
      "   대퇴부      배   0.0495    0.9 -0.0502  0.1492  False\n",
      "   대퇴부     불명  -0.2198  0.001 -0.3404 -0.0993   True\n",
      "   대퇴부   상해없음  -0.4433  0.001 -0.5868 -0.2997   True\n",
      "   대퇴부      손  -0.1849  0.001 -0.2427 -0.1271   True\n",
      "   대퇴부     앞목  -0.2591  0.001 -0.3956 -0.1226   True\n",
      "   대퇴부     어깨  -0.2031  0.001 -0.2471 -0.1591   True\n",
      "   대퇴부     얼굴  -0.0773  0.001 -0.1176 -0.0369   True\n",
      "   대퇴부      팔  -0.3035  0.001 -0.3435 -0.2635   True\n",
      "   대퇴부    하퇴부  -0.0956  0.001 -0.1276 -0.0637   True\n",
      "   대퇴부     허리  -0.1752  0.001 -0.2055  -0.145   True\n",
      "    뒷목      등   0.1533  0.001  0.0589  0.2476   True\n",
      "    뒷목     머리   0.3423  0.001   0.291  0.3936   True\n",
      "    뒷목      목   0.0701 0.1402 -0.0078  0.1481  False\n",
      "    뒷목      발   0.2617  0.001  0.2098  0.3137   True\n",
      "    뒷목      배   0.3866  0.001  0.2789  0.4943   True\n",
      "    뒷목     불명   0.1172 0.1149   -0.01  0.2445  False\n",
      "    뒷목   상해없음  -0.1062 0.5367 -0.2553   0.043  False\n",
      "    뒷목      손   0.1522  0.001  0.0815  0.2229   True\n",
      "    뒷목     앞목    0.078    0.9 -0.0645  0.2204  False\n",
      "    뒷목     어깨    0.134  0.001  0.0741  0.1939   True\n",
      "    뒷목     얼굴   0.2598  0.001  0.2025  0.3171   True\n",
      "    뒷목      팔   0.0336 0.8177 -0.0235  0.0906  False\n",
      "    뒷목    하퇴부   0.2414  0.001  0.1898  0.2931   True\n",
      "    뒷목     허리   0.1618  0.001  0.1111  0.2125   True\n",
      "     등     머리    0.189  0.001  0.1051  0.2729   True\n",
      "     등      목  -0.0831 0.2931 -0.1855  0.0193  False\n",
      "     등      발   0.1084  0.001  0.0242  0.1927   True\n",
      "     등      배   0.2333  0.001  0.1068  0.3598   True\n",
      "     등     불명   -0.036    0.9 -0.1796  0.1075  False\n",
      "     등   상해없음  -0.2595  0.001 -0.4227 -0.0962   True\n",
      "     등      손  -0.0011    0.9 -0.0981  0.0959  False\n",
      "     등     앞목  -0.0753    0.9 -0.2325  0.0819  False\n",
      "     등     어깨  -0.0193    0.9 -0.1087  0.0701  False\n",
      "     등     얼굴   0.1065  0.003  0.0189  0.1942   True\n",
      "     등      팔  -0.1197  0.001 -0.2072 -0.0322   True\n",
      "     등    하퇴부   0.0882 0.0285   0.004  0.1723   True\n",
      "     등     허리   0.0086    0.9 -0.0749  0.0921  False\n",
      "    머리      목  -0.2721  0.001 -0.3371 -0.2072   True\n",
      "    머리      발  -0.0806  0.001 -0.1095 -0.0516   True\n",
      "    머리      배   0.0443    0.9 -0.0544   0.143  False\n",
      "    머리     불명   -0.225  0.001 -0.3448 -0.1053   True\n",
      "    머리   상해없음  -0.4485  0.001 -0.5913 -0.3057   True\n",
      "    머리      손  -0.1901  0.001 -0.2461 -0.1341   True\n",
      "    머리     앞목  -0.2643  0.001 -0.4001 -0.1285   True\n",
      "    머리     어깨  -0.2083  0.001 -0.2498 -0.1667   True\n",
      "    머리     얼굴  -0.0825  0.001 -0.1202 -0.0448   True\n",
      "    머리      팔  -0.3087  0.001  -0.346 -0.2714   True\n",
      "    머리    하퇴부  -0.1008  0.001 -0.1293 -0.0723   True\n",
      "    머리     허리  -0.1804  0.001 -0.2071 -0.1538   True\n",
      "     목      발   0.1916  0.001  0.1261   0.257   True\n",
      "     목      배   0.3164  0.001  0.2016  0.4313   True\n",
      "     목     불명   0.0471    0.9 -0.0863  0.1805  False\n",
      "     목   상해없음  -0.1763 0.0085 -0.3307 -0.0219   True\n",
      "     목      손    0.082 0.0443  0.0009  0.1632   True\n",
      "     목     앞목   0.0078    0.9 -0.1401  0.1557  False\n",
      "     목     어깨   0.0638 0.1572 -0.0081  0.1358  False\n",
      "     목     얼굴   0.1897  0.001  0.1199  0.2594   True\n",
      "     목      팔  -0.0366    0.9 -0.1061   0.033  False\n",
      "     목    하퇴부   0.1713  0.001   0.106  0.2366   True\n",
      "     목     허리   0.0917  0.001  0.0272  0.1562   True\n",
      "     발      배   0.1249 0.0015  0.0259  0.2239   True\n",
      "     발     불명  -0.1445 0.0035 -0.2645 -0.0245   True\n",
      "     발   상해없음  -0.3679  0.001 -0.5109 -0.2249   True\n",
      "     발      손  -0.1095  0.001 -0.1661 -0.0529   True\n",
      "     발     앞목  -0.1837  0.001 -0.3198 -0.0477   True\n",
      "     발     어깨  -0.1277  0.001 -0.1701 -0.0854   True\n",
      "     발     얼굴  -0.0019    0.9 -0.0405  0.0367  False\n",
      "     발      팔  -0.2281  0.001 -0.2663 -0.1899   True\n",
      "     발    하퇴부  -0.0203 0.5995 -0.0499  0.0094  False\n",
      "     발     허리  -0.0999  0.001 -0.1277  -0.072   True\n",
      "     배     불명  -0.2693  0.001  -0.422 -0.1167   True\n",
      "     배   상해없음  -0.4928  0.001 -0.6641 -0.3214   True\n",
      "     배      손  -0.2344  0.001 -0.3444 -0.1244   True\n",
      "     배     앞목  -0.3086  0.001 -0.4741 -0.1431   True\n",
      "     배     어깨  -0.2526  0.001  -0.356 -0.1492   True\n",
      "     배     얼굴  -0.1268 0.0019 -0.2287 -0.0249   True\n",
      "     배      팔   -0.353  0.001 -0.4548 -0.2512   True\n",
      "     배    하퇴부  -0.1451  0.001  -0.244 -0.0463   True\n",
      "     배     허리  -0.2247  0.001 -0.3231 -0.1264   True\n",
      "    불명   상해없음  -0.2234 0.0031 -0.4077 -0.0392   True\n",
      "    불명      손   0.0349    0.9 -0.0943  0.1642  False\n",
      "    불명     앞목  -0.0393    0.9 -0.2181  0.1396  False\n",
      "    불명     어깨   0.0167    0.9 -0.1069  0.1404  False\n",
      "    불명     얼굴   0.1426 0.0062  0.0201   0.265   True\n",
      "    불명      팔  -0.0837 0.5998  -0.206  0.0386  False\n",
      "    불명    하퇴부   0.1242 0.0331  0.0043  0.2441   True\n",
      "    불명     허리   0.0446    0.9 -0.0749  0.1641  False\n",
      "  상해없음      손   0.2584  0.001  0.1075  0.4092   True\n",
      "  상해없음     앞목   0.1841 0.0908 -0.0109  0.3792  False\n",
      "  상해없음     어깨   0.2402  0.001  0.0941  0.3863   True\n",
      "  상해없음     얼굴    0.366  0.001  0.2209   0.511   True\n",
      "  상해없음      팔   0.1398 0.0746 -0.0052  0.2847  False\n",
      "  상해없음    하퇴부   0.3476  0.001  0.2047  0.4906   True\n",
      "  상해없음     허리    0.268  0.001  0.1254  0.4106   True\n",
      "     손     앞목  -0.0742    0.9 -0.2184    0.07  False\n",
      "     손     어깨  -0.0182    0.9 -0.0821  0.0458  False\n",
      "     손     얼굴   0.1076  0.001  0.0461  0.1692   True\n",
      "     손      팔  -0.1186  0.001 -0.1799 -0.0573   True\n",
      "     손    하퇴부   0.0893  0.001  0.0329  0.1456   True\n",
      "     손     허리   0.0097    0.9 -0.0458  0.0651  False\n",
      "    앞목     어깨    0.056    0.9 -0.0832  0.1953  False\n",
      "    앞목     얼굴   0.1818  0.001  0.0437    0.32   True\n",
      "    앞목      팔  -0.0444    0.9 -0.1824  0.0936  False\n",
      "    앞목    하퇴부   0.1635 0.0036  0.0276  0.2994   True\n",
      "    앞목     허리   0.0839  0.749 -0.0517  0.2194  False\n",
      "    어깨     얼굴   0.1258  0.001  0.0771  0.1746   True\n",
      "    어깨      팔  -0.1004  0.001 -0.1489  -0.052   True\n",
      "    어깨    하퇴부   0.1074  0.001  0.0654  0.1495   True\n",
      "    어깨     허리   0.0278 0.6034 -0.0129  0.0686  False\n",
      "    얼굴      팔  -0.2262  0.001 -0.2714  -0.181   True\n",
      "    얼굴    하퇴부  -0.0184    0.9 -0.0566  0.0199  False\n",
      "    얼굴     허리   -0.098  0.001 -0.1348 -0.0611   True\n",
      "     팔    하퇴부   0.2079  0.001    0.17  0.2457   True\n",
      "     팔     허리   0.1283  0.001  0.0918  0.1647   True\n",
      "   하퇴부     허리  -0.0796  0.001  -0.107 -0.0522   True\n",
      "----------------------------------------------------\n"
     ]
    }
   ],
   "source": [
    "posthoc = pairwise_tukeyhsd(df['심각도'], df['피해자신체상해주부위'], alpha=0.05)\n",
    "print(posthoc)"
   ]
  },
  {
   "cell_type": "code",
   "execution_count": 58,
   "metadata": {},
   "outputs": [
    {
     "data": {
      "image/png": "[encoded data removed]",
      "text/plain": [
       "<Figure size 720x432 with 1 Axes>"
      ]
     },
     "metadata": {
      "needs_background": "light"
     },
     "output_type": "display_data"
    }
   ],
   "source": [
    "fig = posthoc.plot_simultaneous()"
   ]
  },
  {
   "cell_type": "markdown",
   "metadata": {},
   "source": [
    "---"
   ]
  },
  {
   "cell_type": "markdown",
   "metadata": {},
   "source": [
    "# ■ 6. 차량용도가해자_중분류"
   ]
  },
  {
   "cell_type": "markdown",
   "metadata": {},
   "source": [
    "## 6.1 EPDO1 ~ 차량용도가해자_중분류 (O) / (O)"
   ]
  },
  {
   "cell_type": "code",
   "execution_count": 59,
   "metadata": {},
   "outputs": [
    {
     "data": {
      "text/html": [
       "<div>\n",
       "<style scoped>\n",
       "    .dataframe tbody tr th:only-of-type {\n",
       "        vertical-align: middle;\n",
       "    }\n",
       "\n",
       "    .dataframe tbody tr th {\n",
       "        vertical-align: top;\n",
       "    }\n",
       "\n",
       "    .dataframe thead th {\n",
       "        text-align: right;\n",
       "    }\n",
       "</style>\n",
       "<table border=\"1\" class=\"dataframe\">\n",
       "  <thead>\n",
       "    <tr style=\"text-align: right;\">\n",
       "      <th></th>\n",
       "      <th>df</th>\n",
       "      <th>sum_sq</th>\n",
       "      <th>mean_sq</th>\n",
       "      <th>F</th>\n",
       "      <th>PR(&gt;F)</th>\n",
       "    </tr>\n",
       "  </thead>\n",
       "  <tbody>\n",
       "    <tr>\n",
       "      <th>C(차량용도가해자_중분류)</th>\n",
       "      <td>23.0</td>\n",
       "      <td>4.517253e+06</td>\n",
       "      <td>196402.322613</td>\n",
       "      <td>43.569152</td>\n",
       "      <td>2.892819e-195</td>\n",
       "    </tr>\n",
       "    <tr>\n",
       "      <th>Residual</th>\n",
       "      <td>58035.0</td>\n",
       "      <td>2.616119e+08</td>\n",
       "      <td>4507.829821</td>\n",
       "      <td>NaN</td>\n",
       "      <td>NaN</td>\n",
       "    </tr>\n",
       "  </tbody>\n",
       "</table>\n",
       "</div>"
      ],
      "text/plain": [
       "                     df        sum_sq        mean_sq          F         PR(>F)\n",
       "C(차량용도가해자_중분류)     23.0  4.517253e+06  196402.322613  43.569152  2.892819e-195\n",
       "Residual        58035.0  2.616119e+08    4507.829821        NaN            NaN"
      ]
     },
     "execution_count": 59,
     "metadata": {},
     "output_type": "execute_result"
    }
   ],
   "source": [
    "model = ols('EPDO1 ~ C(차량용도가해자_중분류)', df).fit()\n",
    "anova_lm(model)"
   ]
  },
  {
   "cell_type": "code",
   "execution_count": 60,
   "metadata": {},
   "outputs": [
    {
     "name": "stdout",
     "output_type": "stream",
     "text": [
      "       Multiple Comparison of Means - Tukey HSD, FWER=0.05       \n",
      "=================================================================\n",
      "   group1      group2   meandiff p-adj    lower    upper   reject\n",
      "-----------------------------------------------------------------\n",
      "개인형이동수단(PM)          기타  20.4329    0.9  -26.9686  67.8343  False\n",
      "개인형이동수단(PM)     기타/건설기계   47.521  0.001   11.0208  84.0213   True\n",
      "개인형이동수단(PM)        기타불명  -2.1725    0.9  -39.5106  35.1655  False\n",
      "개인형이동수단(PM)        노선버스  19.3212    0.9  -16.5356  55.1779  False\n",
      "개인형이동수단(PM)         농기계  32.0344 0.8463  -20.8664  84.9351  False\n",
      "개인형이동수단(PM)        덤프트럭  55.2123 0.0104    5.8299 104.5948   True\n",
      "개인형이동수단(PM)         렌터카  23.0908 0.7658  -13.0661  59.2476  False\n",
      "개인형이동수단(PM)          버스   33.399 0.1421   -3.4907  70.2887  False\n",
      "개인형이동수단(PM)          불명    -4.41    0.9  -41.0161  32.1961  False\n",
      "개인형이동수단(PM)      비사업용기타  30.0168 0.3048    -6.569  66.6026  False\n",
      "개인형이동수단(PM) 사륜오토바이(ATV)  13.7021    0.9  -36.6781  64.0823  False\n",
      "개인형이동수단(PM)       사업용기타  27.2111 0.6018  -11.3272  65.7493  False\n",
      "개인형이동수단(PM)         승용차  25.3204 0.5918  -10.3325  60.9732  False\n",
      "개인형이동수단(PM)     어린이통학버스  21.7753    0.9  -17.0908  60.6413  False\n",
      "개인형이동수단(PM)    원동기장치자전거  14.6467    0.9  -21.9758  51.2692  False\n",
      "개인형이동수단(PM)       위험물운송  78.2302 0.0839   -3.5716 160.0319  False\n",
      "개인형이동수단(PM)         이륜차  12.7326    0.9  -23.2256  48.6908  False\n",
      "개인형이동수단(PM)         자전거   5.7606    0.9   -30.407  41.9282  False\n",
      "개인형이동수단(PM)        전세버스  51.4313  0.001    13.169  89.6937   True\n",
      "개인형이동수단(PM)      콘크리트믹서  78.1974  0.001   17.7412 138.6537   True\n",
      "개인형이동수단(PM)          택시  23.9946 0.6902  -11.8335  59.8226  False\n",
      "개인형이동수단(PM)    특수여객(장의)  54.1574    0.9  -60.7271  169.042  False\n",
      "개인형이동수단(PM)         화물차  36.6503 0.0362    0.9415  72.3592   True\n",
      "         기타     기타/건설기계  27.0881 0.2609   -5.1764  59.3527  False\n",
      "         기타        기타불명 -22.6054 0.6635  -55.8148   10.604  False\n",
      "         기타        노선버스  -1.1117    0.9  -32.6465  30.4231  False\n",
      "         기타         농기계  11.6015    0.9  -38.4707  61.6737  False\n",
      "         기타        덤프트럭  34.7795 0.4936  -11.5602  81.1192  False\n",
      "         기타         렌터카   2.6579    0.9  -29.2177  34.5335  False\n",
      "         기타          버스  12.9661    0.9  -19.7383  45.6706  False\n",
      "         기타          불명 -24.8428 0.4501  -57.2271   7.5415  False\n",
      "         기타      비사업용기타    9.584    0.9  -22.7774  41.9453  False\n",
      "         기타 사륜오토바이(ATV)  -6.7307    0.9  -54.1322  40.6708  False\n",
      "         기타       사업용기타   6.7782    0.9  -27.7751  41.3315  False\n",
      "         기타         승용차   4.8875    0.9  -26.4152  36.1903  False\n",
      "         기타     어린이통학버스   1.3424    0.9  -33.5761  36.2609  False\n",
      "         기타    원동기장치자전거  -5.7862    0.9   -38.189  26.6166  False\n",
      "         기타       위험물운송  57.7973 0.5619  -22.2043  137.799  False\n",
      "         기타         이륜차  -7.7003    0.9  -39.3503  23.9498  False\n",
      "         기타         자전거 -14.6723    0.9    -46.56  17.2155  False\n",
      "         기타        전세버스  30.9984 0.1424   -3.2469  65.2438  False\n",
      "         기타      콘크리트믹서  57.7646 0.0525   -0.2328  115.762  False\n",
      "         기타          택시   3.5617    0.9  -27.9404  35.0638  False\n",
      "         기타    특수여객(장의)  33.7246    0.9  -79.8853 147.3344  False\n",
      "         기타         화물차  16.2175    0.9   -15.149   47.584  False\n",
      "    기타/건설기계        기타불명 -49.6935  0.001  -63.4133 -35.9738   True\n",
      "    기타/건설기계        노선버스 -28.1998  0.001  -37.1335 -19.2662   True\n",
      "    기타/건설기계         농기계 -15.4866    0.9  -55.3939  24.4207  False\n",
      "    기타/건설기계        덤프트럭   7.6913    0.9  -27.4189  42.8016  False\n",
      "    기타/건설기계         렌터카 -24.4302  0.001   -34.501 -14.3595   True\n",
      "    기타/건설기계          버스  -14.122 0.0082  -26.5699  -1.6741   True\n",
      "    기타/건설기계          불명  -51.931  0.001  -63.5115 -40.3504   True\n",
      "    기타/건설기계      비사업용기타 -17.5042  0.001  -29.0204   -5.988   True\n",
      "    기타/건설기계 사륜오토바이(ATV) -33.8189 0.1154  -70.3191   2.6814  False\n",
      "    기타/건설기계       사업용기타 -20.3099 0.0024  -37.0221  -3.5977   True\n",
      "    기타/건설기계         승용차 -22.2006  0.001   -30.277 -14.1242   True\n",
      "    기타/건설기계     어린이통학버스 -25.7457  0.001  -43.2006  -8.2909   True\n",
      "    기타/건설기계    원동기장치자전거 -32.8743  0.001  -44.5066 -21.2421   True\n",
      "    기타/건설기계       위험물운송  30.7092    0.9  -43.3559 104.7742  False\n",
      "    기타/건설기계         이륜차 -34.7884  0.001  -44.1207 -25.4561   True\n",
      "    기타/건설기계         자전거 -41.7604  0.001  -51.8696 -31.6512   True\n",
      "    기타/건설기계        전세버스   3.9103    0.9  -12.1555  19.9761  False\n",
      "    기타/건설기계      콘크리트믹서  30.6764 0.8115  -18.8116  80.1644  False\n",
      "    기타/건설기계          택시 -23.5264  0.001  -32.3441 -14.7088   True\n",
      "    기타/건설기계    특수여객(장의)   6.6364    0.9 -102.8741  116.147  False\n",
      "    기타/건설기계         화물차 -10.8707  0.001  -19.1907  -2.5506   True\n",
      "       기타불명        노선버스  21.4937  0.001    9.5912  33.3962   True\n",
      "       기타불명         농기계  34.2069 0.2577   -6.4681  74.8819  False\n",
      "       기타불명        덤프트럭  57.3849  0.001   21.4044  93.3653   True\n",
      "       기타불명         렌터카  25.2633  0.001   12.4852  38.0415   True\n",
      "       기타불명          버스  35.5715  0.001    20.847   50.296   True\n",
      "       기타불명          불명  -2.2374    0.9  -16.2364  11.7615  False\n",
      "       기타불명      비사업용기타  32.1894  0.001   18.2436  46.1351   True\n",
      "       기타불명 사륜오토바이(ATV)  15.8747    0.9  -21.4634  53.2127  False\n",
      "       기타불명       사업용기타  29.3836  0.001   10.9131  47.8541   True\n",
      "       기타불명         승용차  27.4929  0.001   16.2196  38.7663   True\n",
      "       기타불명     어린이통학버스  23.9478 0.0013    4.8028  43.0928   True\n",
      "       기타불명    원동기장치자전거  16.8192 0.0031    2.7775   30.861   True\n",
      "       기타불명       위험물운송  80.4027  0.018    5.9212 154.8842   True\n",
      "       기타불명         이륜차  14.9051 0.0021    2.7005  27.1097   True\n",
      "       기타불명         자전거   7.9331 0.8127   -4.8753  20.7416  False\n",
      "       기타불명        전세버스  53.6038  0.001   35.7161  71.4916   True\n",
      "       기타불명      콘크리트믹서    80.37  0.001   30.2609 130.4791   True\n",
      "       기타불명          택시  26.1671  0.001   14.3514  37.9828   True\n",
      "       기타불명    특수여객(장의)    56.33    0.9  -53.4627 166.1226  False\n",
      "       기타불명         화물차  38.8229  0.001   27.3737   50.272   True\n",
      "       노선버스         농기계  12.7132    0.9  -26.6064  52.0328  False\n",
      "       노선버스        덤프트럭  35.8912 0.0295    1.4504   70.332   True\n",
      "       노선버스         렌터카   3.7696    0.9   -3.6371  11.1763  False\n",
      "       노선버스          버스  14.0778  0.001    3.6668  24.4888   True\n",
      "       노선버스          불명 -23.7311  0.001  -33.0878 -14.3744   True\n",
      "       노선버스      비사업용기타  10.6957 0.0062    1.4187  19.9726   True\n",
      "       노선버스 사륜오토바이(ATV)   -5.619    0.9  -41.4758  30.2377  False\n",
      "       노선버스       사업용기타   7.8899    0.9   -7.3658  23.1456  False\n",
      "       노선버스         승용차   5.9992  0.001    1.6787  10.3197   True\n",
      "       노선버스     어린이통학버스   2.4541    0.9  -13.6117  18.5199  False\n",
      "       노선버스    원동기장치자전거  -4.6745    0.9  -14.0951   4.7462  False\n",
      "       노선버스       위험물운송   58.909 0.3606   -14.841 132.6591  False\n",
      "       노선버스         이륜차  -6.5886 0.0325  -12.9549  -0.2222   True\n",
      "       노선버스         자전거 -13.5606  0.001  -21.0194  -6.1017   True\n",
      "       노선버스        전세버스  32.1101  0.001   17.5654  46.6549   True\n",
      "       노선버스      콘크리트믹서  58.8763  0.003     9.861 107.8916   True\n",
      "       노선버스          택시   4.6734  0.267   -0.9114  10.2582  False\n",
      "       노선버스    특수여객(장의)  34.8363    0.9  -74.4615 144.1341  False\n",
      "       노선버스         화물차  17.3292  0.001   12.5687  22.0896   True\n",
      "        농기계        덤프트럭   23.178    0.9  -28.7735  75.1294  False\n",
      "        농기계         렌터카  -8.9436    0.9  -48.5371  30.6499  False\n",
      "        농기계          버스   1.3646    0.9  -38.8992  41.6284  False\n",
      "        농기계          불명 -36.4443  0.134  -76.4485   3.5598  False\n",
      "        농기계      비사업용기타  -2.0176    0.9  -42.0031   37.968  False\n",
      "        농기계 사륜오토바이(ATV) -18.3322    0.9   -71.233  34.5685  False\n",
      "        농기계       사업용기타  -4.8233    0.9  -46.6027  36.9561  False\n",
      "        농기계         승용차   -6.714    0.9  -45.8477  32.4198  False\n",
      "        농기계     어린이통학버스 -10.2591    0.9  -52.3411  31.8229  False\n",
      "        농기계    원동기장치자전거 -17.3877    0.9  -57.4068  22.6315  False\n",
      "        농기계       위험물운송  46.1958    0.9   -37.182 129.5736  False\n",
      "        농기계         이륜차 -19.3018    0.9  -58.7139  20.1103  False\n",
      "        농기계         자전거 -26.2738 0.7055   -65.877  13.3295  False\n",
      "        농기계        전세버스  19.3969    0.9  -22.1281   60.922  False\n",
      "        농기계      콘크리트믹서  46.1631 0.5247  -16.4092 108.7353  False\n",
      "        농기계          택시  -8.0398    0.9  -47.3332  31.2536  False\n",
      "        농기계    특수여객(장의)  22.1231    0.9  -93.8889 138.1351  False\n",
      "        농기계         화물차    4.616    0.9  -34.5688  43.8007  False\n",
      "       덤프트럭         렌터카 -32.1216 0.1183  -66.8747   2.6316  False\n",
      "       덤프트럭          버스 -21.8134 0.8253  -57.3283  13.7016  False\n",
      "       덤프트럭          불명 -59.6223  0.001  -94.8426  -24.402   True\n",
      "       덤프트럭      비사업용기타 -25.1955 0.5781  -60.3947  10.0037  False\n",
      "       덤프트럭 사륜오토바이(ATV) -41.5102 0.2586  -90.8927   7.8723  False\n",
      "       덤프트럭       사업용기타 -28.0013 0.4893  -65.2257   9.2232  False\n",
      "       덤프트럭         승용차  -29.892 0.1938  -64.1205   4.3365  False\n",
      "       덤프트럭     어린이통학버스 -33.4371 0.1659  -71.0008   4.1266  False\n",
      "       덤프트럭    원동기장치자전거 -40.5657 0.0064   -75.803  -5.3283   True\n",
      "       덤프트럭       위험물운송  23.0178    0.9  -58.1733 104.2089  False\n",
      "       덤프트럭         이륜차 -42.4798 0.0019  -77.0262  -7.9334   True\n",
      "       덤프트럭         자전거 -49.4518  0.001  -84.2161 -14.6874   True\n",
      "       덤프트럭        전세버스   -3.781    0.9  -40.7198  33.1577  False\n",
      "       덤프트럭      콘크리트믹서  22.9851    0.9  -36.6423  82.6125  False\n",
      "       덤프트럭          택시 -31.2178 0.1394  -65.6287   3.1932  False\n",
      "       덤프트럭    특수여객(장의)  -1.0549    0.9 -115.5054 113.3956  False\n",
      "       덤프트럭         화물차  -18.562    0.9  -52.8488  15.7248  False\n",
      "        렌터카          버스  10.3082  0.144   -1.0935  21.7099  False\n",
      "        렌터카          불명 -27.5008  0.001  -37.9487 -17.0528   True\n",
      "        렌터카      비사업용기타    6.926 0.6957   -3.4505  17.3026  False\n",
      "        렌터카 사륜오토바이(ATV)  -9.3887    0.9  -45.5455  26.7682  False\n",
      "        렌터카       사업용기타   4.1203    0.9   -11.828  20.0686  False\n",
      "        렌터카         승용차   2.2296    0.9   -4.1169   8.5761  False\n",
      "        렌터카     어린이통학버스  -1.3155    0.9  -18.0404  15.4093  False\n",
      "        렌터카    원동기장치자전거  -8.4441 0.3467  -18.9493   2.0611  False\n",
      "        렌터카       위험물운송  55.1394 0.5043   -18.757 129.0358  False\n",
      "        렌터카         이륜차 -10.3582  0.001  -18.2412  -2.4752   True\n",
      "        렌터카         자전거 -17.3302  0.001  -26.1191  -8.5412   True\n",
      "        렌터카        전세버스  28.3405  0.001    13.071  43.6101   True\n",
      "        렌터카      콘크리트믹서  55.1067 0.0103    5.8714 104.3419   True\n",
      "        렌터카          택시   0.9038    0.9   -6.3626   8.1702  False\n",
      "        렌터카    특수여객(장의)  31.0667    0.9  -78.3299 140.4633  False\n",
      "        렌터카         화물차  13.5596  0.001    6.9058  20.2133   True\n",
      "         버스          불명  -37.809  0.001  -50.5639  -25.054   True\n",
      "         버스      비사업용기타  -3.3822    0.9  -16.0787   9.3144  False\n",
      "         버스 사륜오토바이(ATV) -19.6969    0.9  -56.5865  17.1928  False\n",
      "         버스       사업용기타  -6.1879    0.9  -23.7343  11.3585  False\n",
      "         버스         승용차  -8.0786 0.2731   -17.764   1.6068  False\n",
      "         버스     어린이통학버스 -11.6237 0.7704  -29.8789   6.6314  False\n",
      "         버스    원동기장치자전거 -18.7523  0.001  -31.5542  -5.9504   True\n",
      "         버스       위험물운송  44.8312 0.8507  -29.4265 119.0889  False\n",
      "         버스         이륜차 -20.6664  0.001  -31.4214  -9.9113   True\n",
      "         버스         자전거 -27.6384  0.001  -39.0741 -16.2027   True\n",
      "         버스        전세버스  18.0323 0.0218    1.1004  34.9642   True\n",
      "         버스      콘크리트믹서  44.7985 0.1503   -4.9774  94.5744  False\n",
      "         버스          택시  -9.4044 0.1326  -19.7161   0.9072  False\n",
      "         버스    특수여객(장의)  20.7585    0.9  -88.8825 130.3994  False\n",
      "         버스         화물차   3.2513    0.9   -6.6382  13.1408  False\n",
      "         불명      비사업용기타  34.4268  0.001   22.5794  46.2742   True\n",
      "         불명 사륜오토바이(ATV)  18.1121    0.9   -18.494  54.7182  False\n",
      "         불명       사업용기타   31.621  0.001   14.6789  48.5632   True\n",
      "         불명         승용차  29.7304  0.001   21.1883  38.2724   True\n",
      "         불명     어린이통학버스  26.1852  0.001    8.5101  43.8603   True\n",
      "         불명    원동기장치자전거  19.0567  0.001    7.0964  31.0169   True\n",
      "         불명       위험물운송  82.6401 0.0109    8.5229 156.7574   True\n",
      "         불명         이륜차  17.1426  0.001    7.4045  26.8807   True\n",
      "         불명         자전거  10.1706 0.0718   -0.3144  20.6555  False\n",
      "         불명        전세버스  55.8413  0.001   39.5364  72.1461   True\n",
      "         불명      콘크리트믹서  82.6074  0.001   33.0413 132.1735   True\n",
      "         불명          택시  28.4045  0.001   19.1585  37.6506   True\n",
      "         불명    특수여객(장의)  58.5674    0.9  -50.9785 168.1133  False\n",
      "         불명         화물차  41.0603  0.001   32.2875  49.8331   True\n",
      "     비사업용기타 사륜오토바이(ATV) -16.3147    0.9  -52.9005  20.2711  False\n",
      "     비사업용기타       사업용기타  -2.8057    0.9   -19.704  14.0925  False\n",
      "     비사업용기타         승용차  -4.6964    0.9   -13.151   3.7582  False\n",
      "     비사업용기타     어린이통학버스  -8.2416    0.9  -25.8746   9.3915  False\n",
      "     비사업용기타    원동기장치자전거 -15.3701  0.001  -27.2681  -3.4721   True\n",
      "     비사업용기타       위험물운송  48.2134 0.7367  -25.8939 122.3206  False\n",
      "     비사업용기타         이륜차 -17.2842  0.001  -26.9457  -7.6227   True\n",
      "     비사업용기타         자전거 -24.2562  0.001  -34.6701 -13.8424   True\n",
      "     비사업용기타        전세버스  21.4145  0.001    5.1553  37.6737   True\n",
      "     비사업용기타      콘크리트믹서  48.1806 0.0699   -1.3705  97.7318  False\n",
      "     비사업용기타          택시  -6.0223  0.721  -15.1876   3.1431  False\n",
      "     비사업용기타    특수여객(장의)  24.1406    0.9  -85.3985 133.6797  False\n",
      "     비사업용기타         화물차   6.6335 0.4598   -2.0541  15.3212  False\n",
      "사륜오토바이(ATV)       사업용기타  13.5089    0.9  -25.0293  52.0472  False\n",
      "사륜오토바이(ATV)         승용차  11.6183    0.9  -24.0346  47.2711  False\n",
      "사륜오토바이(ATV)     어린이통학버스   8.0731    0.9  -30.7929  46.9392  False\n",
      "사륜오토바이(ATV)    원동기장치자전거   0.9446    0.9  -35.6779  37.5671  False\n",
      "사륜오토바이(ATV)       위험물운송   64.528 0.3887  -17.2737 146.3298  False\n",
      "사륜오토바이(ATV)         이륜차  -0.9695    0.9  -36.9277  34.9886  False\n",
      "사륜오토바이(ATV)         자전거  -7.9415    0.9  -44.1091   28.226  False\n",
      "사륜오토바이(ATV)        전세버스  37.7292 0.0593   -0.5332  75.9915  False\n",
      "사륜오토바이(ATV)      콘크리트믹서  64.4953 0.0213    4.0391 124.9516   True\n",
      "사륜오토바이(ATV)          택시  10.2924    0.9  -25.5356  46.1205  False\n",
      "사륜오토바이(ATV)    특수여객(장의)  40.4553    0.9  -74.4292 155.3399  False\n",
      "사륜오토바이(ATV)         화물차  22.9482 0.7561  -12.7606   58.657  False\n",
      "      사업용기타         승용차  -1.8907    0.9  -16.6607  12.8794  False\n",
      "      사업용기타     어린이통학버스  -5.4358    0.9  -26.8273  15.9557  False\n",
      "      사업용기타    원동기장치자전거 -12.5644 0.5191  -29.5419   4.4131  False\n",
      "      사업용기타       위험물운송  51.0191 0.6666  -24.0712 126.1094  False\n",
      "      사업용기타         이륜차 -14.4785 0.1057   -29.971   1.0141  False\n",
      "      사업용기타         자전거 -21.4505  0.001   -37.423  -5.4779   True\n",
      "      사업용기타        전세버스  24.2202 0.0033    3.9462  44.4943   True\n",
      "      사업용기타      콘크리트믹서  50.9864 0.0503   -0.0233 101.9961  False\n",
      "      사업용기타          택시  -3.2165    0.9  -18.4046  11.9716  False\n",
      "      사업용기타    특수여객(장의)  26.9464    0.9  -83.2602  137.153  False\n",
      "      사업용기타         화물차   9.4393 0.7788   -5.4654  24.3439  False\n",
      "        승용차     어린이통학버스  -3.5451    0.9  -19.1505  12.0603  False\n",
      "        승용차    원동기장치자전거 -10.6737 0.0016  -19.2857  -2.0617   True\n",
      "        승용차       위험물운송  52.9098 0.5718  -20.7413 126.5609  False\n",
      "        승용차         이륜차 -12.5878  0.001  -17.6818  -7.4938   True\n",
      "        승용차         자전거 -19.5598  0.001  -25.9671 -13.1525   True\n",
      "        승용차        전세버스  26.1109  0.001   12.0764  40.1454   True\n",
      "        승용차      콘크리트믹서  52.8771 0.0173    4.0107 101.7434   True\n",
      "        승용차          택시  -1.3258    0.9   -5.4012   2.7495  False\n",
      "        승용차    특수여객(장의)  28.8371    0.9   -80.394 138.0681  False\n",
      "        승용차         화물차  11.3299  0.001    8.4873  14.1726   True\n",
      "    어린이통학버스    원동기장치자전거  -7.1286    0.9  -24.8376  10.5805  False\n",
      "    어린이통학버스       위험물운송  56.4549 0.4945  -18.8042  131.714  False\n",
      "    어린이통학버스         이륜차  -9.0427    0.9  -25.3335   7.2482  False\n",
      "    어린이통학버스         자전거 -16.0147  0.084  -32.7627   0.7333  False\n",
      "    어린이통학버스        전세버스   29.656  0.001    8.7656  50.5465   True\n",
      "    어린이통학버스      콘크리트믹서  56.4222 0.0134    5.1644   107.68   True\n",
      "    어린이통학버스          택시   2.2193    0.9  -13.7823  18.2209  False\n",
      "    어린이통학버스    특수여객(장의)  32.3822    0.9  -77.9395 142.7038  False\n",
      "    어린이통학버스         화물차  14.8751 0.0934   -0.8578  30.6079  False\n",
      "   원동기장치자전거       위험물운송  63.5835 0.2233  -10.5419 137.7089  False\n",
      "   원동기장치자전거         이륜차  -1.9141    0.9  -11.7136   7.8855  False\n",
      "   원동기장치자전거         자전거  -8.8861 0.2535  -19.4281    1.656  False\n",
      "   원동기장치자전거        전세버스  36.7846  0.001    20.443  53.1263   True\n",
      "   원동기장치자전거      콘크리트믹서  63.5508  0.001   13.9725  113.129   True\n",
      "   원동기장치자전거          택시   9.3479 0.0477    0.0371  18.6586   True\n",
      "   원동기장치자전거    특수여객(장의)  39.5108    0.9  -70.0406 149.0621  False\n",
      "   원동기장치자전거         화물차  22.0036  0.001   13.1627  30.8446   True\n",
      "      위험물운송         이륜차 -65.4976 0.1702  -139.297   8.3018  False\n",
      "      위험물운송         자전거 -72.4696 0.0634 -146.3713   1.4321  False\n",
      "      위험물운송        전세버스 -26.7989    0.9  -101.748  48.1502  False\n",
      "      위험물운송      콘크리트믹서  -0.0327    0.9  -88.3974   88.332  False\n",
      "      위험물운송          택시 -54.2356 0.5301 -127.9717  19.5005  False\n",
      "      위험물운송    특수여객(장의) -24.0727    0.9 -155.7991 107.6536  False\n",
      "      위험물운송         화물차 -41.5798    0.9 -115.2581  32.0984  False\n",
      "        이륜차         자전거   -6.972 0.1837   -14.904     0.96  False\n",
      "        이륜차        전세버스  38.6987  0.001   23.9058  53.4916   True\n",
      "        이륜차      콘크리트믹서  65.4648  0.001   16.3753 114.5544   True\n",
      "        이륜차          택시   11.262  0.001    5.0594  17.4646   True\n",
      "        이륜차    특수여객(장의)  41.4248    0.9  -67.9062 150.7559  False\n",
      "        이륜차         화물차  23.9177  0.001   18.4456  29.3899   True\n",
      "        자전거        전세버스  45.6707  0.001   30.3758  60.9656   True\n",
      "        자전거      콘크리트믹서  72.4369  0.001   23.1937   121.68   True\n",
      "        자전거          택시   18.234  0.001   10.9144  25.5536   True\n",
      "        자전거    특수여객(장의)  48.3969    0.9  -61.0033  157.797  False\n",
      "        자전거         화물차  30.8897  0.001    24.178  37.6015   True\n",
      "       전세버스      콘크리트믹서  26.7661    0.9  -24.0354  77.5677  False\n",
      "       전세버스          택시 -27.4367  0.001  -41.9105  -12.963   True\n",
      "       전세버스    특수여객(장의)   2.7261    0.9 -107.3843 112.8366  False\n",
      "       전세버스         화물차  -14.781 0.0293  -28.9571  -0.6049   True\n",
      "     콘크리트믹서          택시 -54.2029 0.0123 -103.1972  -5.2086   True\n",
      "     콘크리트믹서    특수여객(장의)   -24.04    0.9 -143.6864  95.6064  False\n",
      "     콘크리트믹서         화물차 -41.5471 0.2394  -90.4543   7.3601  False\n",
      "         택시    특수여객(장의)  30.1629    0.9  -79.1255 139.4512  False\n",
      "         택시         화물차  12.6558  0.001    8.1167  17.1949   True\n",
      "   특수여객(장의)         화물차 -17.5071    0.9 -126.7565  91.7422  False\n",
      "-----------------------------------------------------------------\n"
     ]
    }
   ],
   "source": [
    "posthoc = pairwise_tukeyhsd(df['EPDO1'], df['차량용도가해자_중분류'], alpha=0.05)\n",
    "print(posthoc)"
   ]
  },
  {
   "cell_type": "code",
   "execution_count": 61,
   "metadata": {},
   "outputs": [
    {
     "data": {
      "image/png": "[encoded data removed]",
      "text/plain": [
       "<Figure size 720x432 with 1 Axes>"
      ]
     },
     "metadata": {
      "needs_background": "light"
     },
     "output_type": "display_data"
    }
   ],
   "source": [
    "fig = posthoc.plot_simultaneous()"
   ]
  },
  {
   "cell_type": "markdown",
   "metadata": {},
   "source": [
    "## 6.2 EPDO2 ~ 차량용도가해자_중분류 (O) / (O)"
   ]
  },
  {
   "cell_type": "code",
   "execution_count": 62,
   "metadata": {},
   "outputs": [
    {
     "data": {
      "text/html": [
       "<div>\n",
       "<style scoped>\n",
       "    .dataframe tbody tr th:only-of-type {\n",
       "        vertical-align: middle;\n",
       "    }\n",
       "\n",
       "    .dataframe tbody tr th {\n",
       "        vertical-align: top;\n",
       "    }\n",
       "\n",
       "    .dataframe thead th {\n",
       "        text-align: right;\n",
       "    }\n",
       "</style>\n",
       "<table border=\"1\" class=\"dataframe\">\n",
       "  <thead>\n",
       "    <tr style=\"text-align: right;\">\n",
       "      <th></th>\n",
       "      <th>df</th>\n",
       "      <th>sum_sq</th>\n",
       "      <th>mean_sq</th>\n",
       "      <th>F</th>\n",
       "      <th>PR(&gt;F)</th>\n",
       "    </tr>\n",
       "  </thead>\n",
       "  <tbody>\n",
       "    <tr>\n",
       "      <th>C(차량용도가해자_중분류)</th>\n",
       "      <td>23.0</td>\n",
       "      <td>7327.716438</td>\n",
       "      <td>318.596367</td>\n",
       "      <td>48.918633</td>\n",
       "      <td>5.525439e-221</td>\n",
       "    </tr>\n",
       "    <tr>\n",
       "      <th>Residual</th>\n",
       "      <td>58035.0</td>\n",
       "      <td>377969.270386</td>\n",
       "      <td>6.512781</td>\n",
       "      <td>NaN</td>\n",
       "      <td>NaN</td>\n",
       "    </tr>\n",
       "  </tbody>\n",
       "</table>\n",
       "</div>"
      ],
      "text/plain": [
       "                     df         sum_sq     mean_sq          F         PR(>F)\n",
       "C(차량용도가해자_중분류)     23.0    7327.716438  318.596367  48.918633  5.525439e-221\n",
       "Residual        58035.0  377969.270386    6.512781        NaN            NaN"
      ]
     },
     "execution_count": 62,
     "metadata": {},
     "output_type": "execute_result"
    }
   ],
   "source": [
    "model = ols('EPDO2 ~ C(차량용도가해자_중분류)', df).fit()\n",
    "anova_lm(model)"
   ]
  },
  {
   "cell_type": "code",
   "execution_count": 63,
   "metadata": {},
   "outputs": [
    {
     "name": "stdout",
     "output_type": "stream",
     "text": [
      "     Multiple Comparison of Means - Tukey HSD, FWER=0.05      \n",
      "==============================================================\n",
      "   group1      group2   meandiff p-adj   lower   upper  reject\n",
      "--------------------------------------------------------------\n",
      "개인형이동수단(PM)          기타   0.7251    0.9 -1.0766  2.5269  False\n",
      "개인형이동수단(PM)     기타/건설기계   1.9106  0.001  0.5233   3.298   True\n",
      "개인형이동수단(PM)        기타불명  -0.3719    0.9 -1.7911  1.0474  False\n",
      "개인형이동수단(PM)        노선버스   0.9121 0.6914 -0.4508   2.275  False\n",
      "개인형이동수단(PM)         농기계   1.4288 0.5908  -0.582  3.4396  False\n",
      "개인형이동수단(PM)        덤프트럭   2.2478 0.0031  0.3708  4.1248   True\n",
      "개인형이동수단(PM)         렌터카   1.0673 0.4237 -0.3071  2.4416  False\n",
      "개인형이동수단(PM)          버스   1.4565 0.0309  0.0543  2.8587   True\n",
      "개인형이동수단(PM)          불명  -0.5449    0.9 -1.9363  0.8465  False\n",
      "개인형이동수단(PM)      비사업용기타   1.3872 0.0516 -0.0035  2.7778  False\n",
      "개인형이동수단(PM) 사륜오토바이(ATV)   1.2128 0.7788 -0.7022  3.1277  False\n",
      "개인형이동수단(PM)       사업용기타   1.3878 0.0913  -0.077  2.8527  False\n",
      "개인형이동수단(PM)         승용차   1.2215 0.1482 -0.1337  2.5767  False\n",
      "개인형이동수단(PM)     어린이통학버스   1.0644 0.5666 -0.4129  2.5417  False\n",
      "개인형이동수단(PM)    원동기장치자전거   1.1553 0.2826 -0.2367  2.5474  False\n",
      "개인형이동수단(PM)       위험물운송   2.7505  0.175 -0.3588  5.8598  False\n",
      "개인형이동수단(PM)         이륜차   1.1113 0.3223 -0.2555  2.4781  False\n",
      "개인형이동수단(PM)         자전거   0.4529    0.9 -0.9218  1.8276  False\n",
      "개인형이동수단(PM)        전세버스   2.0615  0.001  0.6072  3.5159   True\n",
      "개인형이동수단(PM)      콘크리트믹서   2.6196 0.0076  0.3216  4.9175   True\n",
      "개인형이동수단(PM)          택시   1.2698 0.1082  -0.092  2.6317  False\n",
      "개인형이동수단(PM)    특수여객(장의)   1.6596    0.9 -2.7072  6.0264  False\n",
      "개인형이동수단(PM)         화물차   1.5718 0.0058  0.2145  2.9291   True\n",
      "         기타     기타/건설기계   1.1855 0.0747 -0.0409  2.4119  False\n",
      "         기타        기타불명   -1.097 0.2016 -2.3593  0.1653  False\n",
      "         기타        노선버스   0.1869    0.9 -1.0117  1.3856  False\n",
      "         기타         농기계   0.7037    0.9 -1.1996  2.6069  False\n",
      "         기타        덤프트럭   1.5227 0.2103 -0.2387   3.284  False\n",
      "         기타         렌터카   0.3421    0.9 -0.8695  1.5537  False\n",
      "         기타          버스   0.7313 0.8882 -0.5118  1.9745  False\n",
      "         기타          불명  -1.2701 0.0338  -2.501 -0.0392   True\n",
      "         기타      비사업용기타    0.662    0.9  -0.568  1.8921  False\n",
      "         기타 사륜오토바이(ATV)   0.4876    0.9 -1.3141  2.2894  False\n",
      "         기타       사업용기타   0.6627    0.9 -0.6507  1.9761  False\n",
      "         기타         승용차   0.4963    0.9 -0.6935  1.6862  False\n",
      "         기타     어린이통학버스   0.3393    0.9  -0.988  1.6665  False\n",
      "         기타    원동기장치자전거   0.4302    0.9 -0.8014  1.6618  False\n",
      "         기타       위험물운송   2.0253 0.6992 -1.0155  5.0662  False\n",
      "         기타         이륜차   0.3861    0.9 -0.8169  1.5892  False\n",
      "         기타         자전거  -0.2722    0.9 -1.4843  0.9398  False\n",
      "         기타        전세버스   1.3364 0.0361  0.0347  2.6381   True\n",
      "         기타      콘크리트믹서   1.8944 0.2202 -0.3101  4.0989  False\n",
      "         기타          택시   0.5447    0.9 -0.6527  1.7421  False\n",
      "         기타    특수여객(장의)   0.9344    0.9 -3.3839  5.2528  False\n",
      "         기타         화물차   0.8467 0.5919 -0.3456  2.0389  False\n",
      "    기타/건설기계        기타불명  -2.2825  0.001  -2.804  -1.761   True\n",
      "    기타/건설기계        노선버스  -0.9986  0.001 -1.3381  -0.659   True\n",
      "    기타/건설기계         농기계  -0.4818    0.9 -1.9987  1.0351  False\n",
      "    기타/건설기계        덤프트럭   0.3372    0.9 -0.9974  1.6717  False\n",
      "    기타/건설기계         렌터카  -0.8434  0.001 -1.2262 -0.4606   True\n",
      "    기타/건설기계          버스  -0.4541 0.0807 -0.9273   0.019  False\n",
      "    기타/건설기계          불명  -2.4556  0.001 -2.8958 -2.0154   True\n",
      "    기타/건설기계      비사업용기타  -0.5235 0.0032 -0.9612 -0.0857   True\n",
      "    기타/건설기계 사륜오토바이(ATV)  -0.6979    0.9 -2.0852  0.6895  False\n",
      "    기타/건설기계       사업용기타  -0.5228 0.2988  -1.158  0.1124  False\n",
      "    기타/건설기계         승용차  -0.6891  0.001 -0.9961 -0.3822   True\n",
      "    기타/건설기계     어린이통학버스  -0.8462  0.001 -1.5097 -0.1827   True\n",
      "    기타/건설기계    원동기장치자전거  -0.7553  0.001 -1.1974 -0.3131   True\n",
      "    기타/건설기계       위험물운송   0.8398    0.9 -1.9754  3.6551  False\n",
      "    기타/건설기계         이륜차  -0.7994  0.001 -1.1541 -0.4446   True\n",
      "    기타/건설기계         자전거  -1.4577  0.001  -1.842 -1.0735   True\n",
      "    기타/건설기계        전세버스   0.1509    0.9 -0.4598  0.7616  False\n",
      "    기타/건설기계      콘크리트믹서   0.7089    0.9 -1.1721    2.59  False\n",
      "    기타/건설기계          택시  -0.6408  0.001  -0.976 -0.3056   True\n",
      "    기타/건설기계    특수여객(장의)  -0.2511    0.9 -4.4136  3.9115  False\n",
      "    기타/건설기계         화물차  -0.3388   0.02 -0.6551 -0.0226   True\n",
      "       기타불명        노선버스    1.284  0.001  0.8315  1.7364   True\n",
      "       기타불명         농기계   1.8007 0.0052  0.2546  3.3467   True\n",
      "       기타불명        덤프트럭   2.6197  0.001  1.2521  3.9873   True\n",
      "       기타불명         렌터카   1.4391  0.001  0.9534  1.9248   True\n",
      "       기타불명          버스   1.8284  0.001  1.2687   2.388   True\n",
      "       기타불명          불명  -0.1731    0.9 -0.7052   0.359  False\n",
      "       기타불명      비사업용기타    1.759  0.001   1.229  2.2891   True\n",
      "       기타불명 사륜오토바이(ATV)   1.5846 0.0107  0.1654  3.0039   True\n",
      "       기타불명       사업용기타   1.7597  0.001  1.0576  2.4618   True\n",
      "       기타불명         승용차   1.5934  0.001  1.1649  2.0219   True\n",
      "       기타불명     어린이통학버스   1.4363  0.001  0.7086   2.164   True\n",
      "       기타불명    원동기장치자전거   1.5272  0.001  0.9935  2.0609   True\n",
      "       기타불명       위험물운송   3.1224  0.013  0.2913  5.9534   True\n",
      "       기타불명         이륜차   1.4831  0.001  1.0193   1.947   True\n",
      "       기타불명         자전거   0.8248  0.001  0.3379  1.3116   True\n",
      "       기타불명        전세버스   2.4334  0.001  1.7535  3.1133   True\n",
      "       기타불명      콘크리트믹서   2.9914  0.001  1.0868  4.8961   True\n",
      "       기타불명          택시   1.6417  0.001  1.1926  2.0908   True\n",
      "       기타불명    특수여객(장의)   2.0314    0.9 -2.1418  6.2047  False\n",
      "       기타불명         화물차   1.9437  0.001  1.5085  2.3789   True\n",
      "       노선버스         농기계   0.5167    0.9 -0.9778  2.0113  False\n",
      "       노선버스        덤프트럭   1.3357 0.0391  0.0266  2.6448   True\n",
      "       노선버스         렌터카   0.1552    0.9 -0.1263  0.4367  False\n",
      "       노선버스          버스   0.5444  0.001  0.1487  0.9401   True\n",
      "       노선버스          불명   -1.457  0.001 -1.8127 -1.1014   True\n",
      "       노선버스      비사업용기타   0.4751  0.001  0.1225  0.8277   True\n",
      "       노선버스 사륜오토바이(ATV)   0.3007    0.9 -1.0622  1.6636  False\n",
      "       노선버스       사업용기타   0.4758 0.3048 -0.1041  1.0556  False\n",
      "       노선버스         승용차   0.3094  0.001  0.1452  0.4736   True\n",
      "       노선버스     어린이통학버스   0.1523    0.9 -0.4583   0.763  False\n",
      "       노선버스    원동기장치자전거   0.2433 0.6668 -0.1148  0.6013  False\n",
      "       노선버스       위험물운송   1.8384  0.724 -0.9648  4.6417  False\n",
      "       노선버스         이륜차   0.1992 0.2984 -0.0428  0.4412  False\n",
      "       노선버스         자전거  -0.4592  0.001 -0.7427 -0.1757   True\n",
      "       노선버스        전세버스   1.1495  0.001  0.5966  1.7023   True\n",
      "       노선버스      콘크리트믹서   1.7075 0.1265 -0.1556  3.5706  False\n",
      "       노선버스          택시   0.3577  0.001  0.1455    0.57   True\n",
      "       노선버스    특수여객(장의)   0.7475    0.9 -3.4069  4.9019  False\n",
      "       노선버스         화물차   0.6597  0.001  0.4788  0.8407   True\n",
      "        농기계        덤프트럭    0.819    0.9 -1.1557  2.7937  False\n",
      "        농기계         렌터카  -0.3615    0.9 -1.8665  1.1434  False\n",
      "        농기계          버스   0.0277    0.9 -1.5027  1.5581  False\n",
      "        농기계          불명  -1.9737  0.001 -3.4943 -0.4532   True\n",
      "        농기계      비사업용기타  -0.0416    0.9 -1.5615  1.4782  False\n",
      "        농기계 사륜오토바이(ATV)   -0.216    0.9 -2.2268  1.7947  False\n",
      "        농기계       사업용기타   -0.041    0.9  -1.629  1.5471  False\n",
      "        농기계         승용차  -0.2073    0.9 -1.6948  1.2802  False\n",
      "        농기계     어린이통학버스  -0.3644    0.9 -1.9639  1.2352  False\n",
      "        농기계    원동기장치자전거  -0.2735    0.9 -1.7946  1.2477  False\n",
      "        농기계       위험물운송   1.3217    0.9 -1.8475  4.4909  False\n",
      "        농기계         이륜차  -0.3175    0.9 -1.8156  1.1805  False\n",
      "        농기계         자전거  -0.9759 0.7423 -2.4812  0.5294  False\n",
      "        농기계        전세버스   0.6327    0.9 -0.9456  2.2111  False\n",
      "        농기계      콘크리트믹서   1.1908    0.9 -1.1876  3.5691  False\n",
      "        농기계          택시   -0.159    0.9 -1.6525  1.3346  False\n",
      "        농기계    특수여객(장의)   0.2308    0.9 -4.1789  4.6404  False\n",
      "        농기계         화물차    0.143    0.9 -1.3464  1.6324  False\n",
      "       덤프트럭         렌터카  -1.1805 0.1602 -2.5015  0.1404  False\n",
      "       덤프트럭          버스  -0.7913 0.8934 -2.1412  0.5586  False\n",
      "       덤프트럭          불명  -2.7928  0.001 -4.1315  -1.454   True\n",
      "       덤프트럭      비사업용기타  -0.8606 0.7546 -2.1986  0.4773  False\n",
      "       덤프트럭 사륜오토바이(ATV)   -1.035    0.9 -2.9121   0.842  False\n",
      "       덤프트럭       사업용기타    -0.86 0.8408 -2.2749  0.5549  False\n",
      "       덤프트럭         승용차  -1.0263 0.3887 -2.3273  0.2747  False\n",
      "       덤프트럭     어린이통학버스  -1.1834 0.2853 -2.6112  0.2444  False\n",
      "       덤프트럭    원동기장치자전거  -1.0925 0.3161 -2.4318  0.2469  False\n",
      "       덤프트럭       위험물운송   0.5027    0.9 -2.5834  3.5888  False\n",
      "       덤프트럭         이륜차  -1.1365 0.2082 -2.4496  0.1766  False\n",
      "       덤프트럭         자전거  -1.7949  0.001 -3.1163 -0.4735   True\n",
      "       덤프트럭        전세버스  -0.1863    0.9 -1.5903  1.2178  False\n",
      "       덤프트럭      콘크리트믹서   0.3718    0.9 -1.8947  2.6382  False\n",
      "       덤프트럭          택시   -0.978 0.5005 -2.2859    0.33  False\n",
      "       덤프트럭    특수여객(장의)  -0.5882    0.9 -4.9385   3.762  False\n",
      "       덤프트럭         화물차   -0.676    0.9 -1.9792  0.6272  False\n",
      "        렌터카          버스   0.3892 0.1532 -0.0442  0.8226  False\n",
      "        렌터카          불명  -1.6122  0.001 -2.0093 -1.2151   True\n",
      "        렌터카      비사업용기타   0.3199 0.3272 -0.0745  0.7143  False\n",
      "        렌터카 사륜오토바이(ATV)   0.1455    0.9 -1.2288  1.5198  False\n",
      "        렌터카       사업용기타   0.3206    0.9 -0.2856  0.9268  False\n",
      "        렌터카         승용차   0.1542 0.7641  -0.087  0.3955  False\n",
      "        렌터카     어린이통학버스  -0.0028    0.9 -0.6385  0.6329  False\n",
      "        렌터카    원동기장치자전거   0.0881    0.9 -0.3112  0.4874  False\n",
      "        렌터카       위험물운송   1.6832 0.8616 -1.1256   4.492  False\n",
      "        렌터카         이륜차    0.044    0.9 -0.2556  0.3436  False\n",
      "        렌터카         자전거  -0.6144  0.001 -0.9484 -0.2803   True\n",
      "        렌터카        전세버스   0.9943  0.001  0.4139  1.5747   True\n",
      "        렌터카      콘크리트믹서   1.5523 0.2838 -0.3191  3.4237  False\n",
      "        렌터카          택시   0.2026 0.5353 -0.0736  0.4788  False\n",
      "        렌터카    특수여객(장의)   0.5923    0.9 -3.5659  4.7505  False\n",
      "        렌터카         화물차   0.5045  0.001  0.2516  0.7575   True\n",
      "         버스          불명  -2.0014  0.001 -2.4863 -1.5166   True\n",
      "         버스      비사업용기타  -0.0693    0.9 -0.5519  0.4133  False\n",
      "         버스 사륜오토바이(ATV)  -0.2437    0.9 -1.6459  1.1584  False\n",
      "         버스       사업용기타  -0.0687    0.9 -0.7356  0.5983  False\n",
      "         버스         승용차   -0.235 0.7665 -0.6031  0.1331  False\n",
      "         버스     어린이통학버스  -0.3921    0.9 -1.0859  0.3018  False\n",
      "         버스    원동기장치자전거  -0.3012 0.8138 -0.7878  0.1854  False\n",
      "         버스       위험물운송    1.294    0.9 -1.5286  4.1165  False\n",
      "         버스         이륜차  -0.3452 0.2501  -0.754  0.0636  False\n",
      "         버스         자전거  -1.0036  0.001 -1.4383 -0.5689   True\n",
      "         버스        전세버스    0.605 0.0993 -0.0385  1.2486  False\n",
      "         버스      콘크리트믹서   1.1631  0.824 -0.7289  3.0551  False\n",
      "         버스          택시  -0.1867    0.9 -0.5786  0.2053  False\n",
      "         버스    특수여객(장의)   0.2031    0.9 -3.9644  4.3705  False\n",
      "         버스         화물차   0.1153    0.9 -0.2606  0.4912  False\n",
      "         불명      비사업용기타   1.9321  0.001  1.4818  2.3824   True\n",
      "         불명 사륜오토바이(ATV)   1.7577 0.0011  0.3663  3.1491   True\n",
      "         불명       사업용기타   1.9328  0.001  1.2888  2.5768   True\n",
      "         불명         승용차   1.7664  0.001  1.4418  2.0911   True\n",
      "         불명     어린이통학버스   1.6094  0.001  0.9375  2.2812   True\n",
      "         불명    원동기장치자전거   1.7003  0.001  1.2457  2.1549   True\n",
      "         불명       위험물운송   3.2954 0.0048  0.4782  6.1126   True\n",
      "         불명         이륜차   1.6562  0.001  1.2861  2.0264   True\n",
      "         불명         자전거   0.9978  0.001  0.5993  1.3964   True\n",
      "         불명        전세버스   2.6065  0.001  1.9867  3.2262   True\n",
      "         불명      콘크리트믹서   3.1645  0.001  1.2805  5.0485   True\n",
      "         불명          택시   1.8148  0.001  1.4633  2.1662   True\n",
      "         불명    특수여객(장의)   2.2045    0.9 -1.9593  6.3684  False\n",
      "         불명         화물차   2.1168  0.001  1.7833  2.4502   True\n",
      "     비사업용기타 사륜오토바이(ATV)  -0.1744    0.9  -1.565  1.2162  False\n",
      "     비사업용기타       사업용기타   0.0007    0.9 -0.6416   0.643  False\n",
      "     비사업용기타         승용차  -0.1657    0.9  -0.487  0.1557  False\n",
      "     비사업용기타     어린이통학버스  -0.3227    0.9  -0.993  0.3475  False\n",
      "     비사업용기타    원동기장치자전거  -0.2318    0.9 -0.6841  0.2204  False\n",
      "     비사업용기타       위험물운송   1.3633    0.9 -1.4535  4.1801  False\n",
      "     비사업용기타         이륜차  -0.2759 0.4918 -0.6431  0.0913  False\n",
      "     비사업용기타         자전거  -0.9343  0.001 -1.3301 -0.5384   True\n",
      "     비사업용기타        전세버스   0.6744 0.0153  0.0564  1.2924   True\n",
      "     비사업용기타      콘크리트믹서   1.2324 0.7276  -0.651  3.1159  False\n",
      "     비사업용기타          택시  -0.1173    0.9 -0.4657   0.231  False\n",
      "     비사업용기타    특수여객(장의)   0.2724    0.9 -3.8912   4.436  False\n",
      "     비사업용기타         화물차   0.1846    0.9 -0.1456  0.5149  False\n",
      "사륜오토바이(ATV)       사업용기타   0.1751    0.9 -1.2898  1.6399  False\n",
      "사륜오토바이(ATV)         승용차   0.0087    0.9 -1.3464  1.3639  False\n",
      "사륜오토바이(ATV)     어린이통학버스  -0.1483    0.9 -1.6256   1.329  False\n",
      "사륜오토바이(ATV)    원동기장치자전거  -0.0574    0.9 -1.4495  1.3346  False\n",
      "사륜오토바이(ATV)       위험물운송   1.5377    0.9 -1.5716   4.647  False\n",
      "사륜오토바이(ATV)         이륜차  -0.1015    0.9 -1.4683  1.2653  False\n",
      "사륜오토바이(ATV)         자전거  -0.7599    0.9 -2.1346  0.6149  False\n",
      "사륜오토바이(ATV)        전세버스   0.8488 0.8997 -0.6056  2.3031  False\n",
      "사륜오토바이(ATV)      콘크리트믹서   1.4068 0.8301 -0.8911  3.7048  False\n",
      "사륜오토바이(ATV)          택시   0.0571    0.9 -1.3048  1.4189  False\n",
      "사륜오토바이(ATV)    특수여객(장의)   0.4468    0.9   -3.92  4.8136  False\n",
      "사륜오토바이(ATV)         화물차    0.359    0.9 -0.9983  1.7163  False\n",
      "      사업용기타         승용차  -0.1663    0.9 -0.7278  0.3951  False\n",
      "      사업용기타     어린이통학버스  -0.3234    0.9 -1.1365  0.4897  False\n",
      "      사업용기타    원동기장치자전거  -0.2325    0.9 -0.8778  0.4128  False\n",
      "      사업용기타       위험물운송   1.3626    0.9 -1.4915  4.2168  False\n",
      "      사업용기타         이륜차  -0.2766    0.9 -0.8654  0.3123  False\n",
      "      사업용기타         자전거  -0.9349  0.001 -1.5421 -0.3278   True\n",
      "      사업용기타        전세버스   0.6737 0.1921 -0.0969  1.4443  False\n",
      "      사업용기타      콘크리트믹서   1.2317  0.774 -0.7071  3.1706  False\n",
      "      사업용기타          택시   -0.118    0.9 -0.6953  0.4593  False\n",
      "      사업용기타    특수여객(장의)   0.2717    0.9 -3.9172  4.4607  False\n",
      "      사업용기타         화물차    0.184    0.9 -0.3826  0.7505  False\n",
      "        승용차     어린이통학버스  -0.1571    0.9 -0.7502  0.4361  False\n",
      "        승용차    원동기장치자전거  -0.0661    0.9 -0.3935  0.2612  False\n",
      "        승용차       위험물운송    1.529    0.9 -1.2705  4.3285  False\n",
      "        승용차         이륜차  -0.1102    0.9 -0.3038  0.0834  False\n",
      "        승용차         자전거  -0.7686  0.001 -1.0121  -0.525   True\n",
      "        승용차        전세버스     0.84  0.001  0.3066  1.3735   True\n",
      "        승용차      콘크리트믹서   1.3981 0.4881 -0.4593  3.2555  False\n",
      "        승용차          택시   0.0483    0.9 -0.1066  0.2032  False\n",
      "        승용차    특수여객(장의)   0.4381    0.9 -3.7138    4.59  False\n",
      "        승용차         화물차   0.3503  0.001  0.2423  0.4584   True\n",
      "    어린이통학버스    원동기장치자전거   0.0909    0.9 -0.5822   0.764  False\n",
      "    어린이통학버스       위험물운송   1.6861 0.8856 -1.1746  4.5467  False\n",
      "    어린이통학버스         이륜차   0.0468    0.9 -0.5724  0.6661  False\n",
      "    어린이통학버스         자전거  -0.6115   0.08 -1.2481  0.0251  False\n",
      "    어린이통학버스        전세버스   0.9971 0.0012  0.2031  1.7912   True\n",
      "    어린이통학버스      콘크리트믹서   1.5551 0.3622 -0.3932  3.5035  False\n",
      "    어린이통학버스          택시   0.2054    0.9 -0.4028  0.8136  False\n",
      "    어린이통학버스    특수여객(장의)   0.5951    0.9 -3.5982  4.7885  False\n",
      "    어린이통학버스         화물차   0.5074 0.2417 -0.0906  1.1054  False\n",
      "   원동기장치자전거       위험물운송   1.5951    0.9 -1.2224  4.4127  False\n",
      "   원동기장치자전거         이륜차  -0.0441    0.9 -0.4165  0.3284  False\n",
      "   원동기장치자전거         자전거  -0.7024  0.001 -1.1031 -0.3017   True\n",
      "   원동기장치자전거        전세버스   0.9062  0.001   0.285  1.5273   True\n",
      "   원동기장치자전거      콘크리트믹서   1.4642 0.4225 -0.4202  3.3487  False\n",
      "   원동기장치자전거          택시   0.1145    0.9 -0.2394  0.4684  False\n",
      "   원동기장치자전거    특수여객(장의)   0.5042    0.9 -3.6598  4.6683  False\n",
      "   원동기장치자전거         화물차   0.4165 0.0016  0.0804  0.7525   True\n",
      "      위험물운송         이륜차  -1.6392 0.8978 -4.4443  1.1659  False\n",
      "      위험물운송         자전거  -2.2976 0.3108 -5.1066  0.5114  False\n",
      "      위험물운송        전세버스  -0.6889    0.9 -3.5378  2.1599  False\n",
      "      위험물운송      콘크리트믹서  -0.1309    0.9 -3.4897  3.2278  False\n",
      "      위험물운송          택시  -1.4807    0.9 -4.2834  1.3221  False\n",
      "      위험물운송    특수여객(장의)  -1.0909    0.9 -6.0978   3.916  False\n",
      "      위험물운송         화물차  -1.1787    0.9 -3.9792  1.6218  False\n",
      "        이륜차         자전거  -0.6584  0.001 -0.9599 -0.3569   True\n",
      "        이륜차        전세버스   0.9503  0.001   0.388  1.5125   True\n",
      "        이륜차      콘크리트믹서   1.5083 0.3344 -0.3576  3.3742  False\n",
      "        이륜차          택시   0.1586 0.6834 -0.0772  0.3943  False\n",
      "        이륜차    특수여객(장의)   0.5483    0.9 -3.6074   4.704  False\n",
      "        이륜차         화물차   0.4605  0.001  0.2525  0.6685   True\n",
      "        자전거        전세버스   1.6086  0.001  1.0273    2.19   True\n",
      "        자전거      콘크리트믹서   2.1667 0.0058  0.2949  4.0384   True\n",
      "        자전거          택시   0.8169  0.001  0.5387  1.0951   True\n",
      "        자전거    특수여객(장의)   1.2067    0.9 -2.9516   5.365  False\n",
      "        자전거         화물차   1.1189  0.001  0.8638   1.374   True\n",
      "       전세버스      콘크리트믹서    0.558    0.9 -1.3729   2.489  False\n",
      "       전세버스          택시  -0.7917  0.001 -1.3419 -0.2416   True\n",
      "       전세버스    특수여객(장의)   -0.402    0.9 -4.5873  3.7834  False\n",
      "       전세버스         화물차  -0.4897  0.137 -1.0286  0.0491  False\n",
      "     콘크리트믹서          택시  -1.3497 0.5563  -3.212  0.5125  False\n",
      "     콘크리트믹서    특수여객(장의)    -0.96    0.9 -5.5078  3.5878  False\n",
      "     콘크리트믹서         화물차  -1.0478    0.9 -2.9067  0.8112  False\n",
      "         택시    특수여객(장의)   0.3897    0.9 -3.7643  4.5438  False\n",
      "         택시         화물차    0.302  0.001  0.1294  0.4745   True\n",
      "   특수여객(장의)         화물차  -0.0878    0.9 -4.2403  4.0648  False\n",
      "--------------------------------------------------------------\n"
     ]
    }
   ],
   "source": [
    "posthoc = pairwise_tukeyhsd(df['EPDO2'], df['차량용도가해자_중분류'], alpha=0.05)\n",
    "print(posthoc)"
   ]
  },
  {
   "cell_type": "code",
   "execution_count": 64,
   "metadata": {},
   "outputs": [
    {
     "data": {
      "image/png": "[encoded data removed]",
      "text/plain": [
       "<Figure size 720x432 with 1 Axes>"
      ]
     },
     "metadata": {
      "needs_background": "light"
     },
     "output_type": "display_data"
    }
   ],
   "source": [
    "fig = posthoc.plot_simultaneous()"
   ]
  },
  {
   "cell_type": "markdown",
   "metadata": {},
   "source": [
    "## 6.3 심각도 ~ 차량용도가해자_중분류 (O) / (O)"
   ]
  },
  {
   "cell_type": "code",
   "execution_count": 65,
   "metadata": {},
   "outputs": [
    {
     "data": {
      "text/html": [
       "<div>\n",
       "<style scoped>\n",
       "    .dataframe tbody tr th:only-of-type {\n",
       "        vertical-align: middle;\n",
       "    }\n",
       "\n",
       "    .dataframe tbody tr th {\n",
       "        vertical-align: top;\n",
       "    }\n",
       "\n",
       "    .dataframe thead th {\n",
       "        text-align: right;\n",
       "    }\n",
       "</style>\n",
       "<table border=\"1\" class=\"dataframe\">\n",
       "  <thead>\n",
       "    <tr style=\"text-align: right;\">\n",
       "      <th></th>\n",
       "      <th>df</th>\n",
       "      <th>sum_sq</th>\n",
       "      <th>mean_sq</th>\n",
       "      <th>F</th>\n",
       "      <th>PR(&gt;F)</th>\n",
       "    </tr>\n",
       "  </thead>\n",
       "  <tbody>\n",
       "    <tr>\n",
       "      <th>C(차량용도가해자_중분류)</th>\n",
       "      <td>23.0</td>\n",
       "      <td>294.173171</td>\n",
       "      <td>12.790138</td>\n",
       "      <td>59.143947</td>\n",
       "      <td>3.888919e-270</td>\n",
       "    </tr>\n",
       "    <tr>\n",
       "      <th>Residual</th>\n",
       "      <td>58035.0</td>\n",
       "      <td>12550.323186</td>\n",
       "      <td>0.216254</td>\n",
       "      <td>NaN</td>\n",
       "      <td>NaN</td>\n",
       "    </tr>\n",
       "  </tbody>\n",
       "</table>\n",
       "</div>"
      ],
      "text/plain": [
       "                     df        sum_sq    mean_sq          F         PR(>F)\n",
       "C(차량용도가해자_중분류)     23.0    294.173171  12.790138  59.143947  3.888919e-270\n",
       "Residual        58035.0  12550.323186   0.216254        NaN            NaN"
      ]
     },
     "execution_count": 65,
     "metadata": {},
     "output_type": "execute_result"
    }
   ],
   "source": [
    "model = ols('심각도 ~ C(차량용도가해자_중분류)', df).fit()\n",
    "anova_lm(model)"
   ]
  },
  {
   "cell_type": "code",
   "execution_count": 66,
   "metadata": {},
   "outputs": [
    {
     "name": "stdout",
     "output_type": "stream",
     "text": [
      "     Multiple Comparison of Means - Tukey HSD, FWER=0.05      \n",
      "==============================================================\n",
      "   group1      group2   meandiff p-adj   lower   upper  reject\n",
      "--------------------------------------------------------------\n",
      "개인형이동수단(PM)          기타   0.1318    0.9 -0.1965  0.4602  False\n",
      "개인형이동수단(PM)     기타/건설기계   0.3308  0.001   0.078  0.5836   True\n",
      "개인형이동수단(PM)        기타불명  -0.1069    0.9 -0.3655  0.1517  False\n",
      "개인형이동수단(PM)        노선버스   0.1737 0.6181 -0.0747   0.422  False\n",
      "개인형이동수단(PM)         농기계   0.2924 0.3625  -0.074  0.6588  False\n",
      "개인형이동수단(PM)        덤프트럭    0.398 0.0053   0.056    0.74   True\n",
      "개인형이동수단(PM)         렌터카   0.2084 0.2772  -0.042  0.4589  False\n",
      "개인형이동수단(PM)          버스   0.2775 0.0164   0.022  0.5331   True\n",
      "개인형이동수단(PM)          불명  -0.1627 0.7579 -0.4163  0.0908  False\n",
      "개인형이동수단(PM)      비사업용기타   0.2776 0.0144  0.0242   0.531   True\n",
      "개인형이동수단(PM) 사륜오토바이(ATV)   0.2979 0.2316 -0.0511  0.6468  False\n",
      "개인형이동수단(PM)       사업용기타   0.2991 0.0101  0.0322   0.566   True\n",
      "개인형이동수단(PM)         승용차   0.2546 0.0341  0.0077  0.5015   True\n",
      "개인형이동수단(PM)     어린이통학버스   0.2384 0.1732 -0.0308  0.5076  False\n",
      "개인형이동수단(PM)    원동기장치자전거   0.2105 0.2828 -0.0432  0.4642  False\n",
      "개인형이동수단(PM)       위험물운송   0.3926 0.6335 -0.1739  0.9592  False\n",
      "개인형이동수단(PM)         이륜차    0.233 0.1046 -0.0161   0.482  False\n",
      "개인형이동수단(PM)         자전거   0.1082    0.9 -0.1424  0.3587  False\n",
      "개인형이동수단(PM)        전세버스   0.3065 0.0059  0.0415  0.5715   True\n",
      "개인형이동수단(PM)      콘크리트믹서   0.3345 0.3606 -0.0843  0.7532  False\n",
      "개인형이동수단(PM)          택시   0.2765  0.011  0.0284  0.5247   True\n",
      "개인형이동수단(PM)    특수여객(장의)   0.1745    0.9 -0.6213  0.9702  False\n",
      "개인형이동수단(PM)         화물차   0.2925  0.004  0.0451  0.5398   True\n",
      "         기타     기타/건설기계    0.199 0.1655 -0.0245  0.4225  False\n",
      "         기타        기타불명  -0.2387 0.0312 -0.4687 -0.0087   True\n",
      "         기타        노선버스   0.0418    0.9 -0.1766  0.2603  False\n",
      "         기타         농기계   0.1606    0.9 -0.1862  0.5074  False\n",
      "         기타        덤프트럭   0.2662 0.2843 -0.0548  0.5871  False\n",
      "         기타         렌터카   0.0766    0.9 -0.1442  0.2974  False\n",
      "         기타          버스   0.1457 0.7547 -0.0808  0.3722  False\n",
      "         기타          불명  -0.2946  0.001 -0.5189 -0.0703   True\n",
      "         기타      비사업용기타   0.1458 0.7374 -0.0784  0.3699  False\n",
      "         기타 사륜오토바이(ATV)    0.166    0.9 -0.1623  0.4943  False\n",
      "         기타       사업용기타   0.1673 0.6193 -0.0721  0.4066  False\n",
      "         기타         승용차   0.1228    0.9 -0.0941  0.3396  False\n",
      "         기타     어린이통학버스   0.1066    0.9 -0.1353  0.3484  False\n",
      "         기타    원동기장치자전거   0.0787    0.9 -0.1458  0.3031  False\n",
      "         기타       위험물운송   0.2608    0.9 -0.2933  0.8149  False\n",
      "         기타         이륜차   0.1011    0.9 -0.1181  0.3204  False\n",
      "         기타         자전거  -0.0237    0.9 -0.2446  0.1972  False\n",
      "         기타        전세버스   0.1746 0.5282 -0.0625  0.4118  False\n",
      "         기타      콘크리트믹서   0.2026    0.9 -0.1991  0.6043  False\n",
      "         기타          택시   0.1447 0.7061 -0.0735  0.3629  False\n",
      "         기타    특수여객(장의)   0.0426    0.9 -0.7443  0.8295  False\n",
      "         기타         화물차   0.1606  0.521 -0.0566  0.3779  False\n",
      "    기타/건설기계        기타불명  -0.4377  0.001 -0.5327 -0.3427   True\n",
      "    기타/건설기계        노선버스  -0.1571  0.001  -0.219 -0.0953   True\n",
      "    기타/건설기계         농기계  -0.0384    0.9 -0.3148   0.238  False\n",
      "    기타/건설기계        덤프트럭   0.0672    0.9  -0.176  0.3104  False\n",
      "    기타/건설기계         렌터카  -0.1224  0.001 -0.1921 -0.0526   True\n",
      "    기타/건설기계          버스  -0.0533 0.8161 -0.1395  0.0329  False\n",
      "    기타/건설기계          불명  -0.4936  0.001 -0.5738 -0.4134   True\n",
      "    기타/건설기계      비사업용기타  -0.0532 0.6965  -0.133  0.0266  False\n",
      "    기타/건설기계 사륜오토바이(ATV)   -0.033    0.9 -0.2858  0.2199  False\n",
      "    기타/건설기계       사업용기타  -0.0317    0.9 -0.1475   0.084  False\n",
      "    기타/건설기계         승용차  -0.0762  0.001 -0.1322 -0.0203   True\n",
      "    기타/건설기계     어린이통학버스  -0.0924  0.458 -0.2133  0.0285  False\n",
      "    기타/건설기계    원동기장치자전거  -0.1203  0.001 -0.2009 -0.0398   True\n",
      "    기타/건설기계       위험물운송   0.0618    0.9 -0.4512  0.5748  False\n",
      "    기타/건설기계         이륜차  -0.0978  0.001 -0.1625 -0.0332   True\n",
      "    기타/건설기계         자전거  -0.2227  0.001 -0.2927 -0.1527   True\n",
      "    기타/건설기계        전세버스  -0.0243    0.9 -0.1356  0.0869  False\n",
      "    기타/건설기계      콘크리트믹서   0.0036    0.9 -0.3391  0.3464  False\n",
      "    기타/건설기계          택시  -0.0543 0.1681 -0.1154  0.0068  False\n",
      "    기타/건설기계    특수여객(장의)  -0.1564    0.9 -0.9149  0.6021  False\n",
      "    기타/건설기계         화물차  -0.0384 0.6997  -0.096  0.0193  False\n",
      "       기타불명        노선버스   0.2806  0.001  0.1981   0.363   True\n",
      "       기타불명         농기계   0.3993  0.001  0.1176   0.681   True\n",
      "       기타불명        덤프트럭   0.5049  0.001  0.2557  0.7541   True\n",
      "       기타불명         렌터카   0.3153  0.001  0.2268  0.4038   True\n",
      "       기타불명          버스   0.3844  0.001  0.2824  0.4864   True\n",
      "       기타불명          불명  -0.0559    0.9 -0.1528  0.0411  False\n",
      "       기타불명      비사업용기타   0.3845  0.001  0.2879  0.4811   True\n",
      "       기타불명 사륜오토바이(ATV)   0.4047  0.001  0.1461  0.6634   True\n",
      "       기타불명       사업용기타    0.406  0.001   0.278  0.5339   True\n",
      "       기타불명         승용차   0.3615  0.001  0.2834  0.4396   True\n",
      "       기타불명     어린이통학버스   0.3453  0.001  0.2127  0.4779   True\n",
      "       기타불명    원동기장치자전거   0.3174  0.001  0.2201  0.4146   True\n",
      "       기타불명       위험물운송   0.4995 0.0733 -0.0164  1.0154  False\n",
      "       기타불명         이륜차   0.3399  0.001  0.2553  0.4244   True\n",
      "       기타불명         자전거    0.215  0.001  0.1263  0.3037   True\n",
      "       기타불명        전세버스   0.4134  0.001  0.2895  0.5373   True\n",
      "       기타불명      콘크리트믹서   0.4413  0.001  0.0943  0.7884   True\n",
      "       기타불명          택시   0.3834  0.001  0.3016  0.4653   True\n",
      "       기타불명    특수여객(장의)   0.2813    0.9 -0.4791  1.0418  False\n",
      "       기타불명         화물차   0.3993  0.001    0.32  0.4786   True\n",
      "       노선버스         농기계   0.1187    0.9 -0.1536  0.3911  False\n",
      "       노선버스        덤프트럭   0.2243  0.099 -0.0142  0.4629  False\n",
      "       노선버스         렌터카   0.0348 0.6714 -0.0165  0.0861  False\n",
      "       노선버스          버스   0.1039  0.001  0.0317   0.176   True\n",
      "       노선버스          불명  -0.3364  0.001 -0.4012 -0.2716   True\n",
      "       노선버스      비사업용기타   0.1039  0.001  0.0397  0.1682   True\n",
      "       노선버스 사륜오토바이(ATV)   0.1242    0.9 -0.1242  0.3725  False\n",
      "       노선버스       사업용기타   0.1254 0.0037  0.0198  0.2311   True\n",
      "       노선버스         승용차   0.0809  0.001   0.051  0.1108   True\n",
      "       노선버스     어린이통학버스   0.0647    0.9 -0.0465   0.176  False\n",
      "       노선버스    원동기장치자전거   0.0368    0.9 -0.0284  0.1021  False\n",
      "       노선버스       위험물운송    0.219    0.9 -0.2918  0.7298  False\n",
      "       노선버스         이륜차   0.0593  0.001  0.0152  0.1034   True\n",
      "       노선버스         자전거  -0.0655  0.001 -0.1172 -0.0139   True\n",
      "       노선버스        전세버스   0.1328  0.001  0.0321  0.2335   True\n",
      "       노선버스      콘크리트믹서   0.1608    0.9 -0.1787  0.5003  False\n",
      "       노선버스          택시   0.1029  0.001  0.0642  0.1415   True\n",
      "       노선버스    특수여객(장의)   0.0008    0.9 -0.7562  0.7578  False\n",
      "       노선버스         화물차   0.1188  0.001  0.0858  0.1517   True\n",
      "        농기계        덤프트럭   0.1056    0.9 -0.2542  0.4654  False\n",
      "        농기계         렌터카   -0.084    0.9 -0.3582  0.1903  False\n",
      "        농기계          버스  -0.0149    0.9 -0.2937   0.264  False\n",
      "        농기계          불명  -0.4552  0.001 -0.7322 -0.1781   True\n",
      "        농기계      비사업용기타  -0.0148    0.9 -0.2918  0.2621  False\n",
      "        농기계 사륜오토바이(ATV)   0.0055    0.9 -0.3609  0.3719  False\n",
      "        농기계       사업용기타   0.0067    0.9 -0.2827  0.2961  False\n",
      "        농기계         승용차  -0.0378    0.9 -0.3089  0.2332  False\n",
      "        농기계     어린이통학버스   -0.054    0.9 -0.3455  0.2375  False\n",
      "        농기계    원동기장치자전거  -0.0819    0.9 -0.3591  0.1953  False\n",
      "        농기계       위험물운송   0.1002    0.9 -0.4773  0.6777  False\n",
      "        농기계         이륜차  -0.0594    0.9 -0.3324  0.2135  False\n",
      "        농기계         자전거  -0.1843 0.6852 -0.4586    0.09  False\n",
      "        농기계        전세버스   0.0141    0.9 -0.2735  0.3017  False\n",
      "        농기계      콘크리트믹서   0.0421    0.9 -0.3913  0.4754  False\n",
      "        농기계          택시  -0.0159    0.9  -0.288  0.2563  False\n",
      "        농기계    특수여객(장의)  -0.1179    0.9 -0.9215  0.6856  False\n",
      "        농기계         화물차      0.0    0.9 -0.2714  0.2714  False\n",
      "       덤프트럭         렌터카  -0.1896 0.3926 -0.4303  0.0512  False\n",
      "       덤프트럭          버스  -0.1205    0.9 -0.3664  0.1255  False\n",
      "       덤프트럭          불명  -0.5607  0.001 -0.8047 -0.3168   True\n",
      "       덤프트럭      비사업용기타  -0.1204    0.9 -0.3642  0.1234  False\n",
      "       덤프트럭 사륜오토바이(ATV)  -0.1001    0.9 -0.4422  0.2419  False\n",
      "       덤프트럭       사업용기타  -0.0989    0.9 -0.3567  0.1589  False\n",
      "       덤프트럭         승용차  -0.1434  0.848 -0.3805  0.0937  False\n",
      "       덤프트럭     어린이통학버스  -0.1596 0.8275 -0.4197  0.1006  False\n",
      "       덤프트럭    원동기장치자전거  -0.1875  0.447 -0.4316  0.0566  False\n",
      "       덤프트럭       위험물운송  -0.0053    0.9 -0.5677   0.557  False\n",
      "       덤프트럭         이륜차   -0.165 0.6418 -0.4043  0.0743  False\n",
      "       덤프트럭         자전거  -0.2898 0.0028 -0.5306 -0.0491   True\n",
      "       덤프트럭        전세버스  -0.0915    0.9 -0.3474  0.1643  False\n",
      "       덤프트럭      콘크리트믹서  -0.0635    0.9 -0.4765  0.3495  False\n",
      "       덤프트럭          택시  -0.1215    0.9 -0.3598  0.1169  False\n",
      "       덤프트럭    특수여객(장의)  -0.2235    0.9 -1.0162  0.5692  False\n",
      "       덤프트럭         화물차  -0.1055    0.9  -0.343  0.1319  False\n",
      "        렌터카          버스   0.0691 0.1906 -0.0099  0.1481  False\n",
      "        렌터카          불명  -0.3712  0.001 -0.4436 -0.2988   True\n",
      "        렌터카      비사업용기타   0.0692 0.0784 -0.0027   0.141  False\n",
      "        렌터카 사륜오토바이(ATV)   0.0894    0.9  -0.161  0.3399  False\n",
      "        렌터카       사업용기타   0.0907 0.3041 -0.0198  0.2011  False\n",
      "        렌터카         승용차   0.0462 0.0266  0.0022  0.0901   True\n",
      "        렌터카     어린이통학버스     0.03    0.9 -0.0858  0.1458  False\n",
      "        렌터카    원동기장치자전거   0.0021    0.9 -0.0707  0.0748  False\n",
      "        렌터카       위험물운송   0.1842    0.9 -0.3276   0.696  False\n",
      "        렌터카         이륜차   0.0245    0.9 -0.0301  0.0791  False\n",
      "        렌터카         자전거  -0.1003  0.001 -0.1612 -0.0394   True\n",
      "        렌터카        전세버스   0.0981 0.1147 -0.0077  0.2038  False\n",
      "        렌터카      콘크리트믹서    0.126    0.9  -0.215   0.467  False\n",
      "        렌터카          택시   0.0681  0.001  0.0178  0.1184   True\n",
      "        렌터카    특수여객(장의)   -0.034    0.9 -0.7917  0.7237  False\n",
      "        렌터카         화물차    0.084  0.001  0.0379  0.1301   True\n",
      "         버스          불명  -0.4403  0.001 -0.5286  -0.352   True\n",
      "         버스      비사업용기타   0.0001    0.9 -0.0879   0.088  False\n",
      "         버스 사륜오토바이(ATV)   0.0203    0.9 -0.2352  0.2758  False\n",
      "         버스       사업용기타   0.0216    0.9    -0.1  0.1431  False\n",
      "         버스         승용차  -0.0229    0.9   -0.09  0.0441  False\n",
      "         버스     어린이통학버스  -0.0391    0.9 -0.1655  0.0873  False\n",
      "         버스    원동기장치자전거   -0.067 0.4794 -0.1557  0.0216  False\n",
      "         버스       위험물운송   0.1151    0.9 -0.3992  0.6294  False\n",
      "         버스         이륜차  -0.0446 0.8642 -0.1191  0.0299  False\n",
      "         버스         자전거  -0.1694  0.001 -0.2486 -0.0902   True\n",
      "         버스        전세버스   0.0289    0.9 -0.0883  0.1462  False\n",
      "         버스      콘크리트믹서   0.0569    0.9 -0.2878  0.4017  False\n",
      "         버스          택시   -0.001    0.9 -0.0724  0.0704  False\n",
      "         버스    특수여객(장의)  -0.1031    0.9 -0.8625  0.6563  False\n",
      "         버스         화물차   0.0149    0.9 -0.0536  0.0834  False\n",
      "         불명      비사업용기타   0.4404  0.001  0.3583  0.5224   True\n",
      "         불명 사륜오토바이(ATV)   0.4606  0.001  0.2071  0.7142   True\n",
      "         불명       사업용기타   0.4619  0.001  0.3445  0.5792   True\n",
      "         불명         승용차   0.4174  0.001  0.3582  0.4765   True\n",
      "         불명     어린이통학버스   0.4012  0.001  0.2788  0.5236   True\n",
      "         불명    원동기장치자전거   0.3733  0.001  0.2904  0.4561   True\n",
      "         불명       위험물운송   0.5554 0.0174   0.042  1.0688   True\n",
      "         불명         이륜차   0.3957  0.001  0.3283  0.4632   True\n",
      "         불명         자전거   0.2709  0.001  0.1983  0.3435   True\n",
      "         불명        전세버스   0.4692  0.001  0.3563  0.5822   True\n",
      "         불명      콘크리트믹서   0.4972  0.001  0.1539  0.8405   True\n",
      "         불명          택시   0.4393  0.001  0.3753  0.5033   True\n",
      "         불명    특수여객(장의)   0.3372    0.9 -0.4215   1.096  False\n",
      "         불명         화물차   0.4552  0.001  0.3944   0.516   True\n",
      "     비사업용기타 사륜오토바이(ATV)   0.0203    0.9 -0.2331  0.2737  False\n",
      "     비사업용기타       사업용기타   0.0215    0.9 -0.0955  0.1385  False\n",
      "     비사업용기타         승용차   -0.023    0.9 -0.0816  0.0356  False\n",
      "     비사업용기타     어린이통학버스  -0.0392    0.9 -0.1613   0.083  False\n",
      "     비사업용기타    원동기장치자전거  -0.0671 0.3192 -0.1495  0.0153  False\n",
      "     비사업용기타       위험물운송    0.115    0.9 -0.3982  0.6283  False\n",
      "     비사업용기타         이륜차  -0.0446 0.6971 -0.1115  0.0223  False\n",
      "     비사업용기타         자전거  -0.1695  0.001 -0.2416 -0.0973   True\n",
      "     비사업용기타        전세버스   0.0289    0.9 -0.0837  0.1415  False\n",
      "     비사업용기타      콘크리트믹서   0.0569    0.9 -0.2863  0.4001  False\n",
      "     비사업용기타          택시  -0.0011    0.9 -0.0645  0.0624  False\n",
      "     비사업용기타    특수여객(장의)  -0.1031    0.9 -0.8618  0.6556  False\n",
      "     비사업용기타         화물차   0.0148    0.9 -0.0453   0.075  False\n",
      "사륜오토바이(ATV)       사업용기타   0.0012    0.9 -0.2657  0.2682  False\n",
      "사륜오토바이(ATV)         승용차  -0.0433    0.9 -0.2902  0.2037  False\n",
      "사륜오토바이(ATV)     어린이통학버스  -0.0594    0.9 -0.3286  0.2098  False\n",
      "사륜오토바이(ATV)    원동기장치자전거  -0.0874    0.9  -0.341  0.1663  False\n",
      "사륜오토바이(ATV)       위험물운송   0.0948    0.9 -0.4718  0.6614  False\n",
      "사륜오토바이(ATV)         이륜차  -0.0649    0.9 -0.3139  0.1842  False\n",
      "사륜오토바이(ATV)         자전거  -0.1897 0.4762 -0.4402  0.0608  False\n",
      "사륜오토바이(ATV)        전세버스   0.0086    0.9 -0.2564  0.2736  False\n",
      "사륜오토바이(ATV)      콘크리트믹서   0.0366    0.9 -0.3821  0.4553  False\n",
      "사륜오토바이(ATV)          택시  -0.0213    0.9 -0.2695  0.2268  False\n",
      "사륜오토바이(ATV)    특수여객(장의)  -0.1234    0.9 -0.9191  0.6723  False\n",
      "사륜오토바이(ATV)         화물차  -0.0054    0.9 -0.2527  0.2419  False\n",
      "      사업용기타         승용차  -0.0445    0.9 -0.1468  0.0578  False\n",
      "      사업용기타     어린이통학버스  -0.0607    0.9 -0.2088  0.0875  False\n",
      "      사업용기타    원동기장치자전거  -0.0886 0.4861 -0.2062   0.029  False\n",
      "      사업용기타       위험물운송   0.0935    0.9 -0.4266  0.6136  False\n",
      "      사업용기타         이륜차  -0.0661 0.8204 -0.1734  0.0412  False\n",
      "      사업용기타         자전거   -0.191  0.001 -0.3016 -0.0803   True\n",
      "      사업용기타        전세버스   0.0074    0.9  -0.133  0.1478  False\n",
      "      사업용기타      콘크리트믹서   0.0354    0.9 -0.3179  0.3887  False\n",
      "      사업용기타          택시  -0.0226    0.9 -0.1278  0.0826  False\n",
      "      사업용기타    특수여객(장의)  -0.1246    0.9  -0.888  0.6387  False\n",
      "      사업용기타         화물차  -0.0067    0.9 -0.1099  0.0966  False\n",
      "        승용차     어린이통학버스  -0.0162    0.9 -0.1243  0.0919  False\n",
      "        승용차    원동기장치자전거  -0.0441 0.5208 -0.1038  0.0155  False\n",
      "        승용차       위험물운송    0.138    0.9 -0.3721  0.6482  False\n",
      "        승용차         이륜차  -0.0216 0.8288 -0.0569  0.0137  False\n",
      "        승용차         자전거  -0.1465  0.001 -0.1908 -0.1021   True\n",
      "        승용차        전세버스   0.0519    0.9 -0.0453  0.1491  False\n",
      "        승용차      콘크리트믹서   0.0799    0.9 -0.2586  0.4183  False\n",
      "        승용차          택시   0.0219 0.4219 -0.0063  0.0502  False\n",
      "        승용차    특수여객(장의)  -0.0801    0.9 -0.8367  0.6764  False\n",
      "        승용차         화물차   0.0379  0.001  0.0182  0.0575   True\n",
      "    어린이통학버스    원동기장치자전거  -0.0279    0.9 -0.1506  0.0947  False\n",
      "    어린이통학버스       위험물운송   0.1542    0.9  -0.367  0.6755  False\n",
      "    어린이통학버스         이륜차  -0.0055    0.9 -0.1183  0.1074  False\n",
      "    어린이통학버스         자전거  -0.1303 0.0097 -0.2463 -0.0143   True\n",
      "    어린이통학버스        전세버스   0.0681    0.9 -0.0766  0.2128  False\n",
      "    어린이통학버스      콘크리트믹서    0.096    0.9  -0.259  0.4511  False\n",
      "    어린이통학버스          택시   0.0381    0.9 -0.0727  0.1489  False\n",
      "    어린이통학버스    특수여객(장의)   -0.064    0.9 -0.8281  0.7001  False\n",
      "    어린이통학버스         화물차    0.054    0.9 -0.0549   0.163  False\n",
      "   원동기장치자전거       위험물운송   0.1821    0.9 -0.3313  0.6956  False\n",
      "   원동기장치자전거         이륜차   0.0225    0.9 -0.0454  0.0904  False\n",
      "   원동기장치자전거         자전거  -0.1024  0.001 -0.1754 -0.0293   True\n",
      "   원동기장치자전거        전세버스    0.096 0.2424 -0.0172  0.2092  False\n",
      "   원동기장치자전거      콘크리트믹서    0.124    0.9 -0.2194  0.4674  False\n",
      "   원동기장치자전거          택시    0.066 0.0373  0.0016  0.1305   True\n",
      "   원동기장치자전거    특수여객(장의)   -0.036    0.9 -0.7948  0.7227  False\n",
      "   원동기장치자전거         화물차    0.082  0.001  0.0207  0.1432   True\n",
      "      위험물운송         이륜차  -0.1597    0.9 -0.6708  0.3515  False\n",
      "      위험물운송         자전거  -0.2845    0.9 -0.7964  0.2274  False\n",
      "      위험물운송        전세버스  -0.0862    0.9 -0.6053   0.433  False\n",
      "      위험물운송      콘크리트믹서  -0.0582    0.9 -0.6702  0.5539  False\n",
      "      위험물운송          택시  -0.1161    0.9 -0.6268  0.3946  False\n",
      "      위험물운송    특수여객(장의)  -0.2182    0.9 -1.1306  0.6942  False\n",
      "      위험물운송         화물차  -0.1002    0.9 -0.6105  0.4101  False\n",
      "        이륜차         자전거  -0.1248  0.001 -0.1798 -0.0699   True\n",
      "        이륜차        전세버스   0.0735 0.5741  -0.029   0.176  False\n",
      "        이륜차      콘크리트믹서   0.1015    0.9 -0.2385  0.4415  False\n",
      "        이륜차          택시   0.0436 0.0423  0.0006  0.0865   True\n",
      "        이륜차    특수여객(장의)  -0.0585    0.9 -0.8158  0.6987  False\n",
      "        이륜차         화물차   0.0595  0.001  0.0216  0.0974   True\n",
      "        자전거        전세버스   0.1983  0.001  0.0924  0.3043   True\n",
      "        자전거      콘크리트믹서   0.2263 0.7052 -0.1148  0.5674  False\n",
      "        자전거          택시   0.1684  0.001  0.1177  0.2191   True\n",
      "        자전거    특수여객(장의)   0.0663    0.9 -0.6914  0.8241  False\n",
      "        자전거         화물차   0.1843  0.001  0.1378  0.2308   True\n",
      "       전세버스      콘크리트믹서    0.028    0.9 -0.3239  0.3798  False\n",
      "       전세버스          택시    -0.03    0.9 -0.1302  0.0703  False\n",
      "       전세버스    특수여객(장의)   -0.132    0.9 -0.8947  0.6306  False\n",
      "       전세버스         화물차   -0.014    0.9 -0.1122  0.0841  False\n",
      "     콘크리트믹서          택시  -0.0579    0.9 -0.3973  0.2814  False\n",
      "     콘크리트믹서    특수여객(장의)    -0.16    0.9 -0.9887  0.6687  False\n",
      "     콘크리트믹서         화물차   -0.042    0.9 -0.3808  0.2967  False\n",
      "         택시    특수여객(장의)  -0.1021    0.9  -0.859  0.6549  False\n",
      "         택시         화물차   0.0159    0.9 -0.0155  0.0474  False\n",
      "   특수여객(장의)         화물차    0.118    0.9 -0.6387  0.8747  False\n",
      "--------------------------------------------------------------\n"
     ]
    }
   ],
   "source": [
    "posthoc = pairwise_tukeyhsd(df['심각도'], df['차량용도가해자_중분류'], alpha=0.05)\n",
    "print(posthoc)"
   ]
  },
  {
   "cell_type": "code",
   "execution_count": 67,
   "metadata": {},
   "outputs": [
    {
     "data": {
      "image/png": "[encoded data removed]",
      "text/plain": [
       "<Figure size 720x432 with 1 Axes>"
      ]
     },
     "metadata": {
      "needs_background": "light"
     },
     "output_type": "display_data"
    }
   ],
   "source": [
    "fig = posthoc.plot_simultaneous()"
   ]
  },
  {
   "cell_type": "markdown",
   "metadata": {},
   "source": [
    "---"
   ]
  },
  {
   "cell_type": "markdown",
   "metadata": {},
   "source": [
    "# ■ 7. 도로종류"
   ]
  },
  {
   "cell_type": "markdown",
   "metadata": {},
   "source": [
    "## 7.1 EPDO1 ~ 도로종류 (O) / (O)"
   ]
  },
  {
   "cell_type": "code",
   "execution_count": 68,
   "metadata": {},
   "outputs": [
    {
     "data": {
      "text/html": [
       "<div>\n",
       "<style scoped>\n",
       "    .dataframe tbody tr th:only-of-type {\n",
       "        vertical-align: middle;\n",
       "    }\n",
       "\n",
       "    .dataframe tbody tr th {\n",
       "        vertical-align: top;\n",
       "    }\n",
       "\n",
       "    .dataframe thead th {\n",
       "        text-align: right;\n",
       "    }\n",
       "</style>\n",
       "<table border=\"1\" class=\"dataframe\">\n",
       "  <thead>\n",
       "    <tr style=\"text-align: right;\">\n",
       "      <th></th>\n",
       "      <th>df</th>\n",
       "      <th>sum_sq</th>\n",
       "      <th>mean_sq</th>\n",
       "      <th>F</th>\n",
       "      <th>PR(&gt;F)</th>\n",
       "    </tr>\n",
       "  </thead>\n",
       "  <tbody>\n",
       "    <tr>\n",
       "      <th>C(도로종류)</th>\n",
       "      <td>6.0</td>\n",
       "      <td>6.233383e+06</td>\n",
       "      <td>1.038897e+06</td>\n",
       "      <td>232.054802</td>\n",
       "      <td>3.921757e-294</td>\n",
       "    </tr>\n",
       "    <tr>\n",
       "      <th>Residual</th>\n",
       "      <td>58052.0</td>\n",
       "      <td>2.598958e+08</td>\n",
       "      <td>4.476948e+03</td>\n",
       "      <td>NaN</td>\n",
       "      <td>NaN</td>\n",
       "    </tr>\n",
       "  </tbody>\n",
       "</table>\n",
       "</div>"
      ],
      "text/plain": [
       "               df        sum_sq       mean_sq           F         PR(>F)\n",
       "C(도로종류)       6.0  6.233383e+06  1.038897e+06  232.054802  3.921757e-294\n",
       "Residual  58052.0  2.598958e+08  4.476948e+03         NaN            NaN"
      ]
     },
     "execution_count": 68,
     "metadata": {},
     "output_type": "execute_result"
    }
   ],
   "source": [
    "model = ols('EPDO1 ~ C(도로종류)', df).fit()\n",
    "anova_lm(model)"
   ]
  },
  {
   "cell_type": "code",
   "execution_count": 69,
   "metadata": {},
   "outputs": [
    {
     "name": "stdout",
     "output_type": "stream",
     "text": [
      " Multiple Comparison of Means - Tukey HSD, FWER=0.05  \n",
      "======================================================\n",
      "group1 group2 meandiff p-adj   lower    upper   reject\n",
      "------------------------------------------------------\n",
      "  고속국도     군도 -44.4025  0.001 -68.9602 -19.8447   True\n",
      "  고속국도     기타 -61.6205  0.001 -86.0446 -37.1965   True\n",
      "  고속국도     시도 -49.7092  0.001 -74.0353 -25.3831   True\n",
      "  고속국도   일반국도 -16.4467 0.4332 -41.0019   8.1084  False\n",
      "  고속국도    지방도 -33.1423 0.0013  -57.627  -8.6576   True\n",
      "  고속국도 특별광역시도 -55.7516  0.001 -80.0681  -31.435   True\n",
      "    군도     기타 -17.2181  0.001 -21.7217 -12.7144   True\n",
      "    군도     시도  -5.3067 0.0014  -9.2445  -1.3689   True\n",
      "    군도   일반국도  27.9557  0.001  22.7883  33.1232   True\n",
      "    군도    지방도  11.2601  0.001   6.4385  16.0818   True\n",
      "    군도 특별광역시도 -11.3491  0.001 -15.2275  -7.4707   True\n",
      "    기타     시도  11.9114  0.001   8.9183  14.9045   True\n",
      "    기타   일반국도  45.1738  0.001  40.6844  49.6632   True\n",
      "    기타    지방도  28.4782  0.001  24.3916  32.5648   True\n",
      "    기타 특별광역시도    5.869  0.001   2.9545   8.7835   True\n",
      "    시도   일반국도  33.2624  0.001  29.3409  37.1839   True\n",
      "    시도    지방도  16.5668  0.001  13.1137  20.0199   True\n",
      "    시도 특별광역시도  -6.0424  0.001  -7.9705  -4.1143   True\n",
      "  일반국도    지방도 -16.6956  0.001 -21.5039 -11.8873   True\n",
      "  일반국도 특별광역시도 -39.3048  0.001 -43.1667  -35.443   True\n",
      "   지방도 특별광역시도 -22.6092  0.001 -25.9944 -19.2241   True\n",
      "------------------------------------------------------\n"
     ]
    }
   ],
   "source": [
    "posthoc = pairwise_tukeyhsd(df['EPDO1'], df['도로종류'], alpha=0.05)\n",
    "print(posthoc)"
   ]
  },
  {
   "cell_type": "code",
   "execution_count": 70,
   "metadata": {},
   "outputs": [
    {
     "data": {
      "image/png": "[encoded data removed]",
      "text/plain": [
       "<Figure size 720x432 with 1 Axes>"
      ]
     },
     "metadata": {
      "needs_background": "light"
     },
     "output_type": "display_data"
    }
   ],
   "source": [
    "fig = posthoc.plot_simultaneous()"
   ]
  },
  {
   "cell_type": "markdown",
   "metadata": {},
   "source": [
    "## 7.2 EPDO2 ~ 도로종류 (O) / (O)"
   ]
  },
  {
   "cell_type": "code",
   "execution_count": 72,
   "metadata": {},
   "outputs": [
    {
     "data": {
      "text/html": [
       "<div>\n",
       "<style scoped>\n",
       "    .dataframe tbody tr th:only-of-type {\n",
       "        vertical-align: middle;\n",
       "    }\n",
       "\n",
       "    .dataframe tbody tr th {\n",
       "        vertical-align: top;\n",
       "    }\n",
       "\n",
       "    .dataframe thead th {\n",
       "        text-align: right;\n",
       "    }\n",
       "</style>\n",
       "<table border=\"1\" class=\"dataframe\">\n",
       "  <thead>\n",
       "    <tr style=\"text-align: right;\">\n",
       "      <th></th>\n",
       "      <th>df</th>\n",
       "      <th>sum_sq</th>\n",
       "      <th>mean_sq</th>\n",
       "      <th>F</th>\n",
       "      <th>PR(&gt;F)</th>\n",
       "    </tr>\n",
       "  </thead>\n",
       "  <tbody>\n",
       "    <tr>\n",
       "      <th>C(도로종류)</th>\n",
       "      <td>6.0</td>\n",
       "      <td>7326.804696</td>\n",
       "      <td>1221.134116</td>\n",
       "      <td>187.552566</td>\n",
       "      <td>1.457040e-237</td>\n",
       "    </tr>\n",
       "    <tr>\n",
       "      <th>Residual</th>\n",
       "      <td>58052.0</td>\n",
       "      <td>377970.182128</td>\n",
       "      <td>6.510890</td>\n",
       "      <td>NaN</td>\n",
       "      <td>NaN</td>\n",
       "    </tr>\n",
       "  </tbody>\n",
       "</table>\n",
       "</div>"
      ],
      "text/plain": [
       "               df         sum_sq      mean_sq           F         PR(>F)\n",
       "C(도로종류)       6.0    7326.804696  1221.134116  187.552566  1.457040e-237\n",
       "Residual  58052.0  377970.182128     6.510890         NaN            NaN"
      ]
     },
     "execution_count": 72,
     "metadata": {},
     "output_type": "execute_result"
    }
   ],
   "source": [
    "model = ols('EPDO2 ~ C(도로종류)', df).fit()\n",
    "anova_lm(model)"
   ]
  },
  {
   "cell_type": "code",
   "execution_count": 73,
   "metadata": {},
   "outputs": [
    {
     "name": "stdout",
     "output_type": "stream",
     "text": [
      "Multiple Comparison of Means - Tukey HSD, FWER=0.05 \n",
      "====================================================\n",
      "group1 group2 meandiff p-adj   lower   upper  reject\n",
      "----------------------------------------------------\n",
      "  고속국도     군도  -1.7233  0.001 -2.6598 -0.7868   True\n",
      "  고속국도     기타  -2.4687  0.001 -3.4001 -1.5373   True\n",
      "  고속국도     시도   -1.945  0.001 -2.8727 -1.0173   True\n",
      "  고속국도   일반국도  -0.8992 0.0697 -1.8356  0.0373  False\n",
      "  고속국도    지방도  -1.4242  0.001 -2.3579 -0.4904   True\n",
      "  고속국도 특별광역시도  -2.1695  0.001 -3.0968 -1.2422   True\n",
      "    군도     기타  -0.7454  0.001 -0.9171 -0.5736   True\n",
      "    군도     시도  -0.2217  0.001 -0.3719 -0.0715   True\n",
      "    군도   일반국도   0.8242  0.001  0.6271  1.0212   True\n",
      "    군도    지방도   0.2991  0.001  0.1153   0.483   True\n",
      "    군도 특별광역시도  -0.4462  0.001 -0.5941 -0.2983   True\n",
      "    기타     시도   0.5237  0.001  0.4095  0.6378   True\n",
      "    기타   일반국도   1.5695  0.001  1.3983  1.7407   True\n",
      "    기타    지방도   1.0445  0.001  0.8887  1.2004   True\n",
      "    기타 특별광역시도   0.2992  0.001   0.188  0.4103   True\n",
      "    시도   일반국도   1.0459  0.001  0.8963  1.1954   True\n",
      "    시도    지방도   0.5209  0.001  0.3892  0.6525   True\n",
      "    시도 특별광역시도  -0.2245  0.001  -0.298 -0.1509   True\n",
      "  일반국도    지방도   -0.525  0.001 -0.7084 -0.3417   True\n",
      "  일반국도 특별광역시도  -1.2703  0.001 -1.4176 -1.1231   True\n",
      "   지방도 특별광역시도  -0.7453  0.001 -0.8744 -0.6162   True\n",
      "----------------------------------------------------\n"
     ]
    }
   ],
   "source": [
    "posthoc = pairwise_tukeyhsd(df['EPDO2'], df['도로종류'], alpha=0.05)\n",
    "print(posthoc)"
   ]
  },
  {
   "cell_type": "code",
   "execution_count": 74,
   "metadata": {},
   "outputs": [
    {
     "data": {
      "image/png": "[encoded data removed]",
      "text/plain": [
       "<Figure size 720x432 with 1 Axes>"
      ]
     },
     "metadata": {
      "needs_background": "light"
     },
     "output_type": "display_data"
    }
   ],
   "source": [
    "fig = posthoc.plot_simultaneous()"
   ]
  },
  {
   "cell_type": "markdown",
   "metadata": {},
   "source": [
    "## 7.3 심각도 ~ 도로종류 (O) / (O)"
   ]
  },
  {
   "cell_type": "code",
   "execution_count": 75,
   "metadata": {},
   "outputs": [
    {
     "data": {
      "text/html": [
       "<div>\n",
       "<style scoped>\n",
       "    .dataframe tbody tr th:only-of-type {\n",
       "        vertical-align: middle;\n",
       "    }\n",
       "\n",
       "    .dataframe tbody tr th {\n",
       "        vertical-align: top;\n",
       "    }\n",
       "\n",
       "    .dataframe thead th {\n",
       "        text-align: right;\n",
       "    }\n",
       "</style>\n",
       "<table border=\"1\" class=\"dataframe\">\n",
       "  <thead>\n",
       "    <tr style=\"text-align: right;\">\n",
       "      <th></th>\n",
       "      <th>df</th>\n",
       "      <th>sum_sq</th>\n",
       "      <th>mean_sq</th>\n",
       "      <th>F</th>\n",
       "      <th>PR(&gt;F)</th>\n",
       "    </tr>\n",
       "  </thead>\n",
       "  <tbody>\n",
       "    <tr>\n",
       "      <th>C(도로종류)</th>\n",
       "      <td>6.0</td>\n",
       "      <td>91.190137</td>\n",
       "      <td>15.198356</td>\n",
       "      <td>69.181666</td>\n",
       "      <td>3.283291e-86</td>\n",
       "    </tr>\n",
       "    <tr>\n",
       "      <th>Residual</th>\n",
       "      <td>58052.0</td>\n",
       "      <td>12753.306220</td>\n",
       "      <td>0.219688</td>\n",
       "      <td>NaN</td>\n",
       "      <td>NaN</td>\n",
       "    </tr>\n",
       "  </tbody>\n",
       "</table>\n",
       "</div>"
      ],
      "text/plain": [
       "               df        sum_sq    mean_sq          F        PR(>F)\n",
       "C(도로종류)       6.0     91.190137  15.198356  69.181666  3.283291e-86\n",
       "Residual  58052.0  12753.306220   0.219688        NaN           NaN"
      ]
     },
     "execution_count": 75,
     "metadata": {},
     "output_type": "execute_result"
    }
   ],
   "source": [
    "model = ols('심각도 ~ C(도로종류)', df).fit()\n",
    "anova_lm(model)"
   ]
  },
  {
   "cell_type": "code",
   "execution_count": 76,
   "metadata": {},
   "outputs": [
    {
     "name": "stdout",
     "output_type": "stream",
     "text": [
      "Multiple Comparison of Means - Tukey HSD, FWER=0.05 \n",
      "====================================================\n",
      "group1 group2 meandiff p-adj   lower   upper  reject\n",
      "----------------------------------------------------\n",
      "  고속국도     군도  -0.0251    0.9 -0.1971  0.1469  False\n",
      "  고속국도     기타  -0.1511  0.125 -0.3222    0.02  False\n",
      "  고속국도     시도  -0.0578    0.9 -0.2282  0.1126  False\n",
      "  고속국도   일반국도     0.02    0.9 -0.1521   0.192  False\n",
      "  고속국도    지방도  -0.0196    0.9 -0.1911  0.1519  False\n",
      "  고속국도 특별광역시도  -0.0921 0.6623 -0.2624  0.0783  False\n",
      "    군도     기타   -0.126  0.001 -0.1576 -0.0945   True\n",
      "    군도     시도  -0.0327 0.0085 -0.0603 -0.0051   True\n",
      "    군도   일반국도    0.045 0.0046  0.0088  0.0812   True\n",
      "    군도    지방도   0.0055    0.9 -0.0283  0.0393  False\n",
      "    군도 특별광역시도   -0.067  0.001 -0.0942 -0.0398   True\n",
      "    기타     시도   0.0933  0.001  0.0723  0.1143   True\n",
      "    기타   일반국도   0.1711  0.001  0.1396  0.2025   True\n",
      "    기타    지방도   0.1315  0.001  0.1029  0.1601   True\n",
      "    기타 특별광역시도    0.059  0.001  0.0386  0.0794   True\n",
      "    시도   일반국도   0.0778  0.001  0.0503  0.1052   True\n",
      "    시도    지방도   0.0382  0.001   0.014  0.0624   True\n",
      "    시도 특별광역시도  -0.0343  0.001 -0.0478 -0.0208   True\n",
      "  일반국도    지방도  -0.0395 0.0097 -0.0732 -0.0059   True\n",
      "  일반국도 특별광역시도   -0.112  0.001 -0.1391  -0.085   True\n",
      "   지방도 특별광역시도  -0.0725  0.001 -0.0962 -0.0488   True\n",
      "----------------------------------------------------\n"
     ]
    }
   ],
   "source": [
    "posthoc = pairwise_tukeyhsd(df['심각도'], df['도로종류'], alpha=0.05)\n",
    "print(posthoc)"
   ]
  },
  {
   "cell_type": "code",
   "execution_count": 77,
   "metadata": {},
   "outputs": [
    {
     "data": {
      "image/png": "[encoded data removed]",
      "text/plain": [
       "<Figure size 720x432 with 1 Axes>"
      ]
     },
     "metadata": {
      "needs_background": "light"
     },
     "output_type": "display_data"
    }
   ],
   "source": [
    "fig = posthoc.plot_simultaneous()"
   ]
  },
  {
   "cell_type": "markdown",
   "metadata": {},
   "source": [
    "# ■ 8. 도로형태"
   ]
  },
  {
   "cell_type": "markdown",
   "metadata": {},
   "source": [
    "## 8.1 EPDO1 ~ 도로형태 (O) / (O)"
   ]
  },
  {
   "cell_type": "code",
   "execution_count": 79,
   "metadata": {},
   "outputs": [
    {
     "data": {
      "text/html": [
       "<div>\n",
       "<style scoped>\n",
       "    .dataframe tbody tr th:only-of-type {\n",
       "        vertical-align: middle;\n",
       "    }\n",
       "\n",
       "    .dataframe tbody tr th {\n",
       "        vertical-align: top;\n",
       "    }\n",
       "\n",
       "    .dataframe thead th {\n",
       "        text-align: right;\n",
       "    }\n",
       "</style>\n",
       "<table border=\"1\" class=\"dataframe\">\n",
       "  <thead>\n",
       "    <tr style=\"text-align: right;\">\n",
       "      <th></th>\n",
       "      <th>df</th>\n",
       "      <th>sum_sq</th>\n",
       "      <th>mean_sq</th>\n",
       "      <th>F</th>\n",
       "      <th>PR(&gt;F)</th>\n",
       "    </tr>\n",
       "  </thead>\n",
       "  <tbody>\n",
       "    <tr>\n",
       "      <th>C(도로형태)</th>\n",
       "      <td>5.0</td>\n",
       "      <td>4.545535e+05</td>\n",
       "      <td>90910.709230</td>\n",
       "      <td>19.86505</td>\n",
       "      <td>7.631288e-20</td>\n",
       "    </tr>\n",
       "    <tr>\n",
       "      <th>Residual</th>\n",
       "      <td>58053.0</td>\n",
       "      <td>2.656746e+08</td>\n",
       "      <td>4576.414717</td>\n",
       "      <td>NaN</td>\n",
       "      <td>NaN</td>\n",
       "    </tr>\n",
       "  </tbody>\n",
       "</table>\n",
       "</div>"
      ],
      "text/plain": [
       "               df        sum_sq       mean_sq         F        PR(>F)\n",
       "C(도로형태)       5.0  4.545535e+05  90910.709230  19.86505  7.631288e-20\n",
       "Residual  58053.0  2.656746e+08   4576.414717       NaN           NaN"
      ]
     },
     "execution_count": 79,
     "metadata": {},
     "output_type": "execute_result"
    }
   ],
   "source": [
    "model = ols('EPDO1 ~ C(도로형태)', df).fit()\n",
    "anova_lm(model)"
   ]
  },
  {
   "cell_type": "code",
   "execution_count": 80,
   "metadata": {},
   "outputs": [
    {
     "name": "stdout",
     "output_type": "stream",
     "text": [
      " Multiple Comparison of Means - Tukey HSD, FWER=0.05 \n",
      "=====================================================\n",
      "group1 group2 meandiff p-adj   lower    upper  reject\n",
      "-----------------------------------------------------\n",
      "   교차로     기타 -10.7403  0.001 -15.2042 -6.2764   True\n",
      "   교차로  기타/불명  -5.7887 0.1174 -12.3248  0.7475  False\n",
      "   교차로    단일로   1.2429 0.2848    -0.44  2.9257  False\n",
      "   교차로     불명   9.5583    0.9 -24.5464  43.663  False\n",
      "   교차로    주차장 -18.3787  0.001   -28.07 -8.6874   True\n",
      "    기타  기타/불명   4.9516 0.4461  -2.7457  12.649  False\n",
      "    기타    단일로  11.9832  0.001   7.5831 16.3832   True\n",
      "    기타     불명  20.2985 0.5362 -14.0476 54.6447  False\n",
      "    기타    주차장  -7.6384 0.3025  -18.148  2.8711  False\n",
      " 기타/불명    단일로   7.0315 0.0248   0.5389 13.5242   True\n",
      " 기타/불명     불명  15.3469 0.7805 -19.3295 50.0233  False\n",
      " 기타/불명    주차장   -12.59 0.0232 -24.1332 -1.0469   True\n",
      "   단일로     불명   8.3154    0.9  -25.781 42.4118  False\n",
      "   단일로    주차장 -19.6216  0.001 -29.2836 -9.9595   True\n",
      "    불명    주차장  -27.937 0.2157 -63.3439    7.47  False\n",
      "-----------------------------------------------------\n"
     ]
    }
   ],
   "source": [
    "posthoc = pairwise_tukeyhsd(df['EPDO1'], df['도로형태'], alpha=0.05)\n",
    "print(posthoc)"
   ]
  },
  {
   "cell_type": "code",
   "execution_count": 81,
   "metadata": {},
   "outputs": [
    {
     "data": {
      "image/png": "[encoded data removed]",
      "text/plain": [
       "<Figure size 720x432 with 1 Axes>"
      ]
     },
     "metadata": {
      "needs_background": "light"
     },
     "output_type": "display_data"
    }
   ],
   "source": [
    "fig = posthoc.plot_simultaneous()"
   ]
  },
  {
   "cell_type": "markdown",
   "metadata": {},
   "source": [
    "## 8.2 EPDO2 ~ 도로형태 (O) / (O)"
   ]
  },
  {
   "cell_type": "code",
   "execution_count": 82,
   "metadata": {},
   "outputs": [
    {
     "data": {
      "text/html": [
       "<div>\n",
       "<style scoped>\n",
       "    .dataframe tbody tr th:only-of-type {\n",
       "        vertical-align: middle;\n",
       "    }\n",
       "\n",
       "    .dataframe tbody tr th {\n",
       "        vertical-align: top;\n",
       "    }\n",
       "\n",
       "    .dataframe thead th {\n",
       "        text-align: right;\n",
       "    }\n",
       "</style>\n",
       "<table border=\"1\" class=\"dataframe\">\n",
       "  <thead>\n",
       "    <tr style=\"text-align: right;\">\n",
       "      <th></th>\n",
       "      <th>df</th>\n",
       "      <th>sum_sq</th>\n",
       "      <th>mean_sq</th>\n",
       "      <th>F</th>\n",
       "      <th>PR(&gt;F)</th>\n",
       "    </tr>\n",
       "  </thead>\n",
       "  <tbody>\n",
       "    <tr>\n",
       "      <th>C(도로형태)</th>\n",
       "      <td>5.0</td>\n",
       "      <td>799.150978</td>\n",
       "      <td>159.830196</td>\n",
       "      <td>24.131793</td>\n",
       "      <td>2.415542e-24</td>\n",
       "    </tr>\n",
       "    <tr>\n",
       "      <th>Residual</th>\n",
       "      <td>58053.0</td>\n",
       "      <td>384497.835845</td>\n",
       "      <td>6.623221</td>\n",
       "      <td>NaN</td>\n",
       "      <td>NaN</td>\n",
       "    </tr>\n",
       "  </tbody>\n",
       "</table>\n",
       "</div>"
      ],
      "text/plain": [
       "               df         sum_sq     mean_sq          F        PR(>F)\n",
       "C(도로형태)       5.0     799.150978  159.830196  24.131793  2.415542e-24\n",
       "Residual  58053.0  384497.835845    6.623221        NaN           NaN"
      ]
     },
     "execution_count": 82,
     "metadata": {},
     "output_type": "execute_result"
    }
   ],
   "source": [
    "model = ols('EPDO2 ~ C(도로형태)', df).fit()\n",
    "anova_lm(model)"
   ]
  },
  {
   "cell_type": "code",
   "execution_count": 83,
   "metadata": {},
   "outputs": [
    {
     "name": "stdout",
     "output_type": "stream",
     "text": [
      "Multiple Comparison of Means - Tukey HSD, FWER=0.05 \n",
      "====================================================\n",
      "group1 group2 meandiff p-adj   lower   upper  reject\n",
      "----------------------------------------------------\n",
      "   교차로     기타  -0.5108  0.001 -0.6806  -0.341   True\n",
      "   교차로  기타/불명  -0.2807 0.0164 -0.5293  -0.032   True\n",
      "   교차로    단일로  -0.0222    0.9 -0.0862  0.0419  False\n",
      "   교차로     불명   0.4952 0.8808 -0.8023  1.7926  False\n",
      "   교차로    주차장   -0.812  0.001 -1.1806 -0.4433   True\n",
      "    기타  기타/불명   0.2301 0.2198 -0.0627  0.5229  False\n",
      "    기타    단일로   0.4886  0.001  0.3212   0.656   True\n",
      "    기타     불명    1.006 0.2402 -0.3007  2.3126  False\n",
      "    기타    주차장  -0.3012 0.2632  -0.701  0.0986  False\n",
      " 기타/불명    단일로   0.2585  0.034  0.0115  0.5055   True\n",
      " 기타/불명     불명   0.7759 0.5409 -0.5433  2.0951  False\n",
      " 기타/불명    주차장  -0.5313 0.0075 -0.9704 -0.0921   True\n",
      "   단일로     불명   0.5173 0.8525 -0.7798  1.8145  False\n",
      "   단일로    주차장  -0.7898  0.001 -1.1574 -0.4222   True\n",
      "    불명    주차장  -1.3071 0.0633 -2.6541  0.0398  False\n",
      "----------------------------------------------------\n"
     ]
    }
   ],
   "source": [
    "posthoc = pairwise_tukeyhsd(df['EPDO2'], df['도로형태'], alpha=0.05)\n",
    "print(posthoc)"
   ]
  },
  {
   "cell_type": "code",
   "execution_count": 84,
   "metadata": {},
   "outputs": [
    {
     "data": {
      "image/png": "[encoded data removed]",
      "text/plain": [
       "<Figure size 720x432 with 1 Axes>"
      ]
     },
     "metadata": {
      "needs_background": "light"
     },
     "output_type": "display_data"
    }
   ],
   "source": [
    "fig = posthoc.plot_simultaneous()"
   ]
  },
  {
   "cell_type": "markdown",
   "metadata": {},
   "source": [
    "## 8.3 심각도 ~ 도로형태 (O) / (O)"
   ]
  },
  {
   "cell_type": "code",
   "execution_count": 85,
   "metadata": {},
   "outputs": [
    {
     "data": {
      "text/html": [
       "<div>\n",
       "<style scoped>\n",
       "    .dataframe tbody tr th:only-of-type {\n",
       "        vertical-align: middle;\n",
       "    }\n",
       "\n",
       "    .dataframe tbody tr th {\n",
       "        vertical-align: top;\n",
       "    }\n",
       "\n",
       "    .dataframe thead th {\n",
       "        text-align: right;\n",
       "    }\n",
       "</style>\n",
       "<table border=\"1\" class=\"dataframe\">\n",
       "  <thead>\n",
       "    <tr style=\"text-align: right;\">\n",
       "      <th></th>\n",
       "      <th>df</th>\n",
       "      <th>sum_sq</th>\n",
       "      <th>mean_sq</th>\n",
       "      <th>F</th>\n",
       "      <th>PR(&gt;F)</th>\n",
       "    </tr>\n",
       "  </thead>\n",
       "  <tbody>\n",
       "    <tr>\n",
       "      <th>C(도로형태)</th>\n",
       "      <td>5.0</td>\n",
       "      <td>46.404651</td>\n",
       "      <td>9.280930</td>\n",
       "      <td>42.09892</td>\n",
       "      <td>1.940307e-43</td>\n",
       "    </tr>\n",
       "    <tr>\n",
       "      <th>Residual</th>\n",
       "      <td>58053.0</td>\n",
       "      <td>12798.091706</td>\n",
       "      <td>0.220455</td>\n",
       "      <td>NaN</td>\n",
       "      <td>NaN</td>\n",
       "    </tr>\n",
       "  </tbody>\n",
       "</table>\n",
       "</div>"
      ],
      "text/plain": [
       "               df        sum_sq   mean_sq         F        PR(>F)\n",
       "C(도로형태)       5.0     46.404651  9.280930  42.09892  1.940307e-43\n",
       "Residual  58053.0  12798.091706  0.220455       NaN           NaN"
      ]
     },
     "execution_count": 85,
     "metadata": {},
     "output_type": "execute_result"
    }
   ],
   "source": [
    "model = ols('심각도 ~ C(도로형태)', df).fit()\n",
    "anova_lm(model)"
   ]
  },
  {
   "cell_type": "code",
   "execution_count": 86,
   "metadata": {},
   "outputs": [
    {
     "name": "stdout",
     "output_type": "stream",
     "text": [
      "Multiple Comparison of Means - Tukey HSD, FWER=0.05 \n",
      "====================================================\n",
      "group1 group2 meandiff p-adj   lower   upper  reject\n",
      "----------------------------------------------------\n",
      "   교차로     기타  -0.1148  0.001 -0.1457 -0.0838   True\n",
      "   교차로  기타/불명  -0.0815  0.001 -0.1269 -0.0361   True\n",
      "   교차로    단일로  -0.0379  0.001 -0.0496 -0.0262   True\n",
      "   교차로     불명   0.1151 0.7087 -0.1216  0.3518  False\n",
      "   교차로    주차장  -0.1639  0.001 -0.2312 -0.0966   True\n",
      "    기타  기타/불명   0.0333 0.4834 -0.0202  0.0867  False\n",
      "    기타    단일로   0.0769  0.001  0.0463  0.1074   True\n",
      "    기타     불명   0.2299 0.0664 -0.0085  0.4682  False\n",
      "    기타    주차장  -0.0491 0.3914 -0.1221  0.0238  False\n",
      " 기타/불명    단일로   0.0436 0.0646 -0.0015  0.0887  False\n",
      " 기타/불명     불명   0.1966 0.1826 -0.0441  0.4373  False\n",
      " 기타/불명    주차장  -0.0824 0.0397 -0.1625 -0.0023   True\n",
      "   단일로     불명    0.153 0.4403 -0.0837  0.3896  False\n",
      "   단일로    주차장   -0.126  0.001 -0.1931 -0.0589   True\n",
      "    불명    주차장   -0.279 0.0154 -0.5247 -0.0333   True\n",
      "----------------------------------------------------\n"
     ]
    }
   ],
   "source": [
    "posthoc = pairwise_tukeyhsd(df['심각도'], df['도로형태'], alpha=0.05)\n",
    "print(posthoc)"
   ]
  },
  {
   "cell_type": "code",
   "execution_count": 87,
   "metadata": {},
   "outputs": [
    {
     "data": {
      "image/png": "[encoded data removed]",
      "text/plain": [
       "<Figure size 720x432 with 1 Axes>"
      ]
     },
     "metadata": {
      "needs_background": "light"
     },
     "output_type": "display_data"
    }
   ],
   "source": [
    "fig = posthoc.plot_simultaneous()"
   ]
  },
  {
   "cell_type": "markdown",
   "metadata": {},
   "source": [
    "---"
   ]
  },
  {
   "cell_type": "markdown",
   "metadata": {},
   "source": [
    "# ■ 9. 도로선형"
   ]
  },
  {
   "cell_type": "markdown",
   "metadata": {},
   "source": [
    "## 9.1 EPDO1 ~ 도로선형 (O) / (O)"
   ]
  },
  {
   "cell_type": "code",
   "execution_count": 88,
   "metadata": {},
   "outputs": [
    {
     "data": {
      "text/html": [
       "<div>\n",
       "<style scoped>\n",
       "    .dataframe tbody tr th:only-of-type {\n",
       "        vertical-align: middle;\n",
       "    }\n",
       "\n",
       "    .dataframe tbody tr th {\n",
       "        vertical-align: top;\n",
       "    }\n",
       "\n",
       "    .dataframe thead th {\n",
       "        text-align: right;\n",
       "    }\n",
       "</style>\n",
       "<table border=\"1\" class=\"dataframe\">\n",
       "  <thead>\n",
       "    <tr style=\"text-align: right;\">\n",
       "      <th></th>\n",
       "      <th>df</th>\n",
       "      <th>sum_sq</th>\n",
       "      <th>mean_sq</th>\n",
       "      <th>F</th>\n",
       "      <th>PR(&gt;F)</th>\n",
       "    </tr>\n",
       "  </thead>\n",
       "  <tbody>\n",
       "    <tr>\n",
       "      <th>C(도로선형)</th>\n",
       "      <td>4.0</td>\n",
       "      <td>1.207192e+06</td>\n",
       "      <td>301798.056401</td>\n",
       "      <td>66.134888</td>\n",
       "      <td>6.444991e-56</td>\n",
       "    </tr>\n",
       "    <tr>\n",
       "      <th>Residual</th>\n",
       "      <td>58054.0</td>\n",
       "      <td>2.649220e+08</td>\n",
       "      <td>4563.371428</td>\n",
       "      <td>NaN</td>\n",
       "      <td>NaN</td>\n",
       "    </tr>\n",
       "  </tbody>\n",
       "</table>\n",
       "</div>"
      ],
      "text/plain": [
       "               df        sum_sq        mean_sq          F        PR(>F)\n",
       "C(도로선형)       4.0  1.207192e+06  301798.056401  66.134888  6.444991e-56\n",
       "Residual  58054.0  2.649220e+08    4563.371428        NaN           NaN"
      ]
     },
     "execution_count": 88,
     "metadata": {},
     "output_type": "execute_result"
    }
   ],
   "source": [
    "model = ols('EPDO1 ~ C(도로선형)', df).fit()\n",
    "anova_lm(model)"
   ]
  },
  {
   "cell_type": "code",
   "execution_count": 89,
   "metadata": {},
   "outputs": [
    {
     "name": "stdout",
     "output_type": "stream",
     "text": [
      "  Multiple Comparison of Means - Tukey HSD, FWER=0.05  \n",
      "=======================================================\n",
      " group1  group2 meandiff p-adj   lower    upper  reject\n",
      "-------------------------------------------------------\n",
      "기타/서비스구역    내리막  22.4091  0.001  16.4749 28.3433   True\n",
      "기타/서비스구역    오르막  22.6212  0.001  16.6284 28.6141   True\n",
      "기타/서비스구역     평지  11.8396  0.001   6.7399 16.9392   True\n",
      "기타/서비스구역   평지     26.262  0.001  19.6271 32.8969   True\n",
      "     내리막    오르막   0.2121    0.9  -4.3181  4.7423  False\n",
      "     내리막     평지 -10.5695  0.001 -13.8276 -7.3115   True\n",
      "     내리막   평지     3.8529 0.2838  -1.4978  9.2037  False\n",
      "     오르막     평지 -10.7817  0.001 -14.1454 -7.4179   True\n",
      "     오르막   평지     3.6408 0.3544  -1.7749  9.0566  False\n",
      "      평지   평지    14.4225  0.001  10.0154 18.8296   True\n",
      "-------------------------------------------------------\n"
     ]
    }
   ],
   "source": [
    "posthoc = pairwise_tukeyhsd(df['EPDO1'], df['도로선형'], alpha=0.05)\n",
    "print(posthoc)"
   ]
  },
  {
   "cell_type": "code",
   "execution_count": 90,
   "metadata": {},
   "outputs": [
    {
     "data": {
      "image/png": "[encoded data removed]",
      "text/plain": [
       "<Figure size 720x432 with 1 Axes>"
      ]
     },
     "metadata": {
      "needs_background": "light"
     },
     "output_type": "display_data"
    }
   ],
   "source": [
    "fig = posthoc.plot_simultaneous()"
   ]
  },
  {
   "cell_type": "markdown",
   "metadata": {},
   "source": [
    "## 9.2 EPDO2 ~ 도로선형 (O) / (O)"
   ]
  },
  {
   "cell_type": "code",
   "execution_count": 91,
   "metadata": {},
   "outputs": [
    {
     "data": {
      "text/html": [
       "<div>\n",
       "<style scoped>\n",
       "    .dataframe tbody tr th:only-of-type {\n",
       "        vertical-align: middle;\n",
       "    }\n",
       "\n",
       "    .dataframe tbody tr th {\n",
       "        vertical-align: top;\n",
       "    }\n",
       "\n",
       "    .dataframe thead th {\n",
       "        text-align: right;\n",
       "    }\n",
       "</style>\n",
       "<table border=\"1\" class=\"dataframe\">\n",
       "  <thead>\n",
       "    <tr style=\"text-align: right;\">\n",
       "      <th></th>\n",
       "      <th>df</th>\n",
       "      <th>sum_sq</th>\n",
       "      <th>mean_sq</th>\n",
       "      <th>F</th>\n",
       "      <th>PR(&gt;F)</th>\n",
       "    </tr>\n",
       "  </thead>\n",
       "  <tbody>\n",
       "    <tr>\n",
       "      <th>C(도로선형)</th>\n",
       "      <td>4.0</td>\n",
       "      <td>2001.170153</td>\n",
       "      <td>500.292538</td>\n",
       "      <td>75.774328</td>\n",
       "      <td>3.432685e-64</td>\n",
       "    </tr>\n",
       "    <tr>\n",
       "      <th>Residual</th>\n",
       "      <td>58054.0</td>\n",
       "      <td>383295.816671</td>\n",
       "      <td>6.602401</td>\n",
       "      <td>NaN</td>\n",
       "      <td>NaN</td>\n",
       "    </tr>\n",
       "  </tbody>\n",
       "</table>\n",
       "</div>"
      ],
      "text/plain": [
       "               df         sum_sq     mean_sq          F        PR(>F)\n",
       "C(도로선형)       4.0    2001.170153  500.292538  75.774328  3.432685e-64\n",
       "Residual  58054.0  383295.816671    6.602401        NaN           NaN"
      ]
     },
     "execution_count": 91,
     "metadata": {},
     "output_type": "execute_result"
    }
   ],
   "source": [
    "model = ols('EPDO2 ~ C(도로선형)', df).fit()\n",
    "anova_lm(model)"
   ]
  },
  {
   "cell_type": "code",
   "execution_count": 92,
   "metadata": {},
   "outputs": [
    {
     "name": "stdout",
     "output_type": "stream",
     "text": [
      " Multiple Comparison of Means - Tukey HSD, FWER=0.05  \n",
      "======================================================\n",
      " group1  group2 meandiff p-adj   lower   upper  reject\n",
      "------------------------------------------------------\n",
      "기타/서비스구역    내리막   0.9671  0.001  0.7414  1.1928   True\n",
      "기타/서비스구역    오르막   0.8498  0.001  0.6219  1.0778   True\n",
      "기타/서비스구역     평지   0.4691  0.001  0.2751  0.6631   True\n",
      "기타/서비스구역   평지     1.0358  0.001  0.7834  1.2881   True\n",
      "     내리막    오르막  -0.1172 0.3416 -0.2896  0.0551  False\n",
      "     내리막     평지   -0.498  0.001 -0.6219 -0.3741   True\n",
      "     내리막   평지     0.0687 0.8829 -0.1348  0.2722  False\n",
      "     오르막     평지  -0.3807  0.001 -0.5087 -0.2528   True\n",
      "     오르막   평지     0.1859 0.0993 -0.0201  0.3919  False\n",
      "      평지   평지     0.5667  0.001   0.399  0.7343   True\n",
      "------------------------------------------------------\n"
     ]
    }
   ],
   "source": [
    "posthoc = pairwise_tukeyhsd(df['EPDO2'], df['도로선형'], alpha=0.05)\n",
    "print(posthoc)"
   ]
  },
  {
   "cell_type": "code",
   "execution_count": 93,
   "metadata": {},
   "outputs": [
    {
     "data": {
      "image/png": "[encoded data removed]",
      "text/plain": [
       "<Figure size 720x432 with 1 Axes>"
      ]
     },
     "metadata": {
      "needs_background": "light"
     },
     "output_type": "display_data"
    }
   ],
   "source": [
    "fig = posthoc.plot_simultaneous()"
   ]
  },
  {
   "cell_type": "markdown",
   "metadata": {},
   "source": [
    "## 9.3 심각도 ~ 도로선형 (O) / (O)"
   ]
  },
  {
   "cell_type": "code",
   "execution_count": 94,
   "metadata": {},
   "outputs": [
    {
     "data": {
      "text/html": [
       "<div>\n",
       "<style scoped>\n",
       "    .dataframe tbody tr th:only-of-type {\n",
       "        vertical-align: middle;\n",
       "    }\n",
       "\n",
       "    .dataframe tbody tr th {\n",
       "        vertical-align: top;\n",
       "    }\n",
       "\n",
       "    .dataframe thead th {\n",
       "        text-align: right;\n",
       "    }\n",
       "</style>\n",
       "<table border=\"1\" class=\"dataframe\">\n",
       "  <thead>\n",
       "    <tr style=\"text-align: right;\">\n",
       "      <th></th>\n",
       "      <th>df</th>\n",
       "      <th>sum_sq</th>\n",
       "      <th>mean_sq</th>\n",
       "      <th>F</th>\n",
       "      <th>PR(&gt;F)</th>\n",
       "    </tr>\n",
       "  </thead>\n",
       "  <tbody>\n",
       "    <tr>\n",
       "      <th>C(도로선형)</th>\n",
       "      <td>4.0</td>\n",
       "      <td>27.480364</td>\n",
       "      <td>6.870091</td>\n",
       "      <td>31.117716</td>\n",
       "      <td>6.316473e-26</td>\n",
       "    </tr>\n",
       "    <tr>\n",
       "      <th>Residual</th>\n",
       "      <td>58054.0</td>\n",
       "      <td>12817.015993</td>\n",
       "      <td>0.220777</td>\n",
       "      <td>NaN</td>\n",
       "      <td>NaN</td>\n",
       "    </tr>\n",
       "  </tbody>\n",
       "</table>\n",
       "</div>"
      ],
      "text/plain": [
       "               df        sum_sq   mean_sq          F        PR(>F)\n",
       "C(도로선형)       4.0     27.480364  6.870091  31.117716  6.316473e-26\n",
       "Residual  58054.0  12817.015993  0.220777        NaN           NaN"
      ]
     },
     "execution_count": 94,
     "metadata": {},
     "output_type": "execute_result"
    }
   ],
   "source": [
    "model = ols('심각도 ~ C(도로선형)', df).fit()\n",
    "anova_lm(model)"
   ]
  },
  {
   "cell_type": "code",
   "execution_count": 95,
   "metadata": {},
   "outputs": [
    {
     "name": "stdout",
     "output_type": "stream",
     "text": [
      " Multiple Comparison of Means - Tukey HSD, FWER=0.05  \n",
      "======================================================\n",
      " group1  group2 meandiff p-adj   lower   upper  reject\n",
      "------------------------------------------------------\n",
      "기타/서비스구역    내리막    0.136  0.001  0.0947  0.1772   True\n",
      "기타/서비스구역    오르막   0.1206  0.001  0.0789  0.1623   True\n",
      "기타/서비스구역     평지   0.0851  0.001  0.0496  0.1205   True\n",
      "기타/서비스구역   평지     0.1435  0.001  0.0974  0.1897   True\n",
      "     내리막    오르막  -0.0154 0.6492 -0.0469  0.0161  False\n",
      "     내리막     평지  -0.0509  0.001 -0.0736 -0.0283   True\n",
      "     내리막   평지     0.0076    0.9 -0.0297  0.0448  False\n",
      "     오르막     평지  -0.0355  0.001 -0.0589 -0.0121   True\n",
      "     오르막   평지      0.023 0.4591 -0.0147  0.0606  False\n",
      "      평지   평지     0.0585  0.001  0.0278  0.0891   True\n",
      "------------------------------------------------------\n"
     ]
    }
   ],
   "source": [
    "posthoc = pairwise_tukeyhsd(df['심각도'], df['도로선형'], alpha=0.05)\n",
    "print(posthoc)"
   ]
  },
  {
   "cell_type": "code",
   "execution_count": 96,
   "metadata": {},
   "outputs": [
    {
     "data": {
      "image/png": "[encoded data removed]",
      "text/plain": [
       "<Figure size 720x432 with 1 Axes>"
      ]
     },
     "metadata": {
      "needs_background": "light"
     },
     "output_type": "display_data"
    }
   ],
   "source": [
    "fig = posthoc.plot_simultaneous()"
   ]
  },
  {
   "cell_type": "markdown",
   "metadata": {},
   "source": [
    "---"
   ]
  },
  {
   "cell_type": "markdown",
   "metadata": {},
   "source": [
    "# ■ 10. 발생시각"
   ]
  },
  {
   "cell_type": "markdown",
   "metadata": {},
   "source": [
    "## 10.1 EPDO1 ~ 발생시각 (O) / (O)"
   ]
  },
  {
   "cell_type": "code",
   "execution_count": 98,
   "metadata": {},
   "outputs": [
    {
     "data": {
      "text/html": [
       "<div>\n",
       "<style scoped>\n",
       "    .dataframe tbody tr th:only-of-type {\n",
       "        vertical-align: middle;\n",
       "    }\n",
       "\n",
       "    .dataframe tbody tr th {\n",
       "        vertical-align: top;\n",
       "    }\n",
       "\n",
       "    .dataframe thead th {\n",
       "        text-align: right;\n",
       "    }\n",
       "</style>\n",
       "<table border=\"1\" class=\"dataframe\">\n",
       "  <thead>\n",
       "    <tr style=\"text-align: right;\">\n",
       "      <th></th>\n",
       "      <th>df</th>\n",
       "      <th>sum_sq</th>\n",
       "      <th>mean_sq</th>\n",
       "      <th>F</th>\n",
       "      <th>PR(&gt;F)</th>\n",
       "    </tr>\n",
       "  </thead>\n",
       "  <tbody>\n",
       "    <tr>\n",
       "      <th>C(발생시각)</th>\n",
       "      <td>7.0</td>\n",
       "      <td>6.151157e+06</td>\n",
       "      <td>878736.776170</td>\n",
       "      <td>196.214867</td>\n",
       "      <td>5.858005e-289</td>\n",
       "    </tr>\n",
       "    <tr>\n",
       "      <th>Residual</th>\n",
       "      <td>58051.0</td>\n",
       "      <td>2.599780e+08</td>\n",
       "      <td>4478.441365</td>\n",
       "      <td>NaN</td>\n",
       "      <td>NaN</td>\n",
       "    </tr>\n",
       "  </tbody>\n",
       "</table>\n",
       "</div>"
      ],
      "text/plain": [
       "               df        sum_sq        mean_sq           F         PR(>F)\n",
       "C(발생시각)       7.0  6.151157e+06  878736.776170  196.214867  5.858005e-289\n",
       "Residual  58051.0  2.599780e+08    4478.441365         NaN            NaN"
      ]
     },
     "execution_count": 98,
     "metadata": {},
     "output_type": "execute_result"
    }
   ],
   "source": [
    "model = ols('EPDO1 ~ C(발생시각)', df).fit()\n",
    "anova_lm(model)"
   ]
  },
  {
   "cell_type": "code",
   "execution_count": 99,
   "metadata": {},
   "outputs": [
    {
     "name": "stdout",
     "output_type": "stream",
     "text": [
      " Multiple Comparison of Means - Tukey HSD, FWER=0.05  \n",
      "======================================================\n",
      "group1 group2 meandiff p-adj   lower    upper   reject\n",
      "------------------------------------------------------\n",
      "02-04시 05-07시 -15.1421  0.001 -21.6956  -8.5886   True\n",
      "02-04시 08-10시 -39.1459  0.001 -45.4298 -32.8621   True\n",
      "02-04시 11-13시 -41.8471  0.001 -48.1347 -35.5595   True\n",
      "02-04시 14-16시 -42.4841  0.001 -48.7603 -36.2078   True\n",
      "02-04시 17-19시 -30.5149  0.001 -36.7721 -24.2576   True\n",
      "02-04시 20-22시 -23.9181  0.001 -30.5202  -17.316   True\n",
      "02-04시 23-01시 -16.0849  0.001 -24.5057  -7.6642   True\n",
      "05-07시 08-10시 -24.0038  0.001 -27.3215 -20.6861   True\n",
      "05-07시 11-13시  -26.705  0.001 -30.0298 -23.3802   True\n",
      "05-07시 14-16시  -27.342  0.001 -30.6453 -24.0386   True\n",
      "05-07시 17-19시 -15.3728  0.001 -18.6398 -12.1057   True\n",
      "05-07시 20-22시   -8.776  0.001  -12.663   -4.889   True\n",
      "05-07시 23-01시  -0.9428    0.9  -7.4566   5.5709  False\n",
      "08-10시 11-13시  -2.7012 0.0595  -5.4567   0.0543  False\n",
      "08-10시 14-16시  -3.3381 0.0052  -6.0677  -0.6086   True\n",
      "08-10시 17-19시    8.631  0.001   5.9455  11.3165   True\n",
      "08-10시 20-22시  15.2278  0.001  11.8151  18.6406   True\n",
      "08-10시 23-01시   23.061  0.001  16.8186  29.3034   True\n",
      "11-13시 14-16시   -0.637    0.9  -3.3751   2.1012  False\n",
      "11-13시 17-19시  11.3322  0.001    8.638  14.0265   True\n",
      "11-13시 20-22시   17.929  0.001  14.5094  21.3487   True\n",
      "11-13시 23-01시  25.7622  0.001   19.516  32.0083   True\n",
      "14-16시 17-19시  11.9692  0.001   9.3014  14.6369   True\n",
      "14-16시 20-22시   18.566  0.001  15.1672  21.9648   True\n",
      "14-16시 23-01시  26.3991  0.001  20.1644  32.6339   True\n",
      "17-19시 20-22시   6.5968  0.001   3.2333   9.9603   True\n",
      "17-19시 23-01시    14.43  0.001   8.2143  20.6456   True\n",
      "20-22시 23-01시   7.8332 0.0072   1.2705  14.3958   True\n",
      "------------------------------------------------------\n"
     ]
    }
   ],
   "source": [
    "posthoc = pairwise_tukeyhsd(df['EPDO1'], df['발생시각'], alpha=0.05)\n",
    "print(posthoc)"
   ]
  },
  {
   "cell_type": "code",
   "execution_count": 100,
   "metadata": {},
   "outputs": [
    {
     "data": {
      "image/png": "[encoded data removed]",
      "text/plain": [
       "<Figure size 720x432 with 1 Axes>"
      ]
     },
     "metadata": {
      "needs_background": "light"
     },
     "output_type": "display_data"
    }
   ],
   "source": [
    "fig = posthoc.plot_simultaneous()"
   ]
  },
  {
   "cell_type": "markdown",
   "metadata": {},
   "source": [
    "## 10.2 EPDO2 ~ 발생시각 (O) / (O)"
   ]
  },
  {
   "cell_type": "code",
   "execution_count": 101,
   "metadata": {},
   "outputs": [
    {
     "data": {
      "text/html": [
       "<div>\n",
       "<style scoped>\n",
       "    .dataframe tbody tr th:only-of-type {\n",
       "        vertical-align: middle;\n",
       "    }\n",
       "\n",
       "    .dataframe tbody tr th {\n",
       "        vertical-align: top;\n",
       "    }\n",
       "\n",
       "    .dataframe thead th {\n",
       "        text-align: right;\n",
       "    }\n",
       "</style>\n",
       "<table border=\"1\" class=\"dataframe\">\n",
       "  <thead>\n",
       "    <tr style=\"text-align: right;\">\n",
       "      <th></th>\n",
       "      <th>df</th>\n",
       "      <th>sum_sq</th>\n",
       "      <th>mean_sq</th>\n",
       "      <th>F</th>\n",
       "      <th>PR(&gt;F)</th>\n",
       "    </tr>\n",
       "  </thead>\n",
       "  <tbody>\n",
       "    <tr>\n",
       "      <th>C(발생시각)</th>\n",
       "      <td>7.0</td>\n",
       "      <td>8002.447376</td>\n",
       "      <td>1143.206768</td>\n",
       "      <td>175.895194</td>\n",
       "      <td>7.255059e-259</td>\n",
       "    </tr>\n",
       "    <tr>\n",
       "      <th>Residual</th>\n",
       "      <td>58051.0</td>\n",
       "      <td>377294.539448</td>\n",
       "      <td>6.499363</td>\n",
       "      <td>NaN</td>\n",
       "      <td>NaN</td>\n",
       "    </tr>\n",
       "  </tbody>\n",
       "</table>\n",
       "</div>"
      ],
      "text/plain": [
       "               df         sum_sq      mean_sq           F         PR(>F)\n",
       "C(발생시각)       7.0    8002.447376  1143.206768  175.895194  7.255059e-259\n",
       "Residual  58051.0  377294.539448     6.499363         NaN            NaN"
      ]
     },
     "execution_count": 101,
     "metadata": {},
     "output_type": "execute_result"
    }
   ],
   "source": [
    "model = ols('EPDO2 ~ C(발생시각)', df).fit()\n",
    "anova_lm(model)"
   ]
  },
  {
   "cell_type": "code",
   "execution_count": 102,
   "metadata": {},
   "outputs": [
    {
     "name": "stdout",
     "output_type": "stream",
     "text": [
      "Multiple Comparison of Means - Tukey HSD, FWER=0.05 \n",
      "====================================================\n",
      "group1 group2 meandiff p-adj   lower   upper  reject\n",
      "----------------------------------------------------\n",
      "02-04시 05-07시  -0.4452  0.001 -0.6948 -0.1955   True\n",
      "02-04시 08-10시  -1.2916  0.001  -1.531 -1.0522   True\n",
      "02-04시 11-13시  -1.4395  0.001 -1.6791    -1.2   True\n",
      "02-04시 14-16시  -1.4999  0.001  -1.739 -1.2608   True\n",
      "02-04시 17-19시  -1.0617  0.001 -1.3001 -0.8234   True\n",
      "02-04시 20-22시  -0.8197  0.001 -1.0712 -0.5682   True\n",
      "02-04시 23-01시  -0.4953  0.001  -0.816 -0.1745   True\n",
      "05-07시 08-10시  -0.8464  0.001 -0.9728   -0.72   True\n",
      "05-07시 11-13시  -0.9944  0.001  -1.121 -0.8677   True\n",
      "05-07시 14-16시  -1.0547  0.001 -1.1805 -0.9288   True\n",
      "05-07시 17-19시  -0.6166  0.001  -0.741 -0.4921   True\n",
      "05-07시 20-22시  -0.3745  0.001 -0.5226 -0.2264   True\n",
      "05-07시 23-01시  -0.0501    0.9 -0.2982  0.1981  False\n",
      "08-10시 11-13시   -0.148  0.001 -0.2529  -0.043   True\n",
      "08-10시 14-16시  -0.2083  0.001 -0.3123 -0.1043   True\n",
      "08-10시 17-19시   0.2298  0.001  0.1275  0.3321   True\n",
      "08-10시 20-22시   0.4719  0.001  0.3419  0.6019   True\n",
      "08-10시 23-01시   0.7963  0.001  0.5585  1.0341   True\n",
      "11-13시 14-16시  -0.0603 0.6318 -0.1646   0.044  False\n",
      "11-13시 17-19시   0.3778  0.001  0.2752  0.4805   True\n",
      "11-13시 20-22시   0.6199  0.001  0.4896  0.7501   True\n",
      "11-13시 23-01시   0.9443  0.001  0.7063  1.1822   True\n",
      "14-16시 17-19시   0.4381  0.001  0.3365  0.5398   True\n",
      "14-16시 20-22시   0.6802  0.001  0.5507  0.8097   True\n",
      "14-16시 23-01시   1.0046  0.001  0.7671  1.2421   True\n",
      "17-19시 20-22시   0.2421  0.001  0.1139  0.3702   True\n",
      "17-19시 23-01시   0.5665  0.001  0.3297  0.8033   True\n",
      "20-22시 23-01시   0.3244 0.0021  0.0744  0.5744   True\n",
      "----------------------------------------------------\n"
     ]
    }
   ],
   "source": [
    "posthoc = pairwise_tukeyhsd(df['EPDO2'], df['발생시각'], alpha=0.05)\n",
    "print(posthoc)"
   ]
  },
  {
   "cell_type": "code",
   "execution_count": 103,
   "metadata": {},
   "outputs": [
    {
     "data": {
      "image/png": "[encoded data removed]",
      "text/plain": [
       "<Figure size 720x432 with 1 Axes>"
      ]
     },
     "metadata": {
      "needs_background": "light"
     },
     "output_type": "display_data"
    }
   ],
   "source": [
    "fig = posthoc.plot_simultaneous()"
   ]
  },
  {
   "cell_type": "markdown",
   "metadata": {},
   "source": [
    "## 10.3 심각도 ~ 발생시각 (O) / (O)"
   ]
  },
  {
   "cell_type": "code",
   "execution_count": 104,
   "metadata": {},
   "outputs": [
    {
     "data": {
      "text/html": [
       "<div>\n",
       "<style scoped>\n",
       "    .dataframe tbody tr th:only-of-type {\n",
       "        vertical-align: middle;\n",
       "    }\n",
       "\n",
       "    .dataframe tbody tr th {\n",
       "        vertical-align: top;\n",
       "    }\n",
       "\n",
       "    .dataframe thead th {\n",
       "        text-align: right;\n",
       "    }\n",
       "</style>\n",
       "<table border=\"1\" class=\"dataframe\">\n",
       "  <thead>\n",
       "    <tr style=\"text-align: right;\">\n",
       "      <th></th>\n",
       "      <th>df</th>\n",
       "      <th>sum_sq</th>\n",
       "      <th>mean_sq</th>\n",
       "      <th>F</th>\n",
       "      <th>PR(&gt;F)</th>\n",
       "    </tr>\n",
       "  </thead>\n",
       "  <tbody>\n",
       "    <tr>\n",
       "      <th>C(발생시각)</th>\n",
       "      <td>7.0</td>\n",
       "      <td>124.497657</td>\n",
       "      <td>17.785380</td>\n",
       "      <td>81.168174</td>\n",
       "      <td>6.716329e-118</td>\n",
       "    </tr>\n",
       "    <tr>\n",
       "      <th>Residual</th>\n",
       "      <td>58051.0</td>\n",
       "      <td>12719.998700</td>\n",
       "      <td>0.219118</td>\n",
       "      <td>NaN</td>\n",
       "      <td>NaN</td>\n",
       "    </tr>\n",
       "  </tbody>\n",
       "</table>\n",
       "</div>"
      ],
      "text/plain": [
       "               df        sum_sq    mean_sq          F         PR(>F)\n",
       "C(발생시각)       7.0    124.497657  17.785380  81.168174  6.716329e-118\n",
       "Residual  58051.0  12719.998700   0.219118        NaN            NaN"
      ]
     },
     "execution_count": 104,
     "metadata": {},
     "output_type": "execute_result"
    }
   ],
   "source": [
    "model = ols('심각도 ~ C(발생시각)', df).fit()\n",
    "anova_lm(model)"
   ]
  },
  {
   "cell_type": "code",
   "execution_count": 105,
   "metadata": {},
   "outputs": [
    {
     "name": "stdout",
     "output_type": "stream",
     "text": [
      "Multiple Comparison of Means - Tukey HSD, FWER=0.05 \n",
      "====================================================\n",
      "group1 group2 meandiff p-adj   lower   upper  reject\n",
      "----------------------------------------------------\n",
      "02-04시 05-07시   -0.011    0.9 -0.0568  0.0348  False\n",
      "02-04시 08-10시  -0.1165  0.001 -0.1605 -0.0726   True\n",
      "02-04시 11-13시  -0.1546  0.001 -0.1986 -0.1106   True\n",
      "02-04시 14-16시  -0.1652  0.001 -0.2091 -0.1213   True\n",
      "02-04시 17-19시  -0.1143  0.001 -0.1581 -0.0706   True\n",
      "02-04시 20-22시  -0.1029  0.001 -0.1491 -0.0567   True\n",
      "02-04시 23-01시  -0.0705  0.007 -0.1294 -0.0116   True\n",
      "05-07시 08-10시  -0.1055  0.001 -0.1287 -0.0823   True\n",
      "05-07시 11-13시  -0.1436  0.001 -0.1669 -0.1204   True\n",
      "05-07시 14-16시  -0.1542  0.001 -0.1773 -0.1311   True\n",
      "05-07시 17-19시  -0.1033  0.001 -0.1262 -0.0805   True\n",
      "05-07시 20-22시  -0.0919  0.001 -0.1191 -0.0647   True\n",
      "05-07시 23-01시  -0.0595 0.0019  -0.105 -0.0139   True\n",
      "08-10시 11-13시  -0.0381  0.001 -0.0573 -0.0188   True\n",
      "08-10시 14-16시  -0.0486  0.001 -0.0677 -0.0295   True\n",
      "08-10시 17-19시   0.0022    0.9 -0.0166   0.021  False\n",
      "08-10시 20-22시   0.0136 0.6464 -0.0103  0.0375  False\n",
      "08-10시 23-01시   0.0461 0.0302  0.0024  0.0897   True\n",
      "11-13시 14-16시  -0.0106 0.6797 -0.0297  0.0086  False\n",
      "11-13시 17-19시   0.0403  0.001  0.0214  0.0591   True\n",
      "11-13시 20-22시   0.0517  0.001  0.0278  0.0756   True\n",
      "11-13시 23-01시   0.0841  0.001  0.0404  0.1278   True\n",
      "14-16시 17-19시   0.0508  0.001  0.0322  0.0695   True\n",
      "14-16시 20-22시   0.0623  0.001  0.0385   0.086   True\n",
      "14-16시 23-01시   0.0947  0.001  0.0511  0.1383   True\n",
      "17-19시 20-22시   0.0114 0.8006 -0.0121  0.0349  False\n",
      "17-19시 23-01시   0.0439 0.0462  0.0004  0.0873   True\n",
      "20-22시 23-01시   0.0325 0.3893 -0.0135  0.0784  False\n",
      "----------------------------------------------------\n"
     ]
    }
   ],
   "source": [
    "posthoc = pairwise_tukeyhsd(df['심각도'], df['발생시각'], alpha=0.05)\n",
    "print(posthoc)"
   ]
  },
  {
   "cell_type": "code",
   "execution_count": 106,
   "metadata": {},
   "outputs": [
    {
     "data": {
      "image/png": "[encoded data removed]",
      "text/plain": [
       "<Figure size 720x432 with 1 Axes>"
      ]
     },
     "metadata": {
      "needs_background": "light"
     },
     "output_type": "display_data"
    }
   ],
   "source": [
    "fig = posthoc.plot_simultaneous()"
   ]
  },
  {
   "cell_type": "code",
   "execution_count": null,
   "metadata": {},
   "outputs": [],
   "source": []
  }
 ],
 "metadata": {
  "kernelspec": {
   "display_name": "Python 3",
   "language": "python",
   "name": "python3"
  },
  "language_info": {
   "codemirror_mode": {
    "name": "ipython",
    "version": 3
   },
   "file_extension": ".py",
   "mimetype": "text/x-python",
   "name": "python",
   "nbconvert_exporter": "python",
   "pygments_lexer": "ipython3",
   "version": "3.8.3"
  }
 },
 "nbformat": 4,
 "nbformat_minor": 4
}
