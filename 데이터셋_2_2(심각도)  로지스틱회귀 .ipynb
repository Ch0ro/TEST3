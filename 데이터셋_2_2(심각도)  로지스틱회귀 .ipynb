{
 "cells": [
  {
   "cell_type": "code",
   "execution_count": 8,
   "metadata": {},
   "outputs": [],
   "source": [
    "from sklearn.linear_model import LogisticRegression\n",
    "from sklearn.model_selection import train_test_split\n",
    "from sklearn.metrics import classification_report\n",
    "import pandas as pd\n",
    "import numpy as np\n",
    "from patsy import dmatrices"
   ]
  },
  {
   "cell_type": "code",
   "execution_count": 6,
   "metadata": {},
   "outputs": [],
   "source": [
    "df = pd.read_csv('./csv파일/데이터셋_2_2(심각도).csv',encoding='cp949')"
   ]
  },
  {
   "cell_type": "code",
   "execution_count": 7,
   "metadata": {},
   "outputs": [
    {
     "data": {
      "text/html": [
       "<div>\n",
       "<style scoped>\n",
       "    .dataframe tbody tr th:only-of-type {\n",
       "        vertical-align: middle;\n",
       "    }\n",
       "\n",
       "    .dataframe tbody tr th {\n",
       "        vertical-align: top;\n",
       "    }\n",
       "\n",
       "    .dataframe thead th {\n",
       "        text-align: right;\n",
       "    }\n",
       "</style>\n",
       "<table border=\"1\" class=\"dataframe\">\n",
       "  <thead>\n",
       "    <tr style=\"text-align: right;\">\n",
       "      <th></th>\n",
       "      <th>사고유형</th>\n",
       "      <th>연령가해자</th>\n",
       "      <th>법규위반가해자</th>\n",
       "      <th>행동유형가해자</th>\n",
       "      <th>피해자신체상해주부위</th>\n",
       "      <th>차량용도가해자_중분류</th>\n",
       "      <th>도로종류</th>\n",
       "      <th>도로형태</th>\n",
       "      <th>도로선형</th>\n",
       "      <th>발생시각</th>\n",
       "      <th>심각도</th>\n",
       "    </tr>\n",
       "  </thead>\n",
       "  <tbody>\n",
       "    <tr>\n",
       "      <th>0</th>\n",
       "      <td>1</td>\n",
       "      <td>1</td>\n",
       "      <td>4</td>\n",
       "      <td>8</td>\n",
       "      <td>9</td>\n",
       "      <td>2</td>\n",
       "      <td>0</td>\n",
       "      <td>3</td>\n",
       "      <td>1</td>\n",
       "      <td>1</td>\n",
       "      <td>0</td>\n",
       "    </tr>\n",
       "    <tr>\n",
       "      <th>1</th>\n",
       "      <td>4</td>\n",
       "      <td>6</td>\n",
       "      <td>4</td>\n",
       "      <td>8</td>\n",
       "      <td>15</td>\n",
       "      <td>10</td>\n",
       "      <td>2</td>\n",
       "      <td>3</td>\n",
       "      <td>1</td>\n",
       "      <td>3</td>\n",
       "      <td>1</td>\n",
       "    </tr>\n",
       "    <tr>\n",
       "      <th>2</th>\n",
       "      <td>2</td>\n",
       "      <td>1</td>\n",
       "      <td>4</td>\n",
       "      <td>8</td>\n",
       "      <td>0</td>\n",
       "      <td>10</td>\n",
       "      <td>2</td>\n",
       "      <td>3</td>\n",
       "      <td>1</td>\n",
       "      <td>4</td>\n",
       "      <td>0</td>\n",
       "    </tr>\n",
       "    <tr>\n",
       "      <th>3</th>\n",
       "      <td>2</td>\n",
       "      <td>2</td>\n",
       "      <td>4</td>\n",
       "      <td>3</td>\n",
       "      <td>0</td>\n",
       "      <td>15</td>\n",
       "      <td>0</td>\n",
       "      <td>3</td>\n",
       "      <td>1</td>\n",
       "      <td>2</td>\n",
       "      <td>1</td>\n",
       "    </tr>\n",
       "    <tr>\n",
       "      <th>4</th>\n",
       "      <td>4</td>\n",
       "      <td>4</td>\n",
       "      <td>4</td>\n",
       "      <td>8</td>\n",
       "      <td>15</td>\n",
       "      <td>10</td>\n",
       "      <td>0</td>\n",
       "      <td>3</td>\n",
       "      <td>1</td>\n",
       "      <td>2</td>\n",
       "      <td>1</td>\n",
       "    </tr>\n",
       "    <tr>\n",
       "      <th>...</th>\n",
       "      <td>...</td>\n",
       "      <td>...</td>\n",
       "      <td>...</td>\n",
       "      <td>...</td>\n",
       "      <td>...</td>\n",
       "      <td>...</td>\n",
       "      <td>...</td>\n",
       "      <td>...</td>\n",
       "      <td>...</td>\n",
       "      <td>...</td>\n",
       "      <td>...</td>\n",
       "    </tr>\n",
       "    <tr>\n",
       "      <th>58054</th>\n",
       "      <td>2</td>\n",
       "      <td>5</td>\n",
       "      <td>4</td>\n",
       "      <td>8</td>\n",
       "      <td>2</td>\n",
       "      <td>10</td>\n",
       "      <td>2</td>\n",
       "      <td>3</td>\n",
       "      <td>1</td>\n",
       "      <td>1</td>\n",
       "      <td>0</td>\n",
       "    </tr>\n",
       "    <tr>\n",
       "      <th>58055</th>\n",
       "      <td>1</td>\n",
       "      <td>2</td>\n",
       "      <td>0</td>\n",
       "      <td>3</td>\n",
       "      <td>2</td>\n",
       "      <td>10</td>\n",
       "      <td>3</td>\n",
       "      <td>2</td>\n",
       "      <td>1</td>\n",
       "      <td>4</td>\n",
       "      <td>0</td>\n",
       "    </tr>\n",
       "    <tr>\n",
       "      <th>58056</th>\n",
       "      <td>3</td>\n",
       "      <td>3</td>\n",
       "      <td>4</td>\n",
       "      <td>8</td>\n",
       "      <td>6</td>\n",
       "      <td>10</td>\n",
       "      <td>3</td>\n",
       "      <td>3</td>\n",
       "      <td>1</td>\n",
       "      <td>3</td>\n",
       "      <td>1</td>\n",
       "    </tr>\n",
       "    <tr>\n",
       "      <th>58057</th>\n",
       "      <td>0</td>\n",
       "      <td>6</td>\n",
       "      <td>4</td>\n",
       "      <td>8</td>\n",
       "      <td>9</td>\n",
       "      <td>10</td>\n",
       "      <td>2</td>\n",
       "      <td>3</td>\n",
       "      <td>1</td>\n",
       "      <td>3</td>\n",
       "      <td>1</td>\n",
       "    </tr>\n",
       "    <tr>\n",
       "      <th>58058</th>\n",
       "      <td>4</td>\n",
       "      <td>3</td>\n",
       "      <td>4</td>\n",
       "      <td>4</td>\n",
       "      <td>6</td>\n",
       "      <td>10</td>\n",
       "      <td>0</td>\n",
       "      <td>2</td>\n",
       "      <td>1</td>\n",
       "      <td>4</td>\n",
       "      <td>1</td>\n",
       "    </tr>\n",
       "  </tbody>\n",
       "</table>\n",
       "<p>58059 rows × 11 columns</p>\n",
       "</div>"
      ],
      "text/plain": [
       "       사고유형  연령가해자  법규위반가해자  행동유형가해자  피해자신체상해주부위  차량용도가해자_중분류  도로종류  도로형태  \\\n",
       "0         1      1        4        8           9            2     0     3   \n",
       "1         4      6        4        8          15           10     2     3   \n",
       "2         2      1        4        8           0           10     2     3   \n",
       "3         2      2        4        3           0           15     0     3   \n",
       "4         4      4        4        8          15           10     0     3   \n",
       "...     ...    ...      ...      ...         ...          ...   ...   ...   \n",
       "58054     2      5        4        8           2           10     2     3   \n",
       "58055     1      2        0        3           2           10     3     2   \n",
       "58056     3      3        4        8           6           10     3     3   \n",
       "58057     0      6        4        8           9           10     2     3   \n",
       "58058     4      3        4        4           6           10     0     2   \n",
       "\n",
       "       도로선형  발생시각  심각도  \n",
       "0         1     1    0  \n",
       "1         1     3    1  \n",
       "2         1     4    0  \n",
       "3         1     2    1  \n",
       "4         1     2    1  \n",
       "...     ...   ...  ...  \n",
       "58054     1     1    0  \n",
       "58055     1     4    0  \n",
       "58056     1     3    1  \n",
       "58057     1     3    1  \n",
       "58058     1     4    1  \n",
       "\n",
       "[58059 rows x 11 columns]"
      ]
     },
     "execution_count": 7,
     "metadata": {},
     "output_type": "execute_result"
    }
   ],
   "source": [
    "df"
   ]
  },
  {
   "cell_type": "code",
   "execution_count": 9,
   "metadata": {},
   "outputs": [],
   "source": [
    "x=df.drop(['심각도'],axis=1)\n",
    "y=pd.DataFrame(df['심각도'])\n",
    "\n",
    "x_train, x_test, y_train, y_test = train_test_split(x,y,train_size=0.7,shuffle=True) "
   ]
  },
  {
   "cell_type": "code",
   "execution_count": 10,
   "metadata": {},
   "outputs": [
    {
     "name": "stderr",
     "output_type": "stream",
     "text": [
      "C:\\Users\\user\\anaconda3\\lib\\site-packages\\sklearn\\utils\\validation.py:73: DataConversionWarning: A column-vector y was passed when a 1d array was expected. Please change the shape of y to (n_samples, ), for example using ravel().\n",
      "  return f(**kwargs)\n"
     ]
    }
   ],
   "source": [
    "log = LogisticRegression()\n",
    "log.fit(x_train,y_train)\n",
    "\n",
    "y_pred = log.predict(x_test)"
   ]
  },
  {
   "cell_type": "code",
   "execution_count": 12,
   "metadata": {},
   "outputs": [
    {
     "name": "stdout",
     "output_type": "stream",
     "text": [
      "              precision    recall  f1-score   support\n",
      "\n",
      "           0       0.53      0.13      0.21      5724\n",
      "           1       0.69      0.94      0.80     11694\n",
      "\n",
      "    accuracy                           0.68     17418\n",
      "   macro avg       0.61      0.54      0.51     17418\n",
      "weighted avg       0.64      0.68      0.60     17418\n",
      "\n"
     ]
    }
   ],
   "source": [
    "print(classification_report(y_test,y_pred))"
   ]
  },
  {
   "cell_type": "code",
   "execution_count": 44,
   "metadata": {},
   "outputs": [
    {
     "data": {
      "image/png": "[encoded data removed]",
      "text/plain": [
       "<Figure size 864x864 with 1 Axes>"
      ]
     },
     "metadata": {
      "needs_background": "light"
     },
     "output_type": "display_data"
    }
   ],
   "source": [
    "import matplotlib.pyplot as plt\n",
    "from sklearn.metrics import roc_curve, auc\n",
    "import warnings\n",
    "warnings.filterwarnings(\"ignore\")\n",
    "from pylab import rcParams\n",
    "rcParams['figure.figsize'] = 12,12\n",
    "\n",
    "\n",
    "from matplotlib import font_manager, rc\n",
    "font_name = font_manager.FontProperties(fname=\"c:/Windows/Fonts/malgun.ttf\").get_name()\n",
    "rc('font', family=font_name)\n",
    "\n",
    "\n",
    "fpr, tpr, threshold = roc_curve(y_train, log.decision_function(x_train))\n",
    "\n",
    "plt.plot(fpr,tpr, 'o-', ms=2, label=\"Logistic Regression\")\n",
    "plt.legend()\n",
    "plt.plot([0,1],[0,1], 'k--',label='radom guess')\n",
    "plt.xlabel('특이도')\n",
    "plt.ylabel('재현률')\n",
    "plt.title('ROC 커브')\n",
    "plt.show()"
   ]
  },
  {
   "cell_type": "markdown",
   "metadata": {},
   "source": [
    "#### AUC 값은 0.5~1의 범위를 가지는데 0.5면 성능이 전혀 없음. 1이면 최고의 성능이라고 할 수 있다."
   ]
  },
  {
   "cell_type": "code",
   "execution_count": 33,
   "metadata": {},
   "outputs": [
    {
     "name": "stdout",
     "output_type": "stream",
     "text": [
      "AUC: 0.6452930522853786\n"
     ]
    }
   ],
   "source": [
    "print('AUC: {}'.format(auc(fpr,tpr)))  # 0.5에 가까울 수록 성능이 좋지 못함"
   ]
  },
  {
   "cell_type": "markdown",
   "metadata": {},
   "source": [
    "#### 위 과정을 통해 로지스틱 회귀 모델을 생성하고 평가"
   ]
  },
  {
   "cell_type": "code",
   "execution_count": 46,
   "metadata": {},
   "outputs": [
    {
     "name": "stdout",
     "output_type": "stream",
     "text": [
      "Optimization terminated successfully.\n",
      "         Current function value: 0.609846\n",
      "         Iterations 5\n"
     ]
    }
   ],
   "source": [
    "import statsmodels.api as sm\n",
    "\n",
    "logit = sm.Logit(y,x)\n",
    "result = logit.fit()"
   ]
  },
  {
   "cell_type": "code",
   "execution_count": 47,
   "metadata": {},
   "outputs": [
    {
     "name": "stdout",
     "output_type": "stream",
     "text": [
      "                           Logit Regression Results                           \n",
      "==============================================================================\n",
      "Dep. Variable:                    심각도   No. Observations:                58059\n",
      "Model:                          Logit   Df Residuals:                    58049\n",
      "Method:                           MLE   Df Model:                            9\n",
      "Date:                Tue, 17 Nov 2020   Pseudo R-squ.:                 0.03878\n",
      "Time:                        17:25:31   Log-Likelihood:                -35407.\n",
      "converged:                       True   LL-Null:                       -36836.\n",
      "Covariance Type:            nonrobust   LLR p-value:                     0.000\n",
      "===============================================================================\n",
      "                  coef    std err          z      P>|z|      [0.025      0.975]\n",
      "-------------------------------------------------------------------------------\n",
      "사고유형            0.0890      0.005     17.403      0.000       0.079       0.099\n",
      "연령가해자          -0.0099      0.006     -1.767      0.077      -0.021       0.001\n",
      "법규위반가해자        -0.0749      0.007    -10.281      0.000      -0.089      -0.061\n",
      "행동유형가해자         0.0549      0.004     14.335      0.000       0.047       0.062\n",
      "피해자신체상해주부위      0.0437      0.002     24.923      0.000       0.040       0.047\n",
      "차량용도가해자_중분류     0.0348      0.002     14.017      0.000       0.030       0.040\n",
      "도로종류            0.0713      0.008      9.492      0.000       0.057       0.086\n",
      "도로형태           -0.1730      0.011    -15.319      0.000      -0.195      -0.151\n",
      "도로선형           -0.0219      0.016     -1.327      0.185      -0.054       0.010\n",
      "발생시각            0.0614      0.005     12.888      0.000       0.052       0.071\n",
      "===============================================================================\n"
     ]
    }
   ],
   "source": [
    "print(result.summary())"
   ]
  },
  {
   "cell_type": "code",
   "execution_count": 48,
   "metadata": {},
   "outputs": [
    {
     "name": "stdout",
     "output_type": "stream",
     "text": [
      "사고유형           1.093075\n",
      "연령가해자          0.990166\n",
      "법규위반가해자        0.927819\n",
      "행동유형가해자        1.056471\n",
      "피해자신체상해주부위     1.044624\n",
      "차량용도가해자_중분류    1.035441\n",
      "도로종류           1.073870\n",
      "도로형태           0.841102\n",
      "도로선형           0.978385\n",
      "발생시각           1.063350\n",
      "dtype: float64\n"
     ]
    }
   ],
   "source": [
    "print(np.exp(result.params))"
   ]
  },
  {
   "cell_type": "markdown",
   "metadata": {},
   "source": [
    "#### 도로선형과 연령가해자를 제거 한 후 다시 돌려보자"
   ]
  },
  {
   "cell_type": "code",
   "execution_count": 40,
   "metadata": {},
   "outputs": [],
   "source": [
    "x2 = x.drop(['도로선형','연령가해자'],axis=1)"
   ]
  },
  {
   "cell_type": "code",
   "execution_count": 41,
   "metadata": {},
   "outputs": [
    {
     "name": "stdout",
     "output_type": "stream",
     "text": [
      "Optimization terminated successfully.\n",
      "         Current function value: 0.609893\n",
      "         Iterations 5\n",
      "                           Logit Regression Results                           \n",
      "==============================================================================\n",
      "Dep. Variable:                    심각도   No. Observations:                58059\n",
      "Model:                          Logit   Df Residuals:                    58051\n",
      "Method:                           MLE   Df Model:                            7\n",
      "Date:                Tue, 17 Nov 2020   Pseudo R-squ.:                 0.03871\n",
      "Time:                        17:14:31   Log-Likelihood:                -35410.\n",
      "converged:                       True   LL-Null:                       -36836.\n",
      "Covariance Type:            nonrobust   LLR p-value:                     0.000\n",
      "===============================================================================\n",
      "                  coef    std err          z      P>|z|      [0.025      0.975]\n",
      "-------------------------------------------------------------------------------\n",
      "사고유형            0.0885      0.005     17.329      0.000       0.078       0.098\n",
      "법규위반가해자        -0.0772      0.007    -10.709      0.000      -0.091      -0.063\n",
      "행동유형가해자         0.0532      0.004     14.197      0.000       0.046       0.061\n",
      "피해자신체상해주부위      0.0434      0.002     24.836      0.000       0.040       0.047\n",
      "차량용도가해자_중분류     0.0325      0.002     14.612      0.000       0.028       0.037\n",
      "도로종류            0.0701      0.007      9.365      0.000       0.055       0.085\n",
      "도로형태           -0.1796      0.011    -16.519      0.000      -0.201      -0.158\n",
      "발생시각            0.0603      0.005     12.736      0.000       0.051       0.070\n",
      "===============================================================================\n"
     ]
    }
   ],
   "source": [
    "logit = sm.Logit(y,x2)\n",
    "result = logit.fit()\n",
    "print(result.summary())"
   ]
  },
  {
   "cell_type": "markdown",
   "metadata": {},
   "source": [
    "#### 독립변수들의 오즈비를 구해보자\n",
    "#### 오즈비는 1을 기준으로 1보다 크면 심각한사고일 확률이 커지고 1보다 작으면 심각하지 않은 사고 일 확률이 커진다는 것을 나타낸다. \n",
    "#### 오즈비가 1 이면 결과에 별다른 영향을 미치지 않는 다고 볼 수 있다.\n",
    "#### 회귀계수가 변수의 오즈비의 로그값이므로 exp을 취해서 보자"
   ]
  },
  {
   "cell_type": "code",
   "execution_count": 42,
   "metadata": {},
   "outputs": [
    {
     "name": "stdout",
     "output_type": "stream",
     "text": [
      "사고유형           1.092493\n",
      "법규위반가해자        0.925711\n",
      "행동유형가해자        1.054624\n",
      "피해자신체상해주부위     1.044357\n",
      "차량용도가해자_중분류    1.033010\n",
      "도로종류           1.072655\n",
      "도로형태           0.835564\n",
      "발생시각           1.062186\n",
      "dtype: float64\n"
     ]
    }
   ],
   "source": [
    "print(np.exp(result.params))"
   ]
  },
  {
   "cell_type": "markdown",
   "metadata": {},
   "source": [
    "#### 오즈비가 다들 2를 넘지 않는 것으로보아 엄청 큰 영향을 주는 것 같진 않다.\n",
    "#### 더미변수로 바꾸어 각 속성마다 파악해보는 것도 좋을 것 같다. "
   ]
  },
  {
   "cell_type": "code",
   "execution_count": null,
   "metadata": {},
   "outputs": [],
   "source": []
  }
 ],
 "metadata": {
  "kernelspec": {
   "display_name": "Python 3",
   "language": "python",
   "name": "python3"
  },
  "language_info": {
   "codemirror_mode": {
    "name": "ipython",
    "version": 3
   },
   "file_extension": ".py",
   "mimetype": "text/x-python",
   "name": "python",
   "nbconvert_exporter": "python",
   "pygments_lexer": "ipython3",
   "version": "3.8.3"
  }
 },
 "nbformat": 4,
 "nbformat_minor": 4
}
