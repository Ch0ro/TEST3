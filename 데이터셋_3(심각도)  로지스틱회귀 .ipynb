{
 "cells": [
  {
   "cell_type": "code",
   "execution_count": 6,
   "metadata": {},
   "outputs": [],
   "source": [
    "from sklearn.linear_model import LogisticRegression\n",
    "from sklearn.model_selection import train_test_split\n",
    "from sklearn.metrics import classification_report\n",
    "import pandas as pd\n",
    "import numpy as np\n",
    "from patsy import dmatrices"
   ]
  },
  {
   "cell_type": "code",
   "execution_count": 7,
   "metadata": {},
   "outputs": [],
   "source": [
    "df = pd.read_csv('./csv파일/데이터셋_3(심각도).csv',encoding='cp949')"
   ]
  },
  {
   "cell_type": "code",
   "execution_count": 8,
   "metadata": {},
   "outputs": [
    {
     "data": {
      "text/html": [
       "<div>\n",
       "<style scoped>\n",
       "    .dataframe tbody tr th:only-of-type {\n",
       "        vertical-align: middle;\n",
       "    }\n",
       "\n",
       "    .dataframe tbody tr th {\n",
       "        vertical-align: top;\n",
       "    }\n",
       "\n",
       "    .dataframe thead th {\n",
       "        text-align: right;\n",
       "    }\n",
       "</style>\n",
       "<table border=\"1\" class=\"dataframe\">\n",
       "  <thead>\n",
       "    <tr style=\"text-align: right;\">\n",
       "      <th></th>\n",
       "      <th>사고유형</th>\n",
       "      <th>연령가해자</th>\n",
       "      <th>법규위반가해자</th>\n",
       "      <th>행동유형가해자</th>\n",
       "      <th>피해자신체상해주부위</th>\n",
       "      <th>차량용도가해자</th>\n",
       "      <th>도로종류</th>\n",
       "      <th>도로형태</th>\n",
       "      <th>도로선형</th>\n",
       "      <th>발생시각</th>\n",
       "      <th>심각도</th>\n",
       "    </tr>\n",
       "  </thead>\n",
       "  <tbody>\n",
       "    <tr>\n",
       "      <th>0</th>\n",
       "      <td>보도통행중</td>\n",
       "      <td>20세이하</td>\n",
       "      <td>그룹1</td>\n",
       "      <td>그룹2</td>\n",
       "      <td>그룹4</td>\n",
       "      <td>그룹5</td>\n",
       "      <td>기타</td>\n",
       "      <td>단일로</td>\n",
       "      <td>평지</td>\n",
       "      <td>낮</td>\n",
       "      <td>0</td>\n",
       "    </tr>\n",
       "    <tr>\n",
       "      <th>1</th>\n",
       "      <td>횡단중</td>\n",
       "      <td>65세이상</td>\n",
       "      <td>그룹1</td>\n",
       "      <td>그룹2</td>\n",
       "      <td>그룹5</td>\n",
       "      <td>그룹4</td>\n",
       "      <td>시도</td>\n",
       "      <td>단일로</td>\n",
       "      <td>평지</td>\n",
       "      <td>출퇴근시간</td>\n",
       "      <td>1</td>\n",
       "    </tr>\n",
       "    <tr>\n",
       "      <th>2</th>\n",
       "      <td>길가장자리구역통행중</td>\n",
       "      <td>20세이하</td>\n",
       "      <td>그룹1</td>\n",
       "      <td>그룹2</td>\n",
       "      <td>기타/불명</td>\n",
       "      <td>그룹4</td>\n",
       "      <td>시도</td>\n",
       "      <td>단일로</td>\n",
       "      <td>평지</td>\n",
       "      <td>출퇴근시간</td>\n",
       "      <td>0</td>\n",
       "    </tr>\n",
       "    <tr>\n",
       "      <th>3</th>\n",
       "      <td>길가장자리구역통행중</td>\n",
       "      <td>21-30세</td>\n",
       "      <td>그룹1</td>\n",
       "      <td>그룹1</td>\n",
       "      <td>기타/불명</td>\n",
       "      <td>그룹1</td>\n",
       "      <td>기타</td>\n",
       "      <td>단일로</td>\n",
       "      <td>평지</td>\n",
       "      <td>낮</td>\n",
       "      <td>1</td>\n",
       "    </tr>\n",
       "    <tr>\n",
       "      <th>4</th>\n",
       "      <td>횡단중</td>\n",
       "      <td>41-50세</td>\n",
       "      <td>그룹1</td>\n",
       "      <td>그룹2</td>\n",
       "      <td>그룹5</td>\n",
       "      <td>그룹4</td>\n",
       "      <td>기타</td>\n",
       "      <td>단일로</td>\n",
       "      <td>평지</td>\n",
       "      <td>낮</td>\n",
       "      <td>1</td>\n",
       "    </tr>\n",
       "    <tr>\n",
       "      <th>...</th>\n",
       "      <td>...</td>\n",
       "      <td>...</td>\n",
       "      <td>...</td>\n",
       "      <td>...</td>\n",
       "      <td>...</td>\n",
       "      <td>...</td>\n",
       "      <td>...</td>\n",
       "      <td>...</td>\n",
       "      <td>...</td>\n",
       "      <td>...</td>\n",
       "      <td>...</td>\n",
       "    </tr>\n",
       "    <tr>\n",
       "      <th>58054</th>\n",
       "      <td>길가장자리구역통행중</td>\n",
       "      <td>51-60세</td>\n",
       "      <td>그룹1</td>\n",
       "      <td>그룹2</td>\n",
       "      <td>그룹2</td>\n",
       "      <td>그룹4</td>\n",
       "      <td>시도</td>\n",
       "      <td>단일로</td>\n",
       "      <td>평지</td>\n",
       "      <td>낮</td>\n",
       "      <td>0</td>\n",
       "    </tr>\n",
       "    <tr>\n",
       "      <th>58055</th>\n",
       "      <td>보도통행중</td>\n",
       "      <td>21-30세</td>\n",
       "      <td>기타</td>\n",
       "      <td>그룹1</td>\n",
       "      <td>그룹2</td>\n",
       "      <td>그룹4</td>\n",
       "      <td>군도</td>\n",
       "      <td>교차로</td>\n",
       "      <td>평지</td>\n",
       "      <td>출퇴근시간</td>\n",
       "      <td>0</td>\n",
       "    </tr>\n",
       "    <tr>\n",
       "      <th>58056</th>\n",
       "      <td>차도통행중</td>\n",
       "      <td>31-40세</td>\n",
       "      <td>그룹1</td>\n",
       "      <td>그룹2</td>\n",
       "      <td>그룹4</td>\n",
       "      <td>그룹4</td>\n",
       "      <td>군도</td>\n",
       "      <td>단일로</td>\n",
       "      <td>평지</td>\n",
       "      <td>출퇴근시간</td>\n",
       "      <td>1</td>\n",
       "    </tr>\n",
       "    <tr>\n",
       "      <th>58057</th>\n",
       "      <td>기타</td>\n",
       "      <td>65세이상</td>\n",
       "      <td>그룹1</td>\n",
       "      <td>그룹2</td>\n",
       "      <td>그룹4</td>\n",
       "      <td>그룹4</td>\n",
       "      <td>시도</td>\n",
       "      <td>단일로</td>\n",
       "      <td>평지</td>\n",
       "      <td>출퇴근시간</td>\n",
       "      <td>1</td>\n",
       "    </tr>\n",
       "    <tr>\n",
       "      <th>58058</th>\n",
       "      <td>횡단중</td>\n",
       "      <td>31-40세</td>\n",
       "      <td>그룹1</td>\n",
       "      <td>그룹3</td>\n",
       "      <td>그룹4</td>\n",
       "      <td>그룹4</td>\n",
       "      <td>기타</td>\n",
       "      <td>교차로</td>\n",
       "      <td>평지</td>\n",
       "      <td>출퇴근시간</td>\n",
       "      <td>1</td>\n",
       "    </tr>\n",
       "  </tbody>\n",
       "</table>\n",
       "<p>58059 rows × 11 columns</p>\n",
       "</div>"
      ],
      "text/plain": [
       "             사고유형   연령가해자 법규위반가해자 행동유형가해자 피해자신체상해주부위 차량용도가해자 도로종류 도로형태 도로선형  \\\n",
       "0           보도통행중   20세이하     그룹1     그룹2        그룹4     그룹5   기타  단일로   평지   \n",
       "1             횡단중   65세이상     그룹1     그룹2        그룹5     그룹4   시도  단일로   평지   \n",
       "2      길가장자리구역통행중   20세이하     그룹1     그룹2      기타/불명     그룹4   시도  단일로   평지   \n",
       "3      길가장자리구역통행중  21-30세     그룹1     그룹1      기타/불명     그룹1   기타  단일로   평지   \n",
       "4             횡단중  41-50세     그룹1     그룹2        그룹5     그룹4   기타  단일로   평지   \n",
       "...           ...     ...     ...     ...        ...     ...  ...  ...  ...   \n",
       "58054  길가장자리구역통행중  51-60세     그룹1     그룹2        그룹2     그룹4   시도  단일로   평지   \n",
       "58055       보도통행중  21-30세      기타     그룹1        그룹2     그룹4   군도  교차로   평지   \n",
       "58056       차도통행중  31-40세     그룹1     그룹2        그룹4     그룹4   군도  단일로   평지   \n",
       "58057          기타   65세이상     그룹1     그룹2        그룹4     그룹4   시도  단일로   평지   \n",
       "58058         횡단중  31-40세     그룹1     그룹3        그룹4     그룹4   기타  교차로   평지   \n",
       "\n",
       "        발생시각  심각도  \n",
       "0          낮    0  \n",
       "1      출퇴근시간    1  \n",
       "2      출퇴근시간    0  \n",
       "3          낮    1  \n",
       "4          낮    1  \n",
       "...      ...  ...  \n",
       "58054      낮    0  \n",
       "58055  출퇴근시간    0  \n",
       "58056  출퇴근시간    1  \n",
       "58057  출퇴근시간    1  \n",
       "58058  출퇴근시간    1  \n",
       "\n",
       "[58059 rows x 11 columns]"
      ]
     },
     "execution_count": 8,
     "metadata": {},
     "output_type": "execute_result"
    }
   ],
   "source": [
    "df"
   ]
  },
  {
   "cell_type": "code",
   "execution_count": 9,
   "metadata": {},
   "outputs": [],
   "source": [
    "x=df.drop(['심각도'],axis=1)\n",
    "x = pd.get_dummies(x)\n",
    "y=pd.DataFrame(df['심각도'])\n",
    "\n",
    "x_train, x_test, y_train, y_test = train_test_split(x,y,train_size=0.7,shuffle=True) "
   ]
  },
  {
   "cell_type": "code",
   "execution_count": 10,
   "metadata": {},
   "outputs": [
    {
     "name": "stderr",
     "output_type": "stream",
     "text": [
      "C:\\Users\\user\\anaconda3\\lib\\site-packages\\sklearn\\utils\\validation.py:73: DataConversionWarning: A column-vector y was passed when a 1d array was expected. Please change the shape of y to (n_samples, ), for example using ravel().\n",
      "  return f(**kwargs)\n",
      "C:\\Users\\user\\anaconda3\\lib\\site-packages\\sklearn\\linear_model\\_logistic.py:762: ConvergenceWarning: lbfgs failed to converge (status=1):\n",
      "STOP: TOTAL NO. of ITERATIONS REACHED LIMIT.\n",
      "\n",
      "Increase the number of iterations (max_iter) or scale the data as shown in:\n",
      "    https://scikit-learn.org/stable/modules/preprocessing.html\n",
      "Please also refer to the documentation for alternative solver options:\n",
      "    https://scikit-learn.org/stable/modules/linear_model.html#logistic-regression\n",
      "  n_iter_i = _check_optimize_result(\n"
     ]
    }
   ],
   "source": [
    "log = LogisticRegression()\n",
    "log.fit(x_train,y_train)\n",
    "\n",
    "y_pred = log.predict(x_test)"
   ]
  },
  {
   "cell_type": "code",
   "execution_count": 11,
   "metadata": {},
   "outputs": [
    {
     "name": "stdout",
     "output_type": "stream",
     "text": [
      "              precision    recall  f1-score   support\n",
      "\n",
      "           0       0.60      0.18      0.28      5754\n",
      "           1       0.70      0.94      0.80     11664\n",
      "\n",
      "    accuracy                           0.69     17418\n",
      "   macro avg       0.65      0.56      0.54     17418\n",
      "weighted avg       0.67      0.69      0.63     17418\n",
      "\n"
     ]
    }
   ],
   "source": [
    "print(classification_report(y_test,y_pred))"
   ]
  },
  {
   "cell_type": "code",
   "execution_count": 12,
   "metadata": {},
   "outputs": [
    {
     "data": {
      "image/png": "[encoded data removed]",
      "text/plain": [
       "<Figure size 864x864 with 1 Axes>"
      ]
     },
     "metadata": {
      "needs_background": "light"
     },
     "output_type": "display_data"
    }
   ],
   "source": [
    "import matplotlib.pyplot as plt\n",
    "from sklearn.metrics import roc_curve, auc\n",
    "import warnings\n",
    "warnings.filterwarnings(\"ignore\")\n",
    "from pylab import rcParams\n",
    "rcParams['figure.figsize'] = 12,12\n",
    "\n",
    "\n",
    "from matplotlib import font_manager, rc\n",
    "font_name = font_manager.FontProperties(fname=\"c:/Windows/Fonts/malgun.ttf\").get_name()\n",
    "rc('font', family=font_name)\n",
    "\n",
    "\n",
    "fpr, tpr, threshold = roc_curve(y_train, log.decision_function(x_train))\n",
    "\n",
    "plt.plot(fpr,tpr, 'o-', ms=2, label=\"Logistic Regression\")\n",
    "plt.legend()\n",
    "plt.plot([0,1],[0,1], 'k--',label='radom guess')\n",
    "plt.xlabel('특이도')\n",
    "plt.ylabel('재현률')\n",
    "plt.title('ROC 커브')\n",
    "plt.show()"
   ]
  },
  {
   "cell_type": "markdown",
   "metadata": {},
   "source": [
    "#### AUC 값은 0.5~1의 범위를 가지는데 0.5면 성능이 전혀 없음. 1이면 최고의 성능이라고 할 수 있다."
   ]
  },
  {
   "cell_type": "code",
   "execution_count": 13,
   "metadata": {},
   "outputs": [
    {
     "name": "stdout",
     "output_type": "stream",
     "text": [
      "AUC: 0.6773439816964419\n"
     ]
    }
   ],
   "source": [
    "print('AUC: {}'.format(auc(fpr,tpr)))  # 0.5에 가까울 수록 성능이 좋지 못함"
   ]
  },
  {
   "cell_type": "markdown",
   "metadata": {},
   "source": [
    "#### 위 과정을 통해 로지스틱 회귀 모델을 생성하고 평가"
   ]
  },
  {
   "cell_type": "code",
   "execution_count": 14,
   "metadata": {},
   "outputs": [
    {
     "name": "stdout",
     "output_type": "stream",
     "text": [
      "Optimization terminated successfully.\n",
      "         Current function value: 0.589385\n",
      "         Iterations 9\n"
     ]
    }
   ],
   "source": [
    "import statsmodels.api as sm\n",
    "\n",
    "logit = sm.Logit(y,x)\n",
    "result = logit.fit()"
   ]
  },
  {
   "cell_type": "code",
   "execution_count": 15,
   "metadata": {},
   "outputs": [
    {
     "name": "stdout",
     "output_type": "stream",
     "text": [
      "                           Logit Regression Results                           \n",
      "==============================================================================\n",
      "Dep. Variable:                    심각도   No. Observations:                58059\n",
      "Model:                          Logit   Df Residuals:                    58011\n",
      "Method:                           MLE   Df Model:                           47\n",
      "Date:                Mon, 23 Nov 2020   Pseudo R-squ.:                 0.07103\n",
      "Time:                        14:39:54   Log-Likelihood:                -34219.\n",
      "converged:                       True   LL-Null:                       -36836.\n",
      "Covariance Type:            nonrobust   LLR p-value:                     0.000\n",
      "====================================================================================\n",
      "                       coef    std err          z      P>|z|      [0.025      0.975]\n",
      "------------------------------------------------------------------------------------\n",
      "사고유형_기타              0.0270        nan        nan        nan         nan         nan\n",
      "사고유형_길가장자리구역통행중     -0.0362        nan        nan        nan         nan         nan\n",
      "사고유형_보도통행중           0.1704        nan        nan        nan         nan         nan\n",
      "사고유형_차도통행중           0.1583        nan        nan        nan         nan         nan\n",
      "사고유형_횡단중             0.3812        nan        nan        nan         nan         nan\n",
      "연령가해자_20세이하          0.2402   1.62e+06   1.49e-07      1.000   -3.17e+06    3.17e+06\n",
      "연령가해자_21-30세         0.2349   1.82e+06   1.29e-07      1.000   -3.57e+06    3.57e+06\n",
      "연령가해자_31-40세         0.2117   1.57e+06   1.34e-07      1.000   -3.08e+06    3.08e+06\n",
      "연령가해자_41-50세         0.2511   2.02e+06   1.24e-07      1.000   -3.96e+06    3.96e+06\n",
      "연령가해자_51-60세         0.2107   1.92e+06    1.1e-07      1.000   -3.75e+06    3.75e+06\n",
      "연령가해자_61-64세         0.1923   1.79e+06   1.07e-07      1.000   -3.51e+06    3.51e+06\n",
      "연령가해자_65세이상          0.2232   1.77e+06   1.26e-07      1.000   -3.48e+06    3.48e+06\n",
      "연령가해자_기타/불명         -0.8633   1.85e+06  -4.66e-07      1.000   -3.63e+06    3.63e+06\n",
      "법규위반가해자_그룹1         -0.6039        nan        nan        nan         nan         nan\n",
      "법규위반가해자_그룹2         -0.5090        nan        nan        nan         nan         nan\n",
      "법규위반가해자_그룹3          2.4181        nan        nan        nan         nan         nan\n",
      "법규위반가해자_기타          -0.6046   1.53e+05  -3.95e-06      1.000      -3e+05       3e+05\n",
      "행동유형가해자_그룹1          0.1487   7.43e+05      2e-07      1.000   -1.46e+06    1.46e+06\n",
      "행동유형가해자_그룹2          0.4308    8.3e+05   5.19e-07      1.000   -1.63e+06    1.63e+06\n",
      "행동유형가해자_그룹3          0.3150   7.65e+05   4.12e-07      1.000    -1.5e+06     1.5e+06\n",
      "행동유형가해자_그룹4         -0.3136   8.19e+05  -3.83e-07      1.000    -1.6e+06     1.6e+06\n",
      "행동유형가해자_기타/불명        0.1198   7.12e+05   1.68e-07      1.000    -1.4e+06     1.4e+06\n",
      "피해자신체상해주부위_그룹1      -1.0490   8.32e+05  -1.26e-06      1.000   -1.63e+06    1.63e+06\n",
      "피해자신체상해주부위_그룹2      -0.5594   8.57e+05  -6.52e-07      1.000   -1.68e+06    1.68e+06\n",
      "피해자신체상해주부위_그룹3      -0.0615   8.05e+05  -7.64e-08      1.000   -1.58e+06    1.58e+06\n",
      "피해자신체상해주부위_그룹4       0.3435   8.05e+05   4.27e-07      1.000   -1.58e+06    1.58e+06\n",
      "피해자신체상해주부위_그룹5       0.6855   8.15e+05   8.42e-07      1.000    -1.6e+06     1.6e+06\n",
      "피해자신체상해주부위_그룹6       1.2525   9.51e+05   1.32e-06      1.000   -1.86e+06    1.86e+06\n",
      "피해자신체상해주부위_기타/불명     0.0891   8.93e+05   9.97e-08      1.000   -1.75e+06    1.75e+06\n",
      "차량용도가해자_그룹1          0.4247        nan        nan        nan         nan         nan\n",
      "차량용도가해자_그룹2          0.1642        nan        nan        nan         nan         nan\n",
      "차량용도가해자_그룹3          0.1181        nan        nan        nan         nan         nan\n",
      "차량용도가해자_그룹4          0.2295        nan        nan        nan         nan         nan\n",
      "차량용도가해자_그룹5         -0.2329        nan        nan        nan         nan         nan\n",
      "차량용도가해자_기타/불명       -0.0029        nan        nan        nan         nan         nan\n",
      "도로종류_고속국도            0.4096    6.2e+05   6.61e-07      1.000   -1.21e+06    1.21e+06\n",
      "도로종류_군도              0.1711   6.02e+05   2.84e-07      1.000   -1.18e+06    1.18e+06\n",
      "도로종류_기타             -0.1696   6.08e+05  -2.79e-07      1.000   -1.19e+06    1.19e+06\n",
      "도로종류_시도             -0.0197   6.17e+05  -3.19e-08      1.000   -1.21e+06    1.21e+06\n",
      "도로종류_일반국도            0.2904   5.87e+05   4.95e-07      1.000   -1.15e+06    1.15e+06\n",
      "도로종류_지방도             0.1473   6.03e+05   2.44e-07      1.000   -1.18e+06    1.18e+06\n",
      "도로종류_특별광역시도         -0.1285   6.09e+05  -2.11e-07      1.000   -1.19e+06    1.19e+06\n",
      "도로형태_교차로            -0.0027   3.43e+05  -7.89e-09      1.000   -6.71e+05    6.71e+05\n",
      "도로형태_기타             -0.0794   3.35e+05  -2.37e-07      1.000   -6.56e+05    6.56e+05\n",
      "도로형태_기타/불명           0.0379   3.34e+05   1.13e-07      1.000   -6.55e+05    6.55e+05\n",
      "도로형태_단일로            -0.0273   3.37e+05  -8.09e-08      1.000    -6.6e+05     6.6e+05\n",
      "도로형태_불명              1.0306   3.34e+05   3.08e-06      1.000   -6.55e+05    6.55e+05\n",
      "도로형태_주차장            -0.2584   3.35e+05  -7.72e-07      1.000   -6.56e+05    6.56e+05\n",
      "도로선형_기타/서비스구역        0.0127   6.56e+05   1.93e-08      1.000   -1.29e+06    1.29e+06\n",
      "도로선형_내리막             0.3121   6.56e+05   4.76e-07      1.000   -1.29e+06    1.29e+06\n",
      "도로선형_오르막             0.1573   6.56e+05    2.4e-07      1.000   -1.29e+06    1.29e+06\n",
      "도로선형_평지              0.0333   6.56e+05   5.07e-08      1.000   -1.29e+06    1.29e+06\n",
      "도로선형_평지              0.1853   6.56e+05   2.82e-07      1.000   -1.29e+06    1.29e+06\n",
      "발생시각_낮              -0.0508    7.4e+05  -6.87e-08      1.000   -1.45e+06    1.45e+06\n",
      "발생시각_새벽~아침           0.5200    7.4e+05   7.03e-07      1.000   -1.45e+06    1.45e+06\n",
      "발생시각_저녁~자정           0.1417    7.4e+05   1.91e-07      1.000   -1.45e+06    1.45e+06\n",
      "발생시각_출퇴근시간           0.0898    7.4e+05   1.21e-07      1.000   -1.45e+06    1.45e+06\n",
      "====================================================================================\n"
     ]
    }
   ],
   "source": [
    "print(result.summary())"
   ]
  },
  {
   "cell_type": "code",
   "execution_count": 16,
   "metadata": {},
   "outputs": [
    {
     "name": "stdout",
     "output_type": "stream",
     "text": [
      "사고유형_기타              1.027318\n",
      "사고유형_길가장자리구역통행중      0.964441\n",
      "사고유형_보도통행중           1.185802\n",
      "사고유형_차도통행중           1.171496\n",
      "사고유형_횡단중             1.464087\n",
      "연령가해자_20세이하          1.271466\n",
      "연령가해자_21-30세         1.264782\n",
      "연령가해자_31-40세         1.235720\n",
      "연령가해자_41-50세         1.285383\n",
      "연령가해자_51-60세         1.234498\n",
      "연령가해자_61-64세         1.212064\n",
      "연령가해자_65세이상          1.250133\n",
      "연령가해자_기타/불명          0.421751\n",
      "법규위반가해자_그룹1          0.546666\n",
      "법규위반가해자_그룹2          0.601124\n",
      "법규위반가해자_그룹3         11.224520\n",
      "법규위반가해자_기타           0.546319\n",
      "행동유형가해자_그룹1          1.160348\n",
      "행동유형가해자_그룹2          1.538426\n",
      "행동유형가해자_그룹3          1.370212\n",
      "행동유형가해자_그룹4          0.730837\n",
      "행동유형가해자_기타/불명        1.127269\n",
      "피해자신체상해주부위_그룹1       0.350275\n",
      "피해자신체상해주부위_그룹2       0.571579\n",
      "피해자신체상해주부위_그룹3       0.940322\n",
      "피해자신체상해주부위_그룹4       1.409937\n",
      "피해자신체상해주부위_그룹5       1.984731\n",
      "피해자신체상해주부위_그룹6       3.498991\n",
      "피해자신체상해주부위_기타/불명     1.093185\n",
      "차량용도가해자_그룹1          1.529124\n",
      "차량용도가해자_그룹2          1.178432\n",
      "차량용도가해자_그룹3          1.125367\n",
      "차량용도가해자_그룹4          1.258028\n",
      "차량용도가해자_그룹5          0.792209\n",
      "차량용도가해자_기타/불명        0.997077\n",
      "도로종류_고속국도            1.506175\n",
      "도로종류_군도              1.186554\n",
      "도로종류_기타              0.844033\n",
      "도로종류_시도              0.980527\n",
      "도로종류_일반국도            1.336983\n",
      "도로종류_지방도             1.158755\n",
      "도로종류_특별광역시도          0.879430\n",
      "도로형태_교차로             0.997303\n",
      "도로형태_기타              0.923643\n",
      "도로형태_기타/불명           1.038600\n",
      "도로형태_단일로             0.973103\n",
      "도로형태_불명              2.802801\n",
      "도로형태_주차장             0.772272\n",
      "도로선형_기타/서비스구역        1.012737\n",
      "도로선형_내리막             1.366352\n",
      "도로선형_오르막             1.170295\n",
      "도로선형_평지              1.033858\n",
      "도로선형_평지              1.203608\n",
      "발생시각_낮               0.950464\n",
      "발생시각_새벽~아침           1.682076\n",
      "발생시각_저녁~자정           1.152177\n",
      "발생시각_출퇴근시간           1.093956\n",
      "dtype: float64\n"
     ]
    }
   ],
   "source": [
    "print(np.exp(result.params))"
   ]
  },
  {
   "attachments": {
    "image.png": {
     "image/png": "[encoded data removed]"
    }
   },
   "cell_type": "markdown",
   "metadata": {},
   "source": [
    "#### 오즈비 1 이 넘지 않는  것 삭제 후 다시\n",
    "\n",
    "![image.png](attachment:image.png)"
   ]
  },
  {
   "cell_type": "code",
   "execution_count": 19,
   "metadata": {},
   "outputs": [],
   "source": [
    "x2 = x.drop(['피해자신체상해주부위_그룹1','연령가해자_기타/불명','법규위반가해자_기타','법규위반가해자_그룹1'\n",
    "            ,'피해자신체상해주부위_그룹2','법규위반가해자_그룹2','행동유형가해자_그룹4','도로형태_주차장','차량용도가해자_그룹5'\n",
    "            ,'도로종류_기타','도로종류_특별광역시도','도로형태_기타','피해자신체상해주부위_그룹3','발생시각_낮','사고유형_길가장자리구역통행중'\n",
    "            ,'도로형태_단일로','도로종류_시도','차량용도가해자_기타/불명','도로형태_교차로'],axis=1)"
   ]
  },
  {
   "cell_type": "code",
   "execution_count": 20,
   "metadata": {},
   "outputs": [
    {
     "name": "stdout",
     "output_type": "stream",
     "text": [
      "Optimization terminated successfully.\n",
      "         Current function value: 0.591709\n",
      "         Iterations 8\n",
      "                           Logit Regression Results                           \n",
      "==============================================================================\n",
      "Dep. Variable:                    심각도   No. Observations:                58059\n",
      "Model:                          Logit   Df Residuals:                    58021\n",
      "Method:                           MLE   Df Model:                           37\n",
      "Date:                Mon, 23 Nov 2020   Pseudo R-squ.:                 0.06737\n",
      "Time:                        14:51:36   Log-Likelihood:                -34354.\n",
      "converged:                       True   LL-Null:                       -36836.\n",
      "Covariance Type:            nonrobust   LLR p-value:                     0.000\n",
      "====================================================================================\n",
      "                       coef    std err          z      P>|z|      [0.025      0.975]\n",
      "------------------------------------------------------------------------------------\n",
      "사고유형_기타              0.0754      0.038      2.007      0.045       0.002       0.149\n",
      "사고유형_보도통행중           0.2463      0.056      4.378      0.000       0.136       0.357\n",
      "사고유형_차도통행중           0.2109      0.044      4.753      0.000       0.124       0.298\n",
      "사고유형_횡단중             0.4780      0.037     13.019      0.000       0.406       0.550\n",
      "연령가해자_20세이하          0.9551      0.097      9.832      0.000       0.765       1.145\n",
      "연령가해자_21-30세         0.9489      0.090     10.568      0.000       0.773       1.125\n",
      "연령가해자_31-40세         0.9265      0.089     10.456      0.000       0.753       1.100\n",
      "연령가해자_41-50세         0.9670      0.088     11.040      0.000       0.795       1.139\n",
      "연령가해자_51-60세         0.9271      0.087     10.624      0.000       0.756       1.098\n",
      "연령가해자_61-64세         0.9057      0.091      9.934      0.000       0.727       1.084\n",
      "연령가해자_65세이상          0.9405      0.088     10.645      0.000       0.767       1.114\n",
      "법규위반가해자_그룹3          2.9863      0.451      6.615      0.000       2.101       3.871\n",
      "행동유형가해자_그룹1          0.4619      0.076      6.105      0.000       0.314       0.610\n",
      "행동유형가해자_그룹2          0.7450      0.072     10.385      0.000       0.604       0.886\n",
      "행동유형가해자_그룹3          0.6628      0.073      9.062      0.000       0.519       0.806\n",
      "행동유형가해자_기타/불명        0.4704      0.093      5.048      0.000       0.288       0.653\n",
      "피해자신체상해주부위_그룹4       0.5537      0.025     22.278      0.000       0.505       0.602\n",
      "피해자신체상해주부위_그룹5       0.9011      0.028     31.633      0.000       0.845       0.957\n",
      "피해자신체상해주부위_그룹6       1.4709      0.052     28.386      0.000       1.369       1.572\n",
      "피해자신체상해주부위_기타/불명     0.2994      0.025     12.003      0.000       0.251       0.348\n",
      "차량용도가해자_그룹1          0.6562      0.058     11.380      0.000       0.543       0.769\n",
      "차량용도가해자_그룹2          0.4041      0.065      6.184      0.000       0.276       0.532\n",
      "차량용도가해자_그룹3          0.3359      0.061      5.476      0.000       0.216       0.456\n",
      "차량용도가해자_그룹4          0.4650      0.055      8.396      0.000       0.356       0.574\n",
      "도로종류_고속국도            0.5227      0.296      1.766      0.077      -0.057       1.103\n",
      "도로종류_군도              0.2600      0.044      5.876      0.000       0.173       0.347\n",
      "도로종류_일반국도            0.3791      0.046      8.158      0.000       0.288       0.470\n",
      "도로종류_지방도             0.2395      0.038      6.238      0.000       0.164       0.315\n",
      "도로형태_기타/불명           0.0670      0.076      0.884      0.377      -0.082       0.216\n",
      "도로형태_불명              1.0163      0.483      2.104      0.035       0.070       1.963\n",
      "도로선형_기타/서비스구역       -2.3524      0.127    -18.518      0.000      -2.601      -2.103\n",
      "도로선형_내리막            -1.9961      0.117    -17.098      0.000      -2.225      -1.767\n",
      "도로선형_오르막            -2.1559      0.118    -18.276      0.000      -2.387      -1.925\n",
      "도로선형_평지             -2.2698      0.112    -20.341      0.000      -2.489      -2.051\n",
      "도로선형_평지             -2.1176      0.124    -17.022      0.000      -2.361      -1.874\n",
      "발생시각_새벽~아침           0.5770      0.034     17.119      0.000       0.511       0.643\n",
      "발생시각_저녁~자정           0.1837      0.032      5.723      0.000       0.121       0.247\n",
      "발생시각_출퇴근시간           0.1408      0.021      6.807      0.000       0.100       0.181\n",
      "====================================================================================\n"
     ]
    }
   ],
   "source": [
    "logit = sm.Logit(y,x2)\n",
    "result = logit.fit()\n",
    "print(result.summary())"
   ]
  },
  {
   "cell_type": "markdown",
   "metadata": {},
   "source": [
    "#### 독립변수들의 오즈비를 구해보자\n",
    "#### 오즈비는 1을 기준으로 1보다 크면 심각한사고일 확률이 커지고 1보다 작으면 심각하지 않은 사고 일 확률이 커진다는 것을 나타낸다. \n",
    "#### 오즈비가 1 이면 결과에 별다른 영향을 미치지 않는 다고 볼 수 있다.\n",
    "#### 회귀계수가 변수의 오즈비의 로그값이므로 exp을 취해서 보자"
   ]
  },
  {
   "cell_type": "code",
   "execution_count": 21,
   "metadata": {},
   "outputs": [
    {
     "name": "stdout",
     "output_type": "stream",
     "text": [
      "사고유형_기타              1.078317\n",
      "사고유형_보도통행중           1.279345\n",
      "사고유형_차도통행중           1.234806\n",
      "사고유형_횡단중             1.612918\n",
      "연령가해자_20세이하          2.598837\n",
      "연령가해자_21-30세         2.582775\n",
      "연령가해자_31-40세         2.525652\n",
      "연령가해자_41-50세         2.630087\n",
      "연령가해자_51-60세         2.527180\n",
      "연령가해자_61-64세         2.473776\n",
      "연령가해자_65세이상          2.561187\n",
      "법규위반가해자_그룹3         19.812178\n",
      "행동유형가해자_그룹1          1.587054\n",
      "행동유형가해자_그룹2          2.106367\n",
      "행동유형가해자_그룹3          1.940263\n",
      "행동유형가해자_기타/불명        1.600571\n",
      "피해자신체상해주부위_그룹4       1.739635\n",
      "피해자신체상해주부위_그룹5       2.462258\n",
      "피해자신체상해주부위_그룹6       4.353010\n",
      "피해자신체상해주부위_기타/불명     1.349082\n",
      "차량용도가해자_그룹1          1.927485\n",
      "차량용도가해자_그룹2          1.497895\n",
      "차량용도가해자_그룹3          1.399145\n",
      "차량용도가해자_그룹4          1.592029\n",
      "도로종류_고속국도            1.686532\n",
      "도로종류_군도              1.296967\n",
      "도로종류_일반국도            1.460998\n",
      "도로종류_지방도             1.270566\n",
      "도로형태_기타/불명           1.069316\n",
      "도로형태_불명              2.762901\n",
      "도로선형_기타/서비스구역        0.095144\n",
      "도로선형_내리막             0.135866\n",
      "도로선형_오르막             0.115804\n",
      "도로선형_평지              0.103329\n",
      "도로선형_평지              0.120325\n",
      "발생시각_새벽~아침           1.780731\n",
      "발생시각_저녁~자정           1.201672\n",
      "발생시각_출퇴근시간           1.151203\n",
      "dtype: float64\n"
     ]
    }
   ],
   "source": [
    "print(np.exp(result.params))"
   ]
  },
  {
   "cell_type": "code",
   "execution_count": null,
   "metadata": {},
   "outputs": [],
   "source": []
  }
 ],
 "metadata": {
  "kernelspec": {
   "display_name": "Python 3",
   "language": "python",
   "name": "python3"
  },
  "language_info": {
   "codemirror_mode": {
    "name": "ipython",
    "version": 3
   },
   "file_extension": ".py",
   "mimetype": "text/x-python",
   "name": "python",
   "nbconvert_exporter": "python",
   "pygments_lexer": "ipython3",
   "version": "3.8.3"
  }
 },
 "nbformat": 4,
 "nbformat_minor": 4
}
