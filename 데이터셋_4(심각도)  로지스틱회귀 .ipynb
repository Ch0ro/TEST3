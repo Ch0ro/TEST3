{
 "cells": [
  {
   "cell_type": "code",
   "execution_count": 27,
   "metadata": {},
   "outputs": [],
   "source": [
    "from sklearn.linear_model import LogisticRegression\n",
    "from sklearn.model_selection import train_test_split\n",
    "from sklearn.metrics import classification_report\n",
    "import pandas as pd\n",
    "import numpy as np\n",
    "from patsy import dmatrices\n",
    "import warnings \n",
    "warnings.filterwarnings('ignore')"
   ]
  },
  {
   "cell_type": "code",
   "execution_count": 28,
   "metadata": {},
   "outputs": [],
   "source": [
    "df = pd.read_csv('./csv파일/데이터셋_4(심각도).csv',encoding='cp949')"
   ]
  },
  {
   "cell_type": "code",
   "execution_count": 30,
   "metadata": {},
   "outputs": [
    {
     "data": {
      "text/html": [
       "<div>\n",
       "<style scoped>\n",
       "    .dataframe tbody tr th:only-of-type {\n",
       "        vertical-align: middle;\n",
       "    }\n",
       "\n",
       "    .dataframe tbody tr th {\n",
       "        vertical-align: top;\n",
       "    }\n",
       "\n",
       "    .dataframe thead th {\n",
       "        text-align: right;\n",
       "    }\n",
       "</style>\n",
       "<table border=\"1\" class=\"dataframe\">\n",
       "  <thead>\n",
       "    <tr style=\"text-align: right;\">\n",
       "      <th></th>\n",
       "      <th>사고유형</th>\n",
       "      <th>연령가해자</th>\n",
       "      <th>법규위반가해자</th>\n",
       "      <th>행동유형가해자</th>\n",
       "      <th>피해자신체상해주부위</th>\n",
       "      <th>차량용도가해자</th>\n",
       "      <th>도로종류</th>\n",
       "      <th>도로형태</th>\n",
       "      <th>도로선형</th>\n",
       "      <th>발생시각</th>\n",
       "      <th>심각도</th>\n",
       "    </tr>\n",
       "  </thead>\n",
       "  <tbody>\n",
       "    <tr>\n",
       "      <th>0</th>\n",
       "      <td>횡단중</td>\n",
       "      <td>65세이상</td>\n",
       "      <td>그룹1</td>\n",
       "      <td>그룹2</td>\n",
       "      <td>그룹5</td>\n",
       "      <td>그룹4</td>\n",
       "      <td>시도</td>\n",
       "      <td>단일로</td>\n",
       "      <td>평지</td>\n",
       "      <td>출퇴근시간</td>\n",
       "      <td>1</td>\n",
       "    </tr>\n",
       "    <tr>\n",
       "      <th>1</th>\n",
       "      <td>횡단중</td>\n",
       "      <td>51-60세</td>\n",
       "      <td>그룹1</td>\n",
       "      <td>그룹3</td>\n",
       "      <td>그룹4</td>\n",
       "      <td>그룹1</td>\n",
       "      <td>시도</td>\n",
       "      <td>교차로</td>\n",
       "      <td>평지</td>\n",
       "      <td>저녁~자정</td>\n",
       "      <td>1</td>\n",
       "    </tr>\n",
       "    <tr>\n",
       "      <th>2</th>\n",
       "      <td>길가장자리구역통행중</td>\n",
       "      <td>31-40세</td>\n",
       "      <td>그룹1</td>\n",
       "      <td>그룹3</td>\n",
       "      <td>그룹3</td>\n",
       "      <td>그룹4</td>\n",
       "      <td>시도</td>\n",
       "      <td>단일로</td>\n",
       "      <td>평지</td>\n",
       "      <td>낮</td>\n",
       "      <td>1</td>\n",
       "    </tr>\n",
       "    <tr>\n",
       "      <th>3</th>\n",
       "      <td>횡단중</td>\n",
       "      <td>41-50세</td>\n",
       "      <td>그룹1</td>\n",
       "      <td>그룹2</td>\n",
       "      <td>그룹4</td>\n",
       "      <td>그룹1</td>\n",
       "      <td>시도</td>\n",
       "      <td>단일로</td>\n",
       "      <td>평지</td>\n",
       "      <td>출퇴근시간</td>\n",
       "      <td>1</td>\n",
       "    </tr>\n",
       "    <tr>\n",
       "      <th>4</th>\n",
       "      <td>횡단중</td>\n",
       "      <td>51-60세</td>\n",
       "      <td>그룹2</td>\n",
       "      <td>그룹3</td>\n",
       "      <td>그룹4</td>\n",
       "      <td>그룹1</td>\n",
       "      <td>시도</td>\n",
       "      <td>교차로</td>\n",
       "      <td>평지</td>\n",
       "      <td>낮</td>\n",
       "      <td>1</td>\n",
       "    </tr>\n",
       "    <tr>\n",
       "      <th>...</th>\n",
       "      <td>...</td>\n",
       "      <td>...</td>\n",
       "      <td>...</td>\n",
       "      <td>...</td>\n",
       "      <td>...</td>\n",
       "      <td>...</td>\n",
       "      <td>...</td>\n",
       "      <td>...</td>\n",
       "      <td>...</td>\n",
       "      <td>...</td>\n",
       "      <td>...</td>\n",
       "    </tr>\n",
       "    <tr>\n",
       "      <th>27279</th>\n",
       "      <td>횡단중</td>\n",
       "      <td>31-40세</td>\n",
       "      <td>그룹1</td>\n",
       "      <td>그룹2</td>\n",
       "      <td>그룹5</td>\n",
       "      <td>그룹4</td>\n",
       "      <td>시도</td>\n",
       "      <td>교차로</td>\n",
       "      <td>평지</td>\n",
       "      <td>낮</td>\n",
       "      <td>1</td>\n",
       "    </tr>\n",
       "    <tr>\n",
       "      <th>27280</th>\n",
       "      <td>횡단중</td>\n",
       "      <td>41-50세</td>\n",
       "      <td>그룹1</td>\n",
       "      <td>그룹3</td>\n",
       "      <td>그룹5</td>\n",
       "      <td>그룹2</td>\n",
       "      <td>군도</td>\n",
       "      <td>교차로</td>\n",
       "      <td>평지</td>\n",
       "      <td>출퇴근시간</td>\n",
       "      <td>1</td>\n",
       "    </tr>\n",
       "    <tr>\n",
       "      <th>27281</th>\n",
       "      <td>횡단중</td>\n",
       "      <td>41-50세</td>\n",
       "      <td>그룹2</td>\n",
       "      <td>그룹3</td>\n",
       "      <td>그룹5</td>\n",
       "      <td>그룹1</td>\n",
       "      <td>시도</td>\n",
       "      <td>교차로</td>\n",
       "      <td>평지</td>\n",
       "      <td>출퇴근시간</td>\n",
       "      <td>1</td>\n",
       "    </tr>\n",
       "    <tr>\n",
       "      <th>27282</th>\n",
       "      <td>길가장자리구역통행중</td>\n",
       "      <td>51-60세</td>\n",
       "      <td>그룹1</td>\n",
       "      <td>그룹2</td>\n",
       "      <td>그룹2</td>\n",
       "      <td>그룹4</td>\n",
       "      <td>시도</td>\n",
       "      <td>단일로</td>\n",
       "      <td>평지</td>\n",
       "      <td>낮</td>\n",
       "      <td>0</td>\n",
       "    </tr>\n",
       "    <tr>\n",
       "      <th>27283</th>\n",
       "      <td>차도통행중</td>\n",
       "      <td>31-40세</td>\n",
       "      <td>그룹1</td>\n",
       "      <td>그룹2</td>\n",
       "      <td>그룹4</td>\n",
       "      <td>그룹4</td>\n",
       "      <td>군도</td>\n",
       "      <td>단일로</td>\n",
       "      <td>평지</td>\n",
       "      <td>출퇴근시간</td>\n",
       "      <td>1</td>\n",
       "    </tr>\n",
       "  </tbody>\n",
       "</table>\n",
       "<p>27284 rows × 11 columns</p>\n",
       "</div>"
      ],
      "text/plain": [
       "             사고유형   연령가해자 법규위반가해자 행동유형가해자 피해자신체상해주부위 차량용도가해자 도로종류 도로형태 도로선형  \\\n",
       "0             횡단중   65세이상     그룹1     그룹2        그룹5     그룹4   시도  단일로   평지   \n",
       "1             횡단중  51-60세     그룹1     그룹3        그룹4     그룹1   시도  교차로   평지   \n",
       "2      길가장자리구역통행중  31-40세     그룹1     그룹3        그룹3     그룹4   시도  단일로   평지   \n",
       "3             횡단중  41-50세     그룹1     그룹2        그룹4     그룹1   시도  단일로   평지   \n",
       "4             횡단중  51-60세     그룹2     그룹3        그룹4     그룹1   시도  교차로   평지   \n",
       "...           ...     ...     ...     ...        ...     ...  ...  ...  ...   \n",
       "27279         횡단중  31-40세     그룹1     그룹2        그룹5     그룹4   시도  교차로   평지   \n",
       "27280         횡단중  41-50세     그룹1     그룹3        그룹5     그룹2   군도  교차로   평지   \n",
       "27281         횡단중  41-50세     그룹2     그룹3        그룹5     그룹1   시도  교차로   평지   \n",
       "27282  길가장자리구역통행중  51-60세     그룹1     그룹2        그룹2     그룹4   시도  단일로   평지   \n",
       "27283       차도통행중  31-40세     그룹1     그룹2        그룹4     그룹4   군도  단일로   평지   \n",
       "\n",
       "        발생시각  심각도  \n",
       "0      출퇴근시간    1  \n",
       "1      저녁~자정    1  \n",
       "2          낮    1  \n",
       "3      출퇴근시간    1  \n",
       "4          낮    1  \n",
       "...      ...  ...  \n",
       "27279      낮    1  \n",
       "27280  출퇴근시간    1  \n",
       "27281  출퇴근시간    1  \n",
       "27282      낮    0  \n",
       "27283  출퇴근시간    1  \n",
       "\n",
       "[27284 rows x 11 columns]"
      ]
     },
     "execution_count": 30,
     "metadata": {},
     "output_type": "execute_result"
    }
   ],
   "source": [
    "df"
   ]
  },
  {
   "cell_type": "code",
   "execution_count": 34,
   "metadata": {},
   "outputs": [],
   "source": [
    "x=df.drop(['심각도'],axis=1)\n",
    "x = pd.get_dummies(x,drop_first=True)\n",
    "y=pd.DataFrame(df['심각도'])\n",
    "\n",
    "x_train, x_test, y_train, y_test = train_test_split(x,y,train_size=0.7,shuffle=True) "
   ]
  },
  {
   "cell_type": "markdown",
   "metadata": {},
   "source": [
    "# 로지스틱 모델을 활용한 예측모델 생성"
   ]
  },
  {
   "cell_type": "code",
   "execution_count": 35,
   "metadata": {},
   "outputs": [],
   "source": [
    "log = LogisticRegression()\n",
    "log.fit(x_train,y_train)\n",
    "\n",
    "y_pred = log.predict(x_test)"
   ]
  },
  {
   "cell_type": "markdown",
   "metadata": {},
   "source": [
    "### ▶ 정밀도(precision): 63% , 재현율(recall): 53%, 정확도(accuracy): 73%"
   ]
  },
  {
   "cell_type": "code",
   "execution_count": 37,
   "metadata": {},
   "outputs": [
    {
     "name": "stdout",
     "output_type": "stream",
     "text": [
      "              precision    recall  f1-score   support\n",
      "\n",
      "           0       0.52      0.10      0.17      2192\n",
      "           1       0.75      0.96      0.84      5994\n",
      "\n",
      "    accuracy                           0.73      8186\n",
      "   macro avg       0.63      0.53      0.51      8186\n",
      "weighted avg       0.68      0.73      0.66      8186\n",
      "\n"
     ]
    }
   ],
   "source": [
    "print(classification_report(y_test,y_pred))"
   ]
  },
  {
   "cell_type": "code",
   "execution_count": 38,
   "metadata": {},
   "outputs": [
    {
     "data": {
      "text/html": [
       "<div>\n",
       "<style scoped>\n",
       "    .dataframe tbody tr th:only-of-type {\n",
       "        vertical-align: middle;\n",
       "    }\n",
       "\n",
       "    .dataframe tbody tr th {\n",
       "        vertical-align: top;\n",
       "    }\n",
       "\n",
       "    .dataframe thead th {\n",
       "        text-align: right;\n",
       "    }\n",
       "</style>\n",
       "<table border=\"1\" class=\"dataframe\">\n",
       "  <thead>\n",
       "    <tr style=\"text-align: right;\">\n",
       "      <th></th>\n",
       "      <th>0</th>\n",
       "    </tr>\n",
       "  </thead>\n",
       "  <tbody>\n",
       "    <tr>\n",
       "      <th>0</th>\n",
       "      <td>1</td>\n",
       "    </tr>\n",
       "    <tr>\n",
       "      <th>1</th>\n",
       "      <td>1</td>\n",
       "    </tr>\n",
       "    <tr>\n",
       "      <th>2</th>\n",
       "      <td>1</td>\n",
       "    </tr>\n",
       "    <tr>\n",
       "      <th>3</th>\n",
       "      <td>1</td>\n",
       "    </tr>\n",
       "    <tr>\n",
       "      <th>4</th>\n",
       "      <td>0</td>\n",
       "    </tr>\n",
       "    <tr>\n",
       "      <th>...</th>\n",
       "      <td>...</td>\n",
       "    </tr>\n",
       "    <tr>\n",
       "      <th>8181</th>\n",
       "      <td>1</td>\n",
       "    </tr>\n",
       "    <tr>\n",
       "      <th>8182</th>\n",
       "      <td>1</td>\n",
       "    </tr>\n",
       "    <tr>\n",
       "      <th>8183</th>\n",
       "      <td>1</td>\n",
       "    </tr>\n",
       "    <tr>\n",
       "      <th>8184</th>\n",
       "      <td>1</td>\n",
       "    </tr>\n",
       "    <tr>\n",
       "      <th>8185</th>\n",
       "      <td>1</td>\n",
       "    </tr>\n",
       "  </tbody>\n",
       "</table>\n",
       "<p>8186 rows × 1 columns</p>\n",
       "</div>"
      ],
      "text/plain": [
       "      0\n",
       "0     1\n",
       "1     1\n",
       "2     1\n",
       "3     1\n",
       "4     0\n",
       "...  ..\n",
       "8181  1\n",
       "8182  1\n",
       "8183  1\n",
       "8184  1\n",
       "8185  1\n",
       "\n",
       "[8186 rows x 1 columns]"
      ]
     },
     "execution_count": 38,
     "metadata": {},
     "output_type": "execute_result"
    }
   ],
   "source": [
    "pd.DataFrame(y_pred) # 값을 전부 다 뽑아서 보면 0또는 1로 예측된 값 확인 가능"
   ]
  },
  {
   "cell_type": "code",
   "execution_count": 39,
   "metadata": {},
   "outputs": [
    {
     "data": {
      "image/png": "[encoded data removed]",
      "text/plain": [
       "<Figure size 864x864 with 1 Axes>"
      ]
     },
     "metadata": {
      "needs_background": "light"
     },
     "output_type": "display_data"
    }
   ],
   "source": [
    "import matplotlib.pyplot as plt\n",
    "from sklearn.metrics import roc_curve, auc\n",
    "import warnings\n",
    "warnings.filterwarnings(\"ignore\")\n",
    "from pylab import rcParams\n",
    "rcParams['figure.figsize'] = 12,12\n",
    "\n",
    "\n",
    "from matplotlib import font_manager, rc\n",
    "font_name = font_manager.FontProperties(fname=\"c:/Windows/Fonts/malgun.ttf\").get_name()\n",
    "rc('font', family=font_name)\n",
    "\n",
    "\n",
    "fpr, tpr, threshold = roc_curve(y_train, log.decision_function(x_train))\n",
    "\n",
    "plt.plot(fpr,tpr, 'o-', ms=2, label=\"Logistic Regression\")\n",
    "plt.legend()\n",
    "plt.plot([0,1],[0,1], 'k--',label='radom guess')\n",
    "plt.xlabel('특이도')\n",
    "plt.ylabel('재현률')\n",
    "plt.title('ROC 커브')\n",
    "plt.show()"
   ]
  },
  {
   "cell_type": "markdown",
   "metadata": {},
   "source": [
    "#### AUC 값은 0.5~1의 범위를 가지는데 0.5면 성능이 전혀 없음. 1이면 최고의 성능이라고 할 수 있다."
   ]
  },
  {
   "cell_type": "code",
   "execution_count": 40,
   "metadata": {},
   "outputs": [
    {
     "name": "stdout",
     "output_type": "stream",
     "text": [
      "AUC: 0.6750361193700047\n"
     ]
    }
   ],
   "source": [
    "print('AUC: {}'.format(auc(fpr,tpr)))  # 0.5에 가까울 수록 성능이 좋지 못함"
   ]
  },
  {
   "cell_type": "markdown",
   "metadata": {},
   "source": [
    "# 로지스틱 회귀 모델 생성 및 평가\n",
    "#### ▷ R값이 작게나왔지만, 로지스틱 회귀분석은 보통 R제곱값이 낮게 나온다.  따라서R제곱에 의존할 필요는 없다.\n"
   ]
  },
  {
   "cell_type": "code",
   "execution_count": 41,
   "metadata": {},
   "outputs": [
    {
     "name": "stdout",
     "output_type": "stream",
     "text": [
      "Optimization terminated successfully.\n",
      "         Current function value: 0.545095\n",
      "         Iterations 9\n",
      "                           Logit Regression Results                           \n",
      "==============================================================================\n",
      "Dep. Variable:                    심각도   No. Observations:                19098\n",
      "Model:                          Logit   Df Residuals:                    19063\n",
      "Method:                           MLE   Df Model:                           34\n",
      "Date:                Tue, 08 Dec 2020   Pseudo R-squ.:                 0.06581\n",
      "Time:                        17:35:21   Log-Likelihood:                -10410.\n",
      "converged:                       True   LL-Null:                       -11144.\n",
      "Covariance Type:            nonrobust   LLR p-value:                1.100e-286\n",
      "==================================================================================\n",
      "                     coef    std err          z      P>|z|      [0.025      0.975]\n",
      "----------------------------------------------------------------------------------\n",
      "사고유형_보도통행중         0.2622      0.100      2.609      0.009       0.065       0.459\n",
      "사고유형_차도통행중         0.1973      0.067      2.953      0.003       0.066       0.328\n",
      "사고유형_횡단중           0.4250      0.057      7.396      0.000       0.312       0.538\n",
      "연령가해자_21-30세      -0.0263      0.128     -0.205      0.838      -0.277       0.225\n",
      "연령가해자_31-40세      -0.0218      0.127     -0.172      0.863      -0.270       0.227\n",
      "연령가해자_41-50세       0.0439      0.125      0.351      0.726      -0.201       0.289\n",
      "연령가해자_51-60세      -0.0048      0.124     -0.039      0.969      -0.249       0.239\n",
      "연령가해자_61-64세       0.0368      0.134      0.275      0.783      -0.225       0.299\n",
      "연령가해자_65세이상       -0.0214      0.127     -0.168      0.866      -0.271       0.228\n",
      "법규위반가해자_그룹2        0.0886      0.041      2.165      0.030       0.008       0.169\n",
      "법규위반가해자_그룹3        3.5668      1.005      3.550      0.000       1.597       5.536\n",
      "행동유형가해자_그룹2        0.4180      0.072      5.777      0.000       0.276       0.560\n",
      "행동유형가해자_그룹3        0.2024      0.077      2.641      0.008       0.052       0.353\n",
      "행동유형가해자_그룹4       -0.2445      0.272     -0.897      0.370      -0.778       0.290\n",
      "피해자신체상해주부위_그룹2     0.3100      0.321      0.965      0.335      -0.320       0.940\n",
      "피해자신체상해주부위_그룹3     0.8089      0.319      2.534      0.011       0.183       1.434\n",
      "피해자신체상해주부위_그룹4     1.2516      0.319      3.922      0.000       0.626       1.877\n",
      "피해자신체상해주부위_그룹5     1.6070      0.319      5.032      0.000       0.981       2.233\n",
      "피해자신체상해주부위_그룹6     2.1832      0.328      6.661      0.000       1.541       2.826\n",
      "차량용도가해자_그룹2       -0.1598      0.099     -1.612      0.107      -0.354       0.034\n",
      "차량용도가해자_그룹3       -0.4436      0.078     -5.693      0.000      -0.596      -0.291\n",
      "차량용도가해자_그룹4       -0.2061      0.041     -5.061      0.000      -0.286      -0.126\n",
      "차량용도가해자_그룹5       -0.9742      0.138     -7.076      0.000      -1.244      -0.704\n",
      "도로종류_군도           -0.4092      0.358     -1.142      0.254      -1.112       0.293\n",
      "도로종류_시도           -0.6507      0.354     -1.838      0.066      -1.344       0.043\n",
      "도로종류_일반국도         -0.1469      0.361     -0.407      0.684      -0.855       0.561\n",
      "도로종류_지방도          -0.4590      0.359     -1.280      0.201      -1.162       0.244\n",
      "도로종류_특별광역시도       -0.7515      0.353     -2.127      0.033      -1.444      -0.059\n",
      "도로형태_단일로          -0.0388      0.039     -0.987      0.323      -0.116       0.038\n",
      "도로형태_주차장          -0.2010      0.340     -0.590      0.555      -0.868       0.466\n",
      "도로선형_오르막          -0.1208      0.103     -1.178      0.239      -0.322       0.080\n",
      "도로선형_평지           -0.2267      0.075     -3.019      0.003      -0.374      -0.080\n",
      "발생시각_새벽~아침         0.5694      0.059      9.657      0.000       0.454       0.685\n",
      "발생시각_저녁~자정         0.2133      0.058      3.653      0.000       0.099       0.328\n",
      "발생시각_출퇴근시간         0.1936      0.039      5.019      0.000       0.118       0.269\n",
      "==================================================================================\n"
     ]
    }
   ],
   "source": [
    "import statsmodels.api as sm\n",
    "\n",
    "logit = sm.Logit(y_train,x_train)\n",
    "result = logit.fit()\n",
    "\n",
    "print(result.summary())"
   ]
  },
  {
   "cell_type": "markdown",
   "metadata": {},
   "source": [
    "# P > 0.05 인 유의하지 않은 변수 삭제"
   ]
  },
  {
   "cell_type": "code",
   "execution_count": 42,
   "metadata": {},
   "outputs": [],
   "source": [
    "x = x.drop(['연령가해자_21-30세','연령가해자_31-40세','연령가해자_41-50세','연령가해자_51-60세','연령가해자_61-64세'\n",
    "           ,'연령가해자_65세이상','행동유형가해자_그룹4','피해자신체상해주부위_그룹2','차량용도가해자_그룹2'\n",
    "           ,'도로종류_군도','도로종류_시도','도로종류_일반국도','도로종류_지방도','도로형태_단일로','도로형태_주차장'\n",
    "           ,'도로선형_오르막'],axis=1)\n",
    "\n",
    "x_train, x_test, y_train, y_test = train_test_split(x,y,train_size=0.7,shuffle=True) "
   ]
  },
  {
   "cell_type": "markdown",
   "metadata": {},
   "source": [
    "# 다시 Logistic"
   ]
  },
  {
   "cell_type": "code",
   "execution_count": 43,
   "metadata": {},
   "outputs": [
    {
     "name": "stdout",
     "output_type": "stream",
     "text": [
      "Optimization terminated successfully.\n",
      "         Current function value: 0.547487\n",
      "         Iterations 9\n",
      "                           Logit Regression Results                           \n",
      "==============================================================================\n",
      "Dep. Variable:                    심각도   No. Observations:                19098\n",
      "Model:                          Logit   Df Residuals:                    19079\n",
      "Method:                           MLE   Df Model:                           18\n",
      "Date:                Tue, 08 Dec 2020   Pseudo R-squ.:                 0.06171\n",
      "Time:                        17:36:40   Log-Likelihood:                -10456.\n",
      "converged:                       True   LL-Null:                       -11144.\n",
      "Covariance Type:            nonrobust   LLR p-value:                2.787e-281\n",
      "==================================================================================\n",
      "                     coef    std err          z      P>|z|      [0.025      0.975]\n",
      "----------------------------------------------------------------------------------\n",
      "사고유형_보도통행중         0.2339      0.098      2.377      0.017       0.041       0.427\n",
      "사고유형_차도통행중         0.1748      0.063      2.760      0.006       0.051       0.299\n",
      "사고유형_횡단중           0.4006      0.054      7.432      0.000       0.295       0.506\n",
      "법규위반가해자_그룹2        0.0755      0.040      1.875      0.061      -0.003       0.154\n",
      "법규위반가해자_그룹3        3.6344      1.005      3.617      0.000       1.665       5.604\n",
      "행동유형가해자_그룹2        0.3049      0.059      5.128      0.000       0.188       0.421\n",
      "행동유형가해자_그룹3        0.0886      0.063      1.405      0.160      -0.035       0.212\n",
      "피해자신체상해주부위_그룹3     0.4515      0.053      8.443      0.000       0.347       0.556\n",
      "피해자신체상해주부위_그룹4     0.8600      0.053     16.328      0.000       0.757       0.963\n",
      "피해자신체상해주부위_그룹5     1.2233      0.056     21.688      0.000       1.113       1.334\n",
      "피해자신체상해주부위_그룹6     1.7954      0.092     19.519      0.000       1.615       1.976\n",
      "차량용도가해자_그룹3       -0.4055      0.074     -5.508      0.000      -0.550      -0.261\n",
      "차량용도가해자_그룹4       -0.2493      0.037     -6.659      0.000      -0.323      -0.176\n",
      "차량용도가해자_그룹5       -0.9612      0.130     -7.412      0.000      -1.215      -0.707\n",
      "도로종류_특별광역시도       -0.2004      0.034     -5.955      0.000      -0.266      -0.134\n",
      "도로선형_평지           -0.2509      0.049     -5.149      0.000      -0.346      -0.155\n",
      "발생시각_새벽~아침         0.5788      0.059      9.731      0.000       0.462       0.695\n",
      "발생시각_저녁~자정         0.1478      0.058      2.570      0.010       0.035       0.261\n",
      "발생시각_출퇴근시간         0.1469      0.038      3.874      0.000       0.073       0.221\n",
      "==================================================================================\n"
     ]
    }
   ],
   "source": [
    "logit = sm.Logit(y_train,x_train)\n",
    "result = logit.fit()\n",
    "\n",
    "print(result.summary())"
   ]
  },
  {
   "cell_type": "markdown",
   "metadata": {},
   "source": [
    "# '법규위반가해자_그룹2' , '행동유형가해자_그룹3' 삭제 "
   ]
  },
  {
   "cell_type": "code",
   "execution_count": 44,
   "metadata": {},
   "outputs": [
    {
     "name": "stdout",
     "output_type": "stream",
     "text": [
      "Optimization terminated successfully.\n",
      "         Current function value: 0.543927\n",
      "         Iterations 9\n",
      "                           Logit Regression Results                           \n",
      "==============================================================================\n",
      "Dep. Variable:                    심각도   No. Observations:                19098\n",
      "Model:                          Logit   Df Residuals:                    19081\n",
      "Method:                           MLE   Df Model:                           16\n",
      "Date:                Tue, 08 Dec 2020   Pseudo R-squ.:                 0.06216\n",
      "Time:                        17:38:15   Log-Likelihood:                -10388.\n",
      "converged:                       True   LL-Null:                       -11076.\n",
      "Covariance Type:            nonrobust   LLR p-value:                1.409e-283\n",
      "==================================================================================\n",
      "                     coef    std err          z      P>|z|      [0.025      0.975]\n",
      "----------------------------------------------------------------------------------\n",
      "사고유형_보도통행중         0.2871      0.096      2.987      0.003       0.099       0.476\n",
      "사고유형_차도통행중         0.1552      0.061      2.551      0.011       0.036       0.274\n",
      "사고유형_횡단중           0.4552      0.049      9.362      0.000       0.360       0.550\n",
      "법규위반가해자_그룹3        3.6814      1.005      3.664      0.000       1.712       5.651\n",
      "행동유형가해자_그룹2        0.1969      0.035      5.696      0.000       0.129       0.265\n",
      "피해자신체상해주부위_그룹3     0.4410      0.053      8.351      0.000       0.337       0.544\n",
      "피해자신체상해주부위_그룹4     0.8905      0.052     17.167      0.000       0.789       0.992\n",
      "피해자신체상해주부위_그룹5     1.2193      0.055     22.042      0.000       1.111       1.328\n",
      "피해자신체상해주부위_그룹6     1.8645      0.093     20.050      0.000       1.682       2.047\n",
      "차량용도가해자_그룹3       -0.4018      0.074     -5.453      0.000      -0.546      -0.257\n",
      "차량용도가해자_그룹4       -0.2272      0.037     -6.119      0.000      -0.300      -0.154\n",
      "차량용도가해자_그룹5       -0.7384      0.132     -5.605      0.000      -0.997      -0.480\n",
      "도로종류_특별광역시도       -0.1974      0.034     -5.873      0.000      -0.263      -0.132\n",
      "도로선형_평지           -0.2156      0.046     -4.651      0.000      -0.306      -0.125\n",
      "발생시각_새벽~아침         0.6208      0.059     10.511      0.000       0.505       0.737\n",
      "발생시각_저녁~자정         0.2386      0.058      4.110      0.000       0.125       0.352\n",
      "발생시각_출퇴근시간         0.1819      0.038      4.825      0.000       0.108       0.256\n",
      "==================================================================================\n"
     ]
    }
   ],
   "source": [
    "x = x.drop(['법규위반가해자_그룹2','행동유형가해자_그룹3'],axis=1)\n",
    "\n",
    "x_train, x_test, y_train, y_test = train_test_split(x,y,train_size=0.7,shuffle=True) \n",
    "logit = sm.Logit(y_train,x_train)\n",
    "result = logit.fit()\n",
    "\n",
    "print(result.summary())"
   ]
  },
  {
   "cell_type": "markdown",
   "metadata": {},
   "source": [
    "---"
   ]
  },
  {
   "cell_type": "markdown",
   "metadata": {},
   "source": [
    "# 오즈비 확인\n",
    "#### ▶ 독립변수들의 오즈비를 구해보자\n",
    "#### ▶ 오즈비는 1을 기준으로 1보다 크면 심각한사고일 확률이 커지고 1보다 작으면 심각하지 않은 사고 일 확률이 커진다는 것을 나타낸다. \n",
    "#### ▶ 오즈비가 1 이면 결과에 별다른 영향을 미치지 않는 다고 볼 수 있다.\n",
    "#### ▶ 회귀계수가 변수의 오즈비의 로그값이므로 exp을 취해서 보자"
   ]
  },
  {
   "cell_type": "code",
   "execution_count": 45,
   "metadata": {},
   "outputs": [
    {
     "name": "stdout",
     "output_type": "stream",
     "text": [
      "사고유형_보도통행중         1.332594\n",
      "사고유형_차도통행중         1.167932\n",
      "사고유형_횡단중           1.576486\n",
      "법규위반가해자_그룹3       39.703150\n",
      "행동유형가해자_그룹2        1.217637\n",
      "피해자신체상해주부위_그룹3     1.554190\n",
      "피해자신체상해주부위_그룹4     2.436230\n",
      "피해자신체상해주부위_그룹5     3.384983\n",
      "피해자신체상해주부위_그룹6     6.452468\n",
      "차량용도가해자_그룹3        0.669146\n",
      "차량용도가해자_그룹4        0.796767\n",
      "차량용도가해자_그룹5        0.477874\n",
      "도로종류_특별광역시도        0.820840\n",
      "도로선형_평지            0.806067\n",
      "발생시각_새벽~아침         1.860350\n",
      "발생시각_저녁~자정         1.269422\n",
      "발생시각_출퇴근시간         1.199479\n",
      "dtype: float64\n"
     ]
    }
   ],
   "source": [
    "print(np.exp(result.params))"
   ]
  },
  {
   "cell_type": "markdown",
   "metadata": {},
   "source": [
    "### 오즈비 결과에 따르면 다음 순서로 심각한 사고를 일으킬 확률이 높다. \n",
    "#### 1. 법규위반가해자_그룹3 (39.703150) \n",
    "##### 그룹3: 과속\n",
    "#### 2. 피해자신체상해주부위_그룹6  (6.452468)\n",
    "##### 그룹6: 가슴 \n",
    "#### 3. 피해자신체상해주부위_그룹5 (3.384983)\n",
    "##### 그룹5: 배, 머리, 대퇴부\n",
    "#### 4. 피해자신체상해주부위_그룹4 (2.436230)\n",
    "##### 그룹4: 하퇴부, 얼굴, 발\n",
    "#### 5. 발생시각_새벽~아침 (1.860350)\n",
    "##### 새벽~아침: 02-04시, 05-07시"
   ]
  },
  {
   "cell_type": "markdown",
   "metadata": {},
   "source": [
    "# Logistic 모델 성능 재평가\n",
    "### ▶ 정밀도(precision): 65% , 재현율(recall): 53%, 정확도(accuracy): 73%"
   ]
  },
  {
   "cell_type": "code",
   "execution_count": 46,
   "metadata": {},
   "outputs": [
    {
     "name": "stdout",
     "output_type": "stream",
     "text": [
      "              precision    recall  f1-score   support\n",
      "\n",
      "           0       0.56      0.09      0.16      2259\n",
      "           1       0.74      0.97      0.84      5927\n",
      "\n",
      "    accuracy                           0.73      8186\n",
      "   macro avg       0.65      0.53      0.50      8186\n",
      "weighted avg       0.69      0.73      0.65      8186\n",
      "\n"
     ]
    }
   ],
   "source": [
    "log.fit(x_train,y_train)\n",
    "y_pred = log.predict(x_test)\n",
    "print(classification_report(y_test,y_pred))"
   ]
  },
  {
   "cell_type": "code",
   "execution_count": 47,
   "metadata": {},
   "outputs": [
    {
     "data": {
      "image/png": "[encoded data removed]",
      "text/plain": [
       "<Figure size 864x864 with 1 Axes>"
      ]
     },
     "metadata": {
      "needs_background": "light"
     },
     "output_type": "display_data"
    }
   ],
   "source": [
    "fpr, tpr, threshold = roc_curve(y_train, log.decision_function(x_train))\n",
    "\n",
    "plt.plot(fpr,tpr, 'o-', ms=2, label=\"Logistic Regression\")\n",
    "plt.legend()\n",
    "plt.plot([0,1],[0,1], 'k--',label='radom guess')\n",
    "plt.xlabel('특이도')\n",
    "plt.ylabel('재현률')\n",
    "plt.title('ROC 커브')\n",
    "plt.show()"
   ]
  },
  {
   "cell_type": "code",
   "execution_count": 48,
   "metadata": {},
   "outputs": [
    {
     "name": "stdout",
     "output_type": "stream",
     "text": [
      "AUC: 0.6695826193918234\n"
     ]
    }
   ],
   "source": [
    "print('AUC: {}'.format(auc(fpr,tpr)))  # 0.5에 가까울 수록 성능이 좋지 못함"
   ]
  },
  {
   "cell_type": "markdown",
   "metadata": {},
   "source": [
    "---"
   ]
  },
  {
   "cell_type": "markdown",
   "metadata": {},
   "source": [
    "---"
   ]
  },
  {
   "cell_type": "markdown",
   "metadata": {},
   "source": [
    "---"
   ]
  },
  {
   "cell_type": "markdown",
   "metadata": {},
   "source": [
    "# ※그룹핑 기준 참고 (anova 결과에 따라 묶음)"
   ]
  },
  {
   "cell_type": "markdown",
   "metadata": {},
   "source": [
    "## 3. 법규위반가해자\n",
    "#### 교차로 통행방법 위반, 안전거리 미확보, 안전운전 의무 불이행 - 그룹1\n",
    "#### 신호위반, 보행자 보호의무 위반, 중앙선 침범 - 그룹2\n",
    "#### 과속 - 그룹3\n",
    "## 4. 행동유형가해자\n",
    "#### 후진중, 출발중 -그룹1\n",
    "#### 진로변경중, 직진중 - 그룹2\n",
    "#### 좌우회전중, 앞지르기중, U턴중 - 그룹3\n",
    "#### 주행 중 대기, 주정차중 - 그룹4\n",
    "## 5. 피해자신체상해주부위\n",
    "#### 상해없음 - 그룹1\n",
    "#### 팔, 앞목, 목, 뒷목 - 그룹2\n",
    "#### 허리, 어깨, 손, 등 - 그룹3\n",
    "#### 하퇴부, 얼굴, 발 - 그룹4\n",
    "#### 배, 머리, 대퇴부 - 그룹5\n",
    "#### 가슴 - 그룹6\n",
    "## 6. 차량용도가해자\n",
    "#### 화물차, 택시, 전세버스, 기타/건설기계- 그룹1\n",
    "#### 특수여객(장의), 콘크리트믹서, 위험물운송, 덤프트럭, 농기계, 노선버스 - 그룹2\n",
    "#### 이륜차, 원동기장치자전거, 어린이통학버스, 사륜오토바이(ATV) 그룹3\n",
    "#### 승용차, 사업용기타, 비사업용기타, 버스, 렌터카 - 그룹4\n",
    "#### 개인형이동수단(PM), 자전거 - 그룹5\n",
    "\n",
    "## 10. 발생시각\n",
    "#### 02-04시, 05-07시 - 그룹1 (새벽~아침)\n",
    "#### 08-10시, 17-19시 - 그룹2 ( 출퇴근 시간)\n",
    "#### 11-13시, 14-16시 - 그룹3 (낮)\n",
    "#### 20-22시, 23-01시 - 그룹4 (저녁~자정"
   ]
  },
  {
   "cell_type": "code",
   "execution_count": null,
   "metadata": {},
   "outputs": [],
   "source": []
  }
 ],
 "metadata": {
  "kernelspec": {
   "display_name": "Python 3",
   "language": "python",
   "name": "python3"
  },
  "language_info": {
   "codemirror_mode": {
    "name": "ipython",
    "version": 3
   },
   "file_extension": ".py",
   "mimetype": "text/x-python",
   "name": "python",
   "nbconvert_exporter": "python",
   "pygments_lexer": "ipython3",
   "version": "3.8.3"
  }
 },
 "nbformat": 4,
 "nbformat_minor": 4
}
